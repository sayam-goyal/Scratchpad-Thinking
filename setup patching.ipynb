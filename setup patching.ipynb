{
 "cells": [
  {
   "cell_type": "code",
   "execution_count": null,
   "id": "04144268-83ce-411f-bbf1-07808f824376",
   "metadata": {},
   "outputs": [],
   "source": [
    "#BELOW IS ONLY NEEDED ON FIRST RUN OF POD"
   ]
  },
  {
   "cell_type": "code",
   "execution_count": null,
   "id": "83896b49-2885-4be7-8bd8-a009b9473b76",
   "metadata": {},
   "outputs": [],
   "source": [
    "output = !wget --header=\"Authorization: Bearer [HUGGING FACE ACCESS TOKEN]\" https://huggingface.co/meta-llama/Llama-3.2-1B-Instruct/resolve/main/{config.json,generation_config.json,model.safetensors,special_tokens_map.json,tokenizer.json,tokenizer_config.json}"
   ]
  },
  {
   "cell_type": "code",
   "execution_count": null,
   "id": "acf8086e-b616-4b23-91f5-87f3a8c41687",
   "metadata": {},
   "outputs": [],
   "source": [
    "output = !mkdir -p llama && wget -O llama/codi.bin https://huggingface.co/zen-E/CODI-llama3.2-1b-Instruct/resolve/main/pytorch_model.bin"
   ]
  },
  {
   "cell_type": "code",
   "execution_count": null,
   "id": "f3a00aa8-9325-4ca1-a9d2-d56213d665ad",
   "metadata": {},
   "outputs": [],
   "source": [
    "output = !wget -O requirements.txt https://raw.githubusercontent.com/sayam-goyal/algoverse-SSMB/main/requirements.txt && wget -O custom_inference.py https://raw.githubusercontent.com/sayam-goyal/algoverse-SSMB/main/custom_inference.py && ls"
   ]
  },
  {
   "cell_type": "code",
   "execution_count": null,
   "id": "27abcac0-b00f-4d78-81f0-e3b98d8fc226",
   "metadata": {},
   "outputs": [],
   "source": [
    "#MUST RUN EVERY TIME OPENING POD"
   ]
  },
  {
   "cell_type": "code",
   "execution_count": null,
   "id": "d6679c06-93bb-46b4-a665-20483c4059ca",
   "metadata": {},
   "outputs": [],
   "source": [
    "output = !python -m pip install --upgrade pip"
   ]
  },
  {
   "cell_type": "code",
   "execution_count": null,
   "id": "6d79501a-fb71-4ec2-85ce-6d554e1e9db5",
   "metadata": {},
   "outputs": [],
   "source": [
    "!pip install -r requirements.txt"
   ]
  },
  {
   "cell_type": "code",
   "execution_count": null,
   "id": "23f4e400-866a-4e3d-84c0-f73eef62ee1d",
   "metadata": {},
   "outputs": [],
   "source": [
    "!pip install --upgrade -r requirements.txt"
   ]
  },
  {
   "cell_type": "code",
   "execution_count": null,
   "id": "d08b6969-6490-4e03-bb4b-a0a0f8619d34",
   "metadata": {},
   "outputs": [],
   "source": []
  }
 ],
 "metadata": {
  "kernelspec": {
   "display_name": "Python 3 (ipykernel)",
   "language": "python",
   "name": "python3"
  },
  "language_info": {
   "codemirror_mode": {
    "name": "ipython",
    "version": 3
   },
   "file_extension": ".py",
   "mimetype": "text/x-python",
   "name": "python",
   "nbconvert_exporter": "python",
   "pygments_lexer": "ipython3",
   "version": "3.11.11"
  }
 },
 "nbformat": 4,
 "nbformat_minor": 5
}
