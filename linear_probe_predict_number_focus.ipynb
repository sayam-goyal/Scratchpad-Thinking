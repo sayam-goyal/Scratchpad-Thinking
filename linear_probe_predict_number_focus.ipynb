{
  "cells": [
    {
      "cell_type": "code",
      "execution_count": 13,
      "metadata": {
        "colab": {
          "base_uri": "https://localhost:8080/"
        },
        "id": "4I96j5_6ScHj",
        "outputId": "0d2fabfd-4ee4-4b9a-bb70-379abc81e750"
      },
      "outputs": [
        {
          "name": "stderr",
          "output_type": "stream",
          "text": [
            "/usr/local/lib/python3.11/dist-packages/huggingface_hub/file_download.py:943: FutureWarning: `resume_download` is deprecated and will be removed in version 1.0.0. Downloads always resume when possible. If you want to force a new download, use `force_download=True`.\n",
            "  warnings.warn(\n",
            "/usr/local/lib/python3.11/dist-packages/peft/tuners/lora/layer.py:1768: UserWarning: fan_in_fan_out is set to False but the target module is `Conv1D`. Setting fan_in_fan_out to True.\n",
            "  warnings.warn(\n"
          ]
        },
        {
          "name": "stdout",
          "output_type": "stream",
          "text": [
            "trainable params: 20057088 || all params: 144499200 || trainable%: 13.880414562848792\n",
            "✅ Saved attention weights to gsm8k_attention_weights.pt\n",
            "✅ GSM8K accuracy: 18.50%\n",
            "📏 Average generated answer length: 6.15 tokens\n"
          ]
        }
      ],
      "source": [
        "import logging\n",
        "import math\n",
        "import re\n",
        "import os\n",
        "from dataclasses import dataclass, field\n",
        "from typing import Optional\n",
        "\n",
        "import torch\n",
        "import transformers\n",
        "from torch.nn import functional as F\n",
        "import json\n",
        "\n",
        "from peft import PeftModel, LoraConfig, TaskType\n",
        "from datasets import load_dataset\n",
        "from safetensors.torch import load_file\n",
        "\n",
        "import numpy as np\n",
        "\n",
        "from src.model import CODI, ModelArguments, DataArguments as OriginalDataArguments, TrainingArguments\n",
        "\n",
        "@dataclass\n",
        "class DataArguments(OriginalDataArguments):\n",
        "    data_path: Optional[str] = field(\n",
        "        default=None, metadata={\"help\": \"(Unused) Path to the local training or evaluation file.\"}\n",
        "    )\n",
        "\n",
        "do_print = True\n",
        "probe_topk = 5\n",
        "test_attention = True\n",
        "device = torch.device(\"cuda\" if torch.cuda.is_available() else \"cpu\")\n",
        "\n",
        "captured_attentions = []\n",
        "\n",
        "def get_attention_hook(module, input, output):\n",
        "    if isinstance(output, tuple) and len(output) > 1 and output[1] is not None:\n",
        "        attention_weights = output[1].clone().detach().cpu()\n",
        "        captured_attentions.append(attention_weights)\n",
        "\n",
        "def extract_answer_number(sentence: str) -> float:\n",
        "    sentence = sentence.replace(',', '')\n",
        "    pred = [s for s in re.findall(r'-?\\d+\\.?\\d*', sentence)]\n",
        "    if not pred:\n",
        "        return float('inf')\n",
        "    return float(pred[-1])\n",
        "\n",
        "def compute_accuracy(gold: list, pred: list):\n",
        "    acc = sum(p == g for p, g in zip(pred, gold))\n",
        "    return acc / len(gold)\n",
        "\n",
        "def evaluation(model_args, data_args, training_args):\n",
        "    task_type = TaskType.CAUSAL_LM\n",
        "    target_modules = [\"c_attn\", \"c_proj\", \"c_fc\"]\n",
        "    lora_config = LoraConfig(\n",
        "        task_type=task_type,\n",
        "        inference_mode=False,\n",
        "        r=model_args.lora_r,\n",
        "        lora_alpha=model_args.lora_alpha,\n",
        "        lora_dropout=0.1,\n",
        "        target_modules=target_modules,\n",
        "        init_lora_weights=True,\n",
        "    )\n",
        "\n",
        "    model = CODI(model_args, training_args, lora_config)\n",
        "\n",
        "    try:\n",
        "        state_dict = load_file(os.path.join(model_args.ckpt_dir, \"model.safetensors\"))\n",
        "    except Exception:\n",
        "        state_dict = torch.load(os.path.join(model_args.ckpt_dir, \"pytorch_model.bin\"))\n",
        "    model.load_state_dict(state_dict, strict=False)\n",
        "    model.codi.tie_weights()\n",
        "\n",
        "    for layer in model.codi.transformer.h:\n",
        "        layer.attn.register_forward_hook(get_attention_hook)\n",
        "\n",
        "    tokenizer = transformers.AutoTokenizer.from_pretrained(\n",
        "        model_args.model_name_or_path,\n",
        "        token=model_args.token,\n",
        "        model_max_length=training_args.model_max_length,\n",
        "        padding_side=\"left\",\n",
        "        use_fast=False,\n",
        "    )\n",
        "\n",
        "    if tokenizer.pad_token_id is None:\n",
        "        tokenizer.add_special_tokens({'pad_token': '[PAD]'})\n",
        "        tokenizer.pad_token_id = model.pad_token_id or tokenizer.convert_tokens_to_ids('[PAD]')\n",
        "\n",
        "    model = model.to(device).to(torch.bfloat16)\n",
        "\n",
        "    dataset = load_dataset(\"gsm8k\", \"main\")\n",
        "    test_set = dataset['test']\n",
        "\n",
        "    question = [ex['question'].strip() for ex in test_set]\n",
        "    answer = [float(re.findall(r'-?\\d+\\.?\\d*', ex[\"answer\"].replace(',', ''))[-1]) for ex in test_set]\n",
        "\n",
        "    eval_step = math.ceil(len(question) / data_args.batch_size)\n",
        "    question_data = []\n",
        "    for i in range(eval_step):\n",
        "        start_idx = i * data_args.batch_size\n",
        "        end_idx = (i + 1) * data_args.batch_size\n",
        "        batch_questions = question[start_idx:end_idx]\n",
        "        batch = tokenizer(batch_questions, return_tensors=\"pt\", padding=\"longest\")\n",
        "\n",
        "        if training_args.remove_eos:\n",
        "            bot_tensor = torch.tensor([model.bot_id], dtype=torch.long).expand(batch[\"input_ids\"].size(0), 1)\n",
        "        else:\n",
        "            bot_tensor = torch.tensor([tokenizer.eos_token_id, model.bot_id], dtype=torch.long).expand(batch[\"input_ids\"].size(0), 2)\n",
        "\n",
        "        batch[\"input_ids\"] = torch.cat((batch[\"input_ids\"], bot_tensor), dim=1)\n",
        "        batch[\"attention_mask\"] = torch.cat((batch[\"attention_mask\"], torch.ones_like(bot_tensor)), dim=1)\n",
        "        question_data.append(batch.to(device))\n",
        "\n",
        "    model.eval()\n",
        "    gen_kwargs = {\"max_new_tokens\": 256, \"temperature\": 0.1, \"top_k\": 40, \"top_p\": 0.95, \"do_sample\": True}\n",
        "\n",
        "    ans_pred_list = []\n",
        "    len_cot = []\n",
        "    phase1_data_collection = []\n",
        "    all_question_attentions = []\n",
        "    num_layers = model.codi.config.num_hidden_layers\n",
        "    num_heads = model.codi.config.num_attention_heads\n",
        "    max_seq_len = training_args.model_max_length\n",
        "    num_latent_steps = training_args.inf_latent_iterations\n",
        "\n",
        "    for step, batch in enumerate(question_data):\n",
        "        batch_size = batch[\"input_ids\"].size(0)\n",
        "        batch_attention_holder = torch.zeros(batch_size, num_latent_steps, num_layers, num_heads, max_seq_len, dtype=torch.bfloat16, device='cpu')\n",
        "        batch_latent_data = [[] for _ in range(batch_size)]\n",
        "\n",
        "        with torch.no_grad():\n",
        "            outputs = model.codi(input_ids=batch[\"input_ids\"], use_cache=True, output_hidden_states=True, past_key_values=None, attention_mask=batch[\"attention_mask\"], output_attentions=True)\n",
        "            past_key_values = outputs.past_key_values\n",
        "            latent_embd = outputs.hidden_states[-1][:, -1, :].unsqueeze(1)\n",
        "\n",
        "            if training_args.use_prj:\n",
        "                latent_embd = model.prj(latent_embd)\n",
        "\n",
        "            for i in range(training_args.inf_latent_iterations):\n",
        "                captured_attentions.clear()\n",
        "                outputs = model.codi(inputs_embeds=latent_embd, use_cache=True, output_hidden_states=True, past_key_values=past_key_values, output_attentions=True)\n",
        "\n",
        "                for layer_idx, layer_attention_weights in enumerate(captured_attentions):\n",
        "                    squeezed_weights = layer_attention_weights.squeeze(2)\n",
        "                    current_seq_len = squeezed_weights.shape[-1]\n",
        "                    batch_attention_holder[:, i, layer_idx, :, :current_seq_len] = squeezed_weights.to(torch.bfloat16)\n",
        "\n",
        "                past_key_values = outputs.past_key_values\n",
        "                current_latent_embd = outputs.hidden_states[-1][:, -1, :].unsqueeze(1)\n",
        "                probs = torch.nn.functional.softmax(model.codi.lm_head(current_latent_embd), dim=-1)\n",
        "                _, top5_indices = torch.topk(probs, k=probe_topk, dim=2)\n",
        "\n",
        "                for b_idx in range(batch_size):\n",
        "                    token_probs = probs[b_idx, 0, top5_indices[b_idx, 0]].detach().cpu().tolist()\n",
        "                    decoded_top5 = [\n",
        "                        (tokenizer.decode([tok_id]), float(prob))\n",
        "                        for tok_id, prob in zip(top5_indices[b_idx, 0], token_probs)\n",
        "                    ]\n",
        "                    batch_latent_data[b_idx].append({\n",
        "                        \"latent_token_index\": i,\n",
        "                        \"latent_token_tensor\": current_latent_embd[b_idx].clone().detach().cpu(),\n",
        "                        \"decoded_intermediate_output\": decoded_top5\n",
        "                    })\n",
        "\n",
        "                latent_embd = current_latent_embd\n",
        "                if training_args.use_prj:\n",
        "                    latent_embd = model.prj(latent_embd)\n",
        "\n",
        "            all_question_attentions.extend(list(torch.unbind(batch_attention_holder, dim=0)))\n",
        "\n",
        "            eot_emb = model.get_embd(model.codi, model.model_name)(\n",
        "                torch.tensor([model.eot_id], dtype=torch.long, device=device)).unsqueeze(0).expand(batch_size, -1, -1)\n",
        "\n",
        "            finished = torch.zeros(batch_size, dtype=torch.bool, device=device)\n",
        "            pred_tokens = [[] for _ in range(batch_size)]\n",
        "\n",
        "            for _ in range(gen_kwargs[\"max_new_tokens\"]):\n",
        "                out = model.codi(inputs_embeds=eot_emb, use_cache=True, past_key_values=past_key_values)\n",
        "                past_key_values = out.past_key_values\n",
        "                logits = out.logits[:, -1, :model.codi.config.vocab_size-1]\n",
        "                next_token_ids = torch.argmax(logits, dim=-1) if training_args.greedy else torch.multinomial(F.softmax(logits / gen_kwargs[\"temperature\"], dim=-1), num_samples=1).squeeze(-1)\n",
        "\n",
        "                for b in range(batch_size):\n",
        "                    if not finished[b]:\n",
        "                        token_id = next_token_ids[b].item()\n",
        "                        pred_tokens[b].append(token_id)\n",
        "                        if token_id == tokenizer.eos_token_id:\n",
        "                            finished[b] = True\n",
        "\n",
        "                if finished.all():\n",
        "                    break\n",
        "\n",
        "                eot_emb = model.get_embd(model.codi, model.model_name)(next_token_ids).unsqueeze(1)\n",
        "\n",
        "            for mini_step, pred_token in enumerate(pred_tokens):\n",
        "                len_cot.append(len(pred_token))\n",
        "                decoded_pred = tokenizer.decode(pred_token, skip_special_tokens=True)\n",
        "                current_question_idx = step * data_args.batch_size + mini_step\n",
        "                pred_answer = extract_answer_number(decoded_pred)\n",
        "                ans_pred_list.append(pred_answer)\n",
        "\n",
        "                phase1_data_collection.append({\n",
        "                    \"question_id\": current_question_idx,\n",
        "                    \"question_text\": question[current_question_idx],\n",
        "                    \"ground_truth_answer\": answer[current_question_idx],\n",
        "                    \"model_prediction_text\": decoded_pred,\n",
        "                    \"model_prediction_answer\": pred_answer,\n",
        "                    \"latent_data\": batch_latent_data[mini_step]\n",
        "                })\n",
        "\n",
        "    final_attention_tensor = torch.stack(all_question_attentions, dim=0)\n",
        "    torch.save(final_attention_tensor, \"gsm8k_attention_weights.pt\")\n",
        "    print(\"✅ Saved attention weights to gsm8k_attention_weights.pt\")\n",
        "\n",
        "    def convert_tensors_to_lists(data):\n",
        "        if isinstance(data, list):\n",
        "            return [convert_tensors_to_lists(item) for item in data]\n",
        "        elif isinstance(data, dict):\n",
        "            return {key: convert_tensors_to_lists(value) for key, value in data.items()}\n",
        "        elif isinstance(data, torch.Tensor):\n",
        "            return data.detach().cpu().tolist()\n",
        "        return data\n",
        "\n",
        "    with open(\"gsm8k_phase1_data_collection.json\", \"w\") as f:\n",
        "        json.dump(convert_tensors_to_lists(phase1_data_collection), f, indent=2)\n",
        "\n",
        "    accuracy = compute_accuracy(answer, ans_pred_list)\n",
        "    print(f\"✅ GSM8K accuracy: {accuracy * 100:.2f}%\")\n",
        "    print(f\"📏 Average generated answer length: {sum(len_cot)/len(len_cot):.2f} tokens\")\n",
        "    return accuracy\n",
        "\n",
        "if __name__ == \"__main__\":\n",
        "    parser = transformers.HfArgumentParser((ModelArguments, DataArguments, TrainingArguments))\n",
        "    args = [\n",
        "        \"--output_dir\", \"outputs/probe_latent_results\",\n",
        "        \"--model_name_or_path\", \"gpt2\",\n",
        "        \"--seed\", \"11\",\n",
        "        \"--model_max_length\", \"512\",\n",
        "        \"--bf16\",\n",
        "        \"--lora_r\", \"128\",\n",
        "        \"--lora_alpha\", \"32\",\n",
        "        \"--lora_init\",\n",
        "        \"--batch_size\", \"32\",\n",
        "        \"--greedy\", \"True\",\n",
        "        \"--num_latent\", \"6\",\n",
        "        \"--use_prj\", \"True\",\n",
        "        \"--prj_dim\", \"768\",\n",
        "        \"--prj_no_ln\", \"False\",\n",
        "        \"--prj_dropout\", \"0.0\",\n",
        "        \"--inf_latent_iterations\", \"6\",\n",
        "        \"--inf_num_iterations\", \"1\",\n",
        "        \"--remove_eos\", \"True\",\n",
        "        \"--use_lora\", \"True\",\n",
        "        \"--ckpt_dir\", \"CODI-gpt2\"\n",
        "    ]\n",
        "    model_args, data_args, training_args = parser.parse_args_into_dataclasses(args)\n",
        "\n",
        "    accuracy = evaluation(model_args, data_args, training_args)\n"
      ]
    },
    {
      "cell_type": "code",
      "execution_count": 36,
      "metadata": {
        "colab": {
          "base_uri": "https://localhost:8080/"
        },
        "id": "VkIbNmUH6jaQ",
        "outputId": "42dab0e5-5556-4aa0-9dd3-9efd3119dd4e"
      },
      "outputs": [
        {
          "name": "stdout",
          "output_type": "stream",
          "text": [
            "📦 Loading...\n",
            "✅ Attention tensor shape: torch.Size([1319, 6, 12, 12, 512])\n",
            "✅ Loaded 1319 examples\n",
            "\n",
            "🎯 Extracting features from TOP_HEADS...\n"
          ]
        },
        {
          "name": "stderr",
          "output_type": "stream",
          "text": [
            "🔁 Extracting: 100%|██████████| 1319/1319 [00:01<00:00, 783.57it/s]\n"
          ]
        },
        {
          "name": "stdout",
          "output_type": "stream",
          "text": [
            "✅ Saved top features: (7914, 640)\n",
            "\n",
            "🎲 Random Set 1/1000: [(2, 7), (2, 5), (5, 8), (7, 3), (9, 4), (1, 9), (7, 5), (5, 11), (10, 0), (8, 1)]\n"
          ]
        },
        {
          "name": "stderr",
          "output_type": "stream",
          "text": [
            "🔁 Extracting: 100%|██████████| 1319/1319 [00:01<00:00, 804.39it/s]\n"
          ]
        },
        {
          "name": "stdout",
          "output_type": "stream",
          "text": [
            "\n",
            "🎲 Random Set 2/1000: [(3, 11), (4, 3), (9, 6), (0, 2), (8, 5), (1, 11), (6, 11), (0, 0), (3, 10), (7, 5)]\n"
          ]
        },
        {
          "name": "stderr",
          "output_type": "stream",
          "text": [
            "🔁 Extracting: 100%|██████████| 1319/1319 [00:01<00:00, 790.75it/s]\n"
          ]
        },
        {
          "name": "stdout",
          "output_type": "stream",
          "text": [
            "\n",
            "🎲 Random Set 3/1000: [(4, 1), (1, 4), (8, 5), (5, 7), (5, 3), (6, 8), (1, 6), (10, 11), (8, 3), (9, 8)]\n"
          ]
        },
        {
          "name": "stderr",
          "output_type": "stream",
          "text": [
            "🔁 Extracting: 100%|██████████| 1319/1319 [00:01<00:00, 765.83it/s]\n"
          ]
        },
        {
          "name": "stdout",
          "output_type": "stream",
          "text": [
            "\n",
            "🎲 Random Set 4/1000: [(9, 5), (5, 2), (1, 1), (11, 3), (11, 5), (9, 0), (3, 0), (5, 10), (0, 9), (8, 0)]\n"
          ]
        },
        {
          "name": "stderr",
          "output_type": "stream",
          "text": [
            "🔁 Extracting: 100%|██████████| 1319/1319 [00:01<00:00, 757.31it/s]\n"
          ]
        },
        {
          "name": "stdout",
          "output_type": "stream",
          "text": [
            "\n",
            "🎲 Random Set 5/1000: [(8, 1), (5, 5), (3, 10), (8, 6), (5, 6), (4, 7), (4, 5), (2, 7), (10, 8), (9, 8)]\n"
          ]
        },
        {
          "name": "stderr",
          "output_type": "stream",
          "text": [
            "🔁 Extracting: 100%|██████████| 1319/1319 [00:01<00:00, 795.96it/s]\n"
          ]
        },
        {
          "name": "stdout",
          "output_type": "stream",
          "text": [
            "\n",
            "🎲 Random Set 6/1000: [(3, 2), (6, 5), (9, 6), (0, 9), (11, 2), (7, 9), (3, 3), (4, 1), (4, 7), (2, 3)]\n"
          ]
        },
        {
          "name": "stderr",
          "output_type": "stream",
          "text": [
            "🔁 Extracting: 100%|██████████| 1319/1319 [00:01<00:00, 805.57it/s]\n"
          ]
        },
        {
          "name": "stdout",
          "output_type": "stream",
          "text": [
            "\n",
            "🎲 Random Set 7/1000: [(9, 9), (3, 8), (7, 9), (3, 4), (1, 1), (6, 7), (3, 1), (3, 11), (0, 0), (10, 5)]\n"
          ]
        },
        {
          "name": "stderr",
          "output_type": "stream",
          "text": [
            "🔁 Extracting: 100%|██████████| 1319/1319 [00:01<00:00, 794.41it/s]\n"
          ]
        },
        {
          "name": "stdout",
          "output_type": "stream",
          "text": [
            "\n",
            "🎲 Random Set 8/1000: [(10, 11), (8, 9), (1, 2), (6, 4), (9, 6), (0, 9), (3, 1), (1, 1), (8, 7), (8, 4)]\n"
          ]
        },
        {
          "name": "stderr",
          "output_type": "stream",
          "text": [
            "🔁 Extracting: 100%|██████████| 1319/1319 [00:01<00:00, 805.39it/s]\n"
          ]
        },
        {
          "name": "stdout",
          "output_type": "stream",
          "text": [
            "\n",
            "🎲 Random Set 9/1000: [(1, 4), (6, 11), (4, 11), (0, 9), (11, 11), (0, 3), (4, 9), (1, 8), (3, 11), (9, 7)]\n"
          ]
        },
        {
          "name": "stderr",
          "output_type": "stream",
          "text": [
            "🔁 Extracting: 100%|██████████| 1319/1319 [00:01<00:00, 798.38it/s]\n"
          ]
        },
        {
          "name": "stdout",
          "output_type": "stream",
          "text": [
            "\n",
            "🎲 Random Set 10/1000: [(4, 10), (6, 11), (3, 0), (10, 10), (0, 10), (5, 3), (3, 2), (8, 2), (11, 2), (6, 3)]\n"
          ]
        },
        {
          "name": "stderr",
          "output_type": "stream",
          "text": [
            "🔁 Extracting: 100%|██████████| 1319/1319 [00:01<00:00, 760.82it/s]\n"
          ]
        },
        {
          "name": "stdout",
          "output_type": "stream",
          "text": [
            "\n",
            "🎲 Random Set 11/1000: [(3, 7), (3, 0), (4, 1), (10, 8), (4, 5), (7, 5), (10, 2), (0, 0), (1, 6), (3, 8)]\n"
          ]
        },
        {
          "name": "stderr",
          "output_type": "stream",
          "text": [
            "🔁 Extracting: 100%|██████████| 1319/1319 [00:01<00:00, 777.68it/s]\n"
          ]
        },
        {
          "name": "stdout",
          "output_type": "stream",
          "text": [
            "\n",
            "🎲 Random Set 12/1000: [(3, 10), (8, 0), (8, 3), (9, 9), (7, 6), (8, 6), (1, 5), (4, 8), (1, 11), (5, 5)]\n"
          ]
        },
        {
          "name": "stderr",
          "output_type": "stream",
          "text": [
            "🔁 Extracting: 100%|██████████| 1319/1319 [00:01<00:00, 782.59it/s]\n"
          ]
        },
        {
          "name": "stdout",
          "output_type": "stream",
          "text": [
            "\n",
            "🎲 Random Set 13/1000: [(9, 6), (0, 9), (6, 10), (2, 8), (0, 6), (10, 7), (9, 2), (5, 9), (10, 8), (3, 9)]\n"
          ]
        },
        {
          "name": "stderr",
          "output_type": "stream",
          "text": [
            "🔁 Extracting: 100%|██████████| 1319/1319 [00:02<00:00, 605.46it/s]\n"
          ]
        },
        {
          "name": "stdout",
          "output_type": "stream",
          "text": [
            "\n",
            "🎲 Random Set 14/1000: [(0, 2), (0, 8), (7, 3), (2, 8), (0, 10), (6, 9), (10, 11), (0, 6), (6, 5), (6, 3)]\n"
          ]
        },
        {
          "name": "stderr",
          "output_type": "stream",
          "text": [
            "🔁 Extracting: 100%|██████████| 1319/1319 [00:01<00:00, 802.66it/s]\n"
          ]
        },
        {
          "name": "stdout",
          "output_type": "stream",
          "text": [
            "\n",
            "🎲 Random Set 15/1000: [(8, 5), (6, 11), (2, 5), (6, 10), (4, 2), (8, 11), (7, 2), (5, 2), (2, 4), (5, 3)]\n"
          ]
        },
        {
          "name": "stderr",
          "output_type": "stream",
          "text": [
            "🔁 Extracting: 100%|██████████| 1319/1319 [00:01<00:00, 799.93it/s]\n"
          ]
        },
        {
          "name": "stdout",
          "output_type": "stream",
          "text": [
            "\n",
            "🎲 Random Set 16/1000: [(0, 0), (6, 3), (6, 1), (10, 5), (8, 3), (5, 2), (10, 9), (11, 2), (0, 4), (0, 5)]\n"
          ]
        },
        {
          "name": "stderr",
          "output_type": "stream",
          "text": [
            "🔁 Extracting: 100%|██████████| 1319/1319 [00:01<00:00, 801.64it/s]\n"
          ]
        },
        {
          "name": "stdout",
          "output_type": "stream",
          "text": [
            "\n",
            "🎲 Random Set 17/1000: [(5, 7), (10, 4), (1, 8), (2, 1), (6, 1), (11, 5), (8, 3), (4, 0), (1, 11), (10, 5)]\n"
          ]
        },
        {
          "name": "stderr",
          "output_type": "stream",
          "text": [
            "🔁 Extracting: 100%|██████████| 1319/1319 [00:01<00:00, 733.46it/s]\n"
          ]
        },
        {
          "name": "stdout",
          "output_type": "stream",
          "text": [
            "\n",
            "🎲 Random Set 18/1000: [(0, 9), (10, 8), (0, 11), (0, 5), (3, 4), (7, 3), (7, 4), (9, 10), (0, 0), (11, 3)]\n"
          ]
        },
        {
          "name": "stderr",
          "output_type": "stream",
          "text": [
            "🔁 Extracting: 100%|██████████| 1319/1319 [00:01<00:00, 799.51it/s]\n"
          ]
        },
        {
          "name": "stdout",
          "output_type": "stream",
          "text": [
            "\n",
            "🎲 Random Set 19/1000: [(8, 3), (10, 5), (6, 2), (6, 7), (9, 10), (10, 11), (6, 6), (7, 10), (3, 3), (2, 10)]\n"
          ]
        },
        {
          "name": "stderr",
          "output_type": "stream",
          "text": [
            "🔁 Extracting: 100%|██████████| 1319/1319 [00:01<00:00, 789.48it/s]\n"
          ]
        },
        {
          "name": "stdout",
          "output_type": "stream",
          "text": [
            "\n",
            "🎲 Random Set 20/1000: [(8, 5), (4, 11), (0, 1), (9, 2), (5, 2), (3, 6), (6, 5), (2, 2), (9, 11), (5, 6)]\n"
          ]
        },
        {
          "name": "stderr",
          "output_type": "stream",
          "text": [
            "🔁 Extracting: 100%|██████████| 1319/1319 [00:01<00:00, 807.50it/s]\n"
          ]
        },
        {
          "name": "stdout",
          "output_type": "stream",
          "text": [
            "\n",
            "🎲 Random Set 21/1000: [(11, 1), (3, 10), (7, 3), (7, 0), (5, 11), (6, 6), (11, 7), (0, 8), (0, 3), (11, 2)]\n"
          ]
        },
        {
          "name": "stderr",
          "output_type": "stream",
          "text": [
            "🔁 Extracting: 100%|██████████| 1319/1319 [00:01<00:00, 800.42it/s]\n"
          ]
        },
        {
          "name": "stdout",
          "output_type": "stream",
          "text": [
            "\n",
            "🎲 Random Set 22/1000: [(0, 8), (0, 1), (8, 8), (6, 9), (9, 10), (2, 6), (2, 2), (5, 3), (4, 8), (0, 11)]\n"
          ]
        },
        {
          "name": "stderr",
          "output_type": "stream",
          "text": [
            "🔁 Extracting: 100%|██████████| 1319/1319 [00:01<00:00, 794.81it/s]\n"
          ]
        },
        {
          "name": "stdout",
          "output_type": "stream",
          "text": [
            "\n",
            "🎲 Random Set 23/1000: [(6, 9), (0, 3), (9, 3), (0, 9), (6, 5), (2, 2), (0, 10), (3, 4), (5, 0), (7, 0)]\n"
          ]
        },
        {
          "name": "stderr",
          "output_type": "stream",
          "text": [
            "🔁 Extracting: 100%|██████████| 1319/1319 [00:01<00:00, 773.99it/s]\n"
          ]
        },
        {
          "name": "stdout",
          "output_type": "stream",
          "text": [
            "\n",
            "🎲 Random Set 24/1000: [(3, 4), (0, 5), (5, 8), (9, 11), (1, 8), (6, 2), (0, 7), (6, 11), (5, 1), (9, 0)]\n"
          ]
        },
        {
          "name": "stderr",
          "output_type": "stream",
          "text": [
            "🔁 Extracting: 100%|██████████| 1319/1319 [00:01<00:00, 743.72it/s]\n"
          ]
        },
        {
          "name": "stdout",
          "output_type": "stream",
          "text": [
            "\n",
            "🎲 Random Set 25/1000: [(5, 0), (4, 2), (9, 1), (11, 8), (3, 0), (11, 7), (0, 4), (3, 2), (9, 11), (2, 1)]\n"
          ]
        },
        {
          "name": "stderr",
          "output_type": "stream",
          "text": [
            "🔁 Extracting: 100%|██████████| 1319/1319 [00:01<00:00, 804.95it/s]\n"
          ]
        },
        {
          "name": "stdout",
          "output_type": "stream",
          "text": [
            "\n",
            "🎲 Random Set 26/1000: [(0, 0), (9, 0), (7, 8), (9, 10), (11, 8), (7, 5), (9, 2), (8, 9), (10, 7), (10, 6)]\n"
          ]
        },
        {
          "name": "stderr",
          "output_type": "stream",
          "text": [
            "🔁 Extracting: 100%|██████████| 1319/1319 [00:01<00:00, 815.46it/s]\n"
          ]
        },
        {
          "name": "stdout",
          "output_type": "stream",
          "text": [
            "\n",
            "🎲 Random Set 27/1000: [(7, 0), (8, 1), (0, 8), (7, 2), (8, 8), (2, 7), (11, 11), (8, 9), (5, 4), (4, 5)]\n"
          ]
        },
        {
          "name": "stderr",
          "output_type": "stream",
          "text": [
            "🔁 Extracting: 100%|██████████| 1319/1319 [00:01<00:00, 805.83it/s]\n"
          ]
        },
        {
          "name": "stdout",
          "output_type": "stream",
          "text": [
            "\n",
            "🎲 Random Set 28/1000: [(8, 0), (3, 2), (4, 4), (2, 4), (4, 10), (2, 0), (8, 6), (8, 4), (1, 10), (8, 5)]\n"
          ]
        },
        {
          "name": "stderr",
          "output_type": "stream",
          "text": [
            "🔁 Extracting: 100%|██████████| 1319/1319 [00:01<00:00, 790.42it/s]\n"
          ]
        },
        {
          "name": "stdout",
          "output_type": "stream",
          "text": [
            "\n",
            "🎲 Random Set 29/1000: [(5, 3), (3, 7), (0, 8), (10, 1), (2, 9), (2, 3), (9, 8), (9, 4), (1, 11), (8, 1)]\n"
          ]
        },
        {
          "name": "stderr",
          "output_type": "stream",
          "text": [
            "🔁 Extracting: 100%|██████████| 1319/1319 [00:01<00:00, 795.76it/s]\n"
          ]
        },
        {
          "name": "stdout",
          "output_type": "stream",
          "text": [
            "\n",
            "🎲 Random Set 30/1000: [(4, 2), (10, 3), (7, 9), (6, 2), (5, 0), (8, 2), (0, 7), (9, 8), (7, 11), (4, 11)]\n"
          ]
        },
        {
          "name": "stderr",
          "output_type": "stream",
          "text": [
            "🔁 Extracting: 100%|██████████| 1319/1319 [00:01<00:00, 788.79it/s]\n"
          ]
        },
        {
          "name": "stdout",
          "output_type": "stream",
          "text": [
            "\n",
            "🎲 Random Set 31/1000: [(11, 7), (3, 0), (2, 7), (3, 4), (0, 3), (2, 8), (10, 0), (2, 4), (7, 6), (4, 10)]\n"
          ]
        },
        {
          "name": "stderr",
          "output_type": "stream",
          "text": [
            "🔁 Extracting: 100%|██████████| 1319/1319 [00:01<00:00, 789.37it/s]\n"
          ]
        },
        {
          "name": "stdout",
          "output_type": "stream",
          "text": [
            "\n",
            "🎲 Random Set 32/1000: [(2, 7), (0, 10), (11, 3), (10, 0), (10, 9), (6, 0), (2, 0), (4, 0), (4, 8), (6, 4)]\n"
          ]
        },
        {
          "name": "stderr",
          "output_type": "stream",
          "text": [
            "🔁 Extracting: 100%|██████████| 1319/1319 [00:01<00:00, 798.26it/s]\n"
          ]
        },
        {
          "name": "stdout",
          "output_type": "stream",
          "text": [
            "\n",
            "🎲 Random Set 33/1000: [(7, 2), (3, 10), (2, 1), (10, 5), (9, 8), (9, 9), (7, 10), (2, 8), (9, 7), (6, 11)]\n"
          ]
        },
        {
          "name": "stderr",
          "output_type": "stream",
          "text": [
            "🔁 Extracting: 100%|██████████| 1319/1319 [00:01<00:00, 788.49it/s]\n"
          ]
        },
        {
          "name": "stdout",
          "output_type": "stream",
          "text": [
            "\n",
            "🎲 Random Set 34/1000: [(0, 9), (2, 6), (9, 0), (9, 10), (4, 1), (11, 11), (8, 7), (6, 7), (9, 2), (6, 0)]\n"
          ]
        },
        {
          "name": "stderr",
          "output_type": "stream",
          "text": [
            "🔁 Extracting: 100%|██████████| 1319/1319 [00:01<00:00, 801.02it/s]\n"
          ]
        },
        {
          "name": "stdout",
          "output_type": "stream",
          "text": [
            "\n",
            "🎲 Random Set 35/1000: [(1, 9), (9, 10), (7, 2), (1, 2), (4, 2), (5, 4), (8, 4), (9, 9), (1, 11), (6, 6)]\n"
          ]
        },
        {
          "name": "stderr",
          "output_type": "stream",
          "text": [
            "🔁 Extracting: 100%|██████████| 1319/1319 [00:01<00:00, 770.00it/s]\n"
          ]
        },
        {
          "name": "stdout",
          "output_type": "stream",
          "text": [
            "\n",
            "🎲 Random Set 36/1000: [(1, 1), (11, 1), (8, 2), (7, 1), (0, 7), (1, 8), (6, 9), (7, 2), (10, 10), (2, 5)]\n"
          ]
        },
        {
          "name": "stderr",
          "output_type": "stream",
          "text": [
            "🔁 Extracting: 100%|██████████| 1319/1319 [00:01<00:00, 790.25it/s]\n"
          ]
        },
        {
          "name": "stdout",
          "output_type": "stream",
          "text": [
            "\n",
            "🎲 Random Set 37/1000: [(3, 11), (5, 0), (7, 0), (10, 11), (9, 0), (4, 7), (11, 6), (10, 1), (8, 4), (3, 8)]\n"
          ]
        },
        {
          "name": "stderr",
          "output_type": "stream",
          "text": [
            "🔁 Extracting: 100%|██████████| 1319/1319 [00:01<00:00, 769.36it/s]\n"
          ]
        },
        {
          "name": "stdout",
          "output_type": "stream",
          "text": [
            "\n",
            "🎲 Random Set 38/1000: [(1, 11), (1, 5), (3, 6), (8, 10), (8, 5), (5, 10), (8, 0), (0, 4), (8, 4), (4, 2)]\n"
          ]
        },
        {
          "name": "stderr",
          "output_type": "stream",
          "text": [
            "🔁 Extracting: 100%|██████████| 1319/1319 [00:01<00:00, 773.97it/s]\n"
          ]
        },
        {
          "name": "stdout",
          "output_type": "stream",
          "text": [
            "\n",
            "🎲 Random Set 39/1000: [(6, 1), (3, 1), (3, 8), (4, 0), (10, 10), (5, 6), (8, 2), (2, 9), (10, 3), (7, 1)]\n"
          ]
        },
        {
          "name": "stderr",
          "output_type": "stream",
          "text": [
            "🔁 Extracting: 100%|██████████| 1319/1319 [00:01<00:00, 800.80it/s]\n"
          ]
        },
        {
          "name": "stdout",
          "output_type": "stream",
          "text": [
            "\n",
            "🎲 Random Set 40/1000: [(8, 1), (8, 4), (7, 10), (3, 4), (5, 11), (8, 2), (6, 10), (11, 7), (9, 6), (7, 2)]\n"
          ]
        },
        {
          "name": "stderr",
          "output_type": "stream",
          "text": [
            "🔁 Extracting: 100%|██████████| 1319/1319 [00:01<00:00, 782.29it/s]\n"
          ]
        },
        {
          "name": "stdout",
          "output_type": "stream",
          "text": [
            "\n",
            "🎲 Random Set 41/1000: [(8, 8), (5, 11), (11, 11), (4, 5), (9, 8), (3, 9), (3, 4), (5, 0), (5, 2), (2, 8)]\n"
          ]
        },
        {
          "name": "stderr",
          "output_type": "stream",
          "text": [
            "🔁 Extracting: 100%|██████████| 1319/1319 [00:01<00:00, 792.09it/s]\n"
          ]
        },
        {
          "name": "stdout",
          "output_type": "stream",
          "text": [
            "\n",
            "🎲 Random Set 42/1000: [(9, 1), (10, 11), (6, 8), (4, 2), (4, 3), (2, 8), (3, 1), (1, 0), (0, 7), (2, 3)]\n"
          ]
        },
        {
          "name": "stderr",
          "output_type": "stream",
          "text": [
            "🔁 Extracting: 100%|██████████| 1319/1319 [00:01<00:00, 786.45it/s]\n"
          ]
        },
        {
          "name": "stdout",
          "output_type": "stream",
          "text": [
            "\n",
            "🎲 Random Set 43/1000: [(9, 4), (11, 0), (6, 5), (11, 9), (0, 3), (7, 2), (1, 3), (2, 5), (7, 6), (2, 2)]\n"
          ]
        },
        {
          "name": "stderr",
          "output_type": "stream",
          "text": [
            "🔁 Extracting: 100%|██████████| 1319/1319 [00:01<00:00, 793.63it/s]\n"
          ]
        },
        {
          "name": "stdout",
          "output_type": "stream",
          "text": [
            "\n",
            "🎲 Random Set 44/1000: [(8, 10), (10, 10), (7, 11), (8, 5), (6, 0), (4, 0), (7, 3), (11, 6), (10, 4), (7, 1)]\n"
          ]
        },
        {
          "name": "stderr",
          "output_type": "stream",
          "text": [
            "🔁 Extracting: 100%|██████████| 1319/1319 [00:01<00:00, 771.79it/s]\n"
          ]
        },
        {
          "name": "stdout",
          "output_type": "stream",
          "text": [
            "\n",
            "🎲 Random Set 45/1000: [(6, 6), (0, 8), (9, 1), (5, 0), (0, 9), (11, 10), (11, 11), (9, 3), (1, 9), (4, 6)]\n"
          ]
        },
        {
          "name": "stderr",
          "output_type": "stream",
          "text": [
            "🔁 Extracting: 100%|██████████| 1319/1319 [00:01<00:00, 798.97it/s]\n"
          ]
        },
        {
          "name": "stdout",
          "output_type": "stream",
          "text": [
            "\n",
            "🎲 Random Set 46/1000: [(11, 6), (9, 10), (6, 4), (10, 10), (11, 2), (3, 5), (9, 2), (7, 0), (7, 10), (4, 5)]\n"
          ]
        },
        {
          "name": "stderr",
          "output_type": "stream",
          "text": [
            "🔁 Extracting: 100%|██████████| 1319/1319 [00:01<00:00, 798.79it/s]\n"
          ]
        },
        {
          "name": "stdout",
          "output_type": "stream",
          "text": [
            "\n",
            "🎲 Random Set 47/1000: [(0, 2), (0, 4), (2, 9), (1, 6), (8, 6), (0, 3), (8, 0), (8, 1), (10, 3), (10, 4)]\n"
          ]
        },
        {
          "name": "stderr",
          "output_type": "stream",
          "text": [
            "🔁 Extracting: 100%|██████████| 1319/1319 [00:01<00:00, 803.91it/s]\n"
          ]
        },
        {
          "name": "stdout",
          "output_type": "stream",
          "text": [
            "\n",
            "🎲 Random Set 48/1000: [(11, 5), (4, 0), (11, 8), (2, 8), (8, 1), (8, 6), (3, 10), (2, 9), (0, 6), (8, 4)]\n"
          ]
        },
        {
          "name": "stderr",
          "output_type": "stream",
          "text": [
            "🔁 Extracting: 100%|██████████| 1319/1319 [00:01<00:00, 790.92it/s]\n"
          ]
        },
        {
          "name": "stdout",
          "output_type": "stream",
          "text": [
            "\n",
            "🎲 Random Set 49/1000: [(5, 6), (5, 3), (0, 8), (10, 3), (4, 6), (11, 0), (6, 2), (7, 10), (0, 7), (10, 0)]\n"
          ]
        },
        {
          "name": "stderr",
          "output_type": "stream",
          "text": [
            "🔁 Extracting: 100%|██████████| 1319/1319 [00:01<00:00, 794.28it/s]\n"
          ]
        },
        {
          "name": "stdout",
          "output_type": "stream",
          "text": [
            "\n",
            "🎲 Random Set 50/1000: [(0, 6), (3, 9), (7, 8), (7, 6), (1, 4), (7, 7), (10, 10), (2, 10), (4, 3), (0, 8)]\n"
          ]
        },
        {
          "name": "stderr",
          "output_type": "stream",
          "text": [
            "🔁 Extracting: 100%|██████████| 1319/1319 [00:01<00:00, 768.50it/s]\n"
          ]
        },
        {
          "name": "stdout",
          "output_type": "stream",
          "text": [
            "\n",
            "🎲 Random Set 51/1000: [(11, 1), (5, 9), (6, 11), (8, 5), (5, 2), (10, 10), (10, 1), (9, 6), (8, 0), (10, 5)]\n"
          ]
        },
        {
          "name": "stderr",
          "output_type": "stream",
          "text": [
            "🔁 Extracting: 100%|██████████| 1319/1319 [00:01<00:00, 784.22it/s]\n"
          ]
        },
        {
          "name": "stdout",
          "output_type": "stream",
          "text": [
            "\n",
            "🎲 Random Set 52/1000: [(0, 10), (0, 0), (2, 6), (3, 9), (5, 7), (2, 3), (4, 0), (10, 0), (1, 4), (7, 1)]\n"
          ]
        },
        {
          "name": "stderr",
          "output_type": "stream",
          "text": [
            "🔁 Extracting: 100%|██████████| 1319/1319 [00:01<00:00, 798.13it/s]\n"
          ]
        },
        {
          "name": "stdout",
          "output_type": "stream",
          "text": [
            "\n",
            "🎲 Random Set 53/1000: [(3, 11), (0, 7), (10, 3), (11, 3), (11, 10), (2, 3), (8, 5), (1, 1), (5, 9), (2, 2)]\n"
          ]
        },
        {
          "name": "stderr",
          "output_type": "stream",
          "text": [
            "🔁 Extracting: 100%|██████████| 1319/1319 [00:01<00:00, 815.88it/s]\n"
          ]
        },
        {
          "name": "stdout",
          "output_type": "stream",
          "text": [
            "\n",
            "🎲 Random Set 54/1000: [(0, 9), (2, 8), (9, 3), (5, 1), (2, 2), (3, 1), (6, 2), (0, 6), (6, 8), (10, 11)]\n"
          ]
        },
        {
          "name": "stderr",
          "output_type": "stream",
          "text": [
            "🔁 Extracting: 100%|██████████| 1319/1319 [00:01<00:00, 804.27it/s]\n"
          ]
        },
        {
          "name": "stdout",
          "output_type": "stream",
          "text": [
            "\n",
            "🎲 Random Set 55/1000: [(5, 8), (4, 1), (10, 9), (10, 3), (10, 8), (5, 4), (4, 10), (2, 8), (1, 1), (6, 6)]\n"
          ]
        },
        {
          "name": "stderr",
          "output_type": "stream",
          "text": [
            "🔁 Extracting: 100%|██████████| 1319/1319 [00:01<00:00, 777.93it/s]\n"
          ]
        },
        {
          "name": "stdout",
          "output_type": "stream",
          "text": [
            "\n",
            "🎲 Random Set 56/1000: [(0, 9), (10, 5), (5, 11), (7, 5), (10, 3), (4, 11), (3, 2), (10, 8), (6, 2), (4, 2)]\n"
          ]
        },
        {
          "name": "stderr",
          "output_type": "stream",
          "text": [
            "🔁 Extracting: 100%|██████████| 1319/1319 [00:01<00:00, 811.58it/s]\n"
          ]
        },
        {
          "name": "stdout",
          "output_type": "stream",
          "text": [
            "\n",
            "🎲 Random Set 57/1000: [(6, 1), (5, 8), (1, 9), (2, 7), (2, 2), (7, 7), (2, 11), (10, 7), (2, 4), (0, 2)]\n"
          ]
        },
        {
          "name": "stderr",
          "output_type": "stream",
          "text": [
            "🔁 Extracting: 100%|██████████| 1319/1319 [00:01<00:00, 785.69it/s]\n"
          ]
        },
        {
          "name": "stdout",
          "output_type": "stream",
          "text": [
            "\n",
            "🎲 Random Set 58/1000: [(2, 1), (5, 3), (4, 1), (0, 1), (8, 11), (10, 4), (5, 5), (5, 10), (3, 7), (2, 7)]\n"
          ]
        },
        {
          "name": "stderr",
          "output_type": "stream",
          "text": [
            "🔁 Extracting: 100%|██████████| 1319/1319 [00:01<00:00, 771.95it/s]\n"
          ]
        },
        {
          "name": "stdout",
          "output_type": "stream",
          "text": [
            "\n",
            "🎲 Random Set 59/1000: [(11, 4), (1, 1), (4, 5), (10, 1), (0, 8), (9, 10), (3, 4), (2, 7), (9, 4), (11, 2)]\n"
          ]
        },
        {
          "name": "stderr",
          "output_type": "stream",
          "text": [
            "🔁 Extracting: 100%|██████████| 1319/1319 [00:01<00:00, 796.89it/s]\n"
          ]
        },
        {
          "name": "stdout",
          "output_type": "stream",
          "text": [
            "\n",
            "🎲 Random Set 60/1000: [(0, 6), (4, 8), (1, 2), (2, 6), (3, 0), (3, 3), (2, 0), (3, 6), (1, 7), (10, 0)]\n"
          ]
        },
        {
          "name": "stderr",
          "output_type": "stream",
          "text": [
            "🔁 Extracting: 100%|██████████| 1319/1319 [00:01<00:00, 793.70it/s]\n"
          ]
        },
        {
          "name": "stdout",
          "output_type": "stream",
          "text": [
            "\n",
            "🎲 Random Set 61/1000: [(5, 9), (3, 3), (10, 7), (10, 6), (11, 1), (8, 4), (6, 5), (6, 0), (4, 4), (11, 4)]\n"
          ]
        },
        {
          "name": "stderr",
          "output_type": "stream",
          "text": [
            "🔁 Extracting: 100%|██████████| 1319/1319 [00:01<00:00, 803.14it/s]\n"
          ]
        },
        {
          "name": "stdout",
          "output_type": "stream",
          "text": [
            "\n",
            "🎲 Random Set 62/1000: [(4, 8), (11, 5), (11, 0), (4, 9), (4, 0), (0, 11), (5, 8), (2, 11), (2, 1), (5, 10)]\n"
          ]
        },
        {
          "name": "stderr",
          "output_type": "stream",
          "text": [
            "🔁 Extracting: 100%|██████████| 1319/1319 [00:01<00:00, 810.14it/s]\n"
          ]
        },
        {
          "name": "stdout",
          "output_type": "stream",
          "text": [
            "\n",
            "🎲 Random Set 63/1000: [(6, 2), (1, 8), (9, 5), (5, 7), (4, 2), (7, 3), (4, 8), (3, 7), (9, 4), (10, 10)]\n"
          ]
        },
        {
          "name": "stderr",
          "output_type": "stream",
          "text": [
            "🔁 Extracting: 100%|██████████| 1319/1319 [00:01<00:00, 799.62it/s]\n"
          ]
        },
        {
          "name": "stdout",
          "output_type": "stream",
          "text": [
            "\n",
            "🎲 Random Set 64/1000: [(9, 5), (2, 1), (9, 10), (9, 6), (1, 9), (11, 4), (6, 7), (10, 4), (11, 8), (2, 7)]\n"
          ]
        },
        {
          "name": "stderr",
          "output_type": "stream",
          "text": [
            "🔁 Extracting: 100%|██████████| 1319/1319 [00:01<00:00, 791.50it/s]\n"
          ]
        },
        {
          "name": "stdout",
          "output_type": "stream",
          "text": [
            "\n",
            "🎲 Random Set 65/1000: [(9, 2), (9, 0), (8, 1), (3, 5), (8, 7), (4, 5), (7, 9), (9, 8), (11, 10), (6, 7)]\n"
          ]
        },
        {
          "name": "stderr",
          "output_type": "stream",
          "text": [
            "🔁 Extracting: 100%|██████████| 1319/1319 [00:01<00:00, 778.66it/s]\n"
          ]
        },
        {
          "name": "stdout",
          "output_type": "stream",
          "text": [
            "\n",
            "🎲 Random Set 66/1000: [(6, 5), (5, 7), (7, 5), (1, 1), (3, 5), (6, 11), (6, 8), (9, 6), (11, 2), (0, 8)]\n"
          ]
        },
        {
          "name": "stderr",
          "output_type": "stream",
          "text": [
            "🔁 Extracting: 100%|██████████| 1319/1319 [00:01<00:00, 798.65it/s]\n"
          ]
        },
        {
          "name": "stdout",
          "output_type": "stream",
          "text": [
            "\n",
            "🎲 Random Set 67/1000: [(10, 7), (11, 1), (4, 4), (7, 9), (1, 11), (4, 2), (1, 3), (5, 0), (8, 7), (2, 1)]\n"
          ]
        },
        {
          "name": "stderr",
          "output_type": "stream",
          "text": [
            "🔁 Extracting: 100%|██████████| 1319/1319 [00:01<00:00, 816.89it/s]\n"
          ]
        },
        {
          "name": "stdout",
          "output_type": "stream",
          "text": [
            "\n",
            "🎲 Random Set 68/1000: [(10, 3), (0, 1), (0, 5), (9, 9), (6, 1), (7, 2), (8, 10), (11, 6), (7, 9), (11, 9)]\n"
          ]
        },
        {
          "name": "stderr",
          "output_type": "stream",
          "text": [
            "🔁 Extracting: 100%|██████████| 1319/1319 [00:01<00:00, 787.13it/s]\n"
          ]
        },
        {
          "name": "stdout",
          "output_type": "stream",
          "text": [
            "\n",
            "🎲 Random Set 69/1000: [(5, 0), (7, 6), (0, 7), (0, 2), (2, 6), (9, 5), (0, 3), (5, 9), (10, 2), (1, 7)]\n"
          ]
        },
        {
          "name": "stderr",
          "output_type": "stream",
          "text": [
            "🔁 Extracting: 100%|██████████| 1319/1319 [00:01<00:00, 787.09it/s]\n"
          ]
        },
        {
          "name": "stdout",
          "output_type": "stream",
          "text": [
            "\n",
            "🎲 Random Set 70/1000: [(11, 9), (6, 4), (6, 8), (7, 8), (11, 11), (1, 6), (8, 6), (8, 10), (2, 11), (8, 0)]\n"
          ]
        },
        {
          "name": "stderr",
          "output_type": "stream",
          "text": [
            "🔁 Extracting: 100%|██████████| 1319/1319 [00:01<00:00, 794.91it/s]\n"
          ]
        },
        {
          "name": "stdout",
          "output_type": "stream",
          "text": [
            "\n",
            "🎲 Random Set 71/1000: [(8, 1), (3, 9), (6, 2), (7, 2), (3, 4), (6, 0), (8, 9), (6, 1), (3, 5), (11, 9)]\n"
          ]
        },
        {
          "name": "stderr",
          "output_type": "stream",
          "text": [
            "🔁 Extracting: 100%|██████████| 1319/1319 [00:01<00:00, 758.28it/s]\n"
          ]
        },
        {
          "name": "stdout",
          "output_type": "stream",
          "text": [
            "\n",
            "🎲 Random Set 72/1000: [(6, 1), (8, 7), (2, 11), (5, 10), (8, 9), (9, 11), (7, 4), (2, 10), (0, 5), (11, 1)]\n"
          ]
        },
        {
          "name": "stderr",
          "output_type": "stream",
          "text": [
            "🔁 Extracting: 100%|██████████| 1319/1319 [00:01<00:00, 788.04it/s]\n"
          ]
        },
        {
          "name": "stdout",
          "output_type": "stream",
          "text": [
            "\n",
            "🎲 Random Set 73/1000: [(8, 5), (8, 11), (11, 3), (0, 11), (4, 3), (5, 11), (1, 9), (5, 3), (4, 9), (2, 4)]\n"
          ]
        },
        {
          "name": "stderr",
          "output_type": "stream",
          "text": [
            "🔁 Extracting: 100%|██████████| 1319/1319 [00:01<00:00, 806.35it/s]\n"
          ]
        },
        {
          "name": "stdout",
          "output_type": "stream",
          "text": [
            "\n",
            "🎲 Random Set 74/1000: [(0, 2), (4, 1), (7, 2), (11, 9), (8, 5), (9, 1), (1, 6), (1, 4), (2, 5), (10, 8)]\n"
          ]
        },
        {
          "name": "stderr",
          "output_type": "stream",
          "text": [
            "🔁 Extracting: 100%|██████████| 1319/1319 [00:01<00:00, 807.93it/s]\n"
          ]
        },
        {
          "name": "stdout",
          "output_type": "stream",
          "text": [
            "\n",
            "🎲 Random Set 75/1000: [(8, 9), (9, 1), (7, 9), (3, 4), (3, 6), (0, 9), (2, 0), (10, 5), (6, 6), (8, 2)]\n"
          ]
        },
        {
          "name": "stderr",
          "output_type": "stream",
          "text": [
            "🔁 Extracting: 100%|██████████| 1319/1319 [00:01<00:00, 796.12it/s]\n"
          ]
        },
        {
          "name": "stdout",
          "output_type": "stream",
          "text": [
            "\n",
            "🎲 Random Set 76/1000: [(11, 7), (6, 5), (1, 6), (1, 1), (2, 0), (6, 1), (0, 0), (10, 10), (6, 7), (9, 5)]\n"
          ]
        },
        {
          "name": "stderr",
          "output_type": "stream",
          "text": [
            "🔁 Extracting: 100%|██████████| 1319/1319 [00:01<00:00, 800.15it/s]\n"
          ]
        },
        {
          "name": "stdout",
          "output_type": "stream",
          "text": [
            "\n",
            "🎲 Random Set 77/1000: [(3, 2), (8, 8), (4, 11), (5, 1), (11, 8), (10, 11), (8, 7), (1, 3), (6, 10), (5, 4)]\n"
          ]
        },
        {
          "name": "stderr",
          "output_type": "stream",
          "text": [
            "🔁 Extracting: 100%|██████████| 1319/1319 [00:01<00:00, 798.93it/s]\n"
          ]
        },
        {
          "name": "stdout",
          "output_type": "stream",
          "text": [
            "\n",
            "🎲 Random Set 78/1000: [(10, 11), (2, 8), (0, 9), (8, 0), (6, 8), (1, 9), (2, 9), (7, 9), (3, 3), (2, 4)]\n"
          ]
        },
        {
          "name": "stderr",
          "output_type": "stream",
          "text": [
            "🔁 Extracting: 100%|██████████| 1319/1319 [00:01<00:00, 772.76it/s]\n"
          ]
        },
        {
          "name": "stdout",
          "output_type": "stream",
          "text": [
            "\n",
            "🎲 Random Set 79/1000: [(9, 9), (8, 11), (5, 4), (10, 3), (8, 2), (8, 8), (6, 2), (3, 4), (0, 2), (3, 7)]\n"
          ]
        },
        {
          "name": "stderr",
          "output_type": "stream",
          "text": [
            "🔁 Extracting: 100%|██████████| 1319/1319 [00:01<00:00, 791.41it/s]\n"
          ]
        },
        {
          "name": "stdout",
          "output_type": "stream",
          "text": [
            "\n",
            "🎲 Random Set 80/1000: [(11, 4), (11, 8), (3, 7), (3, 8), (9, 8), (9, 11), (7, 7), (11, 11), (1, 7), (10, 4)]\n"
          ]
        },
        {
          "name": "stderr",
          "output_type": "stream",
          "text": [
            "🔁 Extracting: 100%|██████████| 1319/1319 [00:01<00:00, 801.02it/s]\n"
          ]
        },
        {
          "name": "stdout",
          "output_type": "stream",
          "text": [
            "\n",
            "🎲 Random Set 81/1000: [(3, 4), (5, 6), (6, 9), (0, 3), (9, 2), (3, 10), (7, 0), (5, 1), (10, 4), (11, 6)]\n"
          ]
        },
        {
          "name": "stderr",
          "output_type": "stream",
          "text": [
            "🔁 Extracting: 100%|██████████| 1319/1319 [00:01<00:00, 801.66it/s]\n"
          ]
        },
        {
          "name": "stdout",
          "output_type": "stream",
          "text": [
            "\n",
            "🎲 Random Set 82/1000: [(9, 10), (11, 3), (0, 0), (0, 8), (5, 0), (4, 8), (7, 7), (8, 5), (7, 6), (6, 0)]\n"
          ]
        },
        {
          "name": "stderr",
          "output_type": "stream",
          "text": [
            "🔁 Extracting: 100%|██████████| 1319/1319 [00:01<00:00, 809.91it/s]\n"
          ]
        },
        {
          "name": "stdout",
          "output_type": "stream",
          "text": [
            "\n",
            "🎲 Random Set 83/1000: [(0, 2), (11, 1), (1, 7), (10, 0), (9, 1), (8, 7), (1, 11), (9, 0), (0, 4), (9, 6)]\n"
          ]
        },
        {
          "name": "stderr",
          "output_type": "stream",
          "text": [
            "🔁 Extracting: 100%|██████████| 1319/1319 [00:02<00:00, 607.72it/s]\n"
          ]
        },
        {
          "name": "stdout",
          "output_type": "stream",
          "text": [
            "\n",
            "🎲 Random Set 84/1000: [(6, 5), (9, 6), (8, 5), (8, 3), (6, 9), (11, 8), (10, 1), (0, 7), (7, 1), (6, 0)]\n"
          ]
        },
        {
          "name": "stderr",
          "output_type": "stream",
          "text": [
            "🔁 Extracting: 100%|██████████| 1319/1319 [00:01<00:00, 800.01it/s]\n"
          ]
        },
        {
          "name": "stdout",
          "output_type": "stream",
          "text": [
            "\n",
            "🎲 Random Set 85/1000: [(6, 9), (11, 5), (9, 3), (11, 2), (0, 11), (11, 0), (1, 7), (11, 3), (10, 1), (7, 11)]\n"
          ]
        },
        {
          "name": "stderr",
          "output_type": "stream",
          "text": [
            "🔁 Extracting: 100%|██████████| 1319/1319 [00:01<00:00, 778.71it/s]\n"
          ]
        },
        {
          "name": "stdout",
          "output_type": "stream",
          "text": [
            "\n",
            "🎲 Random Set 86/1000: [(4, 10), (6, 6), (5, 1), (5, 11), (5, 10), (7, 1), (1, 4), (8, 0), (11, 9), (1, 6)]\n"
          ]
        },
        {
          "name": "stderr",
          "output_type": "stream",
          "text": [
            "🔁 Extracting: 100%|██████████| 1319/1319 [00:01<00:00, 809.70it/s]\n"
          ]
        },
        {
          "name": "stdout",
          "output_type": "stream",
          "text": [
            "\n",
            "🎲 Random Set 87/1000: [(1, 11), (3, 6), (2, 9), (7, 3), (7, 7), (2, 8), (6, 6), (6, 9), (1, 7), (10, 5)]\n"
          ]
        },
        {
          "name": "stderr",
          "output_type": "stream",
          "text": [
            "🔁 Extracting: 100%|██████████| 1319/1319 [00:01<00:00, 811.47it/s]\n"
          ]
        },
        {
          "name": "stdout",
          "output_type": "stream",
          "text": [
            "\n",
            "🎲 Random Set 88/1000: [(10, 6), (11, 3), (4, 3), (4, 2), (9, 10), (1, 3), (0, 11), (8, 3), (0, 4), (3, 3)]\n"
          ]
        },
        {
          "name": "stderr",
          "output_type": "stream",
          "text": [
            "🔁 Extracting: 100%|██████████| 1319/1319 [00:01<00:00, 817.42it/s]\n"
          ]
        },
        {
          "name": "stdout",
          "output_type": "stream",
          "text": [
            "\n",
            "🎲 Random Set 89/1000: [(11, 3), (4, 5), (2, 6), (1, 1), (11, 8), (2, 3), (4, 2), (0, 8), (8, 5), (3, 8)]\n"
          ]
        },
        {
          "name": "stderr",
          "output_type": "stream",
          "text": [
            "🔁 Extracting: 100%|██████████| 1319/1319 [00:01<00:00, 796.58it/s]\n"
          ]
        },
        {
          "name": "stdout",
          "output_type": "stream",
          "text": [
            "\n",
            "🎲 Random Set 90/1000: [(4, 4), (10, 7), (3, 6), (7, 4), (2, 8), (4, 1), (8, 10), (7, 2), (11, 8), (6, 5)]\n"
          ]
        },
        {
          "name": "stderr",
          "output_type": "stream",
          "text": [
            "🔁 Extracting: 100%|██████████| 1319/1319 [00:01<00:00, 810.60it/s]\n"
          ]
        },
        {
          "name": "stdout",
          "output_type": "stream",
          "text": [
            "\n",
            "🎲 Random Set 91/1000: [(10, 0), (4, 4), (2, 11), (3, 3), (7, 7), (7, 5), (6, 8), (6, 11), (10, 3), (5, 10)]\n"
          ]
        },
        {
          "name": "stderr",
          "output_type": "stream",
          "text": [
            "🔁 Extracting: 100%|██████████| 1319/1319 [00:01<00:00, 788.22it/s]\n"
          ]
        },
        {
          "name": "stdout",
          "output_type": "stream",
          "text": [
            "\n",
            "🎲 Random Set 92/1000: [(11, 8), (2, 6), (11, 0), (2, 0), (4, 5), (8, 5), (4, 1), (2, 11), (4, 4), (10, 7)]\n"
          ]
        },
        {
          "name": "stderr",
          "output_type": "stream",
          "text": [
            "🔁 Extracting: 100%|██████████| 1319/1319 [00:01<00:00, 751.64it/s]\n"
          ]
        },
        {
          "name": "stdout",
          "output_type": "stream",
          "text": [
            "\n",
            "🎲 Random Set 93/1000: [(7, 10), (4, 7), (4, 4), (7, 2), (8, 4), (2, 5), (11, 0), (6, 4), (9, 10), (6, 1)]\n"
          ]
        },
        {
          "name": "stderr",
          "output_type": "stream",
          "text": [
            "🔁 Extracting: 100%|██████████| 1319/1319 [00:01<00:00, 774.04it/s]\n"
          ]
        },
        {
          "name": "stdout",
          "output_type": "stream",
          "text": [
            "\n",
            "🎲 Random Set 94/1000: [(2, 9), (4, 1), (9, 4), (7, 1), (11, 1), (11, 2), (0, 10), (1, 5), (8, 5), (4, 0)]\n"
          ]
        },
        {
          "name": "stderr",
          "output_type": "stream",
          "text": [
            "🔁 Extracting: 100%|██████████| 1319/1319 [00:01<00:00, 778.85it/s]\n"
          ]
        },
        {
          "name": "stdout",
          "output_type": "stream",
          "text": [
            "\n",
            "🎲 Random Set 95/1000: [(3, 3), (8, 11), (5, 10), (7, 1), (10, 7), (7, 10), (10, 5), (9, 8), (2, 0), (10, 11)]\n"
          ]
        },
        {
          "name": "stderr",
          "output_type": "stream",
          "text": [
            "🔁 Extracting: 100%|██████████| 1319/1319 [00:01<00:00, 795.29it/s]\n"
          ]
        },
        {
          "name": "stdout",
          "output_type": "stream",
          "text": [
            "\n",
            "🎲 Random Set 96/1000: [(5, 1), (2, 2), (11, 1), (11, 0), (8, 1), (4, 5), (10, 4), (0, 11), (6, 3), (10, 6)]\n"
          ]
        },
        {
          "name": "stderr",
          "output_type": "stream",
          "text": [
            "🔁 Extracting: 100%|██████████| 1319/1319 [00:01<00:00, 796.71it/s]\n"
          ]
        },
        {
          "name": "stdout",
          "output_type": "stream",
          "text": [
            "\n",
            "🎲 Random Set 97/1000: [(11, 4), (9, 1), (5, 6), (0, 1), (3, 2), (10, 3), (6, 8), (0, 8), (0, 3), (6, 10)]\n"
          ]
        },
        {
          "name": "stderr",
          "output_type": "stream",
          "text": [
            "🔁 Extracting: 100%|██████████| 1319/1319 [00:01<00:00, 815.77it/s]\n"
          ]
        },
        {
          "name": "stdout",
          "output_type": "stream",
          "text": [
            "\n",
            "🎲 Random Set 98/1000: [(8, 7), (0, 1), (6, 6), (10, 10), (6, 5), (9, 7), (8, 0), (3, 4), (10, 1), (11, 2)]\n"
          ]
        },
        {
          "name": "stderr",
          "output_type": "stream",
          "text": [
            "🔁 Extracting: 100%|██████████| 1319/1319 [00:01<00:00, 781.94it/s]\n"
          ]
        },
        {
          "name": "stdout",
          "output_type": "stream",
          "text": [
            "\n",
            "🎲 Random Set 99/1000: [(2, 0), (10, 8), (2, 2), (1, 5), (1, 6), (0, 10), (3, 0), (0, 2), (10, 7), (8, 1)]\n"
          ]
        },
        {
          "name": "stderr",
          "output_type": "stream",
          "text": [
            "🔁 Extracting: 100%|██████████| 1319/1319 [00:01<00:00, 780.17it/s]\n"
          ]
        },
        {
          "name": "stdout",
          "output_type": "stream",
          "text": [
            "\n",
            "🎲 Random Set 100/1000: [(8, 6), (0, 6), (0, 0), (1, 10), (7, 3), (5, 2), (7, 11), (5, 3), (5, 9), (1, 6)]\n"
          ]
        },
        {
          "name": "stderr",
          "output_type": "stream",
          "text": [
            "🔁 Extracting: 100%|██████████| 1319/1319 [00:01<00:00, 796.49it/s]\n"
          ]
        },
        {
          "name": "stdout",
          "output_type": "stream",
          "text": [
            "\n",
            "🎲 Random Set 101/1000: [(6, 6), (9, 7), (9, 0), (5, 5), (2, 0), (6, 5), (2, 4), (6, 3), (2, 8), (3, 1)]\n"
          ]
        },
        {
          "name": "stderr",
          "output_type": "stream",
          "text": [
            "🔁 Extracting: 100%|██████████| 1319/1319 [00:01<00:00, 792.30it/s]\n"
          ]
        },
        {
          "name": "stdout",
          "output_type": "stream",
          "text": [
            "\n",
            "🎲 Random Set 102/1000: [(3, 7), (8, 5), (1, 1), (6, 9), (5, 3), (5, 4), (10, 0), (7, 2), (4, 11), (8, 4)]\n"
          ]
        },
        {
          "name": "stderr",
          "output_type": "stream",
          "text": [
            "🔁 Extracting: 100%|██████████| 1319/1319 [00:01<00:00, 796.55it/s]\n"
          ]
        },
        {
          "name": "stdout",
          "output_type": "stream",
          "text": [
            "\n",
            "🎲 Random Set 103/1000: [(3, 8), (8, 1), (10, 6), (3, 11), (11, 7), (2, 11), (8, 6), (5, 1), (11, 5), (4, 7)]\n"
          ]
        },
        {
          "name": "stderr",
          "output_type": "stream",
          "text": [
            "🔁 Extracting: 100%|██████████| 1319/1319 [00:01<00:00, 794.32it/s]\n"
          ]
        },
        {
          "name": "stdout",
          "output_type": "stream",
          "text": [
            "\n",
            "🎲 Random Set 104/1000: [(9, 2), (8, 2), (10, 10), (8, 4), (8, 0), (1, 10), (9, 8), (2, 3), (5, 3), (9, 1)]\n"
          ]
        },
        {
          "name": "stderr",
          "output_type": "stream",
          "text": [
            "🔁 Extracting: 100%|██████████| 1319/1319 [00:01<00:00, 774.25it/s]\n"
          ]
        },
        {
          "name": "stdout",
          "output_type": "stream",
          "text": [
            "\n",
            "🎲 Random Set 105/1000: [(7, 8), (9, 6), (5, 11), (6, 6), (6, 1), (2, 9), (8, 11), (4, 3), (10, 4), (8, 3)]\n"
          ]
        },
        {
          "name": "stderr",
          "output_type": "stream",
          "text": [
            "🔁 Extracting: 100%|██████████| 1319/1319 [00:01<00:00, 762.51it/s]\n"
          ]
        },
        {
          "name": "stdout",
          "output_type": "stream",
          "text": [
            "\n",
            "🎲 Random Set 106/1000: [(8, 10), (11, 2), (4, 3), (5, 2), (4, 6), (8, 9), (1, 11), (1, 8), (8, 0), (7, 6)]\n"
          ]
        },
        {
          "name": "stderr",
          "output_type": "stream",
          "text": [
            "🔁 Extracting: 100%|██████████| 1319/1319 [00:01<00:00, 800.49it/s]\n"
          ]
        },
        {
          "name": "stdout",
          "output_type": "stream",
          "text": [
            "\n",
            "🎲 Random Set 107/1000: [(5, 1), (4, 10), (1, 8), (11, 4), (8, 2), (7, 6), (3, 6), (7, 9), (7, 3), (5, 10)]\n"
          ]
        },
        {
          "name": "stderr",
          "output_type": "stream",
          "text": [
            "🔁 Extracting: 100%|██████████| 1319/1319 [00:01<00:00, 782.92it/s]\n"
          ]
        },
        {
          "name": "stdout",
          "output_type": "stream",
          "text": [
            "\n",
            "🎲 Random Set 108/1000: [(10, 3), (0, 10), (2, 4), (2, 11), (11, 8), (3, 1), (5, 7), (4, 11), (9, 6), (7, 9)]\n"
          ]
        },
        {
          "name": "stderr",
          "output_type": "stream",
          "text": [
            "🔁 Extracting: 100%|██████████| 1319/1319 [00:01<00:00, 795.03it/s]\n"
          ]
        },
        {
          "name": "stdout",
          "output_type": "stream",
          "text": [
            "\n",
            "🎲 Random Set 109/1000: [(10, 2), (11, 8), (1, 0), (1, 4), (0, 9), (3, 0), (6, 0), (11, 9), (3, 2), (3, 11)]\n"
          ]
        },
        {
          "name": "stderr",
          "output_type": "stream",
          "text": [
            "🔁 Extracting: 100%|██████████| 1319/1319 [00:01<00:00, 793.43it/s]\n"
          ]
        },
        {
          "name": "stdout",
          "output_type": "stream",
          "text": [
            "\n",
            "🎲 Random Set 110/1000: [(7, 10), (8, 4), (10, 0), (8, 9), (11, 10), (0, 10), (2, 10), (9, 6), (6, 4), (6, 11)]\n"
          ]
        },
        {
          "name": "stderr",
          "output_type": "stream",
          "text": [
            "🔁 Extracting: 100%|██████████| 1319/1319 [00:01<00:00, 809.09it/s]\n"
          ]
        },
        {
          "name": "stdout",
          "output_type": "stream",
          "text": [
            "\n",
            "🎲 Random Set 111/1000: [(11, 8), (10, 5), (5, 7), (2, 2), (11, 3), (4, 9), (2, 4), (6, 7), (7, 8), (4, 5)]\n"
          ]
        },
        {
          "name": "stderr",
          "output_type": "stream",
          "text": [
            "🔁 Extracting: 100%|██████████| 1319/1319 [00:01<00:00, 787.09it/s]\n"
          ]
        },
        {
          "name": "stdout",
          "output_type": "stream",
          "text": [
            "\n",
            "🎲 Random Set 112/1000: [(6, 2), (8, 7), (6, 9), (2, 7), (5, 2), (4, 2), (5, 5), (1, 11), (7, 3), (3, 0)]\n"
          ]
        },
        {
          "name": "stderr",
          "output_type": "stream",
          "text": [
            "🔁 Extracting: 100%|██████████| 1319/1319 [00:01<00:00, 752.98it/s]\n"
          ]
        },
        {
          "name": "stdout",
          "output_type": "stream",
          "text": [
            "\n",
            "🎲 Random Set 113/1000: [(5, 3), (7, 11), (10, 10), (2, 0), (2, 10), (0, 6), (1, 11), (7, 9), (6, 8), (2, 7)]\n"
          ]
        },
        {
          "name": "stderr",
          "output_type": "stream",
          "text": [
            "🔁 Extracting: 100%|██████████| 1319/1319 [00:01<00:00, 787.73it/s]\n"
          ]
        },
        {
          "name": "stdout",
          "output_type": "stream",
          "text": [
            "\n",
            "🎲 Random Set 114/1000: [(1, 3), (7, 2), (9, 10), (3, 2), (0, 9), (2, 5), (2, 0), (3, 4), (0, 5), (2, 6)]\n"
          ]
        },
        {
          "name": "stderr",
          "output_type": "stream",
          "text": [
            "🔁 Extracting: 100%|██████████| 1319/1319 [00:01<00:00, 796.95it/s]\n"
          ]
        },
        {
          "name": "stdout",
          "output_type": "stream",
          "text": [
            "\n",
            "🎲 Random Set 115/1000: [(6, 1), (0, 10), (0, 4), (4, 8), (10, 6), (1, 4), (11, 1), (3, 9), (1, 10), (1, 9)]\n"
          ]
        },
        {
          "name": "stderr",
          "output_type": "stream",
          "text": [
            "🔁 Extracting: 100%|██████████| 1319/1319 [00:01<00:00, 797.60it/s]\n"
          ]
        },
        {
          "name": "stdout",
          "output_type": "stream",
          "text": [
            "\n",
            "🎲 Random Set 116/1000: [(1, 8), (0, 1), (7, 4), (11, 6), (9, 11), (1, 7), (5, 10), (5, 1), (3, 9), (6, 6)]\n"
          ]
        },
        {
          "name": "stderr",
          "output_type": "stream",
          "text": [
            "🔁 Extracting: 100%|██████████| 1319/1319 [00:01<00:00, 802.67it/s]\n"
          ]
        },
        {
          "name": "stdout",
          "output_type": "stream",
          "text": [
            "\n",
            "🎲 Random Set 117/1000: [(7, 6), (5, 3), (7, 11), (2, 3), (9, 9), (11, 6), (4, 10), (3, 5), (11, 3), (10, 9)]\n"
          ]
        },
        {
          "name": "stderr",
          "output_type": "stream",
          "text": [
            "🔁 Extracting: 100%|██████████| 1319/1319 [00:01<00:00, 805.51it/s]\n"
          ]
        },
        {
          "name": "stdout",
          "output_type": "stream",
          "text": [
            "\n",
            "🎲 Random Set 118/1000: [(5, 3), (4, 11), (9, 3), (3, 5), (4, 0), (4, 10), (1, 1), (10, 3), (1, 4), (2, 2)]\n"
          ]
        },
        {
          "name": "stderr",
          "output_type": "stream",
          "text": [
            "🔁 Extracting: 100%|██████████| 1319/1319 [00:01<00:00, 777.93it/s]\n"
          ]
        },
        {
          "name": "stdout",
          "output_type": "stream",
          "text": [
            "\n",
            "🎲 Random Set 119/1000: [(6, 4), (2, 6), (8, 3), (5, 2), (4, 1), (2, 5), (7, 3), (1, 3), (7, 1), (8, 5)]\n"
          ]
        },
        {
          "name": "stderr",
          "output_type": "stream",
          "text": [
            "🔁 Extracting: 100%|██████████| 1319/1319 [00:01<00:00, 782.24it/s]\n"
          ]
        },
        {
          "name": "stdout",
          "output_type": "stream",
          "text": [
            "\n",
            "🎲 Random Set 120/1000: [(6, 5), (9, 8), (2, 4), (5, 7), (7, 10), (10, 1), (8, 5), (11, 1), (2, 9), (10, 2)]\n"
          ]
        },
        {
          "name": "stderr",
          "output_type": "stream",
          "text": [
            "🔁 Extracting: 100%|██████████| 1319/1319 [00:01<00:00, 788.31it/s]\n"
          ]
        },
        {
          "name": "stdout",
          "output_type": "stream",
          "text": [
            "\n",
            "🎲 Random Set 121/1000: [(6, 11), (8, 10), (6, 1), (0, 9), (3, 2), (4, 5), (10, 6), (6, 5), (5, 6), (2, 3)]\n"
          ]
        },
        {
          "name": "stderr",
          "output_type": "stream",
          "text": [
            "🔁 Extracting: 100%|██████████| 1319/1319 [00:01<00:00, 801.09it/s]\n"
          ]
        },
        {
          "name": "stdout",
          "output_type": "stream",
          "text": [
            "\n",
            "🎲 Random Set 122/1000: [(11, 6), (9, 1), (4, 3), (7, 2), (4, 4), (3, 10), (8, 1), (3, 8), (1, 1), (5, 6)]\n"
          ]
        },
        {
          "name": "stderr",
          "output_type": "stream",
          "text": [
            "🔁 Extracting: 100%|██████████| 1319/1319 [00:01<00:00, 806.33it/s]\n"
          ]
        },
        {
          "name": "stdout",
          "output_type": "stream",
          "text": [
            "\n",
            "🎲 Random Set 123/1000: [(9, 5), (4, 10), (0, 8), (8, 9), (8, 6), (11, 2), (11, 1), (4, 1), (9, 7), (6, 3)]\n"
          ]
        },
        {
          "name": "stderr",
          "output_type": "stream",
          "text": [
            "🔁 Extracting: 100%|██████████| 1319/1319 [00:01<00:00, 803.29it/s]\n"
          ]
        },
        {
          "name": "stdout",
          "output_type": "stream",
          "text": [
            "\n",
            "🎲 Random Set 124/1000: [(11, 7), (8, 1), (0, 2), (0, 10), (1, 1), (10, 7), (2, 8), (4, 3), (8, 6), (0, 6)]\n"
          ]
        },
        {
          "name": "stderr",
          "output_type": "stream",
          "text": [
            "🔁 Extracting: 100%|██████████| 1319/1319 [00:01<00:00, 801.33it/s]\n"
          ]
        },
        {
          "name": "stdout",
          "output_type": "stream",
          "text": [
            "\n",
            "🎲 Random Set 125/1000: [(1, 2), (7, 1), (2, 2), (11, 5), (0, 1), (9, 8), (3, 3), (5, 11), (6, 2), (5, 8)]\n"
          ]
        },
        {
          "name": "stderr",
          "output_type": "stream",
          "text": [
            "🔁 Extracting: 100%|██████████| 1319/1319 [00:01<00:00, 777.58it/s]\n"
          ]
        },
        {
          "name": "stdout",
          "output_type": "stream",
          "text": [
            "\n",
            "🎲 Random Set 126/1000: [(4, 11), (10, 8), (0, 6), (5, 1), (9, 0), (8, 2), (9, 9), (10, 2), (2, 10), (3, 5)]\n"
          ]
        },
        {
          "name": "stderr",
          "output_type": "stream",
          "text": [
            "🔁 Extracting: 100%|██████████| 1319/1319 [00:01<00:00, 792.40it/s]\n"
          ]
        },
        {
          "name": "stdout",
          "output_type": "stream",
          "text": [
            "\n",
            "🎲 Random Set 127/1000: [(0, 4), (9, 11), (11, 2), (10, 3), (1, 11), (6, 1), (2, 0), (9, 2), (1, 0), (9, 4)]\n"
          ]
        },
        {
          "name": "stderr",
          "output_type": "stream",
          "text": [
            "🔁 Extracting: 100%|██████████| 1319/1319 [00:01<00:00, 800.66it/s]\n"
          ]
        },
        {
          "name": "stdout",
          "output_type": "stream",
          "text": [
            "\n",
            "🎲 Random Set 128/1000: [(1, 7), (6, 6), (8, 11), (3, 1), (4, 4), (2, 4), (10, 8), (8, 5), (1, 0), (5, 9)]\n"
          ]
        },
        {
          "name": "stderr",
          "output_type": "stream",
          "text": [
            "🔁 Extracting: 100%|██████████| 1319/1319 [00:01<00:00, 796.61it/s]\n"
          ]
        },
        {
          "name": "stdout",
          "output_type": "stream",
          "text": [
            "\n",
            "🎲 Random Set 129/1000: [(10, 4), (7, 10), (5, 7), (6, 10), (11, 7), (4, 6), (1, 4), (10, 2), (6, 11), (5, 3)]\n"
          ]
        },
        {
          "name": "stderr",
          "output_type": "stream",
          "text": [
            "🔁 Extracting: 100%|██████████| 1319/1319 [00:01<00:00, 786.74it/s]\n"
          ]
        },
        {
          "name": "stdout",
          "output_type": "stream",
          "text": [
            "\n",
            "🎲 Random Set 130/1000: [(0, 5), (9, 5), (9, 7), (6, 10), (7, 5), (9, 4), (1, 11), (6, 3), (0, 9), (11, 10)]\n"
          ]
        },
        {
          "name": "stderr",
          "output_type": "stream",
          "text": [
            "🔁 Extracting: 100%|██████████| 1319/1319 [00:01<00:00, 798.07it/s]\n"
          ]
        },
        {
          "name": "stdout",
          "output_type": "stream",
          "text": [
            "\n",
            "🎲 Random Set 131/1000: [(10, 4), (10, 10), (10, 0), (0, 0), (4, 6), (5, 1), (0, 6), (10, 8), (0, 4), (6, 2)]\n"
          ]
        },
        {
          "name": "stderr",
          "output_type": "stream",
          "text": [
            "🔁 Extracting: 100%|██████████| 1319/1319 [00:01<00:00, 801.31it/s]\n"
          ]
        },
        {
          "name": "stdout",
          "output_type": "stream",
          "text": [
            "\n",
            "🎲 Random Set 132/1000: [(2, 1), (4, 7), (6, 8), (8, 1), (1, 3), (11, 9), (11, 8), (9, 1), (1, 4), (6, 0)]\n"
          ]
        },
        {
          "name": "stderr",
          "output_type": "stream",
          "text": [
            "🔁 Extracting: 100%|██████████| 1319/1319 [00:01<00:00, 738.06it/s]\n"
          ]
        },
        {
          "name": "stdout",
          "output_type": "stream",
          "text": [
            "\n",
            "🎲 Random Set 133/1000: [(0, 5), (11, 6), (9, 5), (10, 11), (1, 10), (2, 1), (6, 3), (1, 0), (5, 4), (7, 4)]\n"
          ]
        },
        {
          "name": "stderr",
          "output_type": "stream",
          "text": [
            "🔁 Extracting: 100%|██████████| 1319/1319 [00:01<00:00, 786.26it/s]\n"
          ]
        },
        {
          "name": "stdout",
          "output_type": "stream",
          "text": [
            "\n",
            "🎲 Random Set 134/1000: [(3, 8), (11, 7), (8, 9), (9, 11), (7, 7), (4, 8), (9, 5), (0, 3), (9, 7), (3, 6)]\n"
          ]
        },
        {
          "name": "stderr",
          "output_type": "stream",
          "text": [
            "🔁 Extracting: 100%|██████████| 1319/1319 [00:01<00:00, 808.38it/s]\n"
          ]
        },
        {
          "name": "stdout",
          "output_type": "stream",
          "text": [
            "\n",
            "🎲 Random Set 135/1000: [(1, 11), (0, 8), (8, 5), (6, 10), (10, 5), (3, 3), (6, 1), (2, 10), (1, 3), (5, 7)]\n"
          ]
        },
        {
          "name": "stderr",
          "output_type": "stream",
          "text": [
            "🔁 Extracting: 100%|██████████| 1319/1319 [00:01<00:00, 797.16it/s]\n"
          ]
        },
        {
          "name": "stdout",
          "output_type": "stream",
          "text": [
            "\n",
            "🎲 Random Set 136/1000: [(3, 4), (6, 9), (6, 7), (6, 5), (5, 10), (2, 5), (3, 9), (2, 4), (2, 9), (10, 6)]\n"
          ]
        },
        {
          "name": "stderr",
          "output_type": "stream",
          "text": [
            "🔁 Extracting: 100%|██████████| 1319/1319 [00:01<00:00, 792.83it/s]\n"
          ]
        },
        {
          "name": "stdout",
          "output_type": "stream",
          "text": [
            "\n",
            "🎲 Random Set 137/1000: [(9, 9), (8, 11), (6, 11), (1, 1), (11, 10), (1, 5), (7, 1), (1, 0), (4, 1), (9, 8)]\n"
          ]
        },
        {
          "name": "stderr",
          "output_type": "stream",
          "text": [
            "🔁 Extracting: 100%|██████████| 1319/1319 [00:01<00:00, 794.40it/s]\n"
          ]
        },
        {
          "name": "stdout",
          "output_type": "stream",
          "text": [
            "\n",
            "🎲 Random Set 138/1000: [(1, 8), (8, 7), (2, 1), (10, 5), (1, 1), (11, 6), (5, 3), (11, 11), (0, 7), (0, 9)]\n"
          ]
        },
        {
          "name": "stderr",
          "output_type": "stream",
          "text": [
            "🔁 Extracting: 100%|██████████| 1319/1319 [00:01<00:00, 773.41it/s]\n"
          ]
        },
        {
          "name": "stdout",
          "output_type": "stream",
          "text": [
            "\n",
            "🎲 Random Set 139/1000: [(7, 3), (4, 3), (11, 0), (1, 0), (7, 10), (3, 10), (7, 5), (3, 3), (2, 0), (4, 7)]\n"
          ]
        },
        {
          "name": "stderr",
          "output_type": "stream",
          "text": [
            "🔁 Extracting: 100%|██████████| 1319/1319 [00:01<00:00, 760.88it/s]\n"
          ]
        },
        {
          "name": "stdout",
          "output_type": "stream",
          "text": [
            "\n",
            "🎲 Random Set 140/1000: [(5, 3), (0, 2), (3, 0), (10, 1), (0, 1), (6, 7), (2, 6), (4, 5), (0, 10), (0, 8)]\n"
          ]
        },
        {
          "name": "stderr",
          "output_type": "stream",
          "text": [
            "🔁 Extracting: 100%|██████████| 1319/1319 [00:01<00:00, 788.76it/s]\n"
          ]
        },
        {
          "name": "stdout",
          "output_type": "stream",
          "text": [
            "\n",
            "🎲 Random Set 141/1000: [(8, 3), (2, 2), (9, 3), (2, 4), (7, 5), (7, 1), (1, 6), (2, 0), (7, 9), (2, 11)]\n"
          ]
        },
        {
          "name": "stderr",
          "output_type": "stream",
          "text": [
            "🔁 Extracting: 100%|██████████| 1319/1319 [00:01<00:00, 785.79it/s]\n"
          ]
        },
        {
          "name": "stdout",
          "output_type": "stream",
          "text": [
            "\n",
            "🎲 Random Set 142/1000: [(10, 5), (8, 3), (4, 1), (7, 8), (3, 4), (1, 6), (10, 6), (10, 10), (9, 11), (7, 6)]\n"
          ]
        },
        {
          "name": "stderr",
          "output_type": "stream",
          "text": [
            "🔁 Extracting: 100%|██████████| 1319/1319 [00:01<00:00, 787.19it/s]\n"
          ]
        },
        {
          "name": "stdout",
          "output_type": "stream",
          "text": [
            "\n",
            "🎲 Random Set 143/1000: [(0, 1), (3, 8), (3, 7), (4, 0), (0, 4), (0, 11), (8, 5), (1, 9), (6, 4), (2, 2)]\n"
          ]
        },
        {
          "name": "stderr",
          "output_type": "stream",
          "text": [
            "🔁 Extracting: 100%|██████████| 1319/1319 [00:01<00:00, 801.49it/s]\n"
          ]
        },
        {
          "name": "stdout",
          "output_type": "stream",
          "text": [
            "\n",
            "🎲 Random Set 144/1000: [(4, 1), (4, 10), (8, 8), (3, 9), (4, 2), (4, 9), (11, 9), (1, 6), (0, 3), (6, 3)]\n"
          ]
        },
        {
          "name": "stderr",
          "output_type": "stream",
          "text": [
            "🔁 Extracting: 100%|██████████| 1319/1319 [00:01<00:00, 793.10it/s]\n"
          ]
        },
        {
          "name": "stdout",
          "output_type": "stream",
          "text": [
            "\n",
            "🎲 Random Set 145/1000: [(3, 8), (6, 8), (10, 2), (7, 4), (1, 0), (9, 7), (2, 10), (7, 9), (11, 2), (7, 11)]\n"
          ]
        },
        {
          "name": "stderr",
          "output_type": "stream",
          "text": [
            "🔁 Extracting: 100%|██████████| 1319/1319 [00:01<00:00, 777.01it/s]\n"
          ]
        },
        {
          "name": "stdout",
          "output_type": "stream",
          "text": [
            "\n",
            "🎲 Random Set 146/1000: [(8, 11), (6, 9), (10, 6), (3, 1), (2, 10), (5, 4), (11, 5), (2, 9), (10, 4), (8, 1)]\n"
          ]
        },
        {
          "name": "stderr",
          "output_type": "stream",
          "text": [
            "🔁 Extracting: 100%|██████████| 1319/1319 [00:01<00:00, 777.38it/s]\n"
          ]
        },
        {
          "name": "stdout",
          "output_type": "stream",
          "text": [
            "\n",
            "🎲 Random Set 147/1000: [(4, 9), (4, 3), (11, 3), (5, 0), (9, 9), (11, 5), (0, 2), (10, 5), (0, 6), (3, 4)]\n"
          ]
        },
        {
          "name": "stderr",
          "output_type": "stream",
          "text": [
            "🔁 Extracting: 100%|██████████| 1319/1319 [00:01<00:00, 798.64it/s]\n"
          ]
        },
        {
          "name": "stdout",
          "output_type": "stream",
          "text": [
            "\n",
            "🎲 Random Set 148/1000: [(2, 8), (10, 4), (3, 7), (6, 6), (9, 0), (1, 10), (0, 0), (9, 9), (4, 2), (6, 11)]\n"
          ]
        },
        {
          "name": "stderr",
          "output_type": "stream",
          "text": [
            "🔁 Extracting: 100%|██████████| 1319/1319 [00:01<00:00, 810.29it/s]\n"
          ]
        },
        {
          "name": "stdout",
          "output_type": "stream",
          "text": [
            "\n",
            "🎲 Random Set 149/1000: [(1, 4), (5, 4), (5, 8), (6, 10), (6, 2), (7, 7), (7, 1), (10, 3), (8, 3), (4, 9)]\n"
          ]
        },
        {
          "name": "stderr",
          "output_type": "stream",
          "text": [
            "🔁 Extracting: 100%|██████████| 1319/1319 [00:01<00:00, 811.16it/s]\n"
          ]
        },
        {
          "name": "stdout",
          "output_type": "stream",
          "text": [
            "\n",
            "🎲 Random Set 150/1000: [(2, 2), (0, 11), (4, 6), (0, 4), (8, 6), (7, 9), (6, 6), (4, 9), (8, 8), (3, 9)]\n"
          ]
        },
        {
          "name": "stderr",
          "output_type": "stream",
          "text": [
            "🔁 Extracting: 100%|██████████| 1319/1319 [00:01<00:00, 813.43it/s]\n"
          ]
        },
        {
          "name": "stdout",
          "output_type": "stream",
          "text": [
            "\n",
            "🎲 Random Set 151/1000: [(10, 11), (9, 3), (6, 10), (8, 5), (2, 8), (11, 0), (6, 9), (1, 8), (0, 0), (5, 7)]\n"
          ]
        },
        {
          "name": "stderr",
          "output_type": "stream",
          "text": [
            "🔁 Extracting: 100%|██████████| 1319/1319 [00:01<00:00, 807.58it/s]\n"
          ]
        },
        {
          "name": "stdout",
          "output_type": "stream",
          "text": [
            "\n",
            "🎲 Random Set 152/1000: [(9, 2), (6, 7), (1, 3), (7, 9), (11, 11), (6, 8), (3, 7), (10, 0), (11, 10), (2, 6)]\n"
          ]
        },
        {
          "name": "stderr",
          "output_type": "stream",
          "text": [
            "🔁 Extracting: 100%|██████████| 1319/1319 [00:02<00:00, 582.27it/s]\n"
          ]
        },
        {
          "name": "stdout",
          "output_type": "stream",
          "text": [
            "\n",
            "🎲 Random Set 153/1000: [(10, 5), (0, 2), (10, 1), (7, 5), (6, 4), (11, 4), (9, 5), (2, 11), (11, 5), (8, 4)]\n"
          ]
        },
        {
          "name": "stderr",
          "output_type": "stream",
          "text": [
            "🔁 Extracting: 100%|██████████| 1319/1319 [00:01<00:00, 788.18it/s]\n"
          ]
        },
        {
          "name": "stdout",
          "output_type": "stream",
          "text": [
            "\n",
            "🎲 Random Set 154/1000: [(1, 5), (9, 1), (2, 4), (4, 2), (2, 3), (5, 10), (8, 4), (5, 7), (3, 9), (11, 9)]\n"
          ]
        },
        {
          "name": "stderr",
          "output_type": "stream",
          "text": [
            "🔁 Extracting: 100%|██████████| 1319/1319 [00:01<00:00, 791.28it/s]\n"
          ]
        },
        {
          "name": "stdout",
          "output_type": "stream",
          "text": [
            "\n",
            "🎲 Random Set 155/1000: [(10, 10), (5, 5), (2, 11), (2, 6), (3, 1), (9, 2), (1, 7), (0, 2), (7, 2), (4, 6)]\n"
          ]
        },
        {
          "name": "stderr",
          "output_type": "stream",
          "text": [
            "🔁 Extracting: 100%|██████████| 1319/1319 [00:01<00:00, 780.87it/s]\n"
          ]
        },
        {
          "name": "stdout",
          "output_type": "stream",
          "text": [
            "\n",
            "🎲 Random Set 156/1000: [(4, 7), (1, 0), (1, 8), (1, 1), (7, 7), (5, 8), (4, 9), (4, 10), (6, 9), (10, 8)]\n"
          ]
        },
        {
          "name": "stderr",
          "output_type": "stream",
          "text": [
            "🔁 Extracting: 100%|██████████| 1319/1319 [00:01<00:00, 792.02it/s]\n"
          ]
        },
        {
          "name": "stdout",
          "output_type": "stream",
          "text": [
            "\n",
            "🎲 Random Set 157/1000: [(8, 7), (0, 8), (7, 0), (8, 11), (5, 5), (8, 5), (0, 3), (11, 4), (2, 11), (0, 2)]\n"
          ]
        },
        {
          "name": "stderr",
          "output_type": "stream",
          "text": [
            "🔁 Extracting: 100%|██████████| 1319/1319 [00:01<00:00, 801.74it/s]\n"
          ]
        },
        {
          "name": "stdout",
          "output_type": "stream",
          "text": [
            "\n",
            "🎲 Random Set 158/1000: [(7, 4), (0, 7), (8, 3), (5, 9), (9, 2), (11, 5), (3, 3), (4, 10), (1, 7), (6, 6)]\n"
          ]
        },
        {
          "name": "stderr",
          "output_type": "stream",
          "text": [
            "🔁 Extracting: 100%|██████████| 1319/1319 [00:01<00:00, 762.45it/s]\n"
          ]
        },
        {
          "name": "stdout",
          "output_type": "stream",
          "text": [
            "\n",
            "🎲 Random Set 159/1000: [(10, 11), (9, 4), (3, 6), (1, 11), (2, 0), (8, 11), (0, 7), (11, 2), (3, 8), (6, 10)]\n"
          ]
        },
        {
          "name": "stderr",
          "output_type": "stream",
          "text": [
            "🔁 Extracting: 100%|██████████| 1319/1319 [00:01<00:00, 791.82it/s]\n"
          ]
        },
        {
          "name": "stdout",
          "output_type": "stream",
          "text": [
            "\n",
            "🎲 Random Set 160/1000: [(3, 0), (10, 9), (2, 11), (1, 5), (10, 1), (11, 3), (4, 2), (2, 10), (1, 0), (1, 11)]\n"
          ]
        },
        {
          "name": "stderr",
          "output_type": "stream",
          "text": [
            "🔁 Extracting: 100%|██████████| 1319/1319 [00:01<00:00, 804.63it/s]\n"
          ]
        },
        {
          "name": "stdout",
          "output_type": "stream",
          "text": [
            "\n",
            "🎲 Random Set 161/1000: [(11, 1), (2, 11), (6, 10), (9, 11), (6, 8), (9, 10), (0, 0), (1, 10), (9, 2), (6, 0)]\n"
          ]
        },
        {
          "name": "stderr",
          "output_type": "stream",
          "text": [
            "🔁 Extracting: 100%|██████████| 1319/1319 [00:01<00:00, 806.27it/s]\n"
          ]
        },
        {
          "name": "stdout",
          "output_type": "stream",
          "text": [
            "\n",
            "🎲 Random Set 162/1000: [(1, 7), (1, 4), (8, 5), (8, 6), (8, 8), (5, 6), (7, 10), (4, 10), (2, 4), (5, 5)]\n"
          ]
        },
        {
          "name": "stderr",
          "output_type": "stream",
          "text": [
            "🔁 Extracting: 100%|██████████| 1319/1319 [00:01<00:00, 808.40it/s]\n"
          ]
        },
        {
          "name": "stdout",
          "output_type": "stream",
          "text": [
            "\n",
            "🎲 Random Set 163/1000: [(0, 0), (9, 5), (10, 5), (4, 3), (2, 6), (8, 9), (0, 3), (2, 8), (0, 9), (9, 3)]\n"
          ]
        },
        {
          "name": "stderr",
          "output_type": "stream",
          "text": [
            "🔁 Extracting: 100%|██████████| 1319/1319 [00:01<00:00, 797.14it/s]\n"
          ]
        },
        {
          "name": "stdout",
          "output_type": "stream",
          "text": [
            "\n",
            "🎲 Random Set 164/1000: [(6, 8), (6, 6), (9, 8), (6, 7), (4, 1), (3, 0), (2, 6), (1, 9), (9, 10), (8, 6)]\n"
          ]
        },
        {
          "name": "stderr",
          "output_type": "stream",
          "text": [
            "🔁 Extracting: 100%|██████████| 1319/1319 [00:01<00:00, 795.79it/s]\n"
          ]
        },
        {
          "name": "stdout",
          "output_type": "stream",
          "text": [
            "\n",
            "🎲 Random Set 165/1000: [(1, 2), (5, 10), (0, 2), (4, 1), (8, 6), (9, 10), (1, 8), (8, 8), (11, 7), (8, 9)]\n"
          ]
        },
        {
          "name": "stderr",
          "output_type": "stream",
          "text": [
            "🔁 Extracting: 100%|██████████| 1319/1319 [00:01<00:00, 770.68it/s]\n"
          ]
        },
        {
          "name": "stdout",
          "output_type": "stream",
          "text": [
            "\n",
            "🎲 Random Set 166/1000: [(8, 5), (0, 8), (5, 3), (4, 9), (10, 4), (5, 11), (8, 11), (0, 6), (1, 6), (7, 8)]\n"
          ]
        },
        {
          "name": "stderr",
          "output_type": "stream",
          "text": [
            "🔁 Extracting: 100%|██████████| 1319/1319 [00:01<00:00, 772.65it/s]\n"
          ]
        },
        {
          "name": "stdout",
          "output_type": "stream",
          "text": [
            "\n",
            "🎲 Random Set 167/1000: [(6, 7), (7, 0), (7, 9), (7, 7), (7, 2), (6, 5), (1, 9), (2, 4), (9, 3), (3, 4)]\n"
          ]
        },
        {
          "name": "stderr",
          "output_type": "stream",
          "text": [
            "🔁 Extracting: 100%|██████████| 1319/1319 [00:01<00:00, 801.77it/s]\n"
          ]
        },
        {
          "name": "stdout",
          "output_type": "stream",
          "text": [
            "\n",
            "🎲 Random Set 168/1000: [(8, 11), (6, 4), (9, 2), (2, 3), (5, 1), (4, 11), (5, 6), (6, 8), (10, 2), (6, 6)]\n"
          ]
        },
        {
          "name": "stderr",
          "output_type": "stream",
          "text": [
            "🔁 Extracting: 100%|██████████| 1319/1319 [00:01<00:00, 802.38it/s]\n"
          ]
        },
        {
          "name": "stdout",
          "output_type": "stream",
          "text": [
            "\n",
            "🎲 Random Set 169/1000: [(6, 9), (4, 9), (2, 2), (8, 9), (2, 11), (2, 1), (5, 5), (11, 8), (9, 6), (7, 8)]\n"
          ]
        },
        {
          "name": "stderr",
          "output_type": "stream",
          "text": [
            "🔁 Extracting: 100%|██████████| 1319/1319 [00:01<00:00, 808.82it/s]\n"
          ]
        },
        {
          "name": "stdout",
          "output_type": "stream",
          "text": [
            "\n",
            "🎲 Random Set 170/1000: [(10, 11), (10, 0), (10, 7), (3, 3), (9, 7), (4, 5), (6, 11), (3, 4), (2, 9), (1, 5)]\n"
          ]
        },
        {
          "name": "stderr",
          "output_type": "stream",
          "text": [
            "🔁 Extracting: 100%|██████████| 1319/1319 [00:01<00:00, 806.23it/s]\n"
          ]
        },
        {
          "name": "stdout",
          "output_type": "stream",
          "text": [
            "\n",
            "🎲 Random Set 171/1000: [(7, 5), (10, 6), (9, 9), (3, 7), (0, 11), (5, 1), (10, 3), (7, 3), (1, 0), (3, 9)]\n"
          ]
        },
        {
          "name": "stderr",
          "output_type": "stream",
          "text": [
            "🔁 Extracting: 100%|██████████| 1319/1319 [00:01<00:00, 793.07it/s]\n"
          ]
        },
        {
          "name": "stdout",
          "output_type": "stream",
          "text": [
            "\n",
            "🎲 Random Set 172/1000: [(9, 9), (5, 10), (4, 10), (9, 3), (0, 10), (8, 11), (4, 1), (9, 7), (6, 2), (9, 6)]\n"
          ]
        },
        {
          "name": "stderr",
          "output_type": "stream",
          "text": [
            "🔁 Extracting: 100%|██████████| 1319/1319 [00:01<00:00, 769.15it/s]\n"
          ]
        },
        {
          "name": "stdout",
          "output_type": "stream",
          "text": [
            "\n",
            "🎲 Random Set 173/1000: [(6, 9), (6, 3), (7, 3), (7, 8), (5, 11), (2, 0), (7, 7), (4, 3), (4, 6), (9, 6)]\n"
          ]
        },
        {
          "name": "stderr",
          "output_type": "stream",
          "text": [
            "🔁 Extracting: 100%|██████████| 1319/1319 [00:01<00:00, 770.09it/s]\n"
          ]
        },
        {
          "name": "stdout",
          "output_type": "stream",
          "text": [
            "\n",
            "🎲 Random Set 174/1000: [(8, 2), (10, 8), (2, 9), (5, 1), (3, 10), (11, 0), (7, 0), (1, 6), (1, 10), (2, 2)]\n"
          ]
        },
        {
          "name": "stderr",
          "output_type": "stream",
          "text": [
            "🔁 Extracting: 100%|██████████| 1319/1319 [00:01<00:00, 788.41it/s]\n"
          ]
        },
        {
          "name": "stdout",
          "output_type": "stream",
          "text": [
            "\n",
            "🎲 Random Set 175/1000: [(6, 6), (1, 0), (4, 10), (11, 9), (4, 9), (2, 2), (1, 4), (6, 5), (6, 4), (10, 4)]\n"
          ]
        },
        {
          "name": "stderr",
          "output_type": "stream",
          "text": [
            "🔁 Extracting: 100%|██████████| 1319/1319 [00:01<00:00, 793.83it/s]\n"
          ]
        },
        {
          "name": "stdout",
          "output_type": "stream",
          "text": [
            "\n",
            "🎲 Random Set 176/1000: [(9, 3), (3, 11), (3, 2), (2, 10), (5, 5), (10, 1), (9, 1), (5, 11), (6, 10), (9, 9)]\n"
          ]
        },
        {
          "name": "stderr",
          "output_type": "stream",
          "text": [
            "🔁 Extracting: 100%|██████████| 1319/1319 [00:01<00:00, 794.24it/s]\n"
          ]
        },
        {
          "name": "stdout",
          "output_type": "stream",
          "text": [
            "\n",
            "🎲 Random Set 177/1000: [(9, 2), (3, 9), (11, 4), (8, 10), (2, 0), (10, 4), (7, 11), (10, 11), (6, 10), (8, 7)]\n"
          ]
        },
        {
          "name": "stderr",
          "output_type": "stream",
          "text": [
            "🔁 Extracting: 100%|██████████| 1319/1319 [00:01<00:00, 794.84it/s]\n"
          ]
        },
        {
          "name": "stdout",
          "output_type": "stream",
          "text": [
            "\n",
            "🎲 Random Set 178/1000: [(7, 0), (10, 7), (10, 0), (2, 1), (1, 5), (2, 5), (8, 2), (6, 6), (5, 7), (8, 7)]\n"
          ]
        },
        {
          "name": "stderr",
          "output_type": "stream",
          "text": [
            "🔁 Extracting: 100%|██████████| 1319/1319 [00:01<00:00, 792.35it/s]\n"
          ]
        },
        {
          "name": "stdout",
          "output_type": "stream",
          "text": [
            "\n",
            "🎲 Random Set 179/1000: [(5, 8), (6, 6), (4, 7), (6, 9), (6, 11), (11, 0), (11, 5), (5, 4), (9, 10), (2, 8)]\n"
          ]
        },
        {
          "name": "stderr",
          "output_type": "stream",
          "text": [
            "🔁 Extracting: 100%|██████████| 1319/1319 [00:01<00:00, 770.44it/s]\n"
          ]
        },
        {
          "name": "stdout",
          "output_type": "stream",
          "text": [
            "\n",
            "🎲 Random Set 180/1000: [(4, 4), (2, 0), (6, 1), (9, 1), (1, 6), (2, 7), (4, 3), (6, 7), (7, 8), (5, 9)]\n"
          ]
        },
        {
          "name": "stderr",
          "output_type": "stream",
          "text": [
            "🔁 Extracting: 100%|██████████| 1319/1319 [00:01<00:00, 797.19it/s]\n"
          ]
        },
        {
          "name": "stdout",
          "output_type": "stream",
          "text": [
            "\n",
            "🎲 Random Set 181/1000: [(4, 2), (11, 9), (8, 8), (9, 1), (2, 0), (6, 0), (5, 2), (1, 4), (10, 0), (7, 4)]\n"
          ]
        },
        {
          "name": "stderr",
          "output_type": "stream",
          "text": [
            "🔁 Extracting: 100%|██████████| 1319/1319 [00:01<00:00, 796.26it/s]\n"
          ]
        },
        {
          "name": "stdout",
          "output_type": "stream",
          "text": [
            "\n",
            "🎲 Random Set 182/1000: [(11, 4), (6, 1), (2, 8), (9, 5), (8, 4), (6, 9), (7, 11), (6, 8), (9, 6), (5, 8)]\n"
          ]
        },
        {
          "name": "stderr",
          "output_type": "stream",
          "text": [
            "🔁 Extracting: 100%|██████████| 1319/1319 [00:01<00:00, 778.46it/s]\n"
          ]
        },
        {
          "name": "stdout",
          "output_type": "stream",
          "text": [
            "\n",
            "🎲 Random Set 183/1000: [(5, 4), (1, 3), (6, 9), (8, 9), (2, 5), (7, 2), (5, 3), (0, 6), (0, 5), (0, 1)]\n"
          ]
        },
        {
          "name": "stderr",
          "output_type": "stream",
          "text": [
            "🔁 Extracting: 100%|██████████| 1319/1319 [00:01<00:00, 798.31it/s]\n"
          ]
        },
        {
          "name": "stdout",
          "output_type": "stream",
          "text": [
            "\n",
            "🎲 Random Set 184/1000: [(9, 2), (5, 10), (0, 1), (0, 2), (0, 5), (11, 7), (6, 5), (10, 10), (2, 2), (10, 3)]\n"
          ]
        },
        {
          "name": "stderr",
          "output_type": "stream",
          "text": [
            "🔁 Extracting: 100%|██████████| 1319/1319 [00:01<00:00, 796.73it/s]\n"
          ]
        },
        {
          "name": "stdout",
          "output_type": "stream",
          "text": [
            "\n",
            "🎲 Random Set 185/1000: [(8, 1), (1, 8), (5, 2), (3, 0), (5, 4), (9, 10), (7, 5), (1, 11), (5, 3), (5, 7)]\n"
          ]
        },
        {
          "name": "stderr",
          "output_type": "stream",
          "text": [
            "🔁 Extracting: 100%|██████████| 1319/1319 [00:01<00:00, 786.93it/s]\n"
          ]
        },
        {
          "name": "stdout",
          "output_type": "stream",
          "text": [
            "\n",
            "🎲 Random Set 186/1000: [(8, 11), (0, 10), (2, 10), (0, 6), (4, 10), (1, 0), (10, 9), (2, 9), (1, 9), (1, 11)]\n"
          ]
        },
        {
          "name": "stderr",
          "output_type": "stream",
          "text": [
            "🔁 Extracting: 100%|██████████| 1319/1319 [00:01<00:00, 750.09it/s]\n"
          ]
        },
        {
          "name": "stdout",
          "output_type": "stream",
          "text": [
            "\n",
            "🎲 Random Set 187/1000: [(10, 9), (0, 10), (0, 1), (3, 9), (7, 3), (2, 11), (11, 11), (10, 10), (4, 0), (1, 1)]\n"
          ]
        },
        {
          "name": "stderr",
          "output_type": "stream",
          "text": [
            "🔁 Extracting: 100%|██████████| 1319/1319 [00:01<00:00, 809.59it/s]\n"
          ]
        },
        {
          "name": "stdout",
          "output_type": "stream",
          "text": [
            "\n",
            "🎲 Random Set 188/1000: [(0, 7), (10, 5), (6, 0), (7, 8), (7, 6), (3, 11), (1, 10), (10, 8), (3, 0), (5, 6)]\n"
          ]
        },
        {
          "name": "stderr",
          "output_type": "stream",
          "text": [
            "🔁 Extracting: 100%|██████████| 1319/1319 [00:01<00:00, 792.59it/s]\n"
          ]
        },
        {
          "name": "stdout",
          "output_type": "stream",
          "text": [
            "\n",
            "🎲 Random Set 189/1000: [(7, 4), (11, 7), (8, 8), (11, 4), (10, 3), (8, 3), (2, 2), (11, 3), (10, 4), (6, 2)]\n"
          ]
        },
        {
          "name": "stderr",
          "output_type": "stream",
          "text": [
            "🔁 Extracting: 100%|██████████| 1319/1319 [00:01<00:00, 791.26it/s]\n"
          ]
        },
        {
          "name": "stdout",
          "output_type": "stream",
          "text": [
            "\n",
            "🎲 Random Set 190/1000: [(0, 11), (7, 7), (10, 10), (5, 8), (8, 6), (6, 9), (4, 10), (6, 8), (0, 6), (5, 0)]\n"
          ]
        },
        {
          "name": "stderr",
          "output_type": "stream",
          "text": [
            "🔁 Extracting: 100%|██████████| 1319/1319 [00:01<00:00, 807.88it/s]\n"
          ]
        },
        {
          "name": "stdout",
          "output_type": "stream",
          "text": [
            "\n",
            "🎲 Random Set 191/1000: [(3, 10), (10, 0), (6, 9), (6, 10), (3, 4), (6, 0), (9, 10), (1, 4), (10, 2), (0, 0)]\n"
          ]
        },
        {
          "name": "stderr",
          "output_type": "stream",
          "text": [
            "🔁 Extracting: 100%|██████████| 1319/1319 [00:01<00:00, 778.85it/s]\n"
          ]
        },
        {
          "name": "stdout",
          "output_type": "stream",
          "text": [
            "\n",
            "🎲 Random Set 192/1000: [(11, 1), (8, 2), (8, 9), (5, 11), (11, 4), (1, 0), (10, 6), (10, 4), (1, 5), (2, 0)]\n"
          ]
        },
        {
          "name": "stderr",
          "output_type": "stream",
          "text": [
            "🔁 Extracting: 100%|██████████| 1319/1319 [00:01<00:00, 774.83it/s]\n"
          ]
        },
        {
          "name": "stdout",
          "output_type": "stream",
          "text": [
            "\n",
            "🎲 Random Set 193/1000: [(9, 4), (5, 7), (5, 1), (0, 10), (0, 9), (10, 7), (5, 6), (11, 3), (9, 2), (9, 6)]\n"
          ]
        },
        {
          "name": "stderr",
          "output_type": "stream",
          "text": [
            "🔁 Extracting: 100%|██████████| 1319/1319 [00:01<00:00, 771.53it/s]\n"
          ]
        },
        {
          "name": "stdout",
          "output_type": "stream",
          "text": [
            "\n",
            "🎲 Random Set 194/1000: [(9, 8), (9, 5), (5, 0), (7, 4), (5, 11), (10, 5), (6, 7), (3, 2), (4, 3), (10, 3)]\n"
          ]
        },
        {
          "name": "stderr",
          "output_type": "stream",
          "text": [
            "🔁 Extracting: 100%|██████████| 1319/1319 [00:01<00:00, 788.81it/s]\n"
          ]
        },
        {
          "name": "stdout",
          "output_type": "stream",
          "text": [
            "\n",
            "🎲 Random Set 195/1000: [(9, 9), (8, 7), (6, 11), (1, 11), (7, 5), (7, 9), (9, 5), (11, 10), (11, 4), (4, 11)]\n"
          ]
        },
        {
          "name": "stderr",
          "output_type": "stream",
          "text": [
            "🔁 Extracting: 100%|██████████| 1319/1319 [00:01<00:00, 805.28it/s]\n"
          ]
        },
        {
          "name": "stdout",
          "output_type": "stream",
          "text": [
            "\n",
            "🎲 Random Set 196/1000: [(11, 11), (4, 8), (6, 6), (0, 8), (9, 7), (8, 2), (6, 3), (3, 0), (0, 2), (8, 4)]\n"
          ]
        },
        {
          "name": "stderr",
          "output_type": "stream",
          "text": [
            "🔁 Extracting: 100%|██████████| 1319/1319 [00:01<00:00, 807.32it/s]\n"
          ]
        },
        {
          "name": "stdout",
          "output_type": "stream",
          "text": [
            "\n",
            "🎲 Random Set 197/1000: [(0, 9), (10, 11), (4, 8), (10, 3), (3, 11), (6, 5), (10, 7), (6, 7), (1, 3), (4, 2)]\n"
          ]
        },
        {
          "name": "stderr",
          "output_type": "stream",
          "text": [
            "🔁 Extracting: 100%|██████████| 1319/1319 [00:01<00:00, 809.96it/s]\n"
          ]
        },
        {
          "name": "stdout",
          "output_type": "stream",
          "text": [
            "\n",
            "🎲 Random Set 198/1000: [(3, 10), (4, 3), (10, 1), (4, 8), (5, 7), (9, 7), (10, 7), (11, 5), (3, 6), (11, 9)]\n"
          ]
        },
        {
          "name": "stderr",
          "output_type": "stream",
          "text": [
            "🔁 Extracting: 100%|██████████| 1319/1319 [00:01<00:00, 803.98it/s]\n"
          ]
        },
        {
          "name": "stdout",
          "output_type": "stream",
          "text": [
            "\n",
            "🎲 Random Set 199/1000: [(11, 9), (3, 4), (0, 6), (2, 9), (8, 5), (5, 10), (2, 11), (11, 5), (9, 0), (3, 9)]\n"
          ]
        },
        {
          "name": "stderr",
          "output_type": "stream",
          "text": [
            "🔁 Extracting: 100%|██████████| 1319/1319 [00:01<00:00, 774.70it/s]\n"
          ]
        },
        {
          "name": "stdout",
          "output_type": "stream",
          "text": [
            "\n",
            "🎲 Random Set 200/1000: [(3, 7), (10, 10), (5, 7), (1, 8), (8, 4), (0, 3), (10, 4), (9, 1), (1, 4), (2, 9)]\n"
          ]
        },
        {
          "name": "stderr",
          "output_type": "stream",
          "text": [
            "🔁 Extracting: 100%|██████████| 1319/1319 [00:01<00:00, 763.37it/s]\n"
          ]
        },
        {
          "name": "stdout",
          "output_type": "stream",
          "text": [
            "\n",
            "🎲 Random Set 201/1000: [(11, 8), (6, 5), (8, 5), (0, 8), (7, 1), (8, 0), (7, 10), (10, 0), (11, 11), (2, 1)]\n"
          ]
        },
        {
          "name": "stderr",
          "output_type": "stream",
          "text": [
            "🔁 Extracting: 100%|██████████| 1319/1319 [00:01<00:00, 803.17it/s]\n"
          ]
        },
        {
          "name": "stdout",
          "output_type": "stream",
          "text": [
            "\n",
            "🎲 Random Set 202/1000: [(0, 1), (10, 11), (0, 7), (5, 1), (8, 1), (6, 7), (1, 5), (1, 10), (11, 1), (4, 6)]\n"
          ]
        },
        {
          "name": "stderr",
          "output_type": "stream",
          "text": [
            "🔁 Extracting: 100%|██████████| 1319/1319 [00:01<00:00, 807.15it/s]\n"
          ]
        },
        {
          "name": "stdout",
          "output_type": "stream",
          "text": [
            "\n",
            "🎲 Random Set 203/1000: [(10, 6), (3, 6), (6, 0), (4, 3), (1, 9), (3, 2), (7, 1), (6, 9), (9, 5), (8, 10)]\n"
          ]
        },
        {
          "name": "stderr",
          "output_type": "stream",
          "text": [
            "🔁 Extracting: 100%|██████████| 1319/1319 [00:01<00:00, 809.31it/s]\n"
          ]
        },
        {
          "name": "stdout",
          "output_type": "stream",
          "text": [
            "\n",
            "🎲 Random Set 204/1000: [(10, 9), (2, 1), (7, 1), (1, 10), (7, 5), (7, 11), (6, 7), (7, 0), (10, 0), (2, 9)]\n"
          ]
        },
        {
          "name": "stderr",
          "output_type": "stream",
          "text": [
            "🔁 Extracting: 100%|██████████| 1319/1319 [00:01<00:00, 808.19it/s]\n"
          ]
        },
        {
          "name": "stdout",
          "output_type": "stream",
          "text": [
            "\n",
            "🎲 Random Set 205/1000: [(11, 5), (0, 11), (0, 7), (9, 4), (10, 1), (6, 1), (1, 10), (10, 9), (8, 0), (10, 2)]\n"
          ]
        },
        {
          "name": "stderr",
          "output_type": "stream",
          "text": [
            "🔁 Extracting: 100%|██████████| 1319/1319 [00:01<00:00, 801.88it/s]\n"
          ]
        },
        {
          "name": "stdout",
          "output_type": "stream",
          "text": [
            "\n",
            "🎲 Random Set 206/1000: [(5, 6), (1, 7), (9, 7), (2, 11), (11, 7), (0, 1), (7, 9), (9, 3), (0, 4), (6, 5)]\n"
          ]
        },
        {
          "name": "stderr",
          "output_type": "stream",
          "text": [
            "🔁 Extracting: 100%|██████████| 1319/1319 [00:01<00:00, 782.85it/s]\n"
          ]
        },
        {
          "name": "stdout",
          "output_type": "stream",
          "text": [
            "\n",
            "🎲 Random Set 207/1000: [(0, 11), (7, 11), (2, 7), (10, 1), (5, 11), (10, 10), (2, 3), (8, 8), (3, 7), (6, 11)]\n"
          ]
        },
        {
          "name": "stderr",
          "output_type": "stream",
          "text": [
            "🔁 Extracting: 100%|██████████| 1319/1319 [00:01<00:00, 801.05it/s]\n"
          ]
        },
        {
          "name": "stdout",
          "output_type": "stream",
          "text": [
            "\n",
            "🎲 Random Set 208/1000: [(2, 7), (6, 2), (11, 7), (8, 11), (11, 11), (3, 7), (3, 6), (11, 8), (10, 0), (7, 1)]\n"
          ]
        },
        {
          "name": "stderr",
          "output_type": "stream",
          "text": [
            "🔁 Extracting: 100%|██████████| 1319/1319 [00:01<00:00, 794.74it/s]\n"
          ]
        },
        {
          "name": "stdout",
          "output_type": "stream",
          "text": [
            "\n",
            "🎲 Random Set 209/1000: [(10, 3), (0, 10), (0, 4), (8, 0), (9, 9), (5, 4), (8, 1), (7, 0), (10, 6), (8, 8)]\n"
          ]
        },
        {
          "name": "stderr",
          "output_type": "stream",
          "text": [
            "🔁 Extracting: 100%|██████████| 1319/1319 [00:01<00:00, 803.08it/s]\n"
          ]
        },
        {
          "name": "stdout",
          "output_type": "stream",
          "text": [
            "\n",
            "🎲 Random Set 210/1000: [(11, 4), (10, 0), (5, 8), (1, 7), (1, 11), (3, 8), (0, 0), (6, 9), (2, 7), (6, 1)]\n"
          ]
        },
        {
          "name": "stderr",
          "output_type": "stream",
          "text": [
            "🔁 Extracting: 100%|██████████| 1319/1319 [00:01<00:00, 807.60it/s]\n"
          ]
        },
        {
          "name": "stdout",
          "output_type": "stream",
          "text": [
            "\n",
            "🎲 Random Set 211/1000: [(5, 3), (10, 7), (1, 4), (7, 0), (9, 2), (7, 7), (5, 0), (4, 8), (7, 4), (6, 1)]\n"
          ]
        },
        {
          "name": "stderr",
          "output_type": "stream",
          "text": [
            "🔁 Extracting: 100%|██████████| 1319/1319 [00:01<00:00, 797.90it/s]\n"
          ]
        },
        {
          "name": "stdout",
          "output_type": "stream",
          "text": [
            "\n",
            "🎲 Random Set 212/1000: [(7, 9), (0, 11), (8, 9), (5, 0), (4, 11), (4, 4), (6, 1), (6, 8), (11, 3), (3, 9)]\n"
          ]
        },
        {
          "name": "stderr",
          "output_type": "stream",
          "text": [
            "🔁 Extracting: 100%|██████████| 1319/1319 [00:01<00:00, 785.05it/s]\n"
          ]
        },
        {
          "name": "stdout",
          "output_type": "stream",
          "text": [
            "\n",
            "🎲 Random Set 213/1000: [(4, 11), (6, 7), (10, 5), (0, 2), (7, 1), (6, 3), (2, 9), (11, 6), (2, 2), (10, 10)]\n"
          ]
        },
        {
          "name": "stderr",
          "output_type": "stream",
          "text": [
            "🔁 Extracting: 100%|██████████| 1319/1319 [00:01<00:00, 769.99it/s]\n"
          ]
        },
        {
          "name": "stdout",
          "output_type": "stream",
          "text": [
            "\n",
            "🎲 Random Set 214/1000: [(3, 5), (5, 8), (10, 1), (0, 4), (1, 6), (0, 7), (2, 10), (4, 0), (8, 3), (8, 8)]\n"
          ]
        },
        {
          "name": "stderr",
          "output_type": "stream",
          "text": [
            "🔁 Extracting: 100%|██████████| 1319/1319 [00:01<00:00, 782.44it/s]\n"
          ]
        },
        {
          "name": "stdout",
          "output_type": "stream",
          "text": [
            "\n",
            "🎲 Random Set 215/1000: [(2, 10), (5, 3), (10, 10), (2, 0), (5, 5), (0, 4), (6, 0), (10, 8), (0, 9), (3, 5)]\n"
          ]
        },
        {
          "name": "stderr",
          "output_type": "stream",
          "text": [
            "🔁 Extracting: 100%|██████████| 1319/1319 [00:01<00:00, 794.21it/s]\n"
          ]
        },
        {
          "name": "stdout",
          "output_type": "stream",
          "text": [
            "\n",
            "🎲 Random Set 216/1000: [(11, 11), (6, 5), (6, 6), (11, 1), (5, 9), (1, 3), (5, 7), (9, 6), (9, 10), (10, 2)]\n"
          ]
        },
        {
          "name": "stderr",
          "output_type": "stream",
          "text": [
            "🔁 Extracting: 100%|██████████| 1319/1319 [00:01<00:00, 797.66it/s]\n"
          ]
        },
        {
          "name": "stdout",
          "output_type": "stream",
          "text": [
            "\n",
            "🎲 Random Set 217/1000: [(9, 6), (11, 6), (7, 9), (8, 4), (3, 8), (11, 5), (10, 10), (4, 9), (7, 2), (8, 11)]\n"
          ]
        },
        {
          "name": "stderr",
          "output_type": "stream",
          "text": [
            "🔁 Extracting: 100%|██████████| 1319/1319 [00:01<00:00, 806.69it/s]\n"
          ]
        },
        {
          "name": "stdout",
          "output_type": "stream",
          "text": [
            "\n",
            "🎲 Random Set 218/1000: [(6, 5), (9, 7), (11, 4), (1, 3), (1, 11), (4, 9), (1, 4), (9, 8), (8, 3), (4, 0)]\n"
          ]
        },
        {
          "name": "stderr",
          "output_type": "stream",
          "text": [
            "🔁 Extracting: 100%|██████████| 1319/1319 [00:01<00:00, 792.86it/s]\n"
          ]
        },
        {
          "name": "stdout",
          "output_type": "stream",
          "text": [
            "\n",
            "🎲 Random Set 219/1000: [(2, 1), (6, 8), (1, 4), (11, 0), (10, 3), (4, 11), (1, 6), (3, 1), (11, 2), (6, 4)]\n"
          ]
        },
        {
          "name": "stderr",
          "output_type": "stream",
          "text": [
            "🔁 Extracting: 100%|██████████| 1319/1319 [00:01<00:00, 776.11it/s]\n"
          ]
        },
        {
          "name": "stdout",
          "output_type": "stream",
          "text": [
            "\n",
            "🎲 Random Set 220/1000: [(3, 9), (4, 9), (1, 3), (1, 2), (5, 4), (5, 3), (6, 4), (3, 2), (6, 5), (9, 6)]\n"
          ]
        },
        {
          "name": "stderr",
          "output_type": "stream",
          "text": [
            "🔁 Extracting: 100%|██████████| 1319/1319 [00:02<00:00, 601.18it/s]\n"
          ]
        },
        {
          "name": "stdout",
          "output_type": "stream",
          "text": [
            "\n",
            "🎲 Random Set 221/1000: [(8, 5), (1, 7), (1, 3), (4, 3), (4, 1), (11, 2), (6, 7), (5, 10), (10, 7), (10, 8)]\n"
          ]
        },
        {
          "name": "stderr",
          "output_type": "stream",
          "text": [
            "🔁 Extracting: 100%|██████████| 1319/1319 [00:01<00:00, 804.06it/s]\n"
          ]
        },
        {
          "name": "stdout",
          "output_type": "stream",
          "text": [
            "\n",
            "🎲 Random Set 222/1000: [(11, 9), (4, 9), (9, 3), (8, 2), (8, 9), (7, 5), (6, 0), (3, 8), (5, 10), (1, 4)]\n"
          ]
        },
        {
          "name": "stderr",
          "output_type": "stream",
          "text": [
            "🔁 Extracting: 100%|██████████| 1319/1319 [00:01<00:00, 809.09it/s]\n"
          ]
        },
        {
          "name": "stdout",
          "output_type": "stream",
          "text": [
            "\n",
            "🎲 Random Set 223/1000: [(7, 2), (0, 9), (6, 5), (6, 1), (0, 3), (10, 1), (9, 0), (7, 10), (3, 8), (9, 4)]\n"
          ]
        },
        {
          "name": "stderr",
          "output_type": "stream",
          "text": [
            "🔁 Extracting: 100%|██████████| 1319/1319 [00:01<00:00, 796.37it/s]\n"
          ]
        },
        {
          "name": "stdout",
          "output_type": "stream",
          "text": [
            "\n",
            "🎲 Random Set 224/1000: [(5, 0), (11, 10), (7, 0), (10, 6), (1, 11), (3, 6), (7, 6), (11, 6), (10, 5), (4, 0)]\n"
          ]
        },
        {
          "name": "stderr",
          "output_type": "stream",
          "text": [
            "🔁 Extracting: 100%|██████████| 1319/1319 [00:01<00:00, 809.38it/s]\n"
          ]
        },
        {
          "name": "stdout",
          "output_type": "stream",
          "text": [
            "\n",
            "🎲 Random Set 225/1000: [(5, 11), (10, 9), (8, 2), (9, 3), (9, 2), (9, 10), (11, 2), (0, 11), (0, 2), (11, 0)]\n"
          ]
        },
        {
          "name": "stderr",
          "output_type": "stream",
          "text": [
            "🔁 Extracting: 100%|██████████| 1319/1319 [00:01<00:00, 809.08it/s]\n"
          ]
        },
        {
          "name": "stdout",
          "output_type": "stream",
          "text": [
            "\n",
            "🎲 Random Set 226/1000: [(1, 2), (10, 10), (7, 4), (8, 7), (3, 2), (2, 3), (2, 9), (6, 7), (3, 3), (3, 7)]\n"
          ]
        },
        {
          "name": "stderr",
          "output_type": "stream",
          "text": [
            "🔁 Extracting: 100%|██████████| 1319/1319 [00:01<00:00, 767.00it/s]\n"
          ]
        },
        {
          "name": "stdout",
          "output_type": "stream",
          "text": [
            "\n",
            "🎲 Random Set 227/1000: [(10, 9), (5, 4), (4, 6), (6, 0), (6, 2), (4, 7), (4, 10), (1, 8), (0, 5), (11, 1)]\n"
          ]
        },
        {
          "name": "stderr",
          "output_type": "stream",
          "text": [
            "🔁 Extracting: 100%|██████████| 1319/1319 [00:01<00:00, 766.41it/s]\n"
          ]
        },
        {
          "name": "stdout",
          "output_type": "stream",
          "text": [
            "\n",
            "🎲 Random Set 228/1000: [(2, 4), (9, 6), (11, 9), (5, 1), (9, 5), (6, 9), (6, 5), (10, 4), (4, 8), (4, 10)]\n"
          ]
        },
        {
          "name": "stderr",
          "output_type": "stream",
          "text": [
            "🔁 Extracting: 100%|██████████| 1319/1319 [00:01<00:00, 790.21it/s]\n"
          ]
        },
        {
          "name": "stdout",
          "output_type": "stream",
          "text": [
            "\n",
            "🎲 Random Set 229/1000: [(4, 4), (3, 2), (8, 5), (9, 11), (4, 10), (1, 11), (10, 0), (7, 7), (5, 6), (7, 6)]\n"
          ]
        },
        {
          "name": "stderr",
          "output_type": "stream",
          "text": [
            "🔁 Extracting: 100%|██████████| 1319/1319 [00:01<00:00, 768.81it/s]\n"
          ]
        },
        {
          "name": "stdout",
          "output_type": "stream",
          "text": [
            "\n",
            "🎲 Random Set 230/1000: [(2, 7), (5, 7), (5, 11), (4, 5), (2, 2), (5, 10), (3, 6), (7, 10), (2, 10), (2, 3)]\n"
          ]
        },
        {
          "name": "stderr",
          "output_type": "stream",
          "text": [
            "🔁 Extracting: 100%|██████████| 1319/1319 [00:01<00:00, 799.24it/s]\n"
          ]
        },
        {
          "name": "stdout",
          "output_type": "stream",
          "text": [
            "\n",
            "🎲 Random Set 231/1000: [(6, 9), (7, 8), (10, 2), (1, 10), (5, 3), (11, 5), (6, 6), (6, 2), (4, 6), (6, 8)]\n"
          ]
        },
        {
          "name": "stderr",
          "output_type": "stream",
          "text": [
            "🔁 Extracting: 100%|██████████| 1319/1319 [00:01<00:00, 815.03it/s]\n"
          ]
        },
        {
          "name": "stdout",
          "output_type": "stream",
          "text": [
            "\n",
            "🎲 Random Set 232/1000: [(9, 8), (4, 5), (3, 7), (7, 10), (1, 9), (8, 10), (4, 1), (2, 0), (0, 7), (6, 11)]\n"
          ]
        },
        {
          "name": "stderr",
          "output_type": "stream",
          "text": [
            "🔁 Extracting: 100%|██████████| 1319/1319 [00:01<00:00, 808.56it/s]\n"
          ]
        },
        {
          "name": "stdout",
          "output_type": "stream",
          "text": [
            "\n",
            "🎲 Random Set 233/1000: [(3, 8), (4, 4), (1, 4), (3, 4), (4, 6), (11, 2), (0, 10), (10, 4), (9, 1), (6, 3)]\n"
          ]
        },
        {
          "name": "stderr",
          "output_type": "stream",
          "text": [
            "🔁 Extracting: 100%|██████████| 1319/1319 [00:01<00:00, 766.10it/s]\n"
          ]
        },
        {
          "name": "stdout",
          "output_type": "stream",
          "text": [
            "\n",
            "🎲 Random Set 234/1000: [(0, 1), (5, 0), (2, 8), (7, 4), (6, 8), (11, 6), (2, 11), (6, 3), (0, 2), (9, 1)]\n"
          ]
        },
        {
          "name": "stderr",
          "output_type": "stream",
          "text": [
            "🔁 Extracting: 100%|██████████| 1319/1319 [00:01<00:00, 800.67it/s]\n"
          ]
        },
        {
          "name": "stdout",
          "output_type": "stream",
          "text": [
            "\n",
            "🎲 Random Set 235/1000: [(4, 2), (3, 4), (4, 3), (6, 2), (5, 9), (2, 0), (10, 8), (8, 9), (1, 6), (9, 2)]\n"
          ]
        },
        {
          "name": "stderr",
          "output_type": "stream",
          "text": [
            "🔁 Extracting: 100%|██████████| 1319/1319 [00:01<00:00, 798.29it/s]\n"
          ]
        },
        {
          "name": "stdout",
          "output_type": "stream",
          "text": [
            "\n",
            "🎲 Random Set 236/1000: [(8, 3), (7, 2), (0, 11), (1, 2), (5, 7), (5, 4), (2, 10), (8, 1), (1, 10), (2, 6)]\n"
          ]
        },
        {
          "name": "stderr",
          "output_type": "stream",
          "text": [
            "🔁 Extracting: 100%|██████████| 1319/1319 [00:01<00:00, 799.98it/s]\n"
          ]
        },
        {
          "name": "stdout",
          "output_type": "stream",
          "text": [
            "\n",
            "🎲 Random Set 237/1000: [(6, 7), (8, 6), (7, 8), (8, 9), (2, 3), (11, 0), (6, 6), (2, 7), (4, 4), (6, 2)]\n"
          ]
        },
        {
          "name": "stderr",
          "output_type": "stream",
          "text": [
            "🔁 Extracting: 100%|██████████| 1319/1319 [00:01<00:00, 800.34it/s]\n"
          ]
        },
        {
          "name": "stdout",
          "output_type": "stream",
          "text": [
            "\n",
            "🎲 Random Set 238/1000: [(3, 4), (4, 10), (11, 3), (7, 7), (3, 5), (2, 2), (9, 6), (10, 11), (9, 0), (11, 10)]\n"
          ]
        },
        {
          "name": "stderr",
          "output_type": "stream",
          "text": [
            "🔁 Extracting: 100%|██████████| 1319/1319 [00:01<00:00, 794.01it/s]\n"
          ]
        },
        {
          "name": "stdout",
          "output_type": "stream",
          "text": [
            "\n",
            "🎲 Random Set 239/1000: [(3, 8), (11, 3), (10, 2), (10, 6), (7, 10), (4, 11), (2, 3), (0, 6), (1, 0), (6, 5)]\n"
          ]
        },
        {
          "name": "stderr",
          "output_type": "stream",
          "text": [
            "🔁 Extracting: 100%|██████████| 1319/1319 [00:01<00:00, 788.77it/s]\n"
          ]
        },
        {
          "name": "stdout",
          "output_type": "stream",
          "text": [
            "\n",
            "🎲 Random Set 240/1000: [(3, 2), (9, 5), (4, 3), (8, 7), (5, 10), (11, 10), (10, 2), (2, 6), (6, 6), (2, 0)]\n"
          ]
        },
        {
          "name": "stderr",
          "output_type": "stream",
          "text": [
            "🔁 Extracting: 100%|██████████| 1319/1319 [00:01<00:00, 786.10it/s]\n"
          ]
        },
        {
          "name": "stdout",
          "output_type": "stream",
          "text": [
            "\n",
            "🎲 Random Set 241/1000: [(7, 9), (6, 6), (5, 6), (10, 11), (11, 2), (0, 7), (3, 7), (9, 11), (1, 9), (3, 5)]\n"
          ]
        },
        {
          "name": "stderr",
          "output_type": "stream",
          "text": [
            "🔁 Extracting: 100%|██████████| 1319/1319 [00:01<00:00, 773.33it/s]\n"
          ]
        },
        {
          "name": "stdout",
          "output_type": "stream",
          "text": [
            "\n",
            "🎲 Random Set 242/1000: [(0, 4), (4, 11), (5, 1), (1, 10), (1, 2), (7, 2), (1, 1), (4, 3), (9, 8), (2, 10)]\n"
          ]
        },
        {
          "name": "stderr",
          "output_type": "stream",
          "text": [
            "🔁 Extracting: 100%|██████████| 1319/1319 [00:01<00:00, 800.85it/s]\n"
          ]
        },
        {
          "name": "stdout",
          "output_type": "stream",
          "text": [
            "\n",
            "🎲 Random Set 243/1000: [(4, 3), (5, 2), (0, 9), (7, 11), (4, 6), (9, 7), (2, 10), (7, 1), (0, 5), (10, 4)]\n"
          ]
        },
        {
          "name": "stderr",
          "output_type": "stream",
          "text": [
            "🔁 Extracting: 100%|██████████| 1319/1319 [00:01<00:00, 821.48it/s]\n"
          ]
        },
        {
          "name": "stdout",
          "output_type": "stream",
          "text": [
            "\n",
            "🎲 Random Set 244/1000: [(11, 4), (2, 11), (2, 7), (7, 2), (6, 8), (3, 1), (0, 3), (1, 0), (2, 0), (6, 0)]\n"
          ]
        },
        {
          "name": "stderr",
          "output_type": "stream",
          "text": [
            "🔁 Extracting: 100%|██████████| 1319/1319 [00:01<00:00, 820.18it/s]\n"
          ]
        },
        {
          "name": "stdout",
          "output_type": "stream",
          "text": [
            "\n",
            "🎲 Random Set 245/1000: [(10, 6), (5, 6), (8, 9), (5, 10), (10, 4), (9, 3), (2, 6), (6, 0), (1, 1), (9, 5)]\n"
          ]
        },
        {
          "name": "stderr",
          "output_type": "stream",
          "text": [
            "🔁 Extracting: 100%|██████████| 1319/1319 [00:01<00:00, 799.03it/s]\n"
          ]
        },
        {
          "name": "stdout",
          "output_type": "stream",
          "text": [
            "\n",
            "🎲 Random Set 246/1000: [(6, 0), (6, 10), (2, 0), (0, 4), (1, 0), (3, 1), (2, 11), (10, 1), (8, 5), (2, 3)]\n"
          ]
        },
        {
          "name": "stderr",
          "output_type": "stream",
          "text": [
            "🔁 Extracting: 100%|██████████| 1319/1319 [00:01<00:00, 807.70it/s]\n"
          ]
        },
        {
          "name": "stdout",
          "output_type": "stream",
          "text": [
            "\n",
            "🎲 Random Set 247/1000: [(0, 10), (11, 8), (9, 0), (1, 9), (1, 10), (9, 9), (0, 0), (11, 4), (5, 2), (10, 2)]\n"
          ]
        },
        {
          "name": "stderr",
          "output_type": "stream",
          "text": [
            "🔁 Extracting: 100%|██████████| 1319/1319 [00:01<00:00, 767.16it/s]\n"
          ]
        },
        {
          "name": "stdout",
          "output_type": "stream",
          "text": [
            "\n",
            "🎲 Random Set 248/1000: [(8, 8), (2, 8), (8, 0), (11, 6), (0, 5), (3, 8), (0, 4), (1, 2), (0, 3), (0, 6)]\n"
          ]
        },
        {
          "name": "stderr",
          "output_type": "stream",
          "text": [
            "🔁 Extracting: 100%|██████████| 1319/1319 [00:01<00:00, 800.78it/s]\n"
          ]
        },
        {
          "name": "stdout",
          "output_type": "stream",
          "text": [
            "\n",
            "🎲 Random Set 249/1000: [(7, 10), (11, 10), (7, 3), (10, 4), (6, 10), (8, 11), (3, 2), (7, 7), (6, 7), (11, 6)]\n"
          ]
        },
        {
          "name": "stderr",
          "output_type": "stream",
          "text": [
            "🔁 Extracting: 100%|██████████| 1319/1319 [00:01<00:00, 804.58it/s]\n"
          ]
        },
        {
          "name": "stdout",
          "output_type": "stream",
          "text": [
            "\n",
            "🎲 Random Set 250/1000: [(2, 5), (11, 9), (8, 5), (8, 7), (3, 0), (4, 1), (6, 7), (4, 9), (6, 1), (1, 3)]\n"
          ]
        },
        {
          "name": "stderr",
          "output_type": "stream",
          "text": [
            "🔁 Extracting: 100%|██████████| 1319/1319 [00:01<00:00, 820.48it/s]\n"
          ]
        },
        {
          "name": "stdout",
          "output_type": "stream",
          "text": [
            "\n",
            "🎲 Random Set 251/1000: [(1, 3), (11, 2), (6, 2), (4, 1), (1, 0), (8, 4), (4, 5), (6, 4), (3, 2), (0, 2)]\n"
          ]
        },
        {
          "name": "stderr",
          "output_type": "stream",
          "text": [
            "🔁 Extracting: 100%|██████████| 1319/1319 [00:01<00:00, 811.39it/s]\n"
          ]
        },
        {
          "name": "stdout",
          "output_type": "stream",
          "text": [
            "\n",
            "🎲 Random Set 252/1000: [(3, 9), (4, 6), (11, 1), (6, 11), (11, 0), (1, 5), (10, 4), (1, 9), (0, 11), (4, 5)]\n"
          ]
        },
        {
          "name": "stderr",
          "output_type": "stream",
          "text": [
            "🔁 Extracting: 100%|██████████| 1319/1319 [00:01<00:00, 802.38it/s]\n"
          ]
        },
        {
          "name": "stdout",
          "output_type": "stream",
          "text": [
            "\n",
            "🎲 Random Set 253/1000: [(3, 2), (3, 0), (8, 9), (11, 3), (9, 9), (2, 6), (9, 2), (7, 1), (8, 11), (8, 5)]\n"
          ]
        },
        {
          "name": "stderr",
          "output_type": "stream",
          "text": [
            "🔁 Extracting: 100%|██████████| 1319/1319 [00:01<00:00, 792.90it/s]\n"
          ]
        },
        {
          "name": "stdout",
          "output_type": "stream",
          "text": [
            "\n",
            "🎲 Random Set 254/1000: [(10, 8), (5, 11), (8, 8), (8, 10), (10, 0), (0, 4), (8, 0), (8, 2), (6, 6), (5, 8)]\n"
          ]
        },
        {
          "name": "stderr",
          "output_type": "stream",
          "text": [
            "🔁 Extracting: 100%|██████████| 1319/1319 [00:01<00:00, 791.69it/s]\n"
          ]
        },
        {
          "name": "stdout",
          "output_type": "stream",
          "text": [
            "\n",
            "🎲 Random Set 255/1000: [(8, 5), (1, 6), (9, 4), (5, 1), (3, 7), (10, 0), (0, 7), (0, 1), (2, 3), (0, 6)]\n"
          ]
        },
        {
          "name": "stderr",
          "output_type": "stream",
          "text": [
            "🔁 Extracting: 100%|██████████| 1319/1319 [00:01<00:00, 774.67it/s]\n"
          ]
        },
        {
          "name": "stdout",
          "output_type": "stream",
          "text": [
            "\n",
            "🎲 Random Set 256/1000: [(0, 10), (6, 4), (4, 1), (6, 2), (11, 0), (8, 8), (3, 9), (10, 0), (8, 7), (11, 7)]\n"
          ]
        },
        {
          "name": "stderr",
          "output_type": "stream",
          "text": [
            "🔁 Extracting: 100%|██████████| 1319/1319 [00:01<00:00, 798.88it/s]\n"
          ]
        },
        {
          "name": "stdout",
          "output_type": "stream",
          "text": [
            "\n",
            "🎲 Random Set 257/1000: [(4, 4), (3, 5), (10, 11), (7, 6), (6, 9), (8, 3), (3, 6), (7, 0), (0, 6), (11, 8)]\n"
          ]
        },
        {
          "name": "stderr",
          "output_type": "stream",
          "text": [
            "🔁 Extracting: 100%|██████████| 1319/1319 [00:01<00:00, 794.16it/s]\n"
          ]
        },
        {
          "name": "stdout",
          "output_type": "stream",
          "text": [
            "\n",
            "🎲 Random Set 258/1000: [(3, 9), (6, 8), (8, 10), (7, 5), (11, 2), (8, 4), (7, 3), (6, 9), (5, 8), (8, 1)]\n"
          ]
        },
        {
          "name": "stderr",
          "output_type": "stream",
          "text": [
            "🔁 Extracting: 100%|██████████| 1319/1319 [00:01<00:00, 805.95it/s]\n"
          ]
        },
        {
          "name": "stdout",
          "output_type": "stream",
          "text": [
            "\n",
            "🎲 Random Set 259/1000: [(9, 0), (1, 5), (10, 1), (2, 6), (0, 4), (2, 9), (9, 4), (5, 10), (7, 0), (8, 8)]\n"
          ]
        },
        {
          "name": "stderr",
          "output_type": "stream",
          "text": [
            "🔁 Extracting: 100%|██████████| 1319/1319 [00:01<00:00, 808.33it/s]\n"
          ]
        },
        {
          "name": "stdout",
          "output_type": "stream",
          "text": [
            "\n",
            "🎲 Random Set 260/1000: [(2, 10), (8, 9), (2, 5), (11, 8), (10, 2), (8, 1), (3, 7), (0, 7), (4, 7), (7, 3)]\n"
          ]
        },
        {
          "name": "stderr",
          "output_type": "stream",
          "text": [
            "🔁 Extracting: 100%|██████████| 1319/1319 [00:01<00:00, 800.02it/s]\n"
          ]
        },
        {
          "name": "stdout",
          "output_type": "stream",
          "text": [
            "\n",
            "🎲 Random Set 261/1000: [(8, 0), (11, 8), (3, 11), (0, 10), (6, 0), (6, 6), (5, 5), (5, 4), (1, 11), (11, 2)]\n"
          ]
        },
        {
          "name": "stderr",
          "output_type": "stream",
          "text": [
            "🔁 Extracting: 100%|██████████| 1319/1319 [00:01<00:00, 794.30it/s]\n"
          ]
        },
        {
          "name": "stdout",
          "output_type": "stream",
          "text": [
            "\n",
            "🎲 Random Set 262/1000: [(2, 2), (8, 0), (5, 11), (1, 4), (8, 11), (1, 11), (4, 9), (10, 3), (10, 4), (3, 10)]\n"
          ]
        },
        {
          "name": "stderr",
          "output_type": "stream",
          "text": [
            "🔁 Extracting: 100%|██████████| 1319/1319 [00:01<00:00, 806.75it/s]\n"
          ]
        },
        {
          "name": "stdout",
          "output_type": "stream",
          "text": [
            "\n",
            "🎲 Random Set 263/1000: [(11, 11), (10, 8), (5, 1), (7, 0), (5, 3), (11, 1), (10, 6), (2, 4), (4, 10), (2, 0)]\n"
          ]
        },
        {
          "name": "stderr",
          "output_type": "stream",
          "text": [
            "🔁 Extracting: 100%|██████████| 1319/1319 [00:01<00:00, 792.99it/s]\n"
          ]
        },
        {
          "name": "stdout",
          "output_type": "stream",
          "text": [
            "\n",
            "🎲 Random Set 264/1000: [(4, 2), (9, 3), (7, 6), (6, 4), (6, 3), (8, 1), (8, 10), (2, 3), (11, 10), (9, 0)]\n"
          ]
        },
        {
          "name": "stderr",
          "output_type": "stream",
          "text": [
            "🔁 Extracting: 100%|██████████| 1319/1319 [00:01<00:00, 802.80it/s]\n"
          ]
        },
        {
          "name": "stdout",
          "output_type": "stream",
          "text": [
            "\n",
            "🎲 Random Set 265/1000: [(6, 11), (11, 10), (9, 5), (9, 7), (11, 5), (10, 0), (11, 11), (1, 3), (11, 0), (4, 3)]\n"
          ]
        },
        {
          "name": "stderr",
          "output_type": "stream",
          "text": [
            "🔁 Extracting: 100%|██████████| 1319/1319 [00:01<00:00, 792.24it/s]\n"
          ]
        },
        {
          "name": "stdout",
          "output_type": "stream",
          "text": [
            "\n",
            "🎲 Random Set 266/1000: [(6, 3), (6, 7), (3, 0), (4, 1), (4, 2), (11, 6), (9, 3), (10, 11), (6, 10), (11, 4)]\n"
          ]
        },
        {
          "name": "stderr",
          "output_type": "stream",
          "text": [
            "🔁 Extracting: 100%|██████████| 1319/1319 [00:01<00:00, 806.52it/s]\n"
          ]
        },
        {
          "name": "stdout",
          "output_type": "stream",
          "text": [
            "\n",
            "🎲 Random Set 267/1000: [(0, 2), (6, 2), (0, 11), (2, 6), (11, 11), (7, 1), (2, 11), (1, 11), (6, 11), (9, 8)]\n"
          ]
        },
        {
          "name": "stderr",
          "output_type": "stream",
          "text": [
            "🔁 Extracting: 100%|██████████| 1319/1319 [00:01<00:00, 776.67it/s]\n"
          ]
        },
        {
          "name": "stdout",
          "output_type": "stream",
          "text": [
            "\n",
            "🎲 Random Set 268/1000: [(7, 1), (4, 4), (5, 5), (2, 1), (1, 11), (9, 4), (0, 8), (7, 11), (9, 9), (11, 7)]\n"
          ]
        },
        {
          "name": "stderr",
          "output_type": "stream",
          "text": [
            "🔁 Extracting: 100%|██████████| 1319/1319 [00:01<00:00, 785.71it/s]\n"
          ]
        },
        {
          "name": "stdout",
          "output_type": "stream",
          "text": [
            "\n",
            "🎲 Random Set 269/1000: [(5, 3), (1, 1), (8, 11), (7, 6), (8, 6), (2, 0), (2, 1), (2, 8), (8, 9), (0, 10)]\n"
          ]
        },
        {
          "name": "stderr",
          "output_type": "stream",
          "text": [
            "🔁 Extracting: 100%|██████████| 1319/1319 [00:01<00:00, 810.12it/s]\n"
          ]
        },
        {
          "name": "stdout",
          "output_type": "stream",
          "text": [
            "\n",
            "🎲 Random Set 270/1000: [(7, 7), (3, 7), (7, 10), (3, 3), (1, 7), (7, 11), (2, 7), (4, 1), (10, 3), (0, 1)]\n"
          ]
        },
        {
          "name": "stderr",
          "output_type": "stream",
          "text": [
            "🔁 Extracting: 100%|██████████| 1319/1319 [00:01<00:00, 797.54it/s]\n"
          ]
        },
        {
          "name": "stdout",
          "output_type": "stream",
          "text": [
            "\n",
            "🎲 Random Set 271/1000: [(9, 3), (6, 1), (2, 7), (3, 5), (5, 3), (3, 10), (11, 10), (6, 7), (1, 0), (4, 0)]\n"
          ]
        },
        {
          "name": "stderr",
          "output_type": "stream",
          "text": [
            "🔁 Extracting: 100%|██████████| 1319/1319 [00:01<00:00, 795.42it/s]\n"
          ]
        },
        {
          "name": "stdout",
          "output_type": "stream",
          "text": [
            "\n",
            "🎲 Random Set 272/1000: [(6, 4), (9, 4), (5, 10), (11, 0), (11, 10), (6, 11), (3, 1), (7, 7), (1, 5), (11, 2)]\n"
          ]
        },
        {
          "name": "stderr",
          "output_type": "stream",
          "text": [
            "🔁 Extracting: 100%|██████████| 1319/1319 [00:01<00:00, 782.80it/s]\n"
          ]
        },
        {
          "name": "stdout",
          "output_type": "stream",
          "text": [
            "\n",
            "🎲 Random Set 273/1000: [(8, 4), (10, 0), (7, 3), (6, 0), (9, 4), (11, 9), (6, 1), (6, 8), (5, 4), (3, 9)]\n"
          ]
        },
        {
          "name": "stderr",
          "output_type": "stream",
          "text": [
            "🔁 Extracting: 100%|██████████| 1319/1319 [00:01<00:00, 812.99it/s]\n"
          ]
        },
        {
          "name": "stdout",
          "output_type": "stream",
          "text": [
            "\n",
            "🎲 Random Set 274/1000: [(11, 6), (6, 3), (4, 5), (9, 4), (3, 1), (0, 5), (3, 2), (4, 10), (6, 2), (11, 4)]\n"
          ]
        },
        {
          "name": "stderr",
          "output_type": "stream",
          "text": [
            "🔁 Extracting: 100%|██████████| 1319/1319 [00:01<00:00, 786.51it/s]\n"
          ]
        },
        {
          "name": "stdout",
          "output_type": "stream",
          "text": [
            "\n",
            "🎲 Random Set 275/1000: [(2, 5), (1, 4), (5, 9), (10, 7), (1, 10), (11, 5), (3, 5), (4, 10), (8, 7), (3, 3)]\n"
          ]
        },
        {
          "name": "stderr",
          "output_type": "stream",
          "text": [
            "🔁 Extracting: 100%|██████████| 1319/1319 [00:01<00:00, 800.39it/s]\n"
          ]
        },
        {
          "name": "stdout",
          "output_type": "stream",
          "text": [
            "\n",
            "🎲 Random Set 276/1000: [(7, 1), (0, 8), (2, 8), (11, 8), (5, 0), (1, 11), (4, 9), (2, 10), (6, 4), (8, 6)]\n"
          ]
        },
        {
          "name": "stderr",
          "output_type": "stream",
          "text": [
            "🔁 Extracting: 100%|██████████| 1319/1319 [00:01<00:00, 804.02it/s]\n"
          ]
        },
        {
          "name": "stdout",
          "output_type": "stream",
          "text": [
            "\n",
            "🎲 Random Set 277/1000: [(6, 6), (11, 10), (10, 0), (11, 7), (3, 6), (8, 2), (10, 4), (2, 6), (10, 5), (9, 5)]\n"
          ]
        },
        {
          "name": "stderr",
          "output_type": "stream",
          "text": [
            "🔁 Extracting: 100%|██████████| 1319/1319 [00:01<00:00, 752.74it/s]\n"
          ]
        },
        {
          "name": "stdout",
          "output_type": "stream",
          "text": [
            "\n",
            "🎲 Random Set 278/1000: [(11, 9), (10, 10), (2, 10), (1, 6), (0, 3), (3, 10), (2, 5), (1, 1), (3, 7), (4, 8)]\n"
          ]
        },
        {
          "name": "stderr",
          "output_type": "stream",
          "text": [
            "🔁 Extracting: 100%|██████████| 1319/1319 [00:01<00:00, 804.45it/s]\n"
          ]
        },
        {
          "name": "stdout",
          "output_type": "stream",
          "text": [
            "\n",
            "🎲 Random Set 279/1000: [(6, 4), (7, 11), (3, 9), (8, 8), (8, 11), (1, 3), (6, 5), (8, 4), (4, 6), (11, 8)]\n"
          ]
        },
        {
          "name": "stderr",
          "output_type": "stream",
          "text": [
            "🔁 Extracting: 100%|██████████| 1319/1319 [00:01<00:00, 774.19it/s]\n"
          ]
        },
        {
          "name": "stdout",
          "output_type": "stream",
          "text": [
            "\n",
            "🎲 Random Set 280/1000: [(1, 7), (2, 2), (7, 7), (4, 3), (1, 9), (6, 6), (2, 3), (3, 10), (8, 7), (0, 3)]\n"
          ]
        },
        {
          "name": "stderr",
          "output_type": "stream",
          "text": [
            "🔁 Extracting: 100%|██████████| 1319/1319 [00:01<00:00, 802.01it/s]\n"
          ]
        },
        {
          "name": "stdout",
          "output_type": "stream",
          "text": [
            "\n",
            "🎲 Random Set 281/1000: [(3, 0), (3, 9), (5, 11), (5, 4), (3, 11), (10, 0), (5, 6), (0, 8), (5, 7), (8, 7)]\n"
          ]
        },
        {
          "name": "stderr",
          "output_type": "stream",
          "text": [
            "🔁 Extracting: 100%|██████████| 1319/1319 [00:01<00:00, 749.40it/s]\n"
          ]
        },
        {
          "name": "stdout",
          "output_type": "stream",
          "text": [
            "\n",
            "🎲 Random Set 282/1000: [(5, 0), (9, 9), (7, 3), (4, 4), (5, 6), (2, 5), (2, 7), (0, 11), (11, 7), (0, 9)]\n"
          ]
        },
        {
          "name": "stderr",
          "output_type": "stream",
          "text": [
            "🔁 Extracting: 100%|██████████| 1319/1319 [00:01<00:00, 797.81it/s]\n"
          ]
        },
        {
          "name": "stdout",
          "output_type": "stream",
          "text": [
            "\n",
            "🎲 Random Set 283/1000: [(2, 4), (3, 1), (3, 0), (4, 3), (7, 11), (5, 8), (4, 1), (1, 2), (1, 5), (0, 4)]\n"
          ]
        },
        {
          "name": "stderr",
          "output_type": "stream",
          "text": [
            "🔁 Extracting: 100%|██████████| 1319/1319 [00:01<00:00, 780.23it/s]\n"
          ]
        },
        {
          "name": "stdout",
          "output_type": "stream",
          "text": [
            "\n",
            "🎲 Random Set 284/1000: [(11, 6), (7, 2), (7, 8), (10, 9), (4, 4), (8, 10), (4, 2), (11, 3), (9, 9), (11, 2)]\n"
          ]
        },
        {
          "name": "stderr",
          "output_type": "stream",
          "text": [
            "🔁 Extracting: 100%|██████████| 1319/1319 [00:01<00:00, 778.09it/s]\n"
          ]
        },
        {
          "name": "stdout",
          "output_type": "stream",
          "text": [
            "\n",
            "🎲 Random Set 285/1000: [(10, 9), (2, 2), (6, 10), (6, 0), (1, 10), (10, 1), (7, 5), (2, 10), (7, 8), (8, 7)]\n"
          ]
        },
        {
          "name": "stderr",
          "output_type": "stream",
          "text": [
            "🔁 Extracting: 100%|██████████| 1319/1319 [00:02<00:00, 586.18it/s]\n"
          ]
        },
        {
          "name": "stdout",
          "output_type": "stream",
          "text": [
            "\n",
            "🎲 Random Set 286/1000: [(11, 8), (9, 4), (6, 9), (10, 7), (0, 10), (4, 6), (11, 6), (8, 11), (3, 2), (2, 7)]\n"
          ]
        },
        {
          "name": "stderr",
          "output_type": "stream",
          "text": [
            "🔁 Extracting: 100%|██████████| 1319/1319 [00:01<00:00, 761.48it/s]\n"
          ]
        },
        {
          "name": "stdout",
          "output_type": "stream",
          "text": [
            "\n",
            "🎲 Random Set 287/1000: [(11, 8), (0, 6), (1, 2), (3, 5), (7, 5), (9, 7), (10, 4), (5, 2), (8, 1), (2, 2)]\n"
          ]
        },
        {
          "name": "stderr",
          "output_type": "stream",
          "text": [
            "🔁 Extracting: 100%|██████████| 1319/1319 [00:01<00:00, 762.60it/s]\n"
          ]
        },
        {
          "name": "stdout",
          "output_type": "stream",
          "text": [
            "\n",
            "🎲 Random Set 288/1000: [(4, 8), (11, 1), (4, 1), (3, 11), (9, 5), (1, 9), (0, 10), (9, 8), (6, 11), (8, 2)]\n"
          ]
        },
        {
          "name": "stderr",
          "output_type": "stream",
          "text": [
            "🔁 Extracting: 100%|██████████| 1319/1319 [00:01<00:00, 769.77it/s]\n"
          ]
        },
        {
          "name": "stdout",
          "output_type": "stream",
          "text": [
            "\n",
            "🎲 Random Set 289/1000: [(9, 6), (5, 9), (5, 2), (0, 2), (6, 9), (5, 7), (4, 0), (6, 8), (7, 9), (8, 5)]\n"
          ]
        },
        {
          "name": "stderr",
          "output_type": "stream",
          "text": [
            "🔁 Extracting: 100%|██████████| 1319/1319 [00:01<00:00, 785.69it/s]\n"
          ]
        },
        {
          "name": "stdout",
          "output_type": "stream",
          "text": [
            "\n",
            "🎲 Random Set 290/1000: [(5, 7), (5, 10), (7, 11), (1, 4), (3, 4), (5, 3), (4, 9), (3, 10), (1, 1), (1, 0)]\n"
          ]
        },
        {
          "name": "stderr",
          "output_type": "stream",
          "text": [
            "🔁 Extracting: 100%|██████████| 1319/1319 [00:01<00:00, 796.30it/s]\n"
          ]
        },
        {
          "name": "stdout",
          "output_type": "stream",
          "text": [
            "\n",
            "🎲 Random Set 291/1000: [(6, 2), (9, 8), (0, 7), (4, 10), (7, 9), (2, 10), (8, 7), (0, 5), (1, 1), (0, 1)]\n"
          ]
        },
        {
          "name": "stderr",
          "output_type": "stream",
          "text": [
            "🔁 Extracting: 100%|██████████| 1319/1319 [00:01<00:00, 795.58it/s]\n"
          ]
        },
        {
          "name": "stdout",
          "output_type": "stream",
          "text": [
            "\n",
            "🎲 Random Set 292/1000: [(3, 3), (6, 7), (8, 5), (9, 11), (10, 2), (2, 1), (2, 5), (6, 1), (1, 10), (8, 6)]\n"
          ]
        },
        {
          "name": "stderr",
          "output_type": "stream",
          "text": [
            "🔁 Extracting: 100%|██████████| 1319/1319 [00:01<00:00, 794.61it/s]\n"
          ]
        },
        {
          "name": "stdout",
          "output_type": "stream",
          "text": [
            "\n",
            "🎲 Random Set 293/1000: [(6, 8), (7, 4), (8, 8), (2, 9), (7, 5), (5, 3), (9, 5), (4, 7), (10, 11), (0, 7)]\n"
          ]
        },
        {
          "name": "stderr",
          "output_type": "stream",
          "text": [
            "🔁 Extracting: 100%|██████████| 1319/1319 [00:01<00:00, 795.95it/s]\n"
          ]
        },
        {
          "name": "stdout",
          "output_type": "stream",
          "text": [
            "\n",
            "🎲 Random Set 294/1000: [(9, 2), (2, 6), (6, 6), (6, 5), (1, 3), (1, 1), (7, 5), (5, 7), (5, 10), (3, 2)]\n"
          ]
        },
        {
          "name": "stderr",
          "output_type": "stream",
          "text": [
            "🔁 Extracting: 100%|██████████| 1319/1319 [00:01<00:00, 760.72it/s]\n"
          ]
        },
        {
          "name": "stdout",
          "output_type": "stream",
          "text": [
            "\n",
            "🎲 Random Set 295/1000: [(4, 3), (4, 6), (7, 10), (3, 1), (5, 2), (10, 2), (5, 9), (2, 2), (11, 9), (7, 11)]\n"
          ]
        },
        {
          "name": "stderr",
          "output_type": "stream",
          "text": [
            "🔁 Extracting: 100%|██████████| 1319/1319 [00:01<00:00, 802.72it/s]\n"
          ]
        },
        {
          "name": "stdout",
          "output_type": "stream",
          "text": [
            "\n",
            "🎲 Random Set 296/1000: [(0, 5), (10, 9), (8, 7), (8, 2), (10, 4), (9, 5), (5, 4), (3, 7), (1, 8), (4, 4)]\n"
          ]
        },
        {
          "name": "stderr",
          "output_type": "stream",
          "text": [
            "🔁 Extracting: 100%|██████████| 1319/1319 [00:01<00:00, 788.09it/s]\n"
          ]
        },
        {
          "name": "stdout",
          "output_type": "stream",
          "text": [
            "\n",
            "🎲 Random Set 297/1000: [(0, 8), (6, 2), (6, 7), (0, 0), (2, 1), (11, 5), (7, 5), (1, 8), (3, 5), (6, 8)]\n"
          ]
        },
        {
          "name": "stderr",
          "output_type": "stream",
          "text": [
            "🔁 Extracting: 100%|██████████| 1319/1319 [00:01<00:00, 784.97it/s]\n"
          ]
        },
        {
          "name": "stdout",
          "output_type": "stream",
          "text": [
            "\n",
            "🎲 Random Set 298/1000: [(8, 11), (10, 4), (9, 6), (5, 4), (7, 3), (7, 11), (9, 7), (11, 5), (4, 2), (4, 10)]\n"
          ]
        },
        {
          "name": "stderr",
          "output_type": "stream",
          "text": [
            "🔁 Extracting: 100%|██████████| 1319/1319 [00:01<00:00, 799.37it/s]\n"
          ]
        },
        {
          "name": "stdout",
          "output_type": "stream",
          "text": [
            "\n",
            "🎲 Random Set 299/1000: [(3, 2), (7, 10), (4, 7), (10, 10), (6, 8), (7, 0), (5, 0), (5, 6), (4, 6), (3, 11)]\n"
          ]
        },
        {
          "name": "stderr",
          "output_type": "stream",
          "text": [
            "🔁 Extracting: 100%|██████████| 1319/1319 [00:01<00:00, 807.83it/s]\n"
          ]
        },
        {
          "name": "stdout",
          "output_type": "stream",
          "text": [
            "\n",
            "🎲 Random Set 300/1000: [(6, 7), (4, 1), (9, 6), (6, 10), (10, 6), (2, 6), (7, 5), (4, 9), (3, 0), (4, 0)]\n"
          ]
        },
        {
          "name": "stderr",
          "output_type": "stream",
          "text": [
            "🔁 Extracting: 100%|██████████| 1319/1319 [00:01<00:00, 787.49it/s]\n"
          ]
        },
        {
          "name": "stdout",
          "output_type": "stream",
          "text": [
            "\n",
            "🎲 Random Set 301/1000: [(9, 11), (5, 11), (11, 8), (6, 6), (7, 0), (5, 0), (11, 6), (7, 5), (2, 4), (4, 7)]\n"
          ]
        },
        {
          "name": "stderr",
          "output_type": "stream",
          "text": [
            "🔁 Extracting: 100%|██████████| 1319/1319 [00:01<00:00, 790.84it/s]\n"
          ]
        },
        {
          "name": "stdout",
          "output_type": "stream",
          "text": [
            "\n",
            "🎲 Random Set 302/1000: [(4, 2), (1, 4), (11, 9), (1, 10), (5, 10), (10, 10), (6, 5), (10, 8), (6, 2), (7, 8)]\n"
          ]
        },
        {
          "name": "stderr",
          "output_type": "stream",
          "text": [
            "🔁 Extracting: 100%|██████████| 1319/1319 [00:01<00:00, 817.10it/s]\n"
          ]
        },
        {
          "name": "stdout",
          "output_type": "stream",
          "text": [
            "\n",
            "🎲 Random Set 303/1000: [(2, 9), (9, 4), (3, 5), (4, 1), (9, 1), (1, 0), (9, 10), (0, 6), (8, 0), (6, 2)]\n"
          ]
        },
        {
          "name": "stderr",
          "output_type": "stream",
          "text": [
            "🔁 Extracting: 100%|██████████| 1319/1319 [00:01<00:00, 805.55it/s]\n"
          ]
        },
        {
          "name": "stdout",
          "output_type": "stream",
          "text": [
            "\n",
            "🎲 Random Set 304/1000: [(0, 8), (2, 8), (8, 0), (9, 11), (2, 5), (11, 4), (2, 2), (7, 10), (2, 1), (3, 0)]\n"
          ]
        },
        {
          "name": "stderr",
          "output_type": "stream",
          "text": [
            "🔁 Extracting: 100%|██████████| 1319/1319 [00:01<00:00, 800.82it/s]\n"
          ]
        },
        {
          "name": "stdout",
          "output_type": "stream",
          "text": [
            "\n",
            "🎲 Random Set 305/1000: [(11, 0), (10, 7), (5, 9), (6, 6), (10, 3), (9, 0), (4, 10), (0, 7), (9, 10), (8, 6)]\n"
          ]
        },
        {
          "name": "stderr",
          "output_type": "stream",
          "text": [
            "🔁 Extracting: 100%|██████████| 1319/1319 [00:01<00:00, 783.19it/s]\n"
          ]
        },
        {
          "name": "stdout",
          "output_type": "stream",
          "text": [
            "\n",
            "🎲 Random Set 306/1000: [(4, 5), (1, 8), (1, 6), (3, 3), (6, 4), (5, 2), (0, 0), (0, 7), (11, 8), (0, 1)]\n"
          ]
        },
        {
          "name": "stderr",
          "output_type": "stream",
          "text": [
            "🔁 Extracting: 100%|██████████| 1319/1319 [00:01<00:00, 753.73it/s]\n"
          ]
        },
        {
          "name": "stdout",
          "output_type": "stream",
          "text": [
            "\n",
            "🎲 Random Set 307/1000: [(8, 1), (4, 3), (7, 1), (4, 7), (0, 9), (3, 11), (9, 6), (10, 6), (6, 7), (0, 7)]\n"
          ]
        },
        {
          "name": "stderr",
          "output_type": "stream",
          "text": [
            "🔁 Extracting: 100%|██████████| 1319/1319 [00:01<00:00, 793.69it/s]\n"
          ]
        },
        {
          "name": "stdout",
          "output_type": "stream",
          "text": [
            "\n",
            "🎲 Random Set 308/1000: [(11, 9), (3, 4), (4, 2), (2, 10), (2, 2), (3, 2), (7, 3), (9, 5), (5, 5), (11, 10)]\n"
          ]
        },
        {
          "name": "stderr",
          "output_type": "stream",
          "text": [
            "🔁 Extracting: 100%|██████████| 1319/1319 [00:01<00:00, 779.91it/s]\n"
          ]
        },
        {
          "name": "stdout",
          "output_type": "stream",
          "text": [
            "\n",
            "🎲 Random Set 309/1000: [(11, 11), (4, 7), (5, 10), (4, 3), (9, 7), (8, 3), (1, 9), (6, 0), (1, 3), (10, 8)]\n"
          ]
        },
        {
          "name": "stderr",
          "output_type": "stream",
          "text": [
            "🔁 Extracting: 100%|██████████| 1319/1319 [00:01<00:00, 763.54it/s]\n"
          ]
        },
        {
          "name": "stdout",
          "output_type": "stream",
          "text": [
            "\n",
            "🎲 Random Set 310/1000: [(0, 11), (5, 10), (1, 2), (11, 4), (7, 8), (11, 3), (4, 2), (10, 3), (5, 1), (2, 6)]\n"
          ]
        },
        {
          "name": "stderr",
          "output_type": "stream",
          "text": [
            "🔁 Extracting: 100%|██████████| 1319/1319 [00:01<00:00, 786.20it/s]\n"
          ]
        },
        {
          "name": "stdout",
          "output_type": "stream",
          "text": [
            "\n",
            "🎲 Random Set 311/1000: [(5, 2), (7, 3), (4, 9), (7, 5), (11, 5), (8, 3), (9, 5), (3, 0), (4, 3), (0, 6)]\n"
          ]
        },
        {
          "name": "stderr",
          "output_type": "stream",
          "text": [
            "🔁 Extracting: 100%|██████████| 1319/1319 [00:01<00:00, 790.93it/s]\n"
          ]
        },
        {
          "name": "stdout",
          "output_type": "stream",
          "text": [
            "\n",
            "🎲 Random Set 312/1000: [(0, 0), (7, 6), (1, 2), (0, 9), (10, 4), (6, 8), (10, 6), (2, 6), (9, 3), (6, 5)]\n"
          ]
        },
        {
          "name": "stderr",
          "output_type": "stream",
          "text": [
            "🔁 Extracting: 100%|██████████| 1319/1319 [00:01<00:00, 789.93it/s]\n"
          ]
        },
        {
          "name": "stdout",
          "output_type": "stream",
          "text": [
            "\n",
            "🎲 Random Set 313/1000: [(9, 7), (6, 6), (4, 11), (10, 11), (4, 5), (9, 8), (0, 9), (0, 7), (9, 2), (8, 4)]\n"
          ]
        },
        {
          "name": "stderr",
          "output_type": "stream",
          "text": [
            "🔁 Extracting: 100%|██████████| 1319/1319 [00:01<00:00, 794.00it/s]\n"
          ]
        },
        {
          "name": "stdout",
          "output_type": "stream",
          "text": [
            "\n",
            "🎲 Random Set 314/1000: [(4, 8), (11, 7), (1, 11), (7, 11), (3, 5), (8, 8), (1, 9), (0, 11), (0, 1), (4, 10)]\n"
          ]
        },
        {
          "name": "stderr",
          "output_type": "stream",
          "text": [
            "🔁 Extracting: 100%|██████████| 1319/1319 [00:01<00:00, 740.09it/s]\n"
          ]
        },
        {
          "name": "stdout",
          "output_type": "stream",
          "text": [
            "\n",
            "🎲 Random Set 315/1000: [(10, 10), (6, 0), (1, 3), (3, 4), (5, 9), (0, 9), (5, 10), (7, 4), (0, 4), (11, 2)]\n"
          ]
        },
        {
          "name": "stderr",
          "output_type": "stream",
          "text": [
            "🔁 Extracting: 100%|██████████| 1319/1319 [00:01<00:00, 794.28it/s]\n"
          ]
        },
        {
          "name": "stdout",
          "output_type": "stream",
          "text": [
            "\n",
            "🎲 Random Set 316/1000: [(9, 10), (7, 2), (3, 11), (9, 1), (0, 8), (7, 8), (6, 11), (1, 0), (3, 1), (8, 9)]\n"
          ]
        },
        {
          "name": "stderr",
          "output_type": "stream",
          "text": [
            "🔁 Extracting: 100%|██████████| 1319/1319 [00:01<00:00, 802.92it/s]\n"
          ]
        },
        {
          "name": "stdout",
          "output_type": "stream",
          "text": [
            "\n",
            "🎲 Random Set 317/1000: [(4, 10), (11, 3), (9, 1), (7, 5), (0, 5), (1, 8), (6, 8), (1, 1), (5, 8), (8, 0)]\n"
          ]
        },
        {
          "name": "stderr",
          "output_type": "stream",
          "text": [
            "🔁 Extracting: 100%|██████████| 1319/1319 [00:01<00:00, 798.07it/s]\n"
          ]
        },
        {
          "name": "stdout",
          "output_type": "stream",
          "text": [
            "\n",
            "🎲 Random Set 318/1000: [(0, 1), (9, 5), (5, 11), (10, 11), (11, 5), (8, 5), (8, 2), (0, 8), (11, 8), (5, 9)]\n"
          ]
        },
        {
          "name": "stderr",
          "output_type": "stream",
          "text": [
            "🔁 Extracting: 100%|██████████| 1319/1319 [00:01<00:00, 762.42it/s]\n"
          ]
        },
        {
          "name": "stdout",
          "output_type": "stream",
          "text": [
            "\n",
            "🎲 Random Set 319/1000: [(10, 2), (11, 6), (0, 9), (8, 2), (0, 3), (1, 6), (4, 5), (3, 10), (9, 11), (9, 5)]\n"
          ]
        },
        {
          "name": "stderr",
          "output_type": "stream",
          "text": [
            "🔁 Extracting: 100%|██████████| 1319/1319 [00:01<00:00, 787.60it/s]\n"
          ]
        },
        {
          "name": "stdout",
          "output_type": "stream",
          "text": [
            "\n",
            "🎲 Random Set 320/1000: [(5, 4), (5, 5), (7, 6), (5, 11), (11, 11), (11, 2), (9, 4), (7, 8), (1, 0), (10, 10)]\n"
          ]
        },
        {
          "name": "stderr",
          "output_type": "stream",
          "text": [
            "🔁 Extracting: 100%|██████████| 1319/1319 [00:01<00:00, 780.08it/s]\n"
          ]
        },
        {
          "name": "stdout",
          "output_type": "stream",
          "text": [
            "\n",
            "🎲 Random Set 321/1000: [(5, 11), (2, 10), (3, 2), (10, 5), (9, 6), (5, 4), (11, 2), (5, 9), (3, 4), (4, 7)]\n"
          ]
        },
        {
          "name": "stderr",
          "output_type": "stream",
          "text": [
            "🔁 Extracting: 100%|██████████| 1319/1319 [00:01<00:00, 764.47it/s]\n"
          ]
        },
        {
          "name": "stdout",
          "output_type": "stream",
          "text": [
            "\n",
            "🎲 Random Set 322/1000: [(6, 11), (3, 4), (3, 3), (8, 2), (5, 9), (8, 5), (9, 9), (9, 10), (5, 1), (2, 11)]\n"
          ]
        },
        {
          "name": "stderr",
          "output_type": "stream",
          "text": [
            "🔁 Extracting: 100%|██████████| 1319/1319 [00:01<00:00, 791.23it/s]\n"
          ]
        },
        {
          "name": "stdout",
          "output_type": "stream",
          "text": [
            "\n",
            "🎲 Random Set 323/1000: [(9, 10), (10, 2), (6, 0), (8, 4), (2, 10), (6, 8), (0, 8), (8, 3), (4, 4), (3, 4)]\n"
          ]
        },
        {
          "name": "stderr",
          "output_type": "stream",
          "text": [
            "🔁 Extracting: 100%|██████████| 1319/1319 [00:01<00:00, 781.77it/s]\n"
          ]
        },
        {
          "name": "stdout",
          "output_type": "stream",
          "text": [
            "\n",
            "🎲 Random Set 324/1000: [(4, 11), (8, 5), (11, 1), (0, 8), (11, 0), (0, 5), (7, 8), (10, 6), (11, 2), (7, 0)]\n"
          ]
        },
        {
          "name": "stderr",
          "output_type": "stream",
          "text": [
            "🔁 Extracting: 100%|██████████| 1319/1319 [00:01<00:00, 796.99it/s]\n"
          ]
        },
        {
          "name": "stdout",
          "output_type": "stream",
          "text": [
            "\n",
            "🎲 Random Set 325/1000: [(4, 8), (1, 0), (4, 1), (8, 3), (5, 1), (2, 5), (0, 9), (11, 1), (3, 8), (6, 8)]\n"
          ]
        },
        {
          "name": "stderr",
          "output_type": "stream",
          "text": [
            "🔁 Extracting: 100%|██████████| 1319/1319 [00:01<00:00, 767.00it/s]\n"
          ]
        },
        {
          "name": "stdout",
          "output_type": "stream",
          "text": [
            "\n",
            "🎲 Random Set 326/1000: [(11, 10), (6, 4), (6, 7), (8, 11), (7, 2), (7, 4), (0, 7), (0, 9), (10, 8), (2, 2)]\n"
          ]
        },
        {
          "name": "stderr",
          "output_type": "stream",
          "text": [
            "🔁 Extracting: 100%|██████████| 1319/1319 [00:01<00:00, 799.76it/s]\n"
          ]
        },
        {
          "name": "stdout",
          "output_type": "stream",
          "text": [
            "\n",
            "🎲 Random Set 327/1000: [(8, 2), (1, 4), (1, 11), (3, 0), (8, 3), (5, 10), (10, 2), (9, 9), (6, 10), (11, 5)]\n"
          ]
        },
        {
          "name": "stderr",
          "output_type": "stream",
          "text": [
            "🔁 Extracting: 100%|██████████| 1319/1319 [00:01<00:00, 798.55it/s]\n"
          ]
        },
        {
          "name": "stdout",
          "output_type": "stream",
          "text": [
            "\n",
            "🎲 Random Set 328/1000: [(4, 2), (9, 2), (1, 8), (5, 4), (8, 10), (7, 3), (6, 7), (3, 10), (4, 11), (10, 11)]\n"
          ]
        },
        {
          "name": "stderr",
          "output_type": "stream",
          "text": [
            "🔁 Extracting: 100%|██████████| 1319/1319 [00:01<00:00, 771.38it/s]\n"
          ]
        },
        {
          "name": "stdout",
          "output_type": "stream",
          "text": [
            "\n",
            "🎲 Random Set 329/1000: [(8, 10), (2, 9), (1, 6), (8, 5), (5, 8), (4, 8), (0, 9), (7, 6), (4, 4), (9, 8)]\n"
          ]
        },
        {
          "name": "stderr",
          "output_type": "stream",
          "text": [
            "🔁 Extracting: 100%|██████████| 1319/1319 [00:01<00:00, 794.15it/s]\n"
          ]
        },
        {
          "name": "stdout",
          "output_type": "stream",
          "text": [
            "\n",
            "🎲 Random Set 330/1000: [(10, 1), (8, 4), (3, 6), (6, 7), (11, 2), (9, 0), (7, 8), (10, 7), (4, 4), (2, 5)]\n"
          ]
        },
        {
          "name": "stderr",
          "output_type": "stream",
          "text": [
            "🔁 Extracting: 100%|██████████| 1319/1319 [00:01<00:00, 793.18it/s]\n"
          ]
        },
        {
          "name": "stdout",
          "output_type": "stream",
          "text": [
            "\n",
            "🎲 Random Set 331/1000: [(6, 0), (10, 3), (11, 1), (8, 0), (0, 3), (5, 4), (9, 6), (2, 0), (0, 0), (4, 1)]\n"
          ]
        },
        {
          "name": "stderr",
          "output_type": "stream",
          "text": [
            "🔁 Extracting: 100%|██████████| 1319/1319 [00:01<00:00, 785.13it/s]\n"
          ]
        },
        {
          "name": "stdout",
          "output_type": "stream",
          "text": [
            "\n",
            "🎲 Random Set 332/1000: [(5, 1), (6, 4), (11, 7), (3, 1), (0, 5), (2, 2), (0, 1), (1, 3), (0, 3), (8, 3)]\n"
          ]
        },
        {
          "name": "stderr",
          "output_type": "stream",
          "text": [
            "🔁 Extracting: 100%|██████████| 1319/1319 [00:01<00:00, 785.61it/s]\n"
          ]
        },
        {
          "name": "stdout",
          "output_type": "stream",
          "text": [
            "\n",
            "🎲 Random Set 333/1000: [(10, 7), (6, 4), (8, 6), (0, 9), (0, 7), (2, 8), (11, 8), (6, 3), (1, 8), (2, 7)]\n"
          ]
        },
        {
          "name": "stderr",
          "output_type": "stream",
          "text": [
            "🔁 Extracting: 100%|██████████| 1319/1319 [00:01<00:00, 786.62it/s]\n"
          ]
        },
        {
          "name": "stdout",
          "output_type": "stream",
          "text": [
            "\n",
            "🎲 Random Set 334/1000: [(2, 4), (8, 4), (4, 10), (9, 11), (5, 1), (3, 5), (8, 7), (0, 2), (1, 11), (5, 9)]\n"
          ]
        },
        {
          "name": "stderr",
          "output_type": "stream",
          "text": [
            "🔁 Extracting: 100%|██████████| 1319/1319 [00:01<00:00, 788.17it/s]\n"
          ]
        },
        {
          "name": "stdout",
          "output_type": "stream",
          "text": [
            "\n",
            "🎲 Random Set 335/1000: [(7, 0), (11, 9), (5, 8), (2, 10), (1, 1), (5, 3), (4, 6), (4, 5), (3, 4), (5, 10)]\n"
          ]
        },
        {
          "name": "stderr",
          "output_type": "stream",
          "text": [
            "🔁 Extracting: 100%|██████████| 1319/1319 [00:01<00:00, 784.77it/s]\n"
          ]
        },
        {
          "name": "stdout",
          "output_type": "stream",
          "text": [
            "\n",
            "🎲 Random Set 336/1000: [(4, 6), (4, 7), (7, 5), (3, 0), (3, 11), (3, 7), (3, 10), (4, 10), (1, 9), (6, 6)]\n"
          ]
        },
        {
          "name": "stderr",
          "output_type": "stream",
          "text": [
            "🔁 Extracting: 100%|██████████| 1319/1319 [00:01<00:00, 773.56it/s]\n"
          ]
        },
        {
          "name": "stdout",
          "output_type": "stream",
          "text": [
            "\n",
            "🎲 Random Set 337/1000: [(7, 4), (8, 0), (10, 4), (11, 2), (9, 6), (4, 7), (2, 5), (4, 2), (6, 11), (3, 2)]\n"
          ]
        },
        {
          "name": "stderr",
          "output_type": "stream",
          "text": [
            "🔁 Extracting: 100%|██████████| 1319/1319 [00:01<00:00, 806.31it/s]\n"
          ]
        },
        {
          "name": "stdout",
          "output_type": "stream",
          "text": [
            "\n",
            "🎲 Random Set 338/1000: [(0, 8), (4, 5), (3, 0), (8, 0), (0, 7), (0, 4), (7, 11), (10, 7), (5, 5), (4, 11)]\n"
          ]
        },
        {
          "name": "stderr",
          "output_type": "stream",
          "text": [
            "🔁 Extracting: 100%|██████████| 1319/1319 [00:01<00:00, 799.46it/s]\n"
          ]
        },
        {
          "name": "stdout",
          "output_type": "stream",
          "text": [
            "\n",
            "🎲 Random Set 339/1000: [(9, 1), (5, 8), (10, 7), (0, 3), (11, 7), (3, 6), (5, 3), (5, 11), (5, 4), (2, 9)]\n"
          ]
        },
        {
          "name": "stderr",
          "output_type": "stream",
          "text": [
            "🔁 Extracting: 100%|██████████| 1319/1319 [00:01<00:00, 799.02it/s]\n"
          ]
        },
        {
          "name": "stdout",
          "output_type": "stream",
          "text": [
            "\n",
            "🎲 Random Set 340/1000: [(6, 10), (2, 0), (9, 11), (2, 11), (3, 10), (8, 5), (9, 1), (0, 5), (4, 0), (9, 3)]\n"
          ]
        },
        {
          "name": "stderr",
          "output_type": "stream",
          "text": [
            "🔁 Extracting: 100%|██████████| 1319/1319 [00:01<00:00, 798.04it/s]\n"
          ]
        },
        {
          "name": "stdout",
          "output_type": "stream",
          "text": [
            "\n",
            "🎲 Random Set 341/1000: [(4, 0), (4, 10), (7, 1), (2, 7), (7, 11), (8, 3), (7, 4), (1, 7), (1, 2), (2, 11)]\n"
          ]
        },
        {
          "name": "stderr",
          "output_type": "stream",
          "text": [
            "🔁 Extracting: 100%|██████████| 1319/1319 [00:01<00:00, 764.44it/s]\n"
          ]
        },
        {
          "name": "stdout",
          "output_type": "stream",
          "text": [
            "\n",
            "🎲 Random Set 342/1000: [(4, 11), (8, 9), (10, 4), (6, 2), (5, 8), (0, 4), (6, 5), (1, 3), (6, 3), (9, 6)]\n"
          ]
        },
        {
          "name": "stderr",
          "output_type": "stream",
          "text": [
            "🔁 Extracting: 100%|██████████| 1319/1319 [00:01<00:00, 802.08it/s]\n"
          ]
        },
        {
          "name": "stdout",
          "output_type": "stream",
          "text": [
            "\n",
            "🎲 Random Set 343/1000: [(11, 5), (11, 8), (6, 9), (0, 0), (10, 6), (9, 9), (6, 0), (7, 9), (0, 11), (0, 7)]\n"
          ]
        },
        {
          "name": "stderr",
          "output_type": "stream",
          "text": [
            "🔁 Extracting: 100%|██████████| 1319/1319 [00:01<00:00, 813.94it/s]\n"
          ]
        },
        {
          "name": "stdout",
          "output_type": "stream",
          "text": [
            "\n",
            "🎲 Random Set 344/1000: [(4, 9), (9, 7), (1, 2), (0, 11), (0, 1), (4, 1), (3, 5), (7, 11), (3, 11), (3, 4)]\n"
          ]
        },
        {
          "name": "stderr",
          "output_type": "stream",
          "text": [
            "🔁 Extracting: 100%|██████████| 1319/1319 [00:01<00:00, 808.05it/s]\n"
          ]
        },
        {
          "name": "stdout",
          "output_type": "stream",
          "text": [
            "\n",
            "🎲 Random Set 345/1000: [(9, 3), (3, 7), (6, 2), (3, 9), (6, 10), (1, 2), (5, 1), (5, 0), (2, 0), (0, 9)]\n"
          ]
        },
        {
          "name": "stderr",
          "output_type": "stream",
          "text": [
            "🔁 Extracting: 100%|██████████| 1319/1319 [00:01<00:00, 788.61it/s]\n"
          ]
        },
        {
          "name": "stdout",
          "output_type": "stream",
          "text": [
            "\n",
            "🎲 Random Set 346/1000: [(1, 5), (3, 0), (5, 10), (4, 7), (7, 7), (2, 7), (7, 1), (5, 2), (11, 11), (0, 8)]\n"
          ]
        },
        {
          "name": "stderr",
          "output_type": "stream",
          "text": [
            "🔁 Extracting: 100%|██████████| 1319/1319 [00:01<00:00, 795.89it/s]\n"
          ]
        },
        {
          "name": "stdout",
          "output_type": "stream",
          "text": [
            "\n",
            "🎲 Random Set 347/1000: [(0, 3), (1, 3), (8, 2), (7, 10), (9, 2), (0, 5), (5, 11), (11, 3), (2, 10), (2, 2)]\n"
          ]
        },
        {
          "name": "stderr",
          "output_type": "stream",
          "text": [
            "🔁 Extracting: 100%|██████████| 1319/1319 [00:01<00:00, 788.89it/s]\n"
          ]
        },
        {
          "name": "stdout",
          "output_type": "stream",
          "text": [
            "\n",
            "🎲 Random Set 348/1000: [(9, 8), (8, 9), (9, 0), (10, 3), (3, 3), (7, 7), (2, 5), (4, 3), (10, 11), (4, 4)]\n"
          ]
        },
        {
          "name": "stderr",
          "output_type": "stream",
          "text": [
            "🔁 Extracting: 100%|██████████| 1319/1319 [00:01<00:00, 764.75it/s]\n"
          ]
        },
        {
          "name": "stdout",
          "output_type": "stream",
          "text": [
            "\n",
            "🎲 Random Set 349/1000: [(10, 7), (11, 3), (3, 9), (7, 8), (6, 9), (7, 4), (4, 0), (3, 1), (8, 9), (0, 8)]\n"
          ]
        },
        {
          "name": "stderr",
          "output_type": "stream",
          "text": [
            "🔁 Extracting: 100%|██████████| 1319/1319 [00:01<00:00, 797.95it/s]\n"
          ]
        },
        {
          "name": "stdout",
          "output_type": "stream",
          "text": [
            "\n",
            "🎲 Random Set 350/1000: [(10, 2), (0, 2), (5, 1), (7, 11), (3, 1), (11, 10), (4, 3), (6, 11), (9, 10), (1, 8)]\n"
          ]
        },
        {
          "name": "stderr",
          "output_type": "stream",
          "text": [
            "🔁 Extracting: 100%|██████████| 1319/1319 [00:01<00:00, 792.33it/s]\n"
          ]
        },
        {
          "name": "stdout",
          "output_type": "stream",
          "text": [
            "\n",
            "🎲 Random Set 351/1000: [(4, 3), (2, 6), (8, 9), (10, 10), (6, 0), (5, 7), (5, 5), (3, 0), (2, 11), (4, 4)]\n"
          ]
        },
        {
          "name": "stderr",
          "output_type": "stream",
          "text": [
            "🔁 Extracting: 100%|██████████| 1319/1319 [00:01<00:00, 793.59it/s]\n"
          ]
        },
        {
          "name": "stdout",
          "output_type": "stream",
          "text": [
            "\n",
            "🎲 Random Set 352/1000: [(5, 9), (3, 1), (2, 0), (3, 2), (9, 4), (2, 8), (9, 7), (4, 4), (1, 2), (4, 5)]\n"
          ]
        },
        {
          "name": "stderr",
          "output_type": "stream",
          "text": [
            "🔁 Extracting: 100%|██████████| 1319/1319 [00:01<00:00, 807.93it/s]\n"
          ]
        },
        {
          "name": "stdout",
          "output_type": "stream",
          "text": [
            "\n",
            "🎲 Random Set 353/1000: [(0, 5), (11, 11), (5, 1), (2, 6), (10, 7), (4, 9), (10, 9), (3, 11), (11, 7), (3, 8)]\n"
          ]
        },
        {
          "name": "stderr",
          "output_type": "stream",
          "text": [
            "🔁 Extracting: 100%|██████████| 1319/1319 [00:01<00:00, 816.23it/s]\n"
          ]
        },
        {
          "name": "stdout",
          "output_type": "stream",
          "text": [
            "\n",
            "🎲 Random Set 354/1000: [(0, 2), (6, 6), (7, 7), (5, 2), (4, 1), (0, 8), (0, 11), (3, 0), (3, 6), (6, 7)]\n"
          ]
        },
        {
          "name": "stderr",
          "output_type": "stream",
          "text": [
            "🔁 Extracting: 100%|██████████| 1319/1319 [00:01<00:00, 793.24it/s]\n"
          ]
        },
        {
          "name": "stdout",
          "output_type": "stream",
          "text": [
            "\n",
            "🎲 Random Set 355/1000: [(2, 2), (7, 2), (5, 8), (2, 5), (5, 7), (10, 6), (8, 2), (2, 6), (3, 1), (2, 7)]\n"
          ]
        },
        {
          "name": "stderr",
          "output_type": "stream",
          "text": [
            "🔁 Extracting: 100%|██████████| 1319/1319 [00:02<00:00, 594.29it/s]\n"
          ]
        },
        {
          "name": "stdout",
          "output_type": "stream",
          "text": [
            "\n",
            "🎲 Random Set 356/1000: [(2, 6), (9, 1), (4, 4), (0, 9), (7, 1), (11, 8), (10, 11), (1, 3), (1, 8), (7, 6)]\n"
          ]
        },
        {
          "name": "stderr",
          "output_type": "stream",
          "text": [
            "🔁 Extracting: 100%|██████████| 1319/1319 [00:01<00:00, 792.89it/s]\n"
          ]
        },
        {
          "name": "stdout",
          "output_type": "stream",
          "text": [
            "\n",
            "🎲 Random Set 357/1000: [(1, 4), (6, 2), (2, 10), (2, 0), (3, 8), (10, 0), (5, 1), (2, 5), (1, 10), (5, 7)]\n"
          ]
        },
        {
          "name": "stderr",
          "output_type": "stream",
          "text": [
            "🔁 Extracting: 100%|██████████| 1319/1319 [00:01<00:00, 800.56it/s]\n"
          ]
        },
        {
          "name": "stdout",
          "output_type": "stream",
          "text": [
            "\n",
            "🎲 Random Set 358/1000: [(0, 3), (1, 9), (9, 10), (4, 0), (11, 1), (6, 10), (8, 0), (11, 2), (0, 6), (11, 9)]\n"
          ]
        },
        {
          "name": "stderr",
          "output_type": "stream",
          "text": [
            "🔁 Extracting: 100%|██████████| 1319/1319 [00:01<00:00, 813.26it/s]\n"
          ]
        },
        {
          "name": "stdout",
          "output_type": "stream",
          "text": [
            "\n",
            "🎲 Random Set 359/1000: [(10, 7), (5, 10), (4, 9), (8, 6), (2, 6), (5, 0), (9, 3), (8, 5), (4, 10), (3, 11)]\n"
          ]
        },
        {
          "name": "stderr",
          "output_type": "stream",
          "text": [
            "🔁 Extracting: 100%|██████████| 1319/1319 [00:01<00:00, 811.78it/s]\n"
          ]
        },
        {
          "name": "stdout",
          "output_type": "stream",
          "text": [
            "\n",
            "🎲 Random Set 360/1000: [(9, 0), (11, 11), (3, 9), (0, 11), (6, 5), (8, 0), (1, 3), (2, 9), (7, 8), (7, 0)]\n"
          ]
        },
        {
          "name": "stderr",
          "output_type": "stream",
          "text": [
            "🔁 Extracting: 100%|██████████| 1319/1319 [00:01<00:00, 809.93it/s]\n"
          ]
        },
        {
          "name": "stdout",
          "output_type": "stream",
          "text": [
            "\n",
            "🎲 Random Set 361/1000: [(2, 11), (5, 4), (9, 3), (8, 9), (1, 3), (4, 8), (6, 5), (8, 6), (5, 11), (9, 6)]\n"
          ]
        },
        {
          "name": "stderr",
          "output_type": "stream",
          "text": [
            "🔁 Extracting: 100%|██████████| 1319/1319 [00:01<00:00, 775.73it/s]\n"
          ]
        },
        {
          "name": "stdout",
          "output_type": "stream",
          "text": [
            "\n",
            "🎲 Random Set 362/1000: [(5, 10), (6, 11), (0, 11), (10, 1), (1, 6), (7, 10), (4, 2), (7, 4), (4, 10), (10, 4)]\n"
          ]
        },
        {
          "name": "stderr",
          "output_type": "stream",
          "text": [
            "🔁 Extracting: 100%|██████████| 1319/1319 [00:01<00:00, 780.44it/s]\n"
          ]
        },
        {
          "name": "stdout",
          "output_type": "stream",
          "text": [
            "\n",
            "🎲 Random Set 363/1000: [(3, 4), (7, 6), (11, 1), (0, 4), (5, 7), (8, 6), (10, 4), (9, 11), (1, 0), (9, 5)]\n"
          ]
        },
        {
          "name": "stderr",
          "output_type": "stream",
          "text": [
            "🔁 Extracting: 100%|██████████| 1319/1319 [00:01<00:00, 806.87it/s]\n"
          ]
        },
        {
          "name": "stdout",
          "output_type": "stream",
          "text": [
            "\n",
            "🎲 Random Set 364/1000: [(0, 1), (9, 10), (3, 0), (2, 7), (5, 5), (3, 8), (10, 7), (7, 9), (7, 1), (3, 9)]\n"
          ]
        },
        {
          "name": "stderr",
          "output_type": "stream",
          "text": [
            "🔁 Extracting: 100%|██████████| 1319/1319 [00:01<00:00, 778.97it/s]\n"
          ]
        },
        {
          "name": "stdout",
          "output_type": "stream",
          "text": [
            "\n",
            "🎲 Random Set 365/1000: [(6, 4), (0, 11), (8, 10), (4, 10), (11, 2), (9, 9), (9, 0), (9, 4), (3, 6), (0, 9)]\n"
          ]
        },
        {
          "name": "stderr",
          "output_type": "stream",
          "text": [
            "🔁 Extracting: 100%|██████████| 1319/1319 [00:01<00:00, 812.52it/s]\n"
          ]
        },
        {
          "name": "stdout",
          "output_type": "stream",
          "text": [
            "\n",
            "🎲 Random Set 366/1000: [(10, 4), (4, 6), (8, 5), (10, 5), (6, 0), (4, 5), (7, 10), (11, 1), (6, 1), (7, 4)]\n"
          ]
        },
        {
          "name": "stderr",
          "output_type": "stream",
          "text": [
            "🔁 Extracting: 100%|██████████| 1319/1319 [00:01<00:00, 813.58it/s]\n"
          ]
        },
        {
          "name": "stdout",
          "output_type": "stream",
          "text": [
            "\n",
            "🎲 Random Set 367/1000: [(9, 8), (8, 4), (6, 10), (8, 8), (9, 4), (11, 9), (7, 9), (1, 10), (2, 0), (0, 9)]\n"
          ]
        },
        {
          "name": "stderr",
          "output_type": "stream",
          "text": [
            "🔁 Extracting: 100%|██████████| 1319/1319 [00:01<00:00, 789.95it/s]\n"
          ]
        },
        {
          "name": "stdout",
          "output_type": "stream",
          "text": [
            "\n",
            "🎲 Random Set 368/1000: [(7, 0), (4, 3), (11, 6), (1, 7), (8, 0), (5, 2), (8, 6), (0, 8), (1, 6), (6, 5)]\n"
          ]
        },
        {
          "name": "stderr",
          "output_type": "stream",
          "text": [
            "🔁 Extracting: 100%|██████████| 1319/1319 [00:01<00:00, 767.17it/s]\n"
          ]
        },
        {
          "name": "stdout",
          "output_type": "stream",
          "text": [
            "\n",
            "🎲 Random Set 369/1000: [(0, 8), (0, 3), (4, 0), (8, 8), (7, 8), (0, 0), (2, 0), (4, 4), (5, 11), (2, 4)]\n"
          ]
        },
        {
          "name": "stderr",
          "output_type": "stream",
          "text": [
            "🔁 Extracting: 100%|██████████| 1319/1319 [00:01<00:00, 807.08it/s]\n"
          ]
        },
        {
          "name": "stdout",
          "output_type": "stream",
          "text": [
            "\n",
            "🎲 Random Set 370/1000: [(1, 4), (5, 0), (9, 4), (3, 11), (4, 11), (2, 2), (5, 10), (6, 3), (9, 2), (4, 5)]\n"
          ]
        },
        {
          "name": "stderr",
          "output_type": "stream",
          "text": [
            "🔁 Extracting: 100%|██████████| 1319/1319 [00:01<00:00, 812.81it/s]\n"
          ]
        },
        {
          "name": "stdout",
          "output_type": "stream",
          "text": [
            "\n",
            "🎲 Random Set 371/1000: [(2, 7), (7, 1), (9, 6), (4, 1), (3, 1), (5, 2), (3, 5), (7, 10), (11, 4), (10, 9)]\n"
          ]
        },
        {
          "name": "stderr",
          "output_type": "stream",
          "text": [
            "🔁 Extracting: 100%|██████████| 1319/1319 [00:01<00:00, 769.01it/s]\n"
          ]
        },
        {
          "name": "stdout",
          "output_type": "stream",
          "text": [
            "\n",
            "🎲 Random Set 372/1000: [(11, 1), (2, 6), (8, 2), (2, 11), (0, 1), (3, 0), (9, 1), (1, 1), (1, 2), (4, 10)]\n"
          ]
        },
        {
          "name": "stderr",
          "output_type": "stream",
          "text": [
            "🔁 Extracting: 100%|██████████| 1319/1319 [00:01<00:00, 813.86it/s]\n"
          ]
        },
        {
          "name": "stdout",
          "output_type": "stream",
          "text": [
            "\n",
            "🎲 Random Set 373/1000: [(6, 7), (4, 7), (11, 7), (4, 10), (0, 0), (7, 0), (3, 9), (0, 11), (4, 8), (0, 8)]\n"
          ]
        },
        {
          "name": "stderr",
          "output_type": "stream",
          "text": [
            "🔁 Extracting: 100%|██████████| 1319/1319 [00:01<00:00, 816.27it/s]\n"
          ]
        },
        {
          "name": "stdout",
          "output_type": "stream",
          "text": [
            "\n",
            "🎲 Random Set 374/1000: [(6, 8), (7, 0), (1, 4), (8, 6), (7, 11), (8, 7), (8, 0), (0, 9), (5, 7), (10, 2)]\n"
          ]
        },
        {
          "name": "stderr",
          "output_type": "stream",
          "text": [
            "🔁 Extracting: 100%|██████████| 1319/1319 [00:01<00:00, 802.31it/s]\n"
          ]
        },
        {
          "name": "stdout",
          "output_type": "stream",
          "text": [
            "\n",
            "🎲 Random Set 375/1000: [(5, 10), (6, 11), (11, 10), (1, 11), (8, 0), (10, 11), (5, 7), (8, 4), (9, 5), (3, 5)]\n"
          ]
        },
        {
          "name": "stderr",
          "output_type": "stream",
          "text": [
            "🔁 Extracting: 100%|██████████| 1319/1319 [00:01<00:00, 774.27it/s]\n"
          ]
        },
        {
          "name": "stdout",
          "output_type": "stream",
          "text": [
            "\n",
            "🎲 Random Set 376/1000: [(10, 2), (7, 7), (0, 4), (6, 2), (6, 6), (5, 0), (0, 9), (6, 11), (2, 10), (7, 1)]\n"
          ]
        },
        {
          "name": "stderr",
          "output_type": "stream",
          "text": [
            "🔁 Extracting: 100%|██████████| 1319/1319 [00:01<00:00, 755.03it/s]\n"
          ]
        },
        {
          "name": "stdout",
          "output_type": "stream",
          "text": [
            "\n",
            "🎲 Random Set 377/1000: [(9, 1), (10, 3), (5, 0), (9, 3), (9, 9), (0, 8), (1, 5), (11, 9), (7, 3), (8, 7)]\n"
          ]
        },
        {
          "name": "stderr",
          "output_type": "stream",
          "text": [
            "🔁 Extracting: 100%|██████████| 1319/1319 [00:01<00:00, 801.98it/s]\n"
          ]
        },
        {
          "name": "stdout",
          "output_type": "stream",
          "text": [
            "\n",
            "🎲 Random Set 378/1000: [(8, 5), (8, 9), (6, 10), (1, 7), (7, 9), (5, 6), (10, 3), (1, 1), (0, 0), (11, 6)]\n"
          ]
        },
        {
          "name": "stderr",
          "output_type": "stream",
          "text": [
            "🔁 Extracting: 100%|██████████| 1319/1319 [00:01<00:00, 780.58it/s]\n"
          ]
        },
        {
          "name": "stdout",
          "output_type": "stream",
          "text": [
            "\n",
            "🎲 Random Set 379/1000: [(2, 2), (7, 7), (5, 3), (5, 6), (1, 0), (11, 9), (9, 4), (4, 2), (2, 6), (4, 0)]\n"
          ]
        },
        {
          "name": "stderr",
          "output_type": "stream",
          "text": [
            "🔁 Extracting: 100%|██████████| 1319/1319 [00:01<00:00, 795.95it/s]\n"
          ]
        },
        {
          "name": "stdout",
          "output_type": "stream",
          "text": [
            "\n",
            "🎲 Random Set 380/1000: [(3, 9), (6, 1), (11, 0), (9, 0), (4, 10), (5, 5), (3, 6), (9, 6), (4, 3), (7, 3)]\n"
          ]
        },
        {
          "name": "stderr",
          "output_type": "stream",
          "text": [
            "🔁 Extracting: 100%|██████████| 1319/1319 [00:01<00:00, 772.40it/s]\n"
          ]
        },
        {
          "name": "stdout",
          "output_type": "stream",
          "text": [
            "\n",
            "🎲 Random Set 381/1000: [(3, 8), (5, 8), (2, 7), (4, 11), (11, 2), (11, 7), (8, 8), (5, 2), (9, 5), (7, 10)]\n"
          ]
        },
        {
          "name": "stderr",
          "output_type": "stream",
          "text": [
            "🔁 Extracting: 100%|██████████| 1319/1319 [00:01<00:00, 785.88it/s]\n"
          ]
        },
        {
          "name": "stdout",
          "output_type": "stream",
          "text": [
            "\n",
            "🎲 Random Set 382/1000: [(3, 3), (1, 8), (1, 6), (9, 8), (3, 11), (8, 1), (4, 0), (5, 11), (10, 9), (11, 4)]\n"
          ]
        },
        {
          "name": "stderr",
          "output_type": "stream",
          "text": [
            "🔁 Extracting: 100%|██████████| 1319/1319 [00:01<00:00, 779.59it/s]\n"
          ]
        },
        {
          "name": "stdout",
          "output_type": "stream",
          "text": [
            "\n",
            "🎲 Random Set 383/1000: [(4, 1), (10, 7), (10, 6), (4, 10), (3, 9), (11, 8), (8, 6), (0, 11), (6, 7), (4, 11)]\n"
          ]
        },
        {
          "name": "stderr",
          "output_type": "stream",
          "text": [
            "🔁 Extracting: 100%|██████████| 1319/1319 [00:01<00:00, 783.18it/s]\n"
          ]
        },
        {
          "name": "stdout",
          "output_type": "stream",
          "text": [
            "\n",
            "🎲 Random Set 384/1000: [(4, 3), (10, 1), (9, 7), (5, 3), (11, 5), (9, 4), (10, 9), (7, 1), (6, 1), (10, 3)]\n"
          ]
        },
        {
          "name": "stderr",
          "output_type": "stream",
          "text": [
            "🔁 Extracting: 100%|██████████| 1319/1319 [00:01<00:00, 816.04it/s]\n"
          ]
        },
        {
          "name": "stdout",
          "output_type": "stream",
          "text": [
            "\n",
            "🎲 Random Set 385/1000: [(7, 11), (1, 2), (7, 9), (1, 11), (9, 0), (11, 3), (5, 1), (2, 4), (10, 6), (5, 11)]\n"
          ]
        },
        {
          "name": "stderr",
          "output_type": "stream",
          "text": [
            "🔁 Extracting: 100%|██████████| 1319/1319 [00:01<00:00, 809.05it/s]\n"
          ]
        },
        {
          "name": "stdout",
          "output_type": "stream",
          "text": [
            "\n",
            "🎲 Random Set 386/1000: [(0, 10), (8, 0), (8, 9), (4, 6), (6, 9), (11, 7), (3, 3), (11, 8), (11, 6), (7, 8)]\n"
          ]
        },
        {
          "name": "stderr",
          "output_type": "stream",
          "text": [
            "🔁 Extracting: 100%|██████████| 1319/1319 [00:01<00:00, 807.00it/s]\n"
          ]
        },
        {
          "name": "stdout",
          "output_type": "stream",
          "text": [
            "\n",
            "🎲 Random Set 387/1000: [(5, 4), (8, 0), (9, 5), (6, 0), (6, 1), (2, 4), (1, 7), (5, 2), (0, 0), (3, 9)]\n"
          ]
        },
        {
          "name": "stderr",
          "output_type": "stream",
          "text": [
            "🔁 Extracting: 100%|██████████| 1319/1319 [00:01<00:00, 809.39it/s]\n"
          ]
        },
        {
          "name": "stdout",
          "output_type": "stream",
          "text": [
            "\n",
            "🎲 Random Set 388/1000: [(5, 9), (1, 1), (6, 11), (11, 9), (11, 5), (3, 4), (7, 10), (0, 7), (1, 11), (9, 3)]\n"
          ]
        },
        {
          "name": "stderr",
          "output_type": "stream",
          "text": [
            "🔁 Extracting: 100%|██████████| 1319/1319 [00:01<00:00, 795.64it/s]\n"
          ]
        },
        {
          "name": "stdout",
          "output_type": "stream",
          "text": [
            "\n",
            "🎲 Random Set 389/1000: [(0, 0), (9, 7), (11, 6), (8, 4), (10, 7), (11, 8), (4, 4), (0, 7), (0, 2), (5, 5)]\n"
          ]
        },
        {
          "name": "stderr",
          "output_type": "stream",
          "text": [
            "🔁 Extracting: 100%|██████████| 1319/1319 [00:01<00:00, 788.96it/s]\n"
          ]
        },
        {
          "name": "stdout",
          "output_type": "stream",
          "text": [
            "\n",
            "🎲 Random Set 390/1000: [(5, 0), (9, 6), (1, 10), (5, 3), (2, 1), (10, 6), (5, 9), (1, 4), (2, 6), (7, 3)]\n"
          ]
        },
        {
          "name": "stderr",
          "output_type": "stream",
          "text": [
            "🔁 Extracting: 100%|██████████| 1319/1319 [00:01<00:00, 804.13it/s]\n"
          ]
        },
        {
          "name": "stdout",
          "output_type": "stream",
          "text": [
            "\n",
            "🎲 Random Set 391/1000: [(11, 5), (5, 11), (9, 4), (2, 10), (0, 3), (6, 2), (9, 7), (9, 3), (3, 11), (2, 8)]\n"
          ]
        },
        {
          "name": "stderr",
          "output_type": "stream",
          "text": [
            "🔁 Extracting: 100%|██████████| 1319/1319 [00:01<00:00, 790.29it/s]\n"
          ]
        },
        {
          "name": "stdout",
          "output_type": "stream",
          "text": [
            "\n",
            "🎲 Random Set 392/1000: [(10, 9), (5, 2), (11, 2), (8, 1), (4, 3), (7, 2), (4, 4), (5, 4), (0, 9), (5, 7)]\n"
          ]
        },
        {
          "name": "stderr",
          "output_type": "stream",
          "text": [
            "🔁 Extracting: 100%|██████████| 1319/1319 [00:01<00:00, 788.16it/s]\n"
          ]
        },
        {
          "name": "stdout",
          "output_type": "stream",
          "text": [
            "\n",
            "🎲 Random Set 393/1000: [(0, 1), (4, 8), (11, 11), (10, 3), (2, 10), (3, 9), (9, 4), (5, 10), (11, 10), (3, 7)]\n"
          ]
        },
        {
          "name": "stderr",
          "output_type": "stream",
          "text": [
            "🔁 Extracting: 100%|██████████| 1319/1319 [00:01<00:00, 795.90it/s]\n"
          ]
        },
        {
          "name": "stdout",
          "output_type": "stream",
          "text": [
            "\n",
            "🎲 Random Set 394/1000: [(10, 1), (2, 4), (0, 8), (7, 2), (5, 0), (3, 3), (6, 8), (3, 5), (3, 10), (6, 1)]\n"
          ]
        },
        {
          "name": "stderr",
          "output_type": "stream",
          "text": [
            "🔁 Extracting: 100%|██████████| 1319/1319 [00:01<00:00, 814.99it/s]\n"
          ]
        },
        {
          "name": "stdout",
          "output_type": "stream",
          "text": [
            "\n",
            "🎲 Random Set 395/1000: [(7, 3), (11, 10), (10, 6), (5, 6), (0, 0), (10, 1), (9, 0), (10, 4), (4, 2), (9, 1)]\n"
          ]
        },
        {
          "name": "stderr",
          "output_type": "stream",
          "text": [
            "🔁 Extracting: 100%|██████████| 1319/1319 [00:01<00:00, 801.14it/s]\n"
          ]
        },
        {
          "name": "stdout",
          "output_type": "stream",
          "text": [
            "\n",
            "🎲 Random Set 396/1000: [(3, 11), (2, 11), (7, 9), (5, 0), (9, 10), (3, 9), (1, 4), (8, 0), (7, 0), (6, 0)]\n"
          ]
        },
        {
          "name": "stderr",
          "output_type": "stream",
          "text": [
            "🔁 Extracting: 100%|██████████| 1319/1319 [00:01<00:00, 786.47it/s]\n"
          ]
        },
        {
          "name": "stdout",
          "output_type": "stream",
          "text": [
            "\n",
            "🎲 Random Set 397/1000: [(4, 0), (6, 3), (11, 5), (0, 10), (4, 7), (9, 4), (7, 0), (1, 5), (3, 7), (7, 6)]\n"
          ]
        },
        {
          "name": "stderr",
          "output_type": "stream",
          "text": [
            "🔁 Extracting: 100%|██████████| 1319/1319 [00:01<00:00, 799.54it/s]\n"
          ]
        },
        {
          "name": "stdout",
          "output_type": "stream",
          "text": [
            "\n",
            "🎲 Random Set 398/1000: [(8, 10), (6, 2), (3, 1), (5, 6), (7, 3), (0, 7), (1, 8), (6, 0), (9, 10), (4, 9)]\n"
          ]
        },
        {
          "name": "stderr",
          "output_type": "stream",
          "text": [
            "🔁 Extracting: 100%|██████████| 1319/1319 [00:01<00:00, 799.50it/s]\n"
          ]
        },
        {
          "name": "stdout",
          "output_type": "stream",
          "text": [
            "\n",
            "🎲 Random Set 399/1000: [(9, 4), (2, 1), (11, 0), (2, 6), (3, 9), (3, 1), (8, 0), (7, 5), (4, 11), (6, 2)]\n"
          ]
        },
        {
          "name": "stderr",
          "output_type": "stream",
          "text": [
            "🔁 Extracting: 100%|██████████| 1319/1319 [00:01<00:00, 802.61it/s]\n"
          ]
        },
        {
          "name": "stdout",
          "output_type": "stream",
          "text": [
            "\n",
            "🎲 Random Set 400/1000: [(8, 8), (2, 7), (11, 1), (9, 10), (8, 11), (7, 3), (7, 9), (10, 9), (8, 10), (2, 9)]\n"
          ]
        },
        {
          "name": "stderr",
          "output_type": "stream",
          "text": [
            "🔁 Extracting: 100%|██████████| 1319/1319 [00:01<00:00, 794.53it/s]\n"
          ]
        },
        {
          "name": "stdout",
          "output_type": "stream",
          "text": [
            "\n",
            "🎲 Random Set 401/1000: [(2, 10), (1, 0), (6, 10), (8, 1), (6, 8), (2, 0), (6, 4), (8, 7), (5, 11), (4, 4)]\n"
          ]
        },
        {
          "name": "stderr",
          "output_type": "stream",
          "text": [
            "🔁 Extracting: 100%|██████████| 1319/1319 [00:01<00:00, 797.88it/s]\n"
          ]
        },
        {
          "name": "stdout",
          "output_type": "stream",
          "text": [
            "\n",
            "🎲 Random Set 402/1000: [(2, 8), (5, 6), (2, 11), (0, 9), (9, 8), (1, 11), (5, 0), (4, 8), (1, 2), (0, 7)]\n"
          ]
        },
        {
          "name": "stderr",
          "output_type": "stream",
          "text": [
            "🔁 Extracting: 100%|██████████| 1319/1319 [00:01<00:00, 754.71it/s]\n"
          ]
        },
        {
          "name": "stdout",
          "output_type": "stream",
          "text": [
            "\n",
            "🎲 Random Set 403/1000: [(5, 1), (6, 7), (4, 3), (10, 7), (3, 7), (3, 3), (8, 4), (3, 9), (8, 9), (2, 2)]\n"
          ]
        },
        {
          "name": "stderr",
          "output_type": "stream",
          "text": [
            "🔁 Extracting: 100%|██████████| 1319/1319 [00:01<00:00, 790.79it/s]\n"
          ]
        },
        {
          "name": "stdout",
          "output_type": "stream",
          "text": [
            "\n",
            "🎲 Random Set 404/1000: [(4, 1), (5, 6), (1, 5), (6, 5), (7, 8), (1, 4), (4, 4), (5, 10), (5, 4), (11, 5)]\n"
          ]
        },
        {
          "name": "stderr",
          "output_type": "stream",
          "text": [
            "🔁 Extracting: 100%|██████████| 1319/1319 [00:01<00:00, 814.94it/s]\n"
          ]
        },
        {
          "name": "stdout",
          "output_type": "stream",
          "text": [
            "\n",
            "🎲 Random Set 405/1000: [(4, 2), (5, 8), (3, 7), (10, 6), (4, 9), (8, 6), (5, 9), (1, 6), (5, 7), (2, 11)]\n"
          ]
        },
        {
          "name": "stderr",
          "output_type": "stream",
          "text": [
            "🔁 Extracting: 100%|██████████| 1319/1319 [00:01<00:00, 813.64it/s]\n"
          ]
        },
        {
          "name": "stdout",
          "output_type": "stream",
          "text": [
            "\n",
            "🎲 Random Set 406/1000: [(2, 5), (7, 1), (8, 9), (7, 3), (6, 10), (0, 4), (7, 11), (1, 10), (5, 1), (11, 11)]\n"
          ]
        },
        {
          "name": "stderr",
          "output_type": "stream",
          "text": [
            "🔁 Extracting: 100%|██████████| 1319/1319 [00:01<00:00, 800.36it/s]\n"
          ]
        },
        {
          "name": "stdout",
          "output_type": "stream",
          "text": [
            "\n",
            "🎲 Random Set 407/1000: [(7, 9), (1, 8), (4, 9), (7, 2), (0, 11), (3, 5), (6, 9), (4, 4), (8, 11), (11, 11)]\n"
          ]
        },
        {
          "name": "stderr",
          "output_type": "stream",
          "text": [
            "🔁 Extracting: 100%|██████████| 1319/1319 [00:01<00:00, 814.10it/s]\n"
          ]
        },
        {
          "name": "stdout",
          "output_type": "stream",
          "text": [
            "\n",
            "🎲 Random Set 408/1000: [(4, 6), (5, 9), (1, 8), (2, 7), (8, 1), (0, 6), (9, 4), (2, 4), (11, 9), (3, 0)]\n"
          ]
        },
        {
          "name": "stderr",
          "output_type": "stream",
          "text": [
            "🔁 Extracting: 100%|██████████| 1319/1319 [00:01<00:00, 805.52it/s]\n"
          ]
        },
        {
          "name": "stdout",
          "output_type": "stream",
          "text": [
            "\n",
            "🎲 Random Set 409/1000: [(9, 10), (11, 5), (6, 9), (7, 1), (8, 6), (2, 2), (0, 0), (4, 3), (1, 2), (10, 10)]\n"
          ]
        },
        {
          "name": "stderr",
          "output_type": "stream",
          "text": [
            "🔁 Extracting: 100%|██████████| 1319/1319 [00:01<00:00, 771.80it/s]\n"
          ]
        },
        {
          "name": "stdout",
          "output_type": "stream",
          "text": [
            "\n",
            "🎲 Random Set 410/1000: [(2, 3), (11, 6), (7, 5), (6, 2), (4, 2), (0, 6), (7, 4), (7, 10), (4, 11), (11, 7)]\n"
          ]
        },
        {
          "name": "stderr",
          "output_type": "stream",
          "text": [
            "🔁 Extracting: 100%|██████████| 1319/1319 [00:01<00:00, 802.90it/s]\n"
          ]
        },
        {
          "name": "stdout",
          "output_type": "stream",
          "text": [
            "\n",
            "🎲 Random Set 411/1000: [(6, 3), (2, 7), (3, 8), (7, 1), (2, 8), (0, 4), (7, 9), (1, 11), (6, 2), (9, 11)]\n"
          ]
        },
        {
          "name": "stderr",
          "output_type": "stream",
          "text": [
            "🔁 Extracting: 100%|██████████| 1319/1319 [00:01<00:00, 799.66it/s]\n"
          ]
        },
        {
          "name": "stdout",
          "output_type": "stream",
          "text": [
            "\n",
            "🎲 Random Set 412/1000: [(10, 10), (4, 10), (10, 6), (0, 1), (10, 3), (2, 2), (11, 4), (4, 0), (1, 8), (2, 3)]\n"
          ]
        },
        {
          "name": "stderr",
          "output_type": "stream",
          "text": [
            "🔁 Extracting: 100%|██████████| 1319/1319 [00:01<00:00, 801.75it/s]\n"
          ]
        },
        {
          "name": "stdout",
          "output_type": "stream",
          "text": [
            "\n",
            "🎲 Random Set 413/1000: [(11, 1), (3, 2), (2, 7), (2, 2), (3, 3), (3, 1), (6, 6), (0, 3), (4, 5), (5, 8)]\n"
          ]
        },
        {
          "name": "stderr",
          "output_type": "stream",
          "text": [
            "🔁 Extracting: 100%|██████████| 1319/1319 [00:01<00:00, 816.31it/s]\n"
          ]
        },
        {
          "name": "stdout",
          "output_type": "stream",
          "text": [
            "\n",
            "🎲 Random Set 414/1000: [(2, 2), (7, 2), (1, 0), (1, 4), (2, 6), (1, 9), (0, 4), (0, 6), (3, 9), (4, 6)]\n"
          ]
        },
        {
          "name": "stderr",
          "output_type": "stream",
          "text": [
            "🔁 Extracting: 100%|██████████| 1319/1319 [00:01<00:00, 816.69it/s]\n"
          ]
        },
        {
          "name": "stdout",
          "output_type": "stream",
          "text": [
            "\n",
            "🎲 Random Set 415/1000: [(4, 8), (0, 6), (8, 3), (5, 0), (8, 8), (7, 4), (6, 8), (7, 2), (11, 4), (10, 10)]\n"
          ]
        },
        {
          "name": "stderr",
          "output_type": "stream",
          "text": [
            "🔁 Extracting: 100%|██████████| 1319/1319 [00:01<00:00, 799.15it/s]\n"
          ]
        },
        {
          "name": "stdout",
          "output_type": "stream",
          "text": [
            "\n",
            "🎲 Random Set 416/1000: [(11, 0), (9, 3), (3, 3), (11, 4), (7, 9), (4, 11), (10, 0), (0, 11), (11, 5), (5, 1)]\n"
          ]
        },
        {
          "name": "stderr",
          "output_type": "stream",
          "text": [
            "🔁 Extracting: 100%|██████████| 1319/1319 [00:01<00:00, 788.60it/s]\n"
          ]
        },
        {
          "name": "stdout",
          "output_type": "stream",
          "text": [
            "\n",
            "🎲 Random Set 417/1000: [(11, 8), (7, 0), (8, 6), (5, 4), (7, 4), (1, 10), (1, 5), (7, 6), (11, 7), (1, 6)]\n"
          ]
        },
        {
          "name": "stderr",
          "output_type": "stream",
          "text": [
            "🔁 Extracting: 100%|██████████| 1319/1319 [00:01<00:00, 806.70it/s]\n"
          ]
        },
        {
          "name": "stdout",
          "output_type": "stream",
          "text": [
            "\n",
            "🎲 Random Set 418/1000: [(8, 11), (3, 2), (5, 5), (6, 11), (2, 8), (6, 2), (8, 6), (6, 4), (9, 0), (8, 9)]\n"
          ]
        },
        {
          "name": "stderr",
          "output_type": "stream",
          "text": [
            "🔁 Extracting: 100%|██████████| 1319/1319 [00:01<00:00, 789.54it/s]\n"
          ]
        },
        {
          "name": "stdout",
          "output_type": "stream",
          "text": [
            "\n",
            "🎲 Random Set 419/1000: [(1, 4), (8, 10), (2, 8), (2, 5), (5, 9), (10, 6), (7, 11), (1, 10), (4, 6), (7, 3)]\n"
          ]
        },
        {
          "name": "stderr",
          "output_type": "stream",
          "text": [
            "🔁 Extracting: 100%|██████████| 1319/1319 [00:01<00:00, 792.91it/s]\n"
          ]
        },
        {
          "name": "stdout",
          "output_type": "stream",
          "text": [
            "\n",
            "🎲 Random Set 420/1000: [(11, 6), (4, 0), (8, 4), (5, 9), (1, 7), (5, 3), (1, 4), (10, 4), (1, 6), (10, 9)]\n"
          ]
        },
        {
          "name": "stderr",
          "output_type": "stream",
          "text": [
            "🔁 Extracting: 100%|██████████| 1319/1319 [00:01<00:00, 790.84it/s]\n"
          ]
        },
        {
          "name": "stdout",
          "output_type": "stream",
          "text": [
            "\n",
            "🎲 Random Set 421/1000: [(4, 4), (2, 0), (7, 2), (4, 5), (9, 2), (2, 2), (2, 8), (1, 9), (11, 11), (3, 6)]\n"
          ]
        },
        {
          "name": "stderr",
          "output_type": "stream",
          "text": [
            "🔁 Extracting: 100%|██████████| 1319/1319 [00:01<00:00, 784.25it/s]\n"
          ]
        },
        {
          "name": "stdout",
          "output_type": "stream",
          "text": [
            "\n",
            "🎲 Random Set 422/1000: [(8, 4), (10, 7), (2, 8), (9, 5), (0, 5), (5, 1), (0, 6), (9, 8), (6, 9), (10, 2)]\n"
          ]
        },
        {
          "name": "stderr",
          "output_type": "stream",
          "text": [
            "🔁 Extracting: 100%|██████████| 1319/1319 [00:01<00:00, 797.61it/s]\n"
          ]
        },
        {
          "name": "stdout",
          "output_type": "stream",
          "text": [
            "\n",
            "🎲 Random Set 423/1000: [(1, 0), (9, 4), (10, 1), (6, 1), (0, 8), (2, 1), (7, 9), (10, 0), (4, 4), (1, 1)]\n"
          ]
        },
        {
          "name": "stderr",
          "output_type": "stream",
          "text": [
            "🔁 Extracting: 100%|██████████| 1319/1319 [00:01<00:00, 787.91it/s]\n"
          ]
        },
        {
          "name": "stdout",
          "output_type": "stream",
          "text": [
            "\n",
            "🎲 Random Set 424/1000: [(3, 9), (9, 11), (8, 9), (7, 5), (7, 0), (5, 9), (10, 6), (6, 9), (5, 5), (11, 9)]\n"
          ]
        },
        {
          "name": "stderr",
          "output_type": "stream",
          "text": [
            "🔁 Extracting: 100%|██████████| 1319/1319 [00:02<00:00, 615.00it/s]\n"
          ]
        },
        {
          "name": "stdout",
          "output_type": "stream",
          "text": [
            "\n",
            "🎲 Random Set 425/1000: [(6, 11), (1, 7), (4, 11), (6, 3), (6, 7), (2, 8), (5, 0), (6, 1), (11, 9), (1, 4)]\n"
          ]
        },
        {
          "name": "stderr",
          "output_type": "stream",
          "text": [
            "🔁 Extracting: 100%|██████████| 1319/1319 [00:01<00:00, 792.83it/s]\n"
          ]
        },
        {
          "name": "stdout",
          "output_type": "stream",
          "text": [
            "\n",
            "🎲 Random Set 426/1000: [(3, 0), (11, 4), (4, 3), (3, 8), (1, 8), (4, 6), (7, 8), (1, 3), (8, 11), (2, 10)]\n"
          ]
        },
        {
          "name": "stderr",
          "output_type": "stream",
          "text": [
            "🔁 Extracting: 100%|██████████| 1319/1319 [00:01<00:00, 803.80it/s]\n"
          ]
        },
        {
          "name": "stdout",
          "output_type": "stream",
          "text": [
            "\n",
            "🎲 Random Set 427/1000: [(3, 0), (5, 11), (2, 11), (2, 7), (5, 10), (6, 11), (11, 3), (5, 1), (11, 2), (10, 2)]\n"
          ]
        },
        {
          "name": "stderr",
          "output_type": "stream",
          "text": [
            "🔁 Extracting: 100%|██████████| 1319/1319 [00:01<00:00, 794.31it/s]\n"
          ]
        },
        {
          "name": "stdout",
          "output_type": "stream",
          "text": [
            "\n",
            "🎲 Random Set 428/1000: [(2, 11), (3, 9), (9, 1), (10, 4), (10, 11), (6, 2), (3, 7), (6, 5), (3, 3), (2, 2)]\n"
          ]
        },
        {
          "name": "stderr",
          "output_type": "stream",
          "text": [
            "🔁 Extracting: 100%|██████████| 1319/1319 [00:01<00:00, 773.86it/s]\n"
          ]
        },
        {
          "name": "stdout",
          "output_type": "stream",
          "text": [
            "\n",
            "🎲 Random Set 429/1000: [(10, 3), (10, 10), (8, 4), (9, 0), (8, 2), (2, 4), (1, 3), (6, 5), (3, 9), (3, 8)]\n"
          ]
        },
        {
          "name": "stderr",
          "output_type": "stream",
          "text": [
            "🔁 Extracting: 100%|██████████| 1319/1319 [00:01<00:00, 783.51it/s]\n"
          ]
        },
        {
          "name": "stdout",
          "output_type": "stream",
          "text": [
            "\n",
            "🎲 Random Set 430/1000: [(0, 3), (6, 4), (10, 5), (0, 2), (4, 9), (9, 4), (0, 8), (9, 3), (4, 7), (10, 11)]\n"
          ]
        },
        {
          "name": "stderr",
          "output_type": "stream",
          "text": [
            "🔁 Extracting: 100%|██████████| 1319/1319 [00:01<00:00, 784.38it/s]\n"
          ]
        },
        {
          "name": "stdout",
          "output_type": "stream",
          "text": [
            "\n",
            "🎲 Random Set 431/1000: [(5, 5), (4, 9), (8, 10), (8, 6), (9, 2), (6, 7), (6, 0), (1, 2), (8, 7), (1, 6)]\n"
          ]
        },
        {
          "name": "stderr",
          "output_type": "stream",
          "text": [
            "🔁 Extracting: 100%|██████████| 1319/1319 [00:01<00:00, 785.91it/s]\n"
          ]
        },
        {
          "name": "stdout",
          "output_type": "stream",
          "text": [
            "\n",
            "🎲 Random Set 432/1000: [(10, 4), (2, 6), (3, 0), (4, 10), (2, 5), (4, 8), (7, 8), (11, 6), (6, 3), (0, 5)]\n"
          ]
        },
        {
          "name": "stderr",
          "output_type": "stream",
          "text": [
            "🔁 Extracting: 100%|██████████| 1319/1319 [00:01<00:00, 793.59it/s]\n"
          ]
        },
        {
          "name": "stdout",
          "output_type": "stream",
          "text": [
            "\n",
            "🎲 Random Set 433/1000: [(5, 4), (0, 9), (2, 3), (5, 10), (10, 10), (5, 7), (7, 10), (6, 2), (4, 2), (5, 1)]\n"
          ]
        },
        {
          "name": "stderr",
          "output_type": "stream",
          "text": [
            "🔁 Extracting: 100%|██████████| 1319/1319 [00:01<00:00, 809.65it/s]\n"
          ]
        },
        {
          "name": "stdout",
          "output_type": "stream",
          "text": [
            "\n",
            "🎲 Random Set 434/1000: [(8, 11), (11, 8), (7, 11), (0, 6), (5, 1), (7, 2), (7, 5), (0, 11), (4, 3), (4, 5)]\n"
          ]
        },
        {
          "name": "stderr",
          "output_type": "stream",
          "text": [
            "🔁 Extracting: 100%|██████████| 1319/1319 [00:01<00:00, 820.28it/s]\n"
          ]
        },
        {
          "name": "stdout",
          "output_type": "stream",
          "text": [
            "\n",
            "🎲 Random Set 435/1000: [(0, 9), (7, 6), (1, 9), (5, 9), (1, 5), (10, 3), (10, 2), (5, 5), (4, 8), (10, 10)]\n"
          ]
        },
        {
          "name": "stderr",
          "output_type": "stream",
          "text": [
            "🔁 Extracting: 100%|██████████| 1319/1319 [00:01<00:00, 812.48it/s]\n"
          ]
        },
        {
          "name": "stdout",
          "output_type": "stream",
          "text": [
            "\n",
            "🎲 Random Set 436/1000: [(10, 6), (5, 6), (7, 8), (5, 3), (10, 2), (0, 10), (3, 9), (2, 0), (11, 6), (6, 4)]\n"
          ]
        },
        {
          "name": "stderr",
          "output_type": "stream",
          "text": [
            "🔁 Extracting: 100%|██████████| 1319/1319 [00:01<00:00, 782.30it/s]\n"
          ]
        },
        {
          "name": "stdout",
          "output_type": "stream",
          "text": [
            "\n",
            "🎲 Random Set 437/1000: [(8, 9), (8, 0), (6, 8), (2, 8), (5, 10), (4, 2), (11, 0), (2, 2), (8, 11), (2, 6)]\n"
          ]
        },
        {
          "name": "stderr",
          "output_type": "stream",
          "text": [
            "🔁 Extracting: 100%|██████████| 1319/1319 [00:01<00:00, 796.13it/s]\n"
          ]
        },
        {
          "name": "stdout",
          "output_type": "stream",
          "text": [
            "\n",
            "🎲 Random Set 438/1000: [(6, 8), (8, 11), (0, 2), (0, 8), (5, 6), (9, 11), (11, 1), (5, 3), (5, 9), (1, 7)]\n"
          ]
        },
        {
          "name": "stderr",
          "output_type": "stream",
          "text": [
            "🔁 Extracting: 100%|██████████| 1319/1319 [00:01<00:00, 782.31it/s]\n"
          ]
        },
        {
          "name": "stdout",
          "output_type": "stream",
          "text": [
            "\n",
            "🎲 Random Set 439/1000: [(3, 10), (4, 6), (4, 4), (10, 0), (4, 11), (8, 9), (5, 0), (1, 4), (3, 6), (5, 4)]\n"
          ]
        },
        {
          "name": "stderr",
          "output_type": "stream",
          "text": [
            "🔁 Extracting: 100%|██████████| 1319/1319 [00:01<00:00, 802.39it/s]\n"
          ]
        },
        {
          "name": "stdout",
          "output_type": "stream",
          "text": [
            "\n",
            "🎲 Random Set 440/1000: [(3, 2), (0, 5), (8, 5), (4, 3), (2, 3), (1, 6), (9, 1), (6, 7), (8, 7), (9, 10)]\n"
          ]
        },
        {
          "name": "stderr",
          "output_type": "stream",
          "text": [
            "🔁 Extracting: 100%|██████████| 1319/1319 [00:01<00:00, 791.61it/s]\n"
          ]
        },
        {
          "name": "stdout",
          "output_type": "stream",
          "text": [
            "\n",
            "🎲 Random Set 441/1000: [(5, 7), (5, 5), (6, 4), (4, 3), (3, 8), (9, 10), (5, 3), (1, 0), (3, 4), (7, 5)]\n"
          ]
        },
        {
          "name": "stderr",
          "output_type": "stream",
          "text": [
            "🔁 Extracting: 100%|██████████| 1319/1319 [00:01<00:00, 791.39it/s]\n"
          ]
        },
        {
          "name": "stdout",
          "output_type": "stream",
          "text": [
            "\n",
            "🎲 Random Set 442/1000: [(11, 0), (10, 4), (7, 0), (8, 3), (10, 6), (7, 4), (9, 6), (9, 1), (9, 3), (9, 9)]\n"
          ]
        },
        {
          "name": "stderr",
          "output_type": "stream",
          "text": [
            "🔁 Extracting: 100%|██████████| 1319/1319 [00:01<00:00, 796.10it/s]\n"
          ]
        },
        {
          "name": "stdout",
          "output_type": "stream",
          "text": [
            "\n",
            "🎲 Random Set 443/1000: [(7, 8), (10, 4), (9, 2), (2, 5), (0, 10), (10, 1), (6, 5), (3, 0), (3, 7), (4, 8)]\n"
          ]
        },
        {
          "name": "stderr",
          "output_type": "stream",
          "text": [
            "🔁 Extracting: 100%|██████████| 1319/1319 [00:01<00:00, 764.80it/s]\n"
          ]
        },
        {
          "name": "stdout",
          "output_type": "stream",
          "text": [
            "\n",
            "🎲 Random Set 444/1000: [(0, 3), (2, 9), (6, 11), (0, 1), (8, 1), (4, 3), (4, 9), (0, 11), (0, 0), (0, 9)]\n"
          ]
        },
        {
          "name": "stderr",
          "output_type": "stream",
          "text": [
            "🔁 Extracting: 100%|██████████| 1319/1319 [00:01<00:00, 794.09it/s]\n"
          ]
        },
        {
          "name": "stdout",
          "output_type": "stream",
          "text": [
            "\n",
            "🎲 Random Set 445/1000: [(8, 8), (10, 0), (4, 9), (8, 10), (9, 4), (5, 2), (4, 11), (0, 9), (10, 9), (6, 9)]\n"
          ]
        },
        {
          "name": "stderr",
          "output_type": "stream",
          "text": [
            "🔁 Extracting: 100%|██████████| 1319/1319 [00:01<00:00, 800.08it/s]\n"
          ]
        },
        {
          "name": "stdout",
          "output_type": "stream",
          "text": [
            "\n",
            "🎲 Random Set 446/1000: [(3, 1), (3, 3), (0, 3), (6, 2), (4, 7), (2, 0), (1, 3), (7, 1), (3, 5), (0, 9)]\n"
          ]
        },
        {
          "name": "stderr",
          "output_type": "stream",
          "text": [
            "🔁 Extracting: 100%|██████████| 1319/1319 [00:01<00:00, 814.94it/s]\n"
          ]
        },
        {
          "name": "stdout",
          "output_type": "stream",
          "text": [
            "\n",
            "🎲 Random Set 447/1000: [(5, 4), (6, 7), (6, 4), (3, 10), (8, 2), (2, 7), (0, 4), (6, 10), (3, 1), (0, 3)]\n"
          ]
        },
        {
          "name": "stderr",
          "output_type": "stream",
          "text": [
            "🔁 Extracting: 100%|██████████| 1319/1319 [00:01<00:00, 770.46it/s]\n"
          ]
        },
        {
          "name": "stdout",
          "output_type": "stream",
          "text": [
            "\n",
            "🎲 Random Set 448/1000: [(7, 0), (11, 1), (2, 0), (2, 11), (0, 11), (9, 5), (8, 11), (8, 7), (6, 3), (7, 10)]\n"
          ]
        },
        {
          "name": "stderr",
          "output_type": "stream",
          "text": [
            "🔁 Extracting: 100%|██████████| 1319/1319 [00:01<00:00, 804.49it/s]\n"
          ]
        },
        {
          "name": "stdout",
          "output_type": "stream",
          "text": [
            "\n",
            "🎲 Random Set 449/1000: [(9, 4), (10, 7), (7, 3), (10, 10), (8, 1), (6, 4), (0, 7), (4, 8), (5, 3), (9, 1)]\n"
          ]
        },
        {
          "name": "stderr",
          "output_type": "stream",
          "text": [
            "🔁 Extracting: 100%|██████████| 1319/1319 [00:01<00:00, 792.89it/s]\n"
          ]
        },
        {
          "name": "stdout",
          "output_type": "stream",
          "text": [
            "\n",
            "🎲 Random Set 450/1000: [(2, 1), (5, 4), (7, 7), (8, 7), (3, 7), (4, 7), (9, 10), (1, 9), (10, 3), (5, 0)]\n"
          ]
        },
        {
          "name": "stderr",
          "output_type": "stream",
          "text": [
            "🔁 Extracting: 100%|██████████| 1319/1319 [00:01<00:00, 791.74it/s]\n"
          ]
        },
        {
          "name": "stdout",
          "output_type": "stream",
          "text": [
            "\n",
            "🎲 Random Set 451/1000: [(1, 3), (10, 6), (7, 6), (2, 8), (10, 10), (7, 8), (4, 8), (9, 3), (4, 3), (4, 1)]\n"
          ]
        },
        {
          "name": "stderr",
          "output_type": "stream",
          "text": [
            "🔁 Extracting: 100%|██████████| 1319/1319 [00:01<00:00, 802.32it/s]\n"
          ]
        },
        {
          "name": "stdout",
          "output_type": "stream",
          "text": [
            "\n",
            "🎲 Random Set 452/1000: [(7, 1), (2, 2), (0, 3), (8, 9), (9, 10), (5, 2), (5, 4), (3, 6), (3, 7), (11, 0)]\n"
          ]
        },
        {
          "name": "stderr",
          "output_type": "stream",
          "text": [
            "🔁 Extracting: 100%|██████████| 1319/1319 [00:01<00:00, 804.88it/s]\n"
          ]
        },
        {
          "name": "stdout",
          "output_type": "stream",
          "text": [
            "\n",
            "🎲 Random Set 453/1000: [(10, 1), (0, 7), (11, 4), (3, 7), (7, 3), (8, 6), (10, 10), (10, 7), (10, 3), (11, 3)]\n"
          ]
        },
        {
          "name": "stderr",
          "output_type": "stream",
          "text": [
            "🔁 Extracting: 100%|██████████| 1319/1319 [00:01<00:00, 800.84it/s]\n"
          ]
        },
        {
          "name": "stdout",
          "output_type": "stream",
          "text": [
            "\n",
            "🎲 Random Set 454/1000: [(5, 11), (3, 10), (0, 5), (4, 5), (0, 0), (8, 0), (0, 9), (11, 4), (10, 9), (9, 8)]\n"
          ]
        },
        {
          "name": "stderr",
          "output_type": "stream",
          "text": [
            "🔁 Extracting: 100%|██████████| 1319/1319 [00:01<00:00, 808.89it/s]\n"
          ]
        },
        {
          "name": "stdout",
          "output_type": "stream",
          "text": [
            "\n",
            "🎲 Random Set 455/1000: [(3, 1), (1, 9), (3, 5), (8, 4), (10, 2), (8, 2), (7, 1), (6, 7), (1, 4), (5, 9)]\n"
          ]
        },
        {
          "name": "stderr",
          "output_type": "stream",
          "text": [
            "🔁 Extracting: 100%|██████████| 1319/1319 [00:01<00:00, 812.61it/s]\n"
          ]
        },
        {
          "name": "stdout",
          "output_type": "stream",
          "text": [
            "\n",
            "🎲 Random Set 456/1000: [(3, 1), (1, 0), (5, 8), (11, 4), (7, 5), (7, 3), (6, 1), (6, 6), (1, 10), (10, 5)]\n"
          ]
        },
        {
          "name": "stderr",
          "output_type": "stream",
          "text": [
            "🔁 Extracting: 100%|██████████| 1319/1319 [00:01<00:00, 784.44it/s]\n"
          ]
        },
        {
          "name": "stdout",
          "output_type": "stream",
          "text": [
            "\n",
            "🎲 Random Set 457/1000: [(0, 7), (1, 2), (3, 8), (6, 5), (1, 5), (5, 2), (3, 3), (10, 1), (11, 1), (11, 8)]\n"
          ]
        },
        {
          "name": "stderr",
          "output_type": "stream",
          "text": [
            "🔁 Extracting: 100%|██████████| 1319/1319 [00:01<00:00, 782.69it/s]\n"
          ]
        },
        {
          "name": "stdout",
          "output_type": "stream",
          "text": [
            "\n",
            "🎲 Random Set 458/1000: [(6, 1), (11, 4), (6, 5), (3, 7), (10, 0), (0, 3), (2, 2), (8, 5), (9, 6), (4, 9)]\n"
          ]
        },
        {
          "name": "stderr",
          "output_type": "stream",
          "text": [
            "🔁 Extracting: 100%|██████████| 1319/1319 [00:01<00:00, 794.63it/s]\n"
          ]
        },
        {
          "name": "stdout",
          "output_type": "stream",
          "text": [
            "\n",
            "🎲 Random Set 459/1000: [(5, 5), (1, 11), (3, 7), (1, 4), (7, 3), (9, 3), (11, 3), (11, 1), (7, 0), (6, 10)]\n"
          ]
        },
        {
          "name": "stderr",
          "output_type": "stream",
          "text": [
            "🔁 Extracting: 100%|██████████| 1319/1319 [00:01<00:00, 813.49it/s]\n"
          ]
        },
        {
          "name": "stdout",
          "output_type": "stream",
          "text": [
            "\n",
            "🎲 Random Set 460/1000: [(0, 1), (1, 0), (7, 11), (11, 2), (8, 7), (3, 8), (7, 5), (5, 10), (2, 4), (6, 8)]\n"
          ]
        },
        {
          "name": "stderr",
          "output_type": "stream",
          "text": [
            "🔁 Extracting: 100%|██████████| 1319/1319 [00:01<00:00, 803.54it/s]\n"
          ]
        },
        {
          "name": "stdout",
          "output_type": "stream",
          "text": [
            "\n",
            "🎲 Random Set 461/1000: [(0, 10), (3, 9), (3, 3), (9, 7), (5, 1), (1, 7), (11, 4), (9, 8), (10, 0), (7, 5)]\n"
          ]
        },
        {
          "name": "stderr",
          "output_type": "stream",
          "text": [
            "🔁 Extracting: 100%|██████████| 1319/1319 [00:01<00:00, 797.74it/s]\n"
          ]
        },
        {
          "name": "stdout",
          "output_type": "stream",
          "text": [
            "\n",
            "🎲 Random Set 462/1000: [(6, 9), (10, 6), (11, 2), (8, 7), (4, 7), (10, 2), (8, 6), (9, 6), (1, 8), (8, 4)]\n"
          ]
        },
        {
          "name": "stderr",
          "output_type": "stream",
          "text": [
            "🔁 Extracting: 100%|██████████| 1319/1319 [00:01<00:00, 809.77it/s]\n"
          ]
        },
        {
          "name": "stdout",
          "output_type": "stream",
          "text": [
            "\n",
            "🎲 Random Set 463/1000: [(7, 1), (2, 6), (4, 7), (11, 8), (11, 10), (7, 10), (11, 9), (9, 6), (10, 1), (1, 10)]\n"
          ]
        },
        {
          "name": "stderr",
          "output_type": "stream",
          "text": [
            "🔁 Extracting: 100%|██████████| 1319/1319 [00:01<00:00, 787.37it/s]\n"
          ]
        },
        {
          "name": "stdout",
          "output_type": "stream",
          "text": [
            "\n",
            "🎲 Random Set 464/1000: [(7, 8), (7, 5), (11, 8), (4, 0), (9, 3), (5, 8), (10, 0), (10, 5), (1, 5), (7, 2)]\n"
          ]
        },
        {
          "name": "stderr",
          "output_type": "stream",
          "text": [
            "🔁 Extracting: 100%|██████████| 1319/1319 [00:01<00:00, 792.87it/s]\n"
          ]
        },
        {
          "name": "stdout",
          "output_type": "stream",
          "text": [
            "\n",
            "🎲 Random Set 465/1000: [(8, 5), (2, 1), (2, 3), (6, 4), (4, 2), (10, 11), (2, 7), (8, 7), (0, 10), (3, 11)]\n"
          ]
        },
        {
          "name": "stderr",
          "output_type": "stream",
          "text": [
            "🔁 Extracting: 100%|██████████| 1319/1319 [00:01<00:00, 788.75it/s]\n"
          ]
        },
        {
          "name": "stdout",
          "output_type": "stream",
          "text": [
            "\n",
            "🎲 Random Set 466/1000: [(11, 7), (5, 4), (4, 3), (8, 8), (7, 1), (0, 4), (1, 6), (4, 4), (8, 9), (1, 4)]\n"
          ]
        },
        {
          "name": "stderr",
          "output_type": "stream",
          "text": [
            "🔁 Extracting: 100%|██████████| 1319/1319 [00:01<00:00, 791.63it/s]\n"
          ]
        },
        {
          "name": "stdout",
          "output_type": "stream",
          "text": [
            "\n",
            "🎲 Random Set 467/1000: [(9, 6), (8, 3), (11, 1), (7, 9), (3, 5), (4, 11), (8, 10), (7, 6), (2, 5), (5, 0)]\n"
          ]
        },
        {
          "name": "stderr",
          "output_type": "stream",
          "text": [
            "🔁 Extracting: 100%|██████████| 1319/1319 [00:01<00:00, 801.19it/s]\n"
          ]
        },
        {
          "name": "stdout",
          "output_type": "stream",
          "text": [
            "\n",
            "🎲 Random Set 468/1000: [(1, 8), (5, 5), (0, 4), (7, 4), (9, 11), (7, 0), (2, 3), (7, 10), (10, 5), (6, 5)]\n"
          ]
        },
        {
          "name": "stderr",
          "output_type": "stream",
          "text": [
            "🔁 Extracting: 100%|██████████| 1319/1319 [00:01<00:00, 806.37it/s]\n"
          ]
        },
        {
          "name": "stdout",
          "output_type": "stream",
          "text": [
            "\n",
            "🎲 Random Set 469/1000: [(10, 8), (2, 4), (10, 10), (3, 1), (0, 4), (2, 2), (3, 10), (3, 11), (3, 0), (1, 2)]\n"
          ]
        },
        {
          "name": "stderr",
          "output_type": "stream",
          "text": [
            "🔁 Extracting: 100%|██████████| 1319/1319 [00:01<00:00, 784.68it/s]\n"
          ]
        },
        {
          "name": "stdout",
          "output_type": "stream",
          "text": [
            "\n",
            "🎲 Random Set 470/1000: [(9, 5), (5, 3), (7, 11), (3, 3), (1, 0), (11, 8), (5, 10), (9, 6), (0, 11), (3, 8)]\n"
          ]
        },
        {
          "name": "stderr",
          "output_type": "stream",
          "text": [
            "🔁 Extracting: 100%|██████████| 1319/1319 [00:01<00:00, 783.67it/s]\n"
          ]
        },
        {
          "name": "stdout",
          "output_type": "stream",
          "text": [
            "\n",
            "🎲 Random Set 471/1000: [(8, 9), (7, 0), (1, 11), (5, 0), (10, 11), (2, 7), (4, 4), (3, 9), (0, 2), (8, 1)]\n"
          ]
        },
        {
          "name": "stderr",
          "output_type": "stream",
          "text": [
            "🔁 Extracting: 100%|██████████| 1319/1319 [00:01<00:00, 797.98it/s]\n"
          ]
        },
        {
          "name": "stdout",
          "output_type": "stream",
          "text": [
            "\n",
            "🎲 Random Set 472/1000: [(11, 11), (0, 1), (0, 3), (1, 3), (10, 3), (10, 6), (7, 7), (3, 9), (4, 8), (11, 6)]\n"
          ]
        },
        {
          "name": "stderr",
          "output_type": "stream",
          "text": [
            "🔁 Extracting: 100%|██████████| 1319/1319 [00:01<00:00, 785.65it/s]\n"
          ]
        },
        {
          "name": "stdout",
          "output_type": "stream",
          "text": [
            "\n",
            "🎲 Random Set 473/1000: [(2, 10), (2, 2), (4, 1), (9, 11), (9, 1), (4, 4), (8, 3), (3, 1), (8, 10), (0, 4)]\n"
          ]
        },
        {
          "name": "stderr",
          "output_type": "stream",
          "text": [
            "🔁 Extracting: 100%|██████████| 1319/1319 [00:01<00:00, 784.84it/s]\n"
          ]
        },
        {
          "name": "stdout",
          "output_type": "stream",
          "text": [
            "\n",
            "🎲 Random Set 474/1000: [(5, 0), (3, 2), (4, 9), (4, 4), (8, 8), (3, 7), (8, 2), (7, 3), (1, 9), (10, 4)]\n"
          ]
        },
        {
          "name": "stderr",
          "output_type": "stream",
          "text": [
            "🔁 Extracting: 100%|██████████| 1319/1319 [00:01<00:00, 792.94it/s]\n"
          ]
        },
        {
          "name": "stdout",
          "output_type": "stream",
          "text": [
            "\n",
            "🎲 Random Set 475/1000: [(1, 4), (10, 7), (2, 8), (0, 0), (3, 3), (7, 1), (7, 11), (6, 2), (1, 8), (6, 4)]\n"
          ]
        },
        {
          "name": "stderr",
          "output_type": "stream",
          "text": [
            "🔁 Extracting: 100%|██████████| 1319/1319 [00:01<00:00, 802.35it/s]\n"
          ]
        },
        {
          "name": "stdout",
          "output_type": "stream",
          "text": [
            "\n",
            "🎲 Random Set 476/1000: [(3, 8), (9, 5), (6, 3), (4, 2), (5, 6), (6, 0), (8, 3), (0, 2), (4, 3), (11, 6)]\n"
          ]
        },
        {
          "name": "stderr",
          "output_type": "stream",
          "text": [
            "🔁 Extracting: 100%|██████████| 1319/1319 [00:01<00:00, 795.20it/s]\n"
          ]
        },
        {
          "name": "stdout",
          "output_type": "stream",
          "text": [
            "\n",
            "🎲 Random Set 477/1000: [(9, 6), (11, 10), (2, 5), (0, 0), (7, 1), (9, 3), (9, 7), (7, 4), (2, 4), (8, 5)]\n"
          ]
        },
        {
          "name": "stderr",
          "output_type": "stream",
          "text": [
            "🔁 Extracting: 100%|██████████| 1319/1319 [00:01<00:00, 783.93it/s]\n"
          ]
        },
        {
          "name": "stdout",
          "output_type": "stream",
          "text": [
            "\n",
            "🎲 Random Set 478/1000: [(8, 2), (7, 2), (6, 9), (4, 4), (11, 0), (1, 6), (0, 2), (9, 4), (4, 2), (10, 4)]\n"
          ]
        },
        {
          "name": "stderr",
          "output_type": "stream",
          "text": [
            "🔁 Extracting: 100%|██████████| 1319/1319 [00:01<00:00, 792.26it/s]\n"
          ]
        },
        {
          "name": "stdout",
          "output_type": "stream",
          "text": [
            "\n",
            "🎲 Random Set 479/1000: [(10, 0), (9, 0), (8, 0), (8, 4), (4, 4), (4, 9), (6, 0), (1, 9), (5, 0), (7, 9)]\n"
          ]
        },
        {
          "name": "stderr",
          "output_type": "stream",
          "text": [
            "🔁 Extracting: 100%|██████████| 1319/1319 [00:01<00:00, 778.13it/s]\n"
          ]
        },
        {
          "name": "stdout",
          "output_type": "stream",
          "text": [
            "\n",
            "🎲 Random Set 480/1000: [(5, 0), (7, 4), (8, 9), (1, 10), (3, 6), (8, 2), (3, 7), (7, 10), (0, 8), (1, 2)]\n"
          ]
        },
        {
          "name": "stderr",
          "output_type": "stream",
          "text": [
            "🔁 Extracting: 100%|██████████| 1319/1319 [00:01<00:00, 802.32it/s]\n"
          ]
        },
        {
          "name": "stdout",
          "output_type": "stream",
          "text": [
            "\n",
            "🎲 Random Set 481/1000: [(7, 2), (4, 10), (5, 6), (0, 8), (5, 0), (4, 9), (0, 11), (10, 2), (4, 0), (3, 2)]\n"
          ]
        },
        {
          "name": "stderr",
          "output_type": "stream",
          "text": [
            "🔁 Extracting: 100%|██████████| 1319/1319 [00:01<00:00, 790.91it/s]\n"
          ]
        },
        {
          "name": "stdout",
          "output_type": "stream",
          "text": [
            "\n",
            "🎲 Random Set 482/1000: [(1, 0), (7, 8), (0, 3), (8, 10), (9, 5), (3, 5), (2, 1), (7, 7), (5, 4), (6, 4)]\n"
          ]
        },
        {
          "name": "stderr",
          "output_type": "stream",
          "text": [
            "🔁 Extracting: 100%|██████████| 1319/1319 [00:01<00:00, 778.59it/s]\n"
          ]
        },
        {
          "name": "stdout",
          "output_type": "stream",
          "text": [
            "\n",
            "🎲 Random Set 483/1000: [(0, 6), (8, 9), (4, 3), (3, 0), (11, 0), (1, 9), (3, 9), (4, 4), (7, 8), (0, 1)]\n"
          ]
        },
        {
          "name": "stderr",
          "output_type": "stream",
          "text": [
            "🔁 Extracting: 100%|██████████| 1319/1319 [00:01<00:00, 773.64it/s]\n"
          ]
        },
        {
          "name": "stdout",
          "output_type": "stream",
          "text": [
            "\n",
            "🎲 Random Set 484/1000: [(8, 9), (2, 9), (5, 0), (4, 1), (0, 6), (4, 5), (4, 7), (2, 3), (5, 4), (10, 5)]\n"
          ]
        },
        {
          "name": "stderr",
          "output_type": "stream",
          "text": [
            "🔁 Extracting: 100%|██████████| 1319/1319 [00:01<00:00, 769.98it/s]\n"
          ]
        },
        {
          "name": "stdout",
          "output_type": "stream",
          "text": [
            "\n",
            "🎲 Random Set 485/1000: [(5, 0), (3, 10), (10, 9), (9, 10), (3, 4), (11, 7), (0, 2), (4, 1), (1, 2), (3, 6)]\n"
          ]
        },
        {
          "name": "stderr",
          "output_type": "stream",
          "text": [
            "🔁 Extracting: 100%|██████████| 1319/1319 [00:01<00:00, 755.52it/s]\n"
          ]
        },
        {
          "name": "stdout",
          "output_type": "stream",
          "text": [
            "\n",
            "🎲 Random Set 486/1000: [(1, 9), (2, 6), (9, 10), (8, 10), (0, 11), (8, 8), (10, 6), (10, 5), (2, 4), (1, 10)]\n"
          ]
        },
        {
          "name": "stderr",
          "output_type": "stream",
          "text": [
            "🔁 Extracting: 100%|██████████| 1319/1319 [00:01<00:00, 768.38it/s]\n"
          ]
        },
        {
          "name": "stdout",
          "output_type": "stream",
          "text": [
            "\n",
            "🎲 Random Set 487/1000: [(4, 10), (6, 3), (8, 7), (1, 1), (8, 0), (9, 5), (8, 3), (5, 1), (9, 4), (9, 7)]\n"
          ]
        },
        {
          "name": "stderr",
          "output_type": "stream",
          "text": [
            "🔁 Extracting: 100%|██████████| 1319/1319 [00:01<00:00, 781.24it/s]\n"
          ]
        },
        {
          "name": "stdout",
          "output_type": "stream",
          "text": [
            "\n",
            "🎲 Random Set 488/1000: [(10, 2), (0, 11), (10, 6), (0, 10), (5, 7), (3, 11), (8, 8), (11, 8), (9, 11), (0, 4)]\n"
          ]
        },
        {
          "name": "stderr",
          "output_type": "stream",
          "text": [
            "🔁 Extracting: 100%|██████████| 1319/1319 [00:01<00:00, 788.49it/s]\n"
          ]
        },
        {
          "name": "stdout",
          "output_type": "stream",
          "text": [
            "\n",
            "🎲 Random Set 489/1000: [(4, 6), (4, 11), (11, 2), (11, 8), (8, 5), (2, 0), (0, 8), (5, 7), (1, 10), (6, 4)]\n"
          ]
        },
        {
          "name": "stderr",
          "output_type": "stream",
          "text": [
            "🔁 Extracting: 100%|██████████| 1319/1319 [00:01<00:00, 799.94it/s]\n"
          ]
        },
        {
          "name": "stdout",
          "output_type": "stream",
          "text": [
            "\n",
            "🎲 Random Set 490/1000: [(4, 8), (2, 0), (6, 0), (11, 11), (11, 9), (0, 1), (1, 11), (6, 9), (5, 5), (5, 3)]\n"
          ]
        },
        {
          "name": "stderr",
          "output_type": "stream",
          "text": [
            "🔁 Extracting: 100%|██████████| 1319/1319 [00:01<00:00, 775.33it/s]\n"
          ]
        },
        {
          "name": "stdout",
          "output_type": "stream",
          "text": [
            "\n",
            "🎲 Random Set 491/1000: [(8, 8), (4, 8), (5, 7), (7, 5), (3, 1), (2, 11), (10, 7), (3, 11), (4, 4), (10, 8)]\n"
          ]
        },
        {
          "name": "stderr",
          "output_type": "stream",
          "text": [
            "🔁 Extracting: 100%|██████████| 1319/1319 [00:01<00:00, 774.89it/s]\n"
          ]
        },
        {
          "name": "stdout",
          "output_type": "stream",
          "text": [
            "\n",
            "🎲 Random Set 492/1000: [(10, 1), (2, 8), (8, 3), (3, 10), (9, 6), (3, 11), (0, 4), (1, 5), (9, 11), (3, 1)]\n"
          ]
        },
        {
          "name": "stderr",
          "output_type": "stream",
          "text": [
            "🔁 Extracting: 100%|██████████| 1319/1319 [00:02<00:00, 603.14it/s]\n"
          ]
        },
        {
          "name": "stdout",
          "output_type": "stream",
          "text": [
            "\n",
            "🎲 Random Set 493/1000: [(7, 0), (2, 7), (6, 8), (11, 4), (3, 1), (9, 3), (11, 11), (4, 1), (5, 5), (6, 10)]\n"
          ]
        },
        {
          "name": "stderr",
          "output_type": "stream",
          "text": [
            "🔁 Extracting: 100%|██████████| 1319/1319 [00:01<00:00, 775.84it/s]\n"
          ]
        },
        {
          "name": "stdout",
          "output_type": "stream",
          "text": [
            "\n",
            "🎲 Random Set 494/1000: [(0, 7), (10, 5), (9, 3), (1, 4), (7, 8), (4, 7), (0, 2), (7, 3), (3, 4), (6, 3)]\n"
          ]
        },
        {
          "name": "stderr",
          "output_type": "stream",
          "text": [
            "🔁 Extracting: 100%|██████████| 1319/1319 [00:01<00:00, 806.07it/s]\n"
          ]
        },
        {
          "name": "stdout",
          "output_type": "stream",
          "text": [
            "\n",
            "🎲 Random Set 495/1000: [(10, 5), (4, 10), (7, 1), (6, 8), (2, 0), (9, 3), (8, 7), (8, 8), (0, 9), (1, 8)]\n"
          ]
        },
        {
          "name": "stderr",
          "output_type": "stream",
          "text": [
            "🔁 Extracting: 100%|██████████| 1319/1319 [00:01<00:00, 806.13it/s]\n"
          ]
        },
        {
          "name": "stdout",
          "output_type": "stream",
          "text": [
            "\n",
            "🎲 Random Set 496/1000: [(3, 4), (11, 10), (6, 11), (3, 1), (0, 9), (0, 5), (8, 9), (2, 10), (7, 7), (7, 8)]\n"
          ]
        },
        {
          "name": "stderr",
          "output_type": "stream",
          "text": [
            "🔁 Extracting: 100%|██████████| 1319/1319 [00:01<00:00, 801.03it/s]\n"
          ]
        },
        {
          "name": "stdout",
          "output_type": "stream",
          "text": [
            "\n",
            "🎲 Random Set 497/1000: [(0, 6), (4, 2), (1, 0), (6, 4), (7, 8), (11, 0), (11, 10), (0, 5), (0, 9), (2, 7)]\n"
          ]
        },
        {
          "name": "stderr",
          "output_type": "stream",
          "text": [
            "🔁 Extracting: 100%|██████████| 1319/1319 [00:01<00:00, 771.54it/s]\n"
          ]
        },
        {
          "name": "stdout",
          "output_type": "stream",
          "text": [
            "\n",
            "🎲 Random Set 498/1000: [(11, 0), (4, 1), (7, 4), (1, 0), (6, 10), (5, 2), (7, 11), (11, 6), (8, 7), (4, 10)]\n"
          ]
        },
        {
          "name": "stderr",
          "output_type": "stream",
          "text": [
            "🔁 Extracting: 100%|██████████| 1319/1319 [00:01<00:00, 766.89it/s]\n"
          ]
        },
        {
          "name": "stdout",
          "output_type": "stream",
          "text": [
            "\n",
            "🎲 Random Set 499/1000: [(8, 7), (1, 9), (0, 4), (2, 6), (10, 7), (3, 9), (11, 5), (4, 9), (1, 0), (0, 5)]\n"
          ]
        },
        {
          "name": "stderr",
          "output_type": "stream",
          "text": [
            "🔁 Extracting: 100%|██████████| 1319/1319 [00:01<00:00, 779.80it/s]\n"
          ]
        },
        {
          "name": "stdout",
          "output_type": "stream",
          "text": [
            "\n",
            "🎲 Random Set 500/1000: [(4, 5), (2, 11), (3, 3), (8, 2), (2, 3), (5, 0), (7, 8), (3, 4), (0, 0), (3, 2)]\n"
          ]
        },
        {
          "name": "stderr",
          "output_type": "stream",
          "text": [
            "🔁 Extracting: 100%|██████████| 1319/1319 [00:01<00:00, 769.75it/s]\n"
          ]
        },
        {
          "name": "stdout",
          "output_type": "stream",
          "text": [
            "\n",
            "🎲 Random Set 501/1000: [(0, 1), (5, 11), (10, 0), (0, 10), (7, 2), (2, 5), (7, 10), (10, 4), (2, 11), (1, 3)]\n"
          ]
        },
        {
          "name": "stderr",
          "output_type": "stream",
          "text": [
            "🔁 Extracting: 100%|██████████| 1319/1319 [00:01<00:00, 782.99it/s]\n"
          ]
        },
        {
          "name": "stdout",
          "output_type": "stream",
          "text": [
            "\n",
            "🎲 Random Set 502/1000: [(10, 3), (9, 0), (5, 1), (10, 11), (8, 11), (9, 9), (5, 5), (3, 10), (1, 10), (11, 8)]\n"
          ]
        },
        {
          "name": "stderr",
          "output_type": "stream",
          "text": [
            "🔁 Extracting: 100%|██████████| 1319/1319 [00:01<00:00, 781.41it/s]\n"
          ]
        },
        {
          "name": "stdout",
          "output_type": "stream",
          "text": [
            "\n",
            "🎲 Random Set 503/1000: [(7, 11), (2, 10), (11, 8), (9, 3), (3, 2), (1, 10), (2, 0), (5, 3), (11, 0), (3, 9)]\n"
          ]
        },
        {
          "name": "stderr",
          "output_type": "stream",
          "text": [
            "🔁 Extracting: 100%|██████████| 1319/1319 [00:01<00:00, 786.66it/s]\n"
          ]
        },
        {
          "name": "stdout",
          "output_type": "stream",
          "text": [
            "\n",
            "🎲 Random Set 504/1000: [(11, 6), (5, 3), (8, 9), (5, 5), (10, 9), (8, 6), (8, 8), (5, 10), (4, 11), (8, 11)]\n"
          ]
        },
        {
          "name": "stderr",
          "output_type": "stream",
          "text": [
            "🔁 Extracting: 100%|██████████| 1319/1319 [00:01<00:00, 795.72it/s]\n"
          ]
        },
        {
          "name": "stdout",
          "output_type": "stream",
          "text": [
            "\n",
            "🎲 Random Set 505/1000: [(9, 3), (0, 3), (0, 7), (11, 1), (4, 5), (2, 4), (4, 10), (11, 4), (11, 3), (1, 11)]\n"
          ]
        },
        {
          "name": "stderr",
          "output_type": "stream",
          "text": [
            "🔁 Extracting: 100%|██████████| 1319/1319 [00:01<00:00, 803.91it/s]\n"
          ]
        },
        {
          "name": "stdout",
          "output_type": "stream",
          "text": [
            "\n",
            "🎲 Random Set 506/1000: [(3, 4), (7, 11), (11, 0), (10, 8), (0, 0), (10, 6), (7, 9), (8, 10), (4, 11), (5, 2)]\n"
          ]
        },
        {
          "name": "stderr",
          "output_type": "stream",
          "text": [
            "🔁 Extracting: 100%|██████████| 1319/1319 [00:01<00:00, 789.24it/s]\n"
          ]
        },
        {
          "name": "stdout",
          "output_type": "stream",
          "text": [
            "\n",
            "🎲 Random Set 507/1000: [(5, 8), (9, 7), (1, 6), (6, 7), (7, 5), (6, 9), (11, 5), (4, 6), (6, 6), (8, 11)]\n"
          ]
        },
        {
          "name": "stderr",
          "output_type": "stream",
          "text": [
            "🔁 Extracting: 100%|██████████| 1319/1319 [00:01<00:00, 792.41it/s]\n"
          ]
        },
        {
          "name": "stdout",
          "output_type": "stream",
          "text": [
            "\n",
            "🎲 Random Set 508/1000: [(2, 5), (7, 6), (0, 9), (4, 9), (5, 4), (9, 5), (10, 9), (6, 8), (7, 7), (0, 4)]\n"
          ]
        },
        {
          "name": "stderr",
          "output_type": "stream",
          "text": [
            "🔁 Extracting: 100%|██████████| 1319/1319 [00:01<00:00, 784.19it/s]\n"
          ]
        },
        {
          "name": "stdout",
          "output_type": "stream",
          "text": [
            "\n",
            "🎲 Random Set 509/1000: [(0, 8), (8, 8), (5, 2), (7, 6), (3, 2), (3, 1), (6, 3), (10, 3), (9, 10), (6, 11)]\n"
          ]
        },
        {
          "name": "stderr",
          "output_type": "stream",
          "text": [
            "🔁 Extracting: 100%|██████████| 1319/1319 [00:01<00:00, 793.24it/s]\n"
          ]
        },
        {
          "name": "stdout",
          "output_type": "stream",
          "text": [
            "\n",
            "🎲 Random Set 510/1000: [(0, 2), (6, 7), (3, 3), (3, 2), (11, 5), (5, 0), (8, 4), (7, 4), (4, 6), (11, 7)]\n"
          ]
        },
        {
          "name": "stderr",
          "output_type": "stream",
          "text": [
            "🔁 Extracting: 100%|██████████| 1319/1319 [00:01<00:00, 756.73it/s]\n"
          ]
        },
        {
          "name": "stdout",
          "output_type": "stream",
          "text": [
            "\n",
            "🎲 Random Set 511/1000: [(4, 8), (8, 9), (0, 4), (5, 10), (10, 5), (1, 4), (10, 11), (11, 8), (6, 10), (1, 9)]\n"
          ]
        },
        {
          "name": "stderr",
          "output_type": "stream",
          "text": [
            "🔁 Extracting: 100%|██████████| 1319/1319 [00:01<00:00, 772.65it/s]\n"
          ]
        },
        {
          "name": "stdout",
          "output_type": "stream",
          "text": [
            "\n",
            "🎲 Random Set 512/1000: [(5, 8), (8, 1), (10, 4), (9, 3), (3, 0), (1, 1), (5, 6), (11, 1), (7, 1), (5, 0)]\n"
          ]
        },
        {
          "name": "stderr",
          "output_type": "stream",
          "text": [
            "🔁 Extracting: 100%|██████████| 1319/1319 [00:01<00:00, 789.52it/s]\n"
          ]
        },
        {
          "name": "stdout",
          "output_type": "stream",
          "text": [
            "\n",
            "🎲 Random Set 513/1000: [(7, 8), (3, 0), (5, 11), (1, 6), (6, 7), (0, 7), (9, 8), (10, 7), (2, 9), (0, 0)]\n"
          ]
        },
        {
          "name": "stderr",
          "output_type": "stream",
          "text": [
            "🔁 Extracting: 100%|██████████| 1319/1319 [00:01<00:00, 785.58it/s]\n"
          ]
        },
        {
          "name": "stdout",
          "output_type": "stream",
          "text": [
            "\n",
            "🎲 Random Set 514/1000: [(1, 6), (7, 5), (10, 2), (2, 11), (4, 8), (9, 2), (6, 10), (6, 7), (8, 7), (4, 2)]\n"
          ]
        },
        {
          "name": "stderr",
          "output_type": "stream",
          "text": [
            "🔁 Extracting: 100%|██████████| 1319/1319 [00:01<00:00, 799.29it/s]\n"
          ]
        },
        {
          "name": "stdout",
          "output_type": "stream",
          "text": [
            "\n",
            "🎲 Random Set 515/1000: [(1, 8), (11, 6), (11, 9), (2, 2), (11, 5), (2, 9), (5, 9), (7, 9), (8, 1), (5, 6)]\n"
          ]
        },
        {
          "name": "stderr",
          "output_type": "stream",
          "text": [
            "🔁 Extracting: 100%|██████████| 1319/1319 [00:01<00:00, 770.91it/s]\n"
          ]
        },
        {
          "name": "stdout",
          "output_type": "stream",
          "text": [
            "\n",
            "🎲 Random Set 516/1000: [(5, 1), (11, 7), (10, 11), (9, 11), (7, 2), (11, 10), (0, 4), (10, 9), (5, 10), (1, 11)]\n"
          ]
        },
        {
          "name": "stderr",
          "output_type": "stream",
          "text": [
            "🔁 Extracting: 100%|██████████| 1319/1319 [00:01<00:00, 801.07it/s]\n"
          ]
        },
        {
          "name": "stdout",
          "output_type": "stream",
          "text": [
            "\n",
            "🎲 Random Set 517/1000: [(10, 7), (1, 2), (6, 9), (4, 3), (9, 8), (5, 4), (3, 4), (2, 6), (6, 11), (10, 0)]\n"
          ]
        },
        {
          "name": "stderr",
          "output_type": "stream",
          "text": [
            "🔁 Extracting: 100%|██████████| 1319/1319 [00:01<00:00, 767.99it/s]\n"
          ]
        },
        {
          "name": "stdout",
          "output_type": "stream",
          "text": [
            "\n",
            "🎲 Random Set 518/1000: [(1, 6), (7, 8), (0, 0), (2, 4), (8, 1), (3, 3), (8, 3), (5, 5), (10, 8), (0, 2)]\n"
          ]
        },
        {
          "name": "stderr",
          "output_type": "stream",
          "text": [
            "🔁 Extracting: 100%|██████████| 1319/1319 [00:01<00:00, 806.48it/s]\n"
          ]
        },
        {
          "name": "stdout",
          "output_type": "stream",
          "text": [
            "\n",
            "🎲 Random Set 519/1000: [(5, 7), (10, 11), (1, 0), (10, 3), (2, 0), (9, 7), (9, 4), (10, 5), (0, 10), (3, 8)]\n"
          ]
        },
        {
          "name": "stderr",
          "output_type": "stream",
          "text": [
            "🔁 Extracting: 100%|██████████| 1319/1319 [00:01<00:00, 797.99it/s]\n"
          ]
        },
        {
          "name": "stdout",
          "output_type": "stream",
          "text": [
            "\n",
            "🎲 Random Set 520/1000: [(8, 11), (8, 10), (5, 10), (4, 10), (7, 3), (1, 4), (11, 2), (2, 9), (5, 2), (1, 9)]\n"
          ]
        },
        {
          "name": "stderr",
          "output_type": "stream",
          "text": [
            "🔁 Extracting: 100%|██████████| 1319/1319 [00:01<00:00, 773.47it/s]\n"
          ]
        },
        {
          "name": "stdout",
          "output_type": "stream",
          "text": [
            "\n",
            "🎲 Random Set 521/1000: [(3, 11), (3, 0), (3, 1), (5, 8), (4, 5), (10, 7), (10, 8), (8, 10), (2, 7), (11, 10)]\n"
          ]
        },
        {
          "name": "stderr",
          "output_type": "stream",
          "text": [
            "🔁 Extracting: 100%|██████████| 1319/1319 [00:01<00:00, 777.16it/s]\n"
          ]
        },
        {
          "name": "stdout",
          "output_type": "stream",
          "text": [
            "\n",
            "🎲 Random Set 522/1000: [(11, 10), (5, 2), (10, 6), (0, 5), (1, 7), (2, 8), (0, 7), (4, 4), (1, 8), (7, 5)]\n"
          ]
        },
        {
          "name": "stderr",
          "output_type": "stream",
          "text": [
            "🔁 Extracting: 100%|██████████| 1319/1319 [00:01<00:00, 783.64it/s]\n"
          ]
        },
        {
          "name": "stdout",
          "output_type": "stream",
          "text": [
            "\n",
            "🎲 Random Set 523/1000: [(5, 8), (0, 2), (8, 5), (10, 11), (11, 0), (1, 11), (1, 7), (6, 11), (9, 8), (0, 8)]\n"
          ]
        },
        {
          "name": "stderr",
          "output_type": "stream",
          "text": [
            "🔁 Extracting: 100%|██████████| 1319/1319 [00:01<00:00, 769.50it/s]\n"
          ]
        },
        {
          "name": "stdout",
          "output_type": "stream",
          "text": [
            "\n",
            "🎲 Random Set 524/1000: [(2, 4), (11, 3), (6, 1), (10, 3), (9, 3), (6, 2), (8, 8), (10, 0), (4, 0), (7, 6)]\n"
          ]
        },
        {
          "name": "stderr",
          "output_type": "stream",
          "text": [
            "🔁 Extracting: 100%|██████████| 1319/1319 [00:01<00:00, 766.06it/s]\n"
          ]
        },
        {
          "name": "stdout",
          "output_type": "stream",
          "text": [
            "\n",
            "🎲 Random Set 525/1000: [(5, 4), (1, 7), (8, 11), (9, 8), (2, 7), (3, 1), (8, 4), (4, 1), (5, 6), (3, 6)]\n"
          ]
        },
        {
          "name": "stderr",
          "output_type": "stream",
          "text": [
            "🔁 Extracting: 100%|██████████| 1319/1319 [00:01<00:00, 767.00it/s]\n"
          ]
        },
        {
          "name": "stdout",
          "output_type": "stream",
          "text": [
            "\n",
            "🎲 Random Set 526/1000: [(0, 0), (2, 10), (5, 5), (0, 8), (9, 11), (9, 1), (2, 4), (9, 7), (8, 2), (7, 9)]\n"
          ]
        },
        {
          "name": "stderr",
          "output_type": "stream",
          "text": [
            "🔁 Extracting: 100%|██████████| 1319/1319 [00:01<00:00, 790.76it/s]\n"
          ]
        },
        {
          "name": "stdout",
          "output_type": "stream",
          "text": [
            "\n",
            "🎲 Random Set 527/1000: [(1, 8), (11, 5), (7, 7), (7, 2), (3, 0), (8, 11), (10, 4), (4, 8), (9, 11), (7, 6)]\n"
          ]
        },
        {
          "name": "stderr",
          "output_type": "stream",
          "text": [
            "🔁 Extracting: 100%|██████████| 1319/1319 [00:01<00:00, 799.88it/s]\n"
          ]
        },
        {
          "name": "stdout",
          "output_type": "stream",
          "text": [
            "\n",
            "🎲 Random Set 528/1000: [(1, 9), (3, 8), (9, 11), (4, 8), (6, 5), (5, 9), (6, 7), (6, 1), (1, 0), (7, 1)]\n"
          ]
        },
        {
          "name": "stderr",
          "output_type": "stream",
          "text": [
            "🔁 Extracting: 100%|██████████| 1319/1319 [00:01<00:00, 798.21it/s]\n"
          ]
        },
        {
          "name": "stdout",
          "output_type": "stream",
          "text": [
            "\n",
            "🎲 Random Set 529/1000: [(5, 0), (4, 0), (6, 8), (1, 10), (0, 10), (3, 0), (2, 3), (4, 1), (0, 0), (4, 5)]\n"
          ]
        },
        {
          "name": "stderr",
          "output_type": "stream",
          "text": [
            "🔁 Extracting: 100%|██████████| 1319/1319 [00:01<00:00, 808.33it/s]\n"
          ]
        },
        {
          "name": "stdout",
          "output_type": "stream",
          "text": [
            "\n",
            "🎲 Random Set 530/1000: [(11, 8), (3, 6), (8, 7), (2, 2), (3, 8), (4, 4), (9, 7), (7, 9), (3, 2), (0, 2)]\n"
          ]
        },
        {
          "name": "stderr",
          "output_type": "stream",
          "text": [
            "🔁 Extracting: 100%|██████████| 1319/1319 [00:01<00:00, 769.08it/s]\n"
          ]
        },
        {
          "name": "stdout",
          "output_type": "stream",
          "text": [
            "\n",
            "🎲 Random Set 531/1000: [(4, 11), (11, 6), (1, 7), (0, 5), (7, 10), (8, 7), (10, 3), (9, 11), (11, 10), (6, 8)]\n"
          ]
        },
        {
          "name": "stderr",
          "output_type": "stream",
          "text": [
            "🔁 Extracting: 100%|██████████| 1319/1319 [00:01<00:00, 765.69it/s]\n"
          ]
        },
        {
          "name": "stdout",
          "output_type": "stream",
          "text": [
            "\n",
            "🎲 Random Set 532/1000: [(5, 11), (6, 10), (4, 4), (1, 4), (4, 9), (0, 2), (8, 9), (9, 1), (5, 7), (2, 11)]\n"
          ]
        },
        {
          "name": "stderr",
          "output_type": "stream",
          "text": [
            "🔁 Extracting: 100%|██████████| 1319/1319 [00:01<00:00, 778.34it/s]\n"
          ]
        },
        {
          "name": "stdout",
          "output_type": "stream",
          "text": [
            "\n",
            "🎲 Random Set 533/1000: [(9, 4), (3, 9), (10, 10), (9, 5), (10, 8), (11, 7), (3, 7), (10, 1), (0, 0), (2, 11)]\n"
          ]
        },
        {
          "name": "stderr",
          "output_type": "stream",
          "text": [
            "🔁 Extracting: 100%|██████████| 1319/1319 [00:01<00:00, 783.32it/s]\n"
          ]
        },
        {
          "name": "stdout",
          "output_type": "stream",
          "text": [
            "\n",
            "🎲 Random Set 534/1000: [(10, 11), (10, 4), (4, 7), (0, 3), (4, 2), (6, 11), (2, 11), (9, 11), (5, 2), (7, 11)]\n"
          ]
        },
        {
          "name": "stderr",
          "output_type": "stream",
          "text": [
            "🔁 Extracting: 100%|██████████| 1319/1319 [00:01<00:00, 784.75it/s]\n"
          ]
        },
        {
          "name": "stdout",
          "output_type": "stream",
          "text": [
            "\n",
            "🎲 Random Set 535/1000: [(7, 5), (3, 1), (1, 11), (8, 0), (11, 0), (0, 0), (6, 1), (9, 10), (11, 6), (2, 11)]\n"
          ]
        },
        {
          "name": "stderr",
          "output_type": "stream",
          "text": [
            "🔁 Extracting: 100%|██████████| 1319/1319 [00:01<00:00, 809.35it/s]\n"
          ]
        },
        {
          "name": "stdout",
          "output_type": "stream",
          "text": [
            "\n",
            "🎲 Random Set 536/1000: [(0, 5), (4, 10), (4, 11), (10, 3), (5, 0), (11, 8), (11, 5), (0, 7), (1, 4), (2, 7)]\n"
          ]
        },
        {
          "name": "stderr",
          "output_type": "stream",
          "text": [
            "🔁 Extracting: 100%|██████████| 1319/1319 [00:01<00:00, 800.97it/s]\n"
          ]
        },
        {
          "name": "stdout",
          "output_type": "stream",
          "text": [
            "\n",
            "🎲 Random Set 537/1000: [(8, 11), (2, 3), (10, 5), (7, 8), (0, 10), (9, 9), (4, 4), (7, 10), (3, 5), (2, 9)]\n"
          ]
        },
        {
          "name": "stderr",
          "output_type": "stream",
          "text": [
            "🔁 Extracting: 100%|██████████| 1319/1319 [00:01<00:00, 769.05it/s]\n"
          ]
        },
        {
          "name": "stdout",
          "output_type": "stream",
          "text": [
            "\n",
            "🎲 Random Set 538/1000: [(9, 4), (2, 2), (11, 5), (2, 5), (9, 9), (7, 3), (9, 1), (1, 11), (0, 4), (0, 3)]\n"
          ]
        },
        {
          "name": "stderr",
          "output_type": "stream",
          "text": [
            "🔁 Extracting: 100%|██████████| 1319/1319 [00:01<00:00, 774.82it/s]\n"
          ]
        },
        {
          "name": "stdout",
          "output_type": "stream",
          "text": [
            "\n",
            "🎲 Random Set 539/1000: [(1, 6), (4, 8), (2, 10), (7, 0), (2, 3), (2, 7), (11, 9), (5, 11), (6, 9), (3, 3)]\n"
          ]
        },
        {
          "name": "stderr",
          "output_type": "stream",
          "text": [
            "🔁 Extracting: 100%|██████████| 1319/1319 [00:01<00:00, 800.57it/s]\n"
          ]
        },
        {
          "name": "stdout",
          "output_type": "stream",
          "text": [
            "\n",
            "🎲 Random Set 540/1000: [(5, 3), (10, 10), (2, 3), (10, 2), (7, 10), (4, 0), (4, 5), (6, 7), (4, 6), (8, 8)]\n"
          ]
        },
        {
          "name": "stderr",
          "output_type": "stream",
          "text": [
            "🔁 Extracting: 100%|██████████| 1319/1319 [00:01<00:00, 781.77it/s]\n"
          ]
        },
        {
          "name": "stdout",
          "output_type": "stream",
          "text": [
            "\n",
            "🎲 Random Set 541/1000: [(9, 9), (9, 7), (0, 2), (2, 7), (4, 8), (7, 9), (1, 10), (8, 11), (2, 8), (1, 7)]\n"
          ]
        },
        {
          "name": "stderr",
          "output_type": "stream",
          "text": [
            "🔁 Extracting: 100%|██████████| 1319/1319 [00:01<00:00, 762.63it/s]\n"
          ]
        },
        {
          "name": "stdout",
          "output_type": "stream",
          "text": [
            "\n",
            "🎲 Random Set 542/1000: [(11, 1), (1, 11), (4, 6), (8, 6), (1, 8), (11, 3), (2, 3), (4, 4), (7, 7), (3, 0)]\n"
          ]
        },
        {
          "name": "stderr",
          "output_type": "stream",
          "text": [
            "🔁 Extracting: 100%|██████████| 1319/1319 [00:01<00:00, 787.35it/s]\n"
          ]
        },
        {
          "name": "stdout",
          "output_type": "stream",
          "text": [
            "\n",
            "🎲 Random Set 543/1000: [(4, 7), (10, 4), (11, 5), (8, 6), (11, 9), (6, 3), (9, 3), (11, 3), (4, 0), (10, 2)]\n"
          ]
        },
        {
          "name": "stderr",
          "output_type": "stream",
          "text": [
            "🔁 Extracting: 100%|██████████| 1319/1319 [00:01<00:00, 773.31it/s]\n"
          ]
        },
        {
          "name": "stdout",
          "output_type": "stream",
          "text": [
            "\n",
            "🎲 Random Set 544/1000: [(3, 11), (3, 3), (2, 5), (3, 4), (3, 0), (0, 7), (6, 4), (7, 5), (2, 6), (10, 7)]\n"
          ]
        },
        {
          "name": "stderr",
          "output_type": "stream",
          "text": [
            "🔁 Extracting: 100%|██████████| 1319/1319 [00:01<00:00, 753.65it/s]\n"
          ]
        },
        {
          "name": "stdout",
          "output_type": "stream",
          "text": [
            "\n",
            "🎲 Random Set 545/1000: [(8, 6), (4, 1), (10, 3), (10, 5), (9, 4), (2, 7), (1, 3), (6, 3), (6, 4), (7, 10)]\n"
          ]
        },
        {
          "name": "stderr",
          "output_type": "stream",
          "text": [
            "🔁 Extracting: 100%|██████████| 1319/1319 [00:01<00:00, 800.93it/s]\n"
          ]
        },
        {
          "name": "stdout",
          "output_type": "stream",
          "text": [
            "\n",
            "🎲 Random Set 546/1000: [(5, 8), (4, 5), (2, 0), (0, 7), (8, 8), (11, 0), (7, 7), (5, 10), (9, 7), (1, 2)]\n"
          ]
        },
        {
          "name": "stderr",
          "output_type": "stream",
          "text": [
            "🔁 Extracting: 100%|██████████| 1319/1319 [00:01<00:00, 799.79it/s]\n"
          ]
        },
        {
          "name": "stdout",
          "output_type": "stream",
          "text": [
            "\n",
            "🎲 Random Set 547/1000: [(0, 7), (5, 11), (3, 5), (7, 8), (3, 6), (7, 7), (6, 8), (6, 3), (8, 7), (10, 3)]\n"
          ]
        },
        {
          "name": "stderr",
          "output_type": "stream",
          "text": [
            "🔁 Extracting: 100%|██████████| 1319/1319 [00:01<00:00, 789.84it/s]\n"
          ]
        },
        {
          "name": "stdout",
          "output_type": "stream",
          "text": [
            "\n",
            "🎲 Random Set 548/1000: [(11, 0), (7, 6), (8, 8), (4, 1), (5, 5), (6, 10), (2, 11), (2, 2), (5, 2), (4, 7)]\n"
          ]
        },
        {
          "name": "stderr",
          "output_type": "stream",
          "text": [
            "🔁 Extracting: 100%|██████████| 1319/1319 [00:01<00:00, 792.07it/s]\n"
          ]
        },
        {
          "name": "stdout",
          "output_type": "stream",
          "text": [
            "\n",
            "🎲 Random Set 549/1000: [(3, 9), (1, 5), (7, 4), (9, 9), (3, 1), (3, 2), (3, 8), (1, 3), (10, 3), (3, 5)]\n"
          ]
        },
        {
          "name": "stderr",
          "output_type": "stream",
          "text": [
            "🔁 Extracting: 100%|██████████| 1319/1319 [00:01<00:00, 789.75it/s]\n"
          ]
        },
        {
          "name": "stdout",
          "output_type": "stream",
          "text": [
            "\n",
            "🎲 Random Set 550/1000: [(8, 11), (3, 8), (5, 4), (1, 11), (0, 0), (1, 10), (8, 1), (11, 0), (6, 0), (11, 1)]\n"
          ]
        },
        {
          "name": "stderr",
          "output_type": "stream",
          "text": [
            "🔁 Extracting: 100%|██████████| 1319/1319 [00:01<00:00, 767.42it/s]\n"
          ]
        },
        {
          "name": "stdout",
          "output_type": "stream",
          "text": [
            "\n",
            "🎲 Random Set 551/1000: [(9, 8), (3, 5), (3, 7), (0, 5), (2, 9), (1, 3), (0, 1), (11, 0), (4, 5), (5, 1)]\n"
          ]
        },
        {
          "name": "stderr",
          "output_type": "stream",
          "text": [
            "🔁 Extracting: 100%|██████████| 1319/1319 [00:01<00:00, 770.67it/s]\n"
          ]
        },
        {
          "name": "stdout",
          "output_type": "stream",
          "text": [
            "\n",
            "🎲 Random Set 552/1000: [(7, 3), (1, 4), (4, 5), (6, 6), (9, 2), (4, 9), (7, 9), (0, 10), (2, 10), (3, 6)]\n"
          ]
        },
        {
          "name": "stderr",
          "output_type": "stream",
          "text": [
            "🔁 Extracting: 100%|██████████| 1319/1319 [00:01<00:00, 790.87it/s]\n"
          ]
        },
        {
          "name": "stdout",
          "output_type": "stream",
          "text": [
            "\n",
            "🎲 Random Set 553/1000: [(8, 5), (5, 10), (0, 0), (9, 9), (6, 11), (1, 3), (3, 1), (10, 1), (4, 0), (11, 11)]\n"
          ]
        },
        {
          "name": "stderr",
          "output_type": "stream",
          "text": [
            "🔁 Extracting: 100%|██████████| 1319/1319 [00:01<00:00, 797.79it/s]\n"
          ]
        },
        {
          "name": "stdout",
          "output_type": "stream",
          "text": [
            "\n",
            "🎲 Random Set 554/1000: [(1, 10), (5, 8), (3, 6), (2, 6), (7, 9), (1, 0), (9, 2), (7, 3), (8, 3), (7, 7)]\n"
          ]
        },
        {
          "name": "stderr",
          "output_type": "stream",
          "text": [
            "🔁 Extracting: 100%|██████████| 1319/1319 [00:01<00:00, 796.44it/s]\n"
          ]
        },
        {
          "name": "stdout",
          "output_type": "stream",
          "text": [
            "\n",
            "🎲 Random Set 555/1000: [(5, 7), (11, 1), (8, 8), (3, 2), (8, 6), (11, 9), (9, 1), (9, 7), (11, 5), (7, 3)]\n"
          ]
        },
        {
          "name": "stderr",
          "output_type": "stream",
          "text": [
            "🔁 Extracting: 100%|██████████| 1319/1319 [00:01<00:00, 793.07it/s]\n"
          ]
        },
        {
          "name": "stdout",
          "output_type": "stream",
          "text": [
            "\n",
            "🎲 Random Set 556/1000: [(9, 6), (9, 3), (5, 2), (3, 3), (5, 1), (0, 11), (6, 6), (8, 7), (6, 1), (0, 8)]\n"
          ]
        },
        {
          "name": "stderr",
          "output_type": "stream",
          "text": [
            "🔁 Extracting: 100%|██████████| 1319/1319 [00:01<00:00, 780.64it/s]\n"
          ]
        },
        {
          "name": "stdout",
          "output_type": "stream",
          "text": [
            "\n",
            "🎲 Random Set 557/1000: [(2, 11), (8, 11), (10, 8), (10, 3), (0, 9), (4, 10), (5, 10), (7, 6), (0, 7), (1, 2)]\n"
          ]
        },
        {
          "name": "stderr",
          "output_type": "stream",
          "text": [
            "🔁 Extracting: 100%|██████████| 1319/1319 [00:02<00:00, 586.26it/s]\n"
          ]
        },
        {
          "name": "stdout",
          "output_type": "stream",
          "text": [
            "\n",
            "🎲 Random Set 558/1000: [(1, 1), (1, 11), (11, 3), (1, 8), (8, 8), (6, 3), (8, 2), (10, 8), (6, 10), (1, 10)]\n"
          ]
        },
        {
          "name": "stderr",
          "output_type": "stream",
          "text": [
            "🔁 Extracting: 100%|██████████| 1319/1319 [00:01<00:00, 796.40it/s]\n"
          ]
        },
        {
          "name": "stdout",
          "output_type": "stream",
          "text": [
            "\n",
            "🎲 Random Set 559/1000: [(4, 6), (3, 11), (10, 7), (2, 5), (1, 8), (7, 8), (5, 5), (11, 3), (4, 2), (5, 9)]\n"
          ]
        },
        {
          "name": "stderr",
          "output_type": "stream",
          "text": [
            "🔁 Extracting: 100%|██████████| 1319/1319 [00:01<00:00, 794.99it/s]\n"
          ]
        },
        {
          "name": "stdout",
          "output_type": "stream",
          "text": [
            "\n",
            "🎲 Random Set 560/1000: [(2, 9), (6, 8), (0, 9), (2, 10), (6, 0), (5, 6), (9, 9), (11, 10), (8, 10), (10, 5)]\n"
          ]
        },
        {
          "name": "stderr",
          "output_type": "stream",
          "text": [
            "🔁 Extracting: 100%|██████████| 1319/1319 [00:01<00:00, 776.62it/s]\n"
          ]
        },
        {
          "name": "stdout",
          "output_type": "stream",
          "text": [
            "\n",
            "🎲 Random Set 561/1000: [(0, 1), (6, 7), (8, 10), (6, 6), (7, 5), (9, 5), (8, 3), (8, 6), (10, 4), (0, 10)]\n"
          ]
        },
        {
          "name": "stderr",
          "output_type": "stream",
          "text": [
            "🔁 Extracting: 100%|██████████| 1319/1319 [00:01<00:00, 795.69it/s]\n"
          ]
        },
        {
          "name": "stdout",
          "output_type": "stream",
          "text": [
            "\n",
            "🎲 Random Set 562/1000: [(5, 0), (4, 0), (4, 3), (6, 5), (4, 8), (9, 5), (8, 1), (9, 1), (9, 6), (9, 10)]\n"
          ]
        },
        {
          "name": "stderr",
          "output_type": "stream",
          "text": [
            "🔁 Extracting: 100%|██████████| 1319/1319 [00:01<00:00, 795.43it/s]\n"
          ]
        },
        {
          "name": "stdout",
          "output_type": "stream",
          "text": [
            "\n",
            "🎲 Random Set 563/1000: [(3, 2), (4, 2), (10, 6), (7, 3), (10, 1), (7, 1), (2, 11), (5, 4), (8, 8), (7, 9)]\n"
          ]
        },
        {
          "name": "stderr",
          "output_type": "stream",
          "text": [
            "🔁 Extracting: 100%|██████████| 1319/1319 [00:01<00:00, 782.64it/s]\n"
          ]
        },
        {
          "name": "stdout",
          "output_type": "stream",
          "text": [
            "\n",
            "🎲 Random Set 564/1000: [(7, 3), (10, 4), (4, 7), (8, 2), (11, 0), (7, 9), (4, 10), (8, 1), (1, 4), (3, 4)]\n"
          ]
        },
        {
          "name": "stderr",
          "output_type": "stream",
          "text": [
            "🔁 Extracting: 100%|██████████| 1319/1319 [00:01<00:00, 790.79it/s]\n"
          ]
        },
        {
          "name": "stdout",
          "output_type": "stream",
          "text": [
            "\n",
            "🎲 Random Set 565/1000: [(9, 3), (8, 6), (6, 0), (11, 10), (0, 2), (3, 2), (11, 1), (8, 5), (5, 0), (8, 2)]\n"
          ]
        },
        {
          "name": "stderr",
          "output_type": "stream",
          "text": [
            "🔁 Extracting: 100%|██████████| 1319/1319 [00:01<00:00, 808.47it/s]\n"
          ]
        },
        {
          "name": "stdout",
          "output_type": "stream",
          "text": [
            "\n",
            "🎲 Random Set 566/1000: [(1, 7), (6, 11), (2, 9), (9, 11), (5, 1), (6, 9), (0, 5), (8, 6), (3, 7), (7, 0)]\n"
          ]
        },
        {
          "name": "stderr",
          "output_type": "stream",
          "text": [
            "🔁 Extracting: 100%|██████████| 1319/1319 [00:01<00:00, 797.97it/s]\n"
          ]
        },
        {
          "name": "stdout",
          "output_type": "stream",
          "text": [
            "\n",
            "🎲 Random Set 567/1000: [(7, 9), (3, 9), (8, 8), (7, 6), (3, 8), (10, 1), (10, 7), (10, 4), (5, 0), (7, 2)]\n"
          ]
        },
        {
          "name": "stderr",
          "output_type": "stream",
          "text": [
            "🔁 Extracting: 100%|██████████| 1319/1319 [00:01<00:00, 802.39it/s]\n"
          ]
        },
        {
          "name": "stdout",
          "output_type": "stream",
          "text": [
            "\n",
            "🎲 Random Set 568/1000: [(3, 10), (3, 6), (3, 0), (3, 8), (7, 5), (1, 10), (6, 11), (7, 8), (0, 11), (0, 3)]\n"
          ]
        },
        {
          "name": "stderr",
          "output_type": "stream",
          "text": [
            "🔁 Extracting: 100%|██████████| 1319/1319 [00:01<00:00, 802.97it/s]\n"
          ]
        },
        {
          "name": "stdout",
          "output_type": "stream",
          "text": [
            "\n",
            "🎲 Random Set 569/1000: [(10, 0), (4, 3), (2, 1), (6, 0), (6, 4), (1, 0), (7, 4), (3, 11), (10, 3), (8, 2)]\n"
          ]
        },
        {
          "name": "stderr",
          "output_type": "stream",
          "text": [
            "🔁 Extracting: 100%|██████████| 1319/1319 [00:01<00:00, 801.88it/s]\n"
          ]
        },
        {
          "name": "stdout",
          "output_type": "stream",
          "text": [
            "\n",
            "🎲 Random Set 570/1000: [(1, 11), (8, 4), (4, 5), (6, 7), (1, 4), (2, 3), (3, 5), (3, 10), (4, 0), (11, 6)]\n"
          ]
        },
        {
          "name": "stderr",
          "output_type": "stream",
          "text": [
            "🔁 Extracting: 100%|██████████| 1319/1319 [00:01<00:00, 801.45it/s]\n"
          ]
        },
        {
          "name": "stdout",
          "output_type": "stream",
          "text": [
            "\n",
            "🎲 Random Set 571/1000: [(2, 10), (10, 8), (10, 9), (1, 1), (10, 7), (11, 11), (3, 5), (9, 4), (8, 1), (10, 3)]\n"
          ]
        },
        {
          "name": "stderr",
          "output_type": "stream",
          "text": [
            "🔁 Extracting: 100%|██████████| 1319/1319 [00:01<00:00, 784.81it/s]\n"
          ]
        },
        {
          "name": "stdout",
          "output_type": "stream",
          "text": [
            "\n",
            "🎲 Random Set 572/1000: [(5, 11), (1, 11), (8, 2), (6, 11), (2, 7), (10, 3), (8, 3), (11, 2), (3, 9), (6, 7)]\n"
          ]
        },
        {
          "name": "stderr",
          "output_type": "stream",
          "text": [
            "🔁 Extracting: 100%|██████████| 1319/1319 [00:01<00:00, 801.01it/s]\n"
          ]
        },
        {
          "name": "stdout",
          "output_type": "stream",
          "text": [
            "\n",
            "🎲 Random Set 573/1000: [(5, 7), (0, 3), (8, 10), (5, 8), (7, 1), (8, 2), (7, 6), (11, 0), (7, 4), (5, 6)]\n"
          ]
        },
        {
          "name": "stderr",
          "output_type": "stream",
          "text": [
            "🔁 Extracting: 100%|██████████| 1319/1319 [00:01<00:00, 801.95it/s]\n"
          ]
        },
        {
          "name": "stdout",
          "output_type": "stream",
          "text": [
            "\n",
            "🎲 Random Set 574/1000: [(11, 1), (3, 5), (2, 10), (6, 1), (9, 5), (6, 9), (3, 6), (3, 7), (7, 11), (3, 1)]\n"
          ]
        },
        {
          "name": "stderr",
          "output_type": "stream",
          "text": [
            "🔁 Extracting: 100%|██████████| 1319/1319 [00:01<00:00, 808.93it/s]\n"
          ]
        },
        {
          "name": "stdout",
          "output_type": "stream",
          "text": [
            "\n",
            "🎲 Random Set 575/1000: [(1, 8), (2, 5), (6, 10), (7, 8), (11, 10), (4, 4), (3, 8), (0, 8), (3, 6), (8, 3)]\n"
          ]
        },
        {
          "name": "stderr",
          "output_type": "stream",
          "text": [
            "🔁 Extracting: 100%|██████████| 1319/1319 [00:01<00:00, 802.95it/s]\n"
          ]
        },
        {
          "name": "stdout",
          "output_type": "stream",
          "text": [
            "\n",
            "🎲 Random Set 576/1000: [(9, 8), (0, 3), (2, 5), (9, 5), (0, 2), (11, 5), (6, 10), (10, 2), (3, 3), (3, 9)]\n"
          ]
        },
        {
          "name": "stderr",
          "output_type": "stream",
          "text": [
            "🔁 Extracting: 100%|██████████| 1319/1319 [00:01<00:00, 791.24it/s]\n"
          ]
        },
        {
          "name": "stdout",
          "output_type": "stream",
          "text": [
            "\n",
            "🎲 Random Set 577/1000: [(11, 8), (11, 4), (6, 6), (3, 5), (2, 11), (5, 0), (3, 11), (4, 8), (7, 3), (2, 8)]\n"
          ]
        },
        {
          "name": "stderr",
          "output_type": "stream",
          "text": [
            "🔁 Extracting: 100%|██████████| 1319/1319 [00:01<00:00, 761.87it/s]\n"
          ]
        },
        {
          "name": "stdout",
          "output_type": "stream",
          "text": [
            "\n",
            "🎲 Random Set 578/1000: [(1, 6), (6, 1), (7, 2), (6, 8), (9, 9), (11, 3), (1, 3), (7, 1), (7, 9), (10, 1)]\n"
          ]
        },
        {
          "name": "stderr",
          "output_type": "stream",
          "text": [
            "🔁 Extracting: 100%|██████████| 1319/1319 [00:01<00:00, 777.17it/s]\n"
          ]
        },
        {
          "name": "stdout",
          "output_type": "stream",
          "text": [
            "\n",
            "🎲 Random Set 579/1000: [(2, 5), (9, 5), (8, 1), (1, 7), (10, 1), (7, 2), (6, 1), (8, 9), (11, 4), (10, 7)]\n"
          ]
        },
        {
          "name": "stderr",
          "output_type": "stream",
          "text": [
            "🔁 Extracting: 100%|██████████| 1319/1319 [00:01<00:00, 804.02it/s]\n"
          ]
        },
        {
          "name": "stdout",
          "output_type": "stream",
          "text": [
            "\n",
            "🎲 Random Set 580/1000: [(7, 9), (9, 8), (10, 7), (7, 2), (2, 3), (4, 7), (1, 8), (3, 8), (8, 4), (4, 0)]\n"
          ]
        },
        {
          "name": "stderr",
          "output_type": "stream",
          "text": [
            "🔁 Extracting: 100%|██████████| 1319/1319 [00:01<00:00, 793.56it/s]\n"
          ]
        },
        {
          "name": "stdout",
          "output_type": "stream",
          "text": [
            "\n",
            "🎲 Random Set 581/1000: [(6, 11), (0, 7), (2, 11), (8, 3), (2, 7), (6, 9), (4, 6), (11, 6), (4, 9), (3, 10)]\n"
          ]
        },
        {
          "name": "stderr",
          "output_type": "stream",
          "text": [
            "🔁 Extracting: 100%|██████████| 1319/1319 [00:01<00:00, 800.67it/s]\n"
          ]
        },
        {
          "name": "stdout",
          "output_type": "stream",
          "text": [
            "\n",
            "🎲 Random Set 582/1000: [(11, 10), (0, 9), (9, 8), (2, 2), (2, 8), (11, 11), (7, 10), (11, 5), (5, 1), (2, 7)]\n"
          ]
        },
        {
          "name": "stderr",
          "output_type": "stream",
          "text": [
            "🔁 Extracting: 100%|██████████| 1319/1319 [00:01<00:00, 809.47it/s]\n"
          ]
        },
        {
          "name": "stdout",
          "output_type": "stream",
          "text": [
            "\n",
            "🎲 Random Set 583/1000: [(9, 4), (7, 1), (2, 5), (4, 10), (9, 7), (1, 11), (9, 3), (10, 9), (8, 9), (8, 3)]\n"
          ]
        },
        {
          "name": "stderr",
          "output_type": "stream",
          "text": [
            "🔁 Extracting: 100%|██████████| 1319/1319 [00:01<00:00, 802.66it/s]\n"
          ]
        },
        {
          "name": "stdout",
          "output_type": "stream",
          "text": [
            "\n",
            "🎲 Random Set 584/1000: [(1, 9), (4, 5), (7, 2), (1, 4), (8, 1), (7, 5), (9, 0), (9, 6), (4, 1), (6, 5)]\n"
          ]
        },
        {
          "name": "stderr",
          "output_type": "stream",
          "text": [
            "🔁 Extracting: 100%|██████████| 1319/1319 [00:01<00:00, 788.70it/s]\n"
          ]
        },
        {
          "name": "stdout",
          "output_type": "stream",
          "text": [
            "\n",
            "🎲 Random Set 585/1000: [(4, 10), (7, 1), (5, 11), (9, 8), (0, 6), (1, 7), (5, 0), (1, 9), (6, 8), (10, 9)]\n"
          ]
        },
        {
          "name": "stderr",
          "output_type": "stream",
          "text": [
            "🔁 Extracting: 100%|██████████| 1319/1319 [00:01<00:00, 795.45it/s]\n"
          ]
        },
        {
          "name": "stdout",
          "output_type": "stream",
          "text": [
            "\n",
            "🎲 Random Set 586/1000: [(8, 6), (5, 10), (9, 10), (11, 1), (11, 10), (11, 0), (4, 8), (8, 4), (10, 6), (9, 2)]\n"
          ]
        },
        {
          "name": "stderr",
          "output_type": "stream",
          "text": [
            "🔁 Extracting: 100%|██████████| 1319/1319 [00:01<00:00, 799.79it/s]\n"
          ]
        },
        {
          "name": "stdout",
          "output_type": "stream",
          "text": [
            "\n",
            "🎲 Random Set 587/1000: [(7, 6), (1, 10), (1, 4), (7, 0), (10, 7), (11, 4), (10, 4), (5, 5), (5, 7), (2, 9)]\n"
          ]
        },
        {
          "name": "stderr",
          "output_type": "stream",
          "text": [
            "🔁 Extracting: 100%|██████████| 1319/1319 [00:01<00:00, 780.90it/s]\n"
          ]
        },
        {
          "name": "stdout",
          "output_type": "stream",
          "text": [
            "\n",
            "🎲 Random Set 588/1000: [(3, 7), (5, 3), (0, 10), (1, 7), (0, 0), (5, 8), (4, 0), (5, 7), (7, 11), (7, 5)]\n"
          ]
        },
        {
          "name": "stderr",
          "output_type": "stream",
          "text": [
            "🔁 Extracting: 100%|██████████| 1319/1319 [00:01<00:00, 801.45it/s]\n"
          ]
        },
        {
          "name": "stdout",
          "output_type": "stream",
          "text": [
            "\n",
            "🎲 Random Set 589/1000: [(6, 9), (7, 3), (1, 11), (4, 11), (5, 3), (8, 0), (9, 1), (2, 11), (4, 1), (5, 5)]\n"
          ]
        },
        {
          "name": "stderr",
          "output_type": "stream",
          "text": [
            "🔁 Extracting: 100%|██████████| 1319/1319 [00:01<00:00, 808.01it/s]\n"
          ]
        },
        {
          "name": "stdout",
          "output_type": "stream",
          "text": [
            "\n",
            "🎲 Random Set 590/1000: [(5, 10), (6, 4), (3, 7), (0, 5), (9, 0), (1, 7), (0, 0), (4, 10), (4, 5), (6, 10)]\n"
          ]
        },
        {
          "name": "stderr",
          "output_type": "stream",
          "text": [
            "🔁 Extracting: 100%|██████████| 1319/1319 [00:01<00:00, 792.97it/s]\n"
          ]
        },
        {
          "name": "stdout",
          "output_type": "stream",
          "text": [
            "\n",
            "🎲 Random Set 591/1000: [(11, 11), (7, 3), (5, 1), (3, 3), (1, 0), (4, 4), (10, 4), (11, 4), (9, 10), (1, 7)]\n"
          ]
        },
        {
          "name": "stderr",
          "output_type": "stream",
          "text": [
            "🔁 Extracting: 100%|██████████| 1319/1319 [00:01<00:00, 790.15it/s]\n"
          ]
        },
        {
          "name": "stdout",
          "output_type": "stream",
          "text": [
            "\n",
            "🎲 Random Set 592/1000: [(1, 1), (0, 2), (6, 9), (3, 0), (3, 4), (3, 10), (3, 11), (9, 3), (7, 8), (1, 4)]\n"
          ]
        },
        {
          "name": "stderr",
          "output_type": "stream",
          "text": [
            "🔁 Extracting: 100%|██████████| 1319/1319 [00:01<00:00, 799.35it/s]\n"
          ]
        },
        {
          "name": "stdout",
          "output_type": "stream",
          "text": [
            "\n",
            "🎲 Random Set 593/1000: [(8, 0), (3, 5), (6, 7), (9, 10), (11, 2), (4, 5), (4, 8), (11, 0), (5, 5), (5, 1)]\n"
          ]
        },
        {
          "name": "stderr",
          "output_type": "stream",
          "text": [
            "🔁 Extracting: 100%|██████████| 1319/1319 [00:01<00:00, 784.80it/s]\n"
          ]
        },
        {
          "name": "stdout",
          "output_type": "stream",
          "text": [
            "\n",
            "🎲 Random Set 594/1000: [(6, 10), (3, 5), (2, 2), (8, 0), (9, 8), (3, 6), (8, 5), (11, 0), (8, 8), (2, 4)]\n"
          ]
        },
        {
          "name": "stderr",
          "output_type": "stream",
          "text": [
            "🔁 Extracting: 100%|██████████| 1319/1319 [00:01<00:00, 791.18it/s]\n"
          ]
        },
        {
          "name": "stdout",
          "output_type": "stream",
          "text": [
            "\n",
            "🎲 Random Set 595/1000: [(6, 7), (1, 5), (3, 5), (5, 9), (9, 1), (0, 6), (7, 5), (10, 9), (4, 8), (5, 8)]\n"
          ]
        },
        {
          "name": "stderr",
          "output_type": "stream",
          "text": [
            "🔁 Extracting: 100%|██████████| 1319/1319 [00:01<00:00, 796.07it/s]\n"
          ]
        },
        {
          "name": "stdout",
          "output_type": "stream",
          "text": [
            "\n",
            "🎲 Random Set 596/1000: [(2, 4), (11, 3), (10, 2), (5, 4), (5, 9), (8, 10), (4, 6), (6, 6), (0, 8), (1, 6)]\n"
          ]
        },
        {
          "name": "stderr",
          "output_type": "stream",
          "text": [
            "🔁 Extracting: 100%|██████████| 1319/1319 [00:01<00:00, 797.70it/s]\n"
          ]
        },
        {
          "name": "stdout",
          "output_type": "stream",
          "text": [
            "\n",
            "🎲 Random Set 597/1000: [(11, 6), (7, 10), (9, 0), (10, 11), (4, 4), (0, 6), (10, 0), (10, 5), (9, 7), (5, 9)]\n"
          ]
        },
        {
          "name": "stderr",
          "output_type": "stream",
          "text": [
            "🔁 Extracting: 100%|██████████| 1319/1319 [00:01<00:00, 791.44it/s]\n"
          ]
        },
        {
          "name": "stdout",
          "output_type": "stream",
          "text": [
            "\n",
            "🎲 Random Set 598/1000: [(11, 0), (6, 8), (10, 8), (5, 0), (11, 11), (11, 9), (0, 0), (8, 10), (8, 0), (5, 6)]\n"
          ]
        },
        {
          "name": "stderr",
          "output_type": "stream",
          "text": [
            "🔁 Extracting: 100%|██████████| 1319/1319 [00:01<00:00, 783.88it/s]\n"
          ]
        },
        {
          "name": "stdout",
          "output_type": "stream",
          "text": [
            "\n",
            "🎲 Random Set 599/1000: [(4, 11), (3, 8), (1, 0), (9, 5), (2, 10), (5, 3), (7, 2), (2, 5), (0, 2), (10, 3)]\n"
          ]
        },
        {
          "name": "stderr",
          "output_type": "stream",
          "text": [
            "🔁 Extracting: 100%|██████████| 1319/1319 [00:01<00:00, 798.65it/s]\n"
          ]
        },
        {
          "name": "stdout",
          "output_type": "stream",
          "text": [
            "\n",
            "🎲 Random Set 600/1000: [(9, 5), (5, 2), (11, 1), (4, 1), (0, 6), (10, 2), (11, 10), (4, 5), (3, 3), (11, 5)]\n"
          ]
        },
        {
          "name": "stderr",
          "output_type": "stream",
          "text": [
            "🔁 Extracting: 100%|██████████| 1319/1319 [00:01<00:00, 795.72it/s]\n"
          ]
        },
        {
          "name": "stdout",
          "output_type": "stream",
          "text": [
            "\n",
            "🎲 Random Set 601/1000: [(1, 2), (3, 3), (0, 5), (9, 9), (0, 2), (2, 3), (7, 10), (6, 5), (0, 11), (10, 5)]\n"
          ]
        },
        {
          "name": "stderr",
          "output_type": "stream",
          "text": [
            "🔁 Extracting: 100%|██████████| 1319/1319 [00:01<00:00, 801.87it/s]\n"
          ]
        },
        {
          "name": "stdout",
          "output_type": "stream",
          "text": [
            "\n",
            "🎲 Random Set 602/1000: [(8, 7), (3, 6), (1, 5), (11, 4), (2, 10), (6, 2), (0, 8), (8, 5), (11, 0), (10, 0)]\n"
          ]
        },
        {
          "name": "stderr",
          "output_type": "stream",
          "text": [
            "🔁 Extracting: 100%|██████████| 1319/1319 [00:01<00:00, 800.49it/s]\n"
          ]
        },
        {
          "name": "stdout",
          "output_type": "stream",
          "text": [
            "\n",
            "🎲 Random Set 603/1000: [(5, 4), (6, 9), (0, 7), (7, 11), (8, 11), (9, 0), (6, 1), (10, 8), (0, 0), (3, 2)]\n"
          ]
        },
        {
          "name": "stderr",
          "output_type": "stream",
          "text": [
            "🔁 Extracting: 100%|██████████| 1319/1319 [00:01<00:00, 799.69it/s]\n"
          ]
        },
        {
          "name": "stdout",
          "output_type": "stream",
          "text": [
            "\n",
            "🎲 Random Set 604/1000: [(6, 0), (4, 2), (4, 1), (5, 11), (4, 3), (8, 10), (7, 0), (2, 5), (1, 6), (5, 4)]\n"
          ]
        },
        {
          "name": "stderr",
          "output_type": "stream",
          "text": [
            "🔁 Extracting: 100%|██████████| 1319/1319 [00:01<00:00, 806.11it/s]\n"
          ]
        },
        {
          "name": "stdout",
          "output_type": "stream",
          "text": [
            "\n",
            "🎲 Random Set 605/1000: [(9, 3), (8, 0), (11, 3), (8, 3), (10, 0), (10, 11), (5, 11), (6, 7), (6, 2), (2, 10)]\n"
          ]
        },
        {
          "name": "stderr",
          "output_type": "stream",
          "text": [
            "🔁 Extracting: 100%|██████████| 1319/1319 [00:01<00:00, 785.17it/s]\n"
          ]
        },
        {
          "name": "stdout",
          "output_type": "stream",
          "text": [
            "\n",
            "🎲 Random Set 606/1000: [(4, 1), (2, 4), (3, 1), (11, 2), (8, 1), (2, 5), (2, 2), (5, 5), (11, 5), (4, 9)]\n"
          ]
        },
        {
          "name": "stderr",
          "output_type": "stream",
          "text": [
            "🔁 Extracting: 100%|██████████| 1319/1319 [00:01<00:00, 806.65it/s]\n"
          ]
        },
        {
          "name": "stdout",
          "output_type": "stream",
          "text": [
            "\n",
            "🎲 Random Set 607/1000: [(8, 3), (2, 8), (0, 8), (0, 5), (11, 0), (0, 6), (3, 0), (0, 9), (2, 5), (3, 1)]\n"
          ]
        },
        {
          "name": "stderr",
          "output_type": "stream",
          "text": [
            "🔁 Extracting: 100%|██████████| 1319/1319 [00:01<00:00, 801.30it/s]\n"
          ]
        },
        {
          "name": "stdout",
          "output_type": "stream",
          "text": [
            "\n",
            "🎲 Random Set 608/1000: [(5, 1), (3, 7), (10, 7), (7, 11), (7, 10), (5, 11), (10, 4), (11, 5), (6, 5), (3, 3)]\n"
          ]
        },
        {
          "name": "stderr",
          "output_type": "stream",
          "text": [
            "🔁 Extracting: 100%|██████████| 1319/1319 [00:01<00:00, 814.09it/s]\n"
          ]
        },
        {
          "name": "stdout",
          "output_type": "stream",
          "text": [
            "\n",
            "🎲 Random Set 609/1000: [(4, 8), (4, 11), (10, 10), (1, 11), (8, 3), (7, 9), (1, 1), (7, 5), (1, 0), (0, 11)]\n"
          ]
        },
        {
          "name": "stderr",
          "output_type": "stream",
          "text": [
            "🔁 Extracting: 100%|██████████| 1319/1319 [00:01<00:00, 807.64it/s]\n"
          ]
        },
        {
          "name": "stdout",
          "output_type": "stream",
          "text": [
            "\n",
            "🎲 Random Set 610/1000: [(11, 4), (8, 0), (1, 8), (7, 10), (4, 5), (9, 7), (0, 10), (5, 6), (0, 3), (10, 2)]\n"
          ]
        },
        {
          "name": "stderr",
          "output_type": "stream",
          "text": [
            "🔁 Extracting: 100%|██████████| 1319/1319 [00:01<00:00, 809.83it/s]\n"
          ]
        },
        {
          "name": "stdout",
          "output_type": "stream",
          "text": [
            "\n",
            "🎲 Random Set 611/1000: [(5, 5), (0, 1), (3, 1), (8, 7), (10, 2), (9, 9), (2, 0), (9, 8), (8, 8), (0, 10)]\n"
          ]
        },
        {
          "name": "stderr",
          "output_type": "stream",
          "text": [
            "🔁 Extracting: 100%|██████████| 1319/1319 [00:01<00:00, 807.75it/s]\n"
          ]
        },
        {
          "name": "stdout",
          "output_type": "stream",
          "text": [
            "\n",
            "🎲 Random Set 612/1000: [(1, 10), (4, 4), (2, 1), (11, 3), (0, 10), (7, 1), (0, 8), (3, 6), (3, 11), (11, 0)]\n"
          ]
        },
        {
          "name": "stderr",
          "output_type": "stream",
          "text": [
            "🔁 Extracting: 100%|██████████| 1319/1319 [00:01<00:00, 793.98it/s]\n"
          ]
        },
        {
          "name": "stdout",
          "output_type": "stream",
          "text": [
            "\n",
            "🎲 Random Set 613/1000: [(2, 10), (7, 0), (11, 3), (10, 4), (7, 2), (9, 8), (8, 10), (1, 3), (10, 0), (9, 11)]\n"
          ]
        },
        {
          "name": "stderr",
          "output_type": "stream",
          "text": [
            "🔁 Extracting: 100%|██████████| 1319/1319 [00:01<00:00, 796.41it/s]\n"
          ]
        },
        {
          "name": "stdout",
          "output_type": "stream",
          "text": [
            "\n",
            "🎲 Random Set 614/1000: [(2, 2), (3, 1), (8, 0), (0, 4), (1, 8), (8, 1), (7, 5), (1, 3), (11, 11), (5, 2)]\n"
          ]
        },
        {
          "name": "stderr",
          "output_type": "stream",
          "text": [
            "🔁 Extracting: 100%|██████████| 1319/1319 [00:01<00:00, 794.85it/s]\n"
          ]
        },
        {
          "name": "stdout",
          "output_type": "stream",
          "text": [
            "\n",
            "🎲 Random Set 615/1000: [(9, 7), (7, 0), (8, 0), (6, 5), (5, 11), (11, 7), (6, 9), (9, 10), (4, 10), (7, 11)]\n"
          ]
        },
        {
          "name": "stderr",
          "output_type": "stream",
          "text": [
            "🔁 Extracting: 100%|██████████| 1319/1319 [00:01<00:00, 801.03it/s]\n"
          ]
        },
        {
          "name": "stdout",
          "output_type": "stream",
          "text": [
            "\n",
            "🎲 Random Set 616/1000: [(11, 3), (10, 4), (5, 11), (4, 6), (0, 4), (8, 2), (6, 0), (6, 4), (6, 9), (4, 7)]\n"
          ]
        },
        {
          "name": "stderr",
          "output_type": "stream",
          "text": [
            "🔁 Extracting: 100%|██████████| 1319/1319 [00:01<00:00, 803.38it/s]\n"
          ]
        },
        {
          "name": "stdout",
          "output_type": "stream",
          "text": [
            "\n",
            "🎲 Random Set 617/1000: [(0, 2), (8, 0), (4, 7), (2, 2), (6, 5), (6, 7), (10, 4), (2, 7), (5, 0), (3, 5)]\n"
          ]
        },
        {
          "name": "stderr",
          "output_type": "stream",
          "text": [
            "🔁 Extracting: 100%|██████████| 1319/1319 [00:01<00:00, 803.29it/s]\n"
          ]
        },
        {
          "name": "stdout",
          "output_type": "stream",
          "text": [
            "\n",
            "🎲 Random Set 618/1000: [(1, 10), (10, 3), (0, 2), (0, 10), (7, 5), (9, 6), (5, 2), (11, 5), (4, 9), (6, 9)]\n"
          ]
        },
        {
          "name": "stderr",
          "output_type": "stream",
          "text": [
            "🔁 Extracting: 100%|██████████| 1319/1319 [00:01<00:00, 799.94it/s]\n"
          ]
        },
        {
          "name": "stdout",
          "output_type": "stream",
          "text": [
            "\n",
            "🎲 Random Set 619/1000: [(11, 9), (0, 5), (9, 6), (0, 0), (3, 1), (5, 9), (8, 5), (5, 7), (4, 5), (2, 4)]\n"
          ]
        },
        {
          "name": "stderr",
          "output_type": "stream",
          "text": [
            "🔁 Extracting: 100%|██████████| 1319/1319 [00:01<00:00, 783.98it/s]\n"
          ]
        },
        {
          "name": "stdout",
          "output_type": "stream",
          "text": [
            "\n",
            "🎲 Random Set 620/1000: [(10, 1), (6, 0), (8, 8), (5, 4), (8, 4), (8, 9), (7, 2), (1, 10), (9, 1), (3, 11)]\n"
          ]
        },
        {
          "name": "stderr",
          "output_type": "stream",
          "text": [
            "🔁 Extracting: 100%|██████████| 1319/1319 [00:01<00:00, 791.31it/s]\n"
          ]
        },
        {
          "name": "stdout",
          "output_type": "stream",
          "text": [
            "\n",
            "🎲 Random Set 621/1000: [(0, 3), (4, 9), (6, 2), (9, 3), (3, 4), (0, 7), (6, 3), (3, 8), (10, 11), (1, 0)]\n"
          ]
        },
        {
          "name": "stderr",
          "output_type": "stream",
          "text": [
            "🔁 Extracting: 100%|██████████| 1319/1319 [00:01<00:00, 803.58it/s]\n"
          ]
        },
        {
          "name": "stdout",
          "output_type": "stream",
          "text": [
            "\n",
            "🎲 Random Set 622/1000: [(8, 6), (8, 3), (0, 2), (9, 2), (1, 3), (5, 0), (8, 11), (4, 11), (10, 9), (3, 9)]\n"
          ]
        },
        {
          "name": "stderr",
          "output_type": "stream",
          "text": [
            "🔁 Extracting: 100%|██████████| 1319/1319 [00:01<00:00, 802.82it/s]\n"
          ]
        },
        {
          "name": "stdout",
          "output_type": "stream",
          "text": [
            "\n",
            "🎲 Random Set 623/1000: [(3, 7), (7, 9), (2, 8), (7, 1), (3, 6), (4, 5), (4, 7), (2, 10), (5, 5), (5, 8)]\n"
          ]
        },
        {
          "name": "stderr",
          "output_type": "stream",
          "text": [
            "🔁 Extracting: 100%|██████████| 1319/1319 [00:01<00:00, 800.54it/s]\n"
          ]
        },
        {
          "name": "stdout",
          "output_type": "stream",
          "text": [
            "\n",
            "🎲 Random Set 624/1000: [(10, 0), (6, 5), (3, 0), (8, 0), (8, 7), (4, 8), (2, 3), (4, 9), (1, 9), (7, 3)]\n"
          ]
        },
        {
          "name": "stderr",
          "output_type": "stream",
          "text": [
            "🔁 Extracting: 100%|██████████| 1319/1319 [00:01<00:00, 805.79it/s]\n"
          ]
        },
        {
          "name": "stdout",
          "output_type": "stream",
          "text": [
            "\n",
            "🎲 Random Set 625/1000: [(5, 3), (5, 2), (5, 5), (7, 9), (6, 5), (2, 10), (11, 7), (1, 0), (9, 5), (9, 9)]\n"
          ]
        },
        {
          "name": "stderr",
          "output_type": "stream",
          "text": [
            "🔁 Extracting: 100%|██████████| 1319/1319 [00:01<00:00, 788.57it/s]\n"
          ]
        },
        {
          "name": "stdout",
          "output_type": "stream",
          "text": [
            "\n",
            "🎲 Random Set 626/1000: [(1, 7), (5, 8), (6, 9), (2, 5), (6, 1), (5, 9), (10, 10), (7, 3), (3, 5), (1, 2)]\n"
          ]
        },
        {
          "name": "stderr",
          "output_type": "stream",
          "text": [
            "🔁 Extracting: 100%|██████████| 1319/1319 [00:01<00:00, 799.57it/s]\n"
          ]
        },
        {
          "name": "stdout",
          "output_type": "stream",
          "text": [
            "\n",
            "🎲 Random Set 627/1000: [(11, 9), (9, 11), (5, 10), (5, 9), (7, 11), (1, 9), (8, 3), (0, 1), (1, 6), (4, 5)]\n"
          ]
        },
        {
          "name": "stderr",
          "output_type": "stream",
          "text": [
            "🔁 Extracting: 100%|██████████| 1319/1319 [00:02<00:00, 606.70it/s]\n"
          ]
        },
        {
          "name": "stdout",
          "output_type": "stream",
          "text": [
            "\n",
            "🎲 Random Set 628/1000: [(2, 6), (8, 0), (10, 8), (6, 5), (1, 9), (11, 1), (0, 11), (3, 9), (2, 8), (10, 6)]\n"
          ]
        },
        {
          "name": "stderr",
          "output_type": "stream",
          "text": [
            "🔁 Extracting: 100%|██████████| 1319/1319 [00:01<00:00, 800.61it/s]\n"
          ]
        },
        {
          "name": "stdout",
          "output_type": "stream",
          "text": [
            "\n",
            "🎲 Random Set 629/1000: [(5, 10), (9, 6), (0, 0), (11, 8), (10, 9), (6, 3), (9, 10), (8, 8), (0, 1), (0, 10)]\n"
          ]
        },
        {
          "name": "stderr",
          "output_type": "stream",
          "text": [
            "🔁 Extracting: 100%|██████████| 1319/1319 [00:01<00:00, 803.21it/s]\n"
          ]
        },
        {
          "name": "stdout",
          "output_type": "stream",
          "text": [
            "\n",
            "🎲 Random Set 630/1000: [(4, 4), (8, 7), (7, 11), (7, 7), (9, 9), (1, 7), (11, 9), (2, 4), (6, 7), (5, 8)]\n"
          ]
        },
        {
          "name": "stderr",
          "output_type": "stream",
          "text": [
            "🔁 Extracting: 100%|██████████| 1319/1319 [00:01<00:00, 802.48it/s]\n"
          ]
        },
        {
          "name": "stdout",
          "output_type": "stream",
          "text": [
            "\n",
            "🎲 Random Set 631/1000: [(3, 6), (6, 10), (8, 8), (5, 10), (1, 8), (8, 6), (0, 11), (10, 4), (11, 1), (10, 10)]\n"
          ]
        },
        {
          "name": "stderr",
          "output_type": "stream",
          "text": [
            "🔁 Extracting: 100%|██████████| 1319/1319 [00:01<00:00, 791.10it/s]\n"
          ]
        },
        {
          "name": "stdout",
          "output_type": "stream",
          "text": [
            "\n",
            "🎲 Random Set 632/1000: [(10, 0), (0, 4), (9, 2), (6, 3), (10, 11), (5, 7), (1, 4), (10, 2), (5, 4), (0, 5)]\n"
          ]
        },
        {
          "name": "stderr",
          "output_type": "stream",
          "text": [
            "🔁 Extracting: 100%|██████████| 1319/1319 [00:01<00:00, 785.31it/s]\n"
          ]
        },
        {
          "name": "stdout",
          "output_type": "stream",
          "text": [
            "\n",
            "🎲 Random Set 633/1000: [(6, 4), (0, 6), (11, 2), (5, 9), (2, 5), (11, 5), (7, 5), (1, 0), (0, 10), (6, 10)]\n"
          ]
        },
        {
          "name": "stderr",
          "output_type": "stream",
          "text": [
            "🔁 Extracting: 100%|██████████| 1319/1319 [00:01<00:00, 794.95it/s]\n"
          ]
        },
        {
          "name": "stdout",
          "output_type": "stream",
          "text": [
            "\n",
            "🎲 Random Set 634/1000: [(5, 8), (6, 8), (4, 6), (8, 8), (4, 0), (2, 4), (7, 4), (9, 9), (11, 0), (6, 5)]\n"
          ]
        },
        {
          "name": "stderr",
          "output_type": "stream",
          "text": [
            "🔁 Extracting: 100%|██████████| 1319/1319 [00:01<00:00, 797.87it/s]\n"
          ]
        },
        {
          "name": "stdout",
          "output_type": "stream",
          "text": [
            "\n",
            "🎲 Random Set 635/1000: [(7, 3), (6, 3), (11, 9), (6, 11), (1, 0), (9, 4), (3, 11), (0, 7), (0, 9), (4, 5)]\n"
          ]
        },
        {
          "name": "stderr",
          "output_type": "stream",
          "text": [
            "🔁 Extracting: 100%|██████████| 1319/1319 [00:01<00:00, 796.76it/s]\n"
          ]
        },
        {
          "name": "stdout",
          "output_type": "stream",
          "text": [
            "\n",
            "🎲 Random Set 636/1000: [(7, 3), (1, 7), (0, 1), (0, 10), (7, 2), (2, 11), (4, 9), (10, 1), (8, 7), (6, 3)]\n"
          ]
        },
        {
          "name": "stderr",
          "output_type": "stream",
          "text": [
            "🔁 Extracting: 100%|██████████| 1319/1319 [00:01<00:00, 798.84it/s]\n"
          ]
        },
        {
          "name": "stdout",
          "output_type": "stream",
          "text": [
            "\n",
            "🎲 Random Set 637/1000: [(9, 10), (7, 10), (8, 3), (1, 1), (3, 11), (5, 1), (4, 0), (6, 6), (1, 4), (6, 8)]\n"
          ]
        },
        {
          "name": "stderr",
          "output_type": "stream",
          "text": [
            "🔁 Extracting: 100%|██████████| 1319/1319 [00:01<00:00, 813.36it/s]\n"
          ]
        },
        {
          "name": "stdout",
          "output_type": "stream",
          "text": [
            "\n",
            "🎲 Random Set 638/1000: [(8, 2), (8, 4), (11, 10), (3, 0), (9, 5), (4, 10), (7, 6), (1, 4), (2, 7), (7, 0)]\n"
          ]
        },
        {
          "name": "stderr",
          "output_type": "stream",
          "text": [
            "🔁 Extracting: 100%|██████████| 1319/1319 [00:01<00:00, 796.50it/s]\n"
          ]
        },
        {
          "name": "stdout",
          "output_type": "stream",
          "text": [
            "\n",
            "🎲 Random Set 639/1000: [(11, 10), (1, 6), (1, 10), (7, 5), (7, 10), (5, 9), (9, 7), (10, 10), (7, 6), (7, 2)]\n"
          ]
        },
        {
          "name": "stderr",
          "output_type": "stream",
          "text": [
            "🔁 Extracting: 100%|██████████| 1319/1319 [00:01<00:00, 791.72it/s]\n"
          ]
        },
        {
          "name": "stdout",
          "output_type": "stream",
          "text": [
            "\n",
            "🎲 Random Set 640/1000: [(10, 6), (1, 6), (0, 3), (6, 4), (3, 0), (2, 7), (11, 3), (7, 0), (8, 4), (7, 5)]\n"
          ]
        },
        {
          "name": "stderr",
          "output_type": "stream",
          "text": [
            "🔁 Extracting: 100%|██████████| 1319/1319 [00:01<00:00, 801.08it/s]\n"
          ]
        },
        {
          "name": "stdout",
          "output_type": "stream",
          "text": [
            "\n",
            "🎲 Random Set 641/1000: [(11, 0), (0, 1), (7, 2), (0, 6), (10, 8), (2, 2), (8, 1), (11, 6), (10, 1), (11, 10)]\n"
          ]
        },
        {
          "name": "stderr",
          "output_type": "stream",
          "text": [
            "🔁 Extracting: 100%|██████████| 1319/1319 [00:01<00:00, 811.54it/s]\n"
          ]
        },
        {
          "name": "stdout",
          "output_type": "stream",
          "text": [
            "\n",
            "🎲 Random Set 642/1000: [(10, 5), (11, 5), (11, 4), (9, 11), (0, 9), (10, 7), (7, 4), (1, 1), (4, 10), (11, 3)]\n"
          ]
        },
        {
          "name": "stderr",
          "output_type": "stream",
          "text": [
            "🔁 Extracting: 100%|██████████| 1319/1319 [00:01<00:00, 808.55it/s]\n"
          ]
        },
        {
          "name": "stdout",
          "output_type": "stream",
          "text": [
            "\n",
            "🎲 Random Set 643/1000: [(4, 1), (3, 7), (0, 1), (6, 7), (10, 5), (1, 9), (6, 0), (6, 2), (0, 4), (8, 0)]\n"
          ]
        },
        {
          "name": "stderr",
          "output_type": "stream",
          "text": [
            "🔁 Extracting: 100%|██████████| 1319/1319 [00:01<00:00, 811.15it/s]\n"
          ]
        },
        {
          "name": "stdout",
          "output_type": "stream",
          "text": [
            "\n",
            "🎲 Random Set 644/1000: [(6, 5), (10, 3), (6, 4), (5, 10), (8, 3), (4, 7), (9, 8), (3, 2), (8, 11), (3, 10)]\n"
          ]
        },
        {
          "name": "stderr",
          "output_type": "stream",
          "text": [
            "🔁 Extracting: 100%|██████████| 1319/1319 [00:01<00:00, 805.80it/s]\n"
          ]
        },
        {
          "name": "stdout",
          "output_type": "stream",
          "text": [
            "\n",
            "🎲 Random Set 645/1000: [(8, 7), (5, 2), (0, 1), (4, 0), (8, 11), (5, 5), (11, 9), (6, 0), (10, 1), (3, 10)]\n"
          ]
        },
        {
          "name": "stderr",
          "output_type": "stream",
          "text": [
            "🔁 Extracting: 100%|██████████| 1319/1319 [00:01<00:00, 787.96it/s]\n"
          ]
        },
        {
          "name": "stdout",
          "output_type": "stream",
          "text": [
            "\n",
            "🎲 Random Set 646/1000: [(8, 5), (9, 7), (0, 3), (3, 10), (10, 4), (5, 1), (0, 7), (4, 1), (4, 0), (11, 2)]\n"
          ]
        },
        {
          "name": "stderr",
          "output_type": "stream",
          "text": [
            "🔁 Extracting: 100%|██████████| 1319/1319 [00:01<00:00, 798.00it/s]\n"
          ]
        },
        {
          "name": "stdout",
          "output_type": "stream",
          "text": [
            "\n",
            "🎲 Random Set 647/1000: [(5, 8), (6, 3), (8, 11), (9, 2), (0, 7), (7, 1), (3, 0), (0, 0), (3, 3), (2, 9)]\n"
          ]
        },
        {
          "name": "stderr",
          "output_type": "stream",
          "text": [
            "🔁 Extracting: 100%|██████████| 1319/1319 [00:01<00:00, 803.45it/s]\n"
          ]
        },
        {
          "name": "stdout",
          "output_type": "stream",
          "text": [
            "\n",
            "🎲 Random Set 648/1000: [(6, 11), (10, 10), (8, 11), (8, 3), (10, 7), (8, 5), (7, 11), (5, 2), (5, 7), (6, 1)]\n"
          ]
        },
        {
          "name": "stderr",
          "output_type": "stream",
          "text": [
            "🔁 Extracting: 100%|██████████| 1319/1319 [00:01<00:00, 791.65it/s]\n"
          ]
        },
        {
          "name": "stdout",
          "output_type": "stream",
          "text": [
            "\n",
            "🎲 Random Set 649/1000: [(7, 5), (4, 1), (3, 3), (3, 4), (9, 8), (8, 11), (5, 2), (5, 6), (0, 7), (5, 0)]\n"
          ]
        },
        {
          "name": "stderr",
          "output_type": "stream",
          "text": [
            "🔁 Extracting: 100%|██████████| 1319/1319 [00:01<00:00, 784.02it/s]\n"
          ]
        },
        {
          "name": "stdout",
          "output_type": "stream",
          "text": [
            "\n",
            "🎲 Random Set 650/1000: [(9, 3), (1, 5), (3, 10), (7, 7), (4, 1), (9, 8), (8, 5), (6, 5), (1, 2), (8, 4)]\n"
          ]
        },
        {
          "name": "stderr",
          "output_type": "stream",
          "text": [
            "🔁 Extracting: 100%|██████████| 1319/1319 [00:01<00:00, 799.95it/s]\n"
          ]
        },
        {
          "name": "stdout",
          "output_type": "stream",
          "text": [
            "\n",
            "🎲 Random Set 651/1000: [(11, 11), (3, 10), (11, 0), (5, 11), (0, 1), (10, 0), (3, 5), (3, 0), (0, 4), (4, 5)]\n"
          ]
        },
        {
          "name": "stderr",
          "output_type": "stream",
          "text": [
            "🔁 Extracting: 100%|██████████| 1319/1319 [00:01<00:00, 781.74it/s]\n"
          ]
        },
        {
          "name": "stdout",
          "output_type": "stream",
          "text": [
            "\n",
            "🎲 Random Set 652/1000: [(2, 4), (4, 4), (1, 2), (2, 7), (0, 3), (7, 8), (10, 1), (6, 6), (6, 3), (5, 8)]\n"
          ]
        },
        {
          "name": "stderr",
          "output_type": "stream",
          "text": [
            "🔁 Extracting: 100%|██████████| 1319/1319 [00:01<00:00, 786.44it/s]\n"
          ]
        },
        {
          "name": "stdout",
          "output_type": "stream",
          "text": [
            "\n",
            "🎲 Random Set 653/1000: [(3, 5), (9, 9), (4, 4), (5, 8), (0, 2), (6, 10), (6, 4), (9, 6), (11, 4), (7, 10)]\n"
          ]
        },
        {
          "name": "stderr",
          "output_type": "stream",
          "text": [
            "🔁 Extracting: 100%|██████████| 1319/1319 [00:01<00:00, 788.77it/s]\n"
          ]
        },
        {
          "name": "stdout",
          "output_type": "stream",
          "text": [
            "\n",
            "🎲 Random Set 654/1000: [(10, 6), (6, 7), (3, 9), (1, 8), (8, 6), (6, 8), (8, 9), (6, 11), (9, 1), (4, 9)]\n"
          ]
        },
        {
          "name": "stderr",
          "output_type": "stream",
          "text": [
            "🔁 Extracting: 100%|██████████| 1319/1319 [00:01<00:00, 789.81it/s]\n"
          ]
        },
        {
          "name": "stdout",
          "output_type": "stream",
          "text": [
            "\n",
            "🎲 Random Set 655/1000: [(9, 4), (9, 11), (0, 3), (5, 8), (5, 0), (7, 10), (9, 0), (9, 2), (0, 0), (2, 11)]\n"
          ]
        },
        {
          "name": "stderr",
          "output_type": "stream",
          "text": [
            "🔁 Extracting: 100%|██████████| 1319/1319 [00:01<00:00, 806.34it/s]\n"
          ]
        },
        {
          "name": "stdout",
          "output_type": "stream",
          "text": [
            "\n",
            "🎲 Random Set 656/1000: [(8, 7), (11, 9), (10, 7), (9, 8), (2, 11), (6, 5), (1, 10), (5, 3), (2, 3), (1, 11)]\n"
          ]
        },
        {
          "name": "stderr",
          "output_type": "stream",
          "text": [
            "🔁 Extracting: 100%|██████████| 1319/1319 [00:01<00:00, 803.28it/s]\n"
          ]
        },
        {
          "name": "stdout",
          "output_type": "stream",
          "text": [
            "\n",
            "🎲 Random Set 657/1000: [(10, 2), (7, 0), (8, 4), (2, 7), (0, 8), (2, 11), (4, 5), (11, 7), (7, 10), (1, 9)]\n"
          ]
        },
        {
          "name": "stderr",
          "output_type": "stream",
          "text": [
            "🔁 Extracting: 100%|██████████| 1319/1319 [00:01<00:00, 806.43it/s]\n"
          ]
        },
        {
          "name": "stdout",
          "output_type": "stream",
          "text": [
            "\n",
            "🎲 Random Set 658/1000: [(11, 3), (1, 7), (1, 1), (8, 8), (4, 5), (8, 5), (5, 11), (8, 0), (3, 4), (8, 11)]\n"
          ]
        },
        {
          "name": "stderr",
          "output_type": "stream",
          "text": [
            "🔁 Extracting: 100%|██████████| 1319/1319 [00:01<00:00, 804.89it/s]\n"
          ]
        },
        {
          "name": "stdout",
          "output_type": "stream",
          "text": [
            "\n",
            "🎲 Random Set 659/1000: [(9, 3), (1, 1), (10, 3), (1, 9), (5, 10), (5, 4), (2, 10), (3, 5), (8, 10), (11, 11)]\n"
          ]
        },
        {
          "name": "stderr",
          "output_type": "stream",
          "text": [
            "🔁 Extracting: 100%|██████████| 1319/1319 [00:01<00:00, 775.16it/s]\n"
          ]
        },
        {
          "name": "stdout",
          "output_type": "stream",
          "text": [
            "\n",
            "🎲 Random Set 660/1000: [(10, 1), (3, 7), (11, 5), (10, 8), (8, 9), (6, 8), (1, 1), (5, 10), (2, 10), (10, 0)]\n"
          ]
        },
        {
          "name": "stderr",
          "output_type": "stream",
          "text": [
            "🔁 Extracting: 100%|██████████| 1319/1319 [00:01<00:00, 794.67it/s]\n"
          ]
        },
        {
          "name": "stdout",
          "output_type": "stream",
          "text": [
            "\n",
            "🎲 Random Set 661/1000: [(5, 6), (10, 7), (6, 4), (4, 7), (8, 5), (10, 0), (6, 11), (4, 8), (3, 8), (10, 10)]\n"
          ]
        },
        {
          "name": "stderr",
          "output_type": "stream",
          "text": [
            "🔁 Extracting: 100%|██████████| 1319/1319 [00:01<00:00, 801.81it/s]\n"
          ]
        },
        {
          "name": "stdout",
          "output_type": "stream",
          "text": [
            "\n",
            "🎲 Random Set 662/1000: [(4, 5), (1, 4), (8, 0), (4, 2), (0, 1), (0, 3), (7, 8), (3, 10), (3, 2), (3, 9)]\n"
          ]
        },
        {
          "name": "stderr",
          "output_type": "stream",
          "text": [
            "🔁 Extracting: 100%|██████████| 1319/1319 [00:01<00:00, 802.17it/s]\n"
          ]
        },
        {
          "name": "stdout",
          "output_type": "stream",
          "text": [
            "\n",
            "🎲 Random Set 663/1000: [(6, 4), (3, 11), (6, 10), (7, 11), (2, 5), (10, 5), (7, 10), (9, 11), (6, 3), (11, 4)]\n"
          ]
        },
        {
          "name": "stderr",
          "output_type": "stream",
          "text": [
            "🔁 Extracting: 100%|██████████| 1319/1319 [00:01<00:00, 801.53it/s]\n"
          ]
        },
        {
          "name": "stdout",
          "output_type": "stream",
          "text": [
            "\n",
            "🎲 Random Set 664/1000: [(10, 5), (8, 1), (0, 0), (11, 4), (0, 8), (10, 2), (2, 6), (8, 3), (7, 7), (10, 6)]\n"
          ]
        },
        {
          "name": "stderr",
          "output_type": "stream",
          "text": [
            "🔁 Extracting: 100%|██████████| 1319/1319 [00:01<00:00, 811.33it/s]\n"
          ]
        },
        {
          "name": "stdout",
          "output_type": "stream",
          "text": [
            "\n",
            "🎲 Random Set 665/1000: [(5, 5), (10, 1), (10, 4), (1, 2), (8, 10), (7, 0), (6, 10), (8, 0), (0, 8), (5, 1)]\n"
          ]
        },
        {
          "name": "stderr",
          "output_type": "stream",
          "text": [
            "🔁 Extracting: 100%|██████████| 1319/1319 [00:01<00:00, 808.17it/s]\n"
          ]
        },
        {
          "name": "stdout",
          "output_type": "stream",
          "text": [
            "\n",
            "🎲 Random Set 666/1000: [(2, 5), (11, 10), (4, 6), (0, 3), (4, 9), (9, 11), (10, 7), (10, 6), (11, 4), (10, 10)]\n"
          ]
        },
        {
          "name": "stderr",
          "output_type": "stream",
          "text": [
            "🔁 Extracting: 100%|██████████| 1319/1319 [00:01<00:00, 773.96it/s]\n"
          ]
        },
        {
          "name": "stdout",
          "output_type": "stream",
          "text": [
            "\n",
            "🎲 Random Set 667/1000: [(9, 1), (4, 4), (5, 1), (5, 11), (3, 11), (9, 4), (7, 11), (4, 9), (0, 4), (0, 11)]\n"
          ]
        },
        {
          "name": "stderr",
          "output_type": "stream",
          "text": [
            "🔁 Extracting: 100%|██████████| 1319/1319 [00:01<00:00, 785.03it/s]\n"
          ]
        },
        {
          "name": "stdout",
          "output_type": "stream",
          "text": [
            "\n",
            "🎲 Random Set 668/1000: [(2, 1), (6, 6), (8, 6), (2, 7), (10, 3), (0, 2), (10, 4), (5, 5), (8, 7), (9, 6)]\n"
          ]
        },
        {
          "name": "stderr",
          "output_type": "stream",
          "text": [
            "🔁 Extracting: 100%|██████████| 1319/1319 [00:01<00:00, 783.89it/s]\n"
          ]
        },
        {
          "name": "stdout",
          "output_type": "stream",
          "text": [
            "\n",
            "🎲 Random Set 669/1000: [(2, 7), (1, 9), (6, 4), (11, 3), (0, 0), (4, 10), (0, 8), (2, 4), (2, 2), (9, 3)]\n"
          ]
        },
        {
          "name": "stderr",
          "output_type": "stream",
          "text": [
            "🔁 Extracting: 100%|██████████| 1319/1319 [00:01<00:00, 791.12it/s]\n"
          ]
        },
        {
          "name": "stdout",
          "output_type": "stream",
          "text": [
            "\n",
            "🎲 Random Set 670/1000: [(11, 3), (3, 0), (5, 6), (0, 0), (7, 11), (6, 0), (1, 3), (10, 0), (3, 3), (10, 1)]\n"
          ]
        },
        {
          "name": "stderr",
          "output_type": "stream",
          "text": [
            "🔁 Extracting: 100%|██████████| 1319/1319 [00:01<00:00, 784.27it/s]\n"
          ]
        },
        {
          "name": "stdout",
          "output_type": "stream",
          "text": [
            "\n",
            "🎲 Random Set 671/1000: [(7, 6), (2, 2), (6, 1), (6, 3), (9, 5), (4, 7), (2, 9), (6, 7), (8, 4), (3, 2)]\n"
          ]
        },
        {
          "name": "stderr",
          "output_type": "stream",
          "text": [
            "🔁 Extracting: 100%|██████████| 1319/1319 [00:01<00:00, 799.48it/s]\n"
          ]
        },
        {
          "name": "stdout",
          "output_type": "stream",
          "text": [
            "\n",
            "🎲 Random Set 672/1000: [(2, 3), (10, 9), (11, 4), (10, 0), (2, 6), (5, 2), (1, 10), (8, 5), (0, 7), (9, 2)]\n"
          ]
        },
        {
          "name": "stderr",
          "output_type": "stream",
          "text": [
            "🔁 Extracting: 100%|██████████| 1319/1319 [00:01<00:00, 788.91it/s]\n"
          ]
        },
        {
          "name": "stdout",
          "output_type": "stream",
          "text": [
            "\n",
            "🎲 Random Set 673/1000: [(0, 9), (11, 7), (7, 3), (11, 3), (2, 1), (8, 11), (9, 10), (5, 10), (6, 9), (4, 9)]\n"
          ]
        },
        {
          "name": "stderr",
          "output_type": "stream",
          "text": [
            "🔁 Extracting: 100%|██████████| 1319/1319 [00:01<00:00, 746.60it/s]\n"
          ]
        },
        {
          "name": "stdout",
          "output_type": "stream",
          "text": [
            "\n",
            "🎲 Random Set 674/1000: [(5, 10), (11, 3), (10, 3), (6, 8), (3, 1), (9, 9), (1, 9), (7, 11), (10, 7), (2, 9)]\n"
          ]
        },
        {
          "name": "stderr",
          "output_type": "stream",
          "text": [
            "🔁 Extracting: 100%|██████████| 1319/1319 [00:01<00:00, 801.68it/s]\n"
          ]
        },
        {
          "name": "stdout",
          "output_type": "stream",
          "text": [
            "\n",
            "🎲 Random Set 675/1000: [(5, 1), (4, 1), (6, 11), (3, 7), (6, 10), (1, 10), (10, 9), (3, 8), (7, 4), (2, 9)]\n"
          ]
        },
        {
          "name": "stderr",
          "output_type": "stream",
          "text": [
            "🔁 Extracting: 100%|██████████| 1319/1319 [00:01<00:00, 801.63it/s]\n"
          ]
        },
        {
          "name": "stdout",
          "output_type": "stream",
          "text": [
            "\n",
            "🎲 Random Set 676/1000: [(0, 2), (4, 3), (4, 9), (4, 8), (6, 0), (9, 1), (10, 4), (6, 9), (8, 1), (7, 4)]\n"
          ]
        },
        {
          "name": "stderr",
          "output_type": "stream",
          "text": [
            "🔁 Extracting: 100%|██████████| 1319/1319 [00:01<00:00, 791.07it/s]\n"
          ]
        },
        {
          "name": "stdout",
          "output_type": "stream",
          "text": [
            "\n",
            "🎲 Random Set 677/1000: [(9, 7), (5, 4), (11, 3), (5, 0), (10, 8), (7, 11), (9, 2), (4, 11), (2, 4), (3, 3)]\n"
          ]
        },
        {
          "name": "stderr",
          "output_type": "stream",
          "text": [
            "🔁 Extracting: 100%|██████████| 1319/1319 [00:01<00:00, 808.32it/s]\n"
          ]
        },
        {
          "name": "stdout",
          "output_type": "stream",
          "text": [
            "\n",
            "🎲 Random Set 678/1000: [(6, 0), (1, 0), (9, 6), (9, 3), (11, 5), (9, 10), (6, 1), (4, 3), (4, 7), (10, 5)]\n"
          ]
        },
        {
          "name": "stderr",
          "output_type": "stream",
          "text": [
            "🔁 Extracting: 100%|██████████| 1319/1319 [00:01<00:00, 805.24it/s]\n"
          ]
        },
        {
          "name": "stdout",
          "output_type": "stream",
          "text": [
            "\n",
            "🎲 Random Set 679/1000: [(3, 1), (10, 6), (3, 5), (2, 1), (1, 5), (8, 5), (7, 8), (2, 5), (1, 10), (0, 3)]\n"
          ]
        },
        {
          "name": "stderr",
          "output_type": "stream",
          "text": [
            "🔁 Extracting: 100%|██████████| 1319/1319 [00:01<00:00, 798.73it/s]\n"
          ]
        },
        {
          "name": "stdout",
          "output_type": "stream",
          "text": [
            "\n",
            "🎲 Random Set 680/1000: [(11, 5), (3, 6), (3, 0), (4, 4), (9, 7), (5, 5), (5, 8), (9, 2), (6, 5), (2, 2)]\n"
          ]
        },
        {
          "name": "stderr",
          "output_type": "stream",
          "text": [
            "🔁 Extracting: 100%|██████████| 1319/1319 [00:01<00:00, 755.73it/s]\n"
          ]
        },
        {
          "name": "stdout",
          "output_type": "stream",
          "text": [
            "\n",
            "🎲 Random Set 681/1000: [(4, 2), (1, 10), (4, 8), (11, 1), (3, 11), (10, 9), (8, 0), (6, 11), (3, 5), (11, 6)]\n"
          ]
        },
        {
          "name": "stderr",
          "output_type": "stream",
          "text": [
            "🔁 Extracting: 100%|██████████| 1319/1319 [00:01<00:00, 779.50it/s]\n"
          ]
        },
        {
          "name": "stdout",
          "output_type": "stream",
          "text": [
            "\n",
            "🎲 Random Set 682/1000: [(10, 0), (5, 8), (3, 0), (5, 9), (11, 3), (11, 1), (6, 5), (8, 6), (7, 0), (10, 1)]\n"
          ]
        },
        {
          "name": "stderr",
          "output_type": "stream",
          "text": [
            "🔁 Extracting: 100%|██████████| 1319/1319 [00:01<00:00, 804.61it/s]\n"
          ]
        },
        {
          "name": "stdout",
          "output_type": "stream",
          "text": [
            "\n",
            "🎲 Random Set 683/1000: [(4, 0), (3, 4), (10, 5), (6, 10), (9, 6), (8, 10), (5, 0), (9, 3), (1, 11), (1, 4)]\n"
          ]
        },
        {
          "name": "stderr",
          "output_type": "stream",
          "text": [
            "🔁 Extracting: 100%|██████████| 1319/1319 [00:01<00:00, 801.73it/s]\n"
          ]
        },
        {
          "name": "stdout",
          "output_type": "stream",
          "text": [
            "\n",
            "🎲 Random Set 684/1000: [(6, 8), (1, 4), (5, 11), (2, 11), (0, 5), (4, 0), (4, 9), (10, 1), (11, 11), (11, 1)]\n"
          ]
        },
        {
          "name": "stderr",
          "output_type": "stream",
          "text": [
            "🔁 Extracting: 100%|██████████| 1319/1319 [00:01<00:00, 793.75it/s]\n"
          ]
        },
        {
          "name": "stdout",
          "output_type": "stream",
          "text": [
            "\n",
            "🎲 Random Set 685/1000: [(3, 6), (1, 6), (5, 0), (10, 8), (3, 10), (6, 1), (0, 1), (7, 6), (5, 8), (11, 10)]\n"
          ]
        },
        {
          "name": "stderr",
          "output_type": "stream",
          "text": [
            "🔁 Extracting: 100%|██████████| 1319/1319 [00:01<00:00, 784.76it/s]\n"
          ]
        },
        {
          "name": "stdout",
          "output_type": "stream",
          "text": [
            "\n",
            "🎲 Random Set 686/1000: [(0, 2), (0, 0), (9, 1), (4, 4), (8, 2), (10, 6), (1, 9), (8, 4), (0, 4), (8, 9)]\n"
          ]
        },
        {
          "name": "stderr",
          "output_type": "stream",
          "text": [
            "🔁 Extracting: 100%|██████████| 1319/1319 [00:01<00:00, 773.65it/s]\n"
          ]
        },
        {
          "name": "stdout",
          "output_type": "stream",
          "text": [
            "\n",
            "🎲 Random Set 687/1000: [(9, 0), (1, 4), (4, 5), (11, 4), (2, 0), (2, 8), (3, 2), (9, 6), (6, 3), (4, 1)]\n"
          ]
        },
        {
          "name": "stderr",
          "output_type": "stream",
          "text": [
            "🔁 Extracting: 100%|██████████| 1319/1319 [00:01<00:00, 784.23it/s]\n"
          ]
        },
        {
          "name": "stdout",
          "output_type": "stream",
          "text": [
            "\n",
            "🎲 Random Set 688/1000: [(1, 0), (1, 8), (6, 9), (1, 3), (11, 5), (9, 7), (7, 5), (1, 7), (4, 2), (1, 4)]\n"
          ]
        },
        {
          "name": "stderr",
          "output_type": "stream",
          "text": [
            "🔁 Extracting: 100%|██████████| 1319/1319 [00:01<00:00, 804.83it/s]\n"
          ]
        },
        {
          "name": "stdout",
          "output_type": "stream",
          "text": [
            "\n",
            "🎲 Random Set 689/1000: [(10, 11), (7, 6), (2, 5), (9, 7), (9, 3), (4, 7), (1, 7), (11, 11), (11, 6), (0, 7)]\n"
          ]
        },
        {
          "name": "stderr",
          "output_type": "stream",
          "text": [
            "🔁 Extracting: 100%|██████████| 1319/1319 [00:01<00:00, 799.63it/s]\n"
          ]
        },
        {
          "name": "stdout",
          "output_type": "stream",
          "text": [
            "\n",
            "🎲 Random Set 690/1000: [(6, 5), (6, 10), (7, 7), (8, 2), (5, 11), (4, 9), (7, 0), (2, 10), (2, 8), (3, 11)]\n"
          ]
        },
        {
          "name": "stderr",
          "output_type": "stream",
          "text": [
            "🔁 Extracting: 100%|██████████| 1319/1319 [00:01<00:00, 804.87it/s]\n"
          ]
        },
        {
          "name": "stdout",
          "output_type": "stream",
          "text": [
            "\n",
            "🎲 Random Set 691/1000: [(6, 10), (7, 5), (3, 11), (9, 0), (6, 8), (8, 5), (5, 4), (3, 1), (9, 1), (7, 7)]\n"
          ]
        },
        {
          "name": "stderr",
          "output_type": "stream",
          "text": [
            "🔁 Extracting: 100%|██████████| 1319/1319 [00:01<00:00, 801.19it/s]\n"
          ]
        },
        {
          "name": "stdout",
          "output_type": "stream",
          "text": [
            "\n",
            "🎲 Random Set 692/1000: [(8, 1), (9, 2), (9, 6), (4, 7), (8, 5), (3, 1), (7, 6), (1, 6), (0, 5), (3, 4)]\n"
          ]
        },
        {
          "name": "stderr",
          "output_type": "stream",
          "text": [
            "🔁 Extracting: 100%|██████████| 1319/1319 [00:01<00:00, 795.45it/s]\n"
          ]
        },
        {
          "name": "stdout",
          "output_type": "stream",
          "text": [
            "\n",
            "🎲 Random Set 693/1000: [(3, 11), (1, 5), (0, 1), (8, 7), (5, 10), (6, 9), (10, 7), (3, 4), (7, 0), (7, 10)]\n"
          ]
        },
        {
          "name": "stderr",
          "output_type": "stream",
          "text": [
            "🔁 Extracting: 100%|██████████| 1319/1319 [00:01<00:00, 756.52it/s]\n"
          ]
        },
        {
          "name": "stdout",
          "output_type": "stream",
          "text": [
            "\n",
            "🎲 Random Set 694/1000: [(2, 5), (11, 1), (11, 2), (0, 4), (5, 1), (4, 5), (8, 10), (1, 11), (11, 7), (3, 2)]\n"
          ]
        },
        {
          "name": "stderr",
          "output_type": "stream",
          "text": [
            "🔁 Extracting: 100%|██████████| 1319/1319 [00:01<00:00, 803.31it/s]\n"
          ]
        },
        {
          "name": "stdout",
          "output_type": "stream",
          "text": [
            "\n",
            "🎲 Random Set 695/1000: [(6, 4), (5, 4), (10, 10), (0, 1), (11, 5), (11, 8), (5, 1), (8, 5), (5, 11), (8, 11)]\n"
          ]
        },
        {
          "name": "stderr",
          "output_type": "stream",
          "text": [
            "🔁 Extracting: 100%|██████████| 1319/1319 [00:01<00:00, 808.96it/s]\n"
          ]
        },
        {
          "name": "stdout",
          "output_type": "stream",
          "text": [
            "\n",
            "🎲 Random Set 696/1000: [(10, 6), (10, 4), (9, 3), (11, 6), (8, 10), (0, 11), (6, 3), (6, 8), (2, 0), (9, 2)]\n"
          ]
        },
        {
          "name": "stderr",
          "output_type": "stream",
          "text": [
            "🔁 Extracting: 100%|██████████| 1319/1319 [00:02<00:00, 611.11it/s]\n"
          ]
        },
        {
          "name": "stdout",
          "output_type": "stream",
          "text": [
            "\n",
            "🎲 Random Set 697/1000: [(1, 8), (10, 11), (9, 1), (10, 10), (8, 2), (11, 8), (6, 7), (7, 0), (6, 6), (7, 6)]\n"
          ]
        },
        {
          "name": "stderr",
          "output_type": "stream",
          "text": [
            "🔁 Extracting: 100%|██████████| 1319/1319 [00:01<00:00, 796.60it/s]\n"
          ]
        },
        {
          "name": "stdout",
          "output_type": "stream",
          "text": [
            "\n",
            "🎲 Random Set 698/1000: [(8, 11), (3, 9), (11, 8), (0, 8), (6, 9), (0, 6), (8, 4), (11, 11), (1, 0), (0, 9)]\n"
          ]
        },
        {
          "name": "stderr",
          "output_type": "stream",
          "text": [
            "🔁 Extracting: 100%|██████████| 1319/1319 [00:01<00:00, 803.91it/s]\n"
          ]
        },
        {
          "name": "stdout",
          "output_type": "stream",
          "text": [
            "\n",
            "🎲 Random Set 699/1000: [(10, 6), (10, 0), (1, 5), (10, 8), (1, 3), (8, 8), (7, 5), (5, 8), (10, 7), (8, 3)]\n"
          ]
        },
        {
          "name": "stderr",
          "output_type": "stream",
          "text": [
            "🔁 Extracting: 100%|██████████| 1319/1319 [00:01<00:00, 766.96it/s]\n"
          ]
        },
        {
          "name": "stdout",
          "output_type": "stream",
          "text": [
            "\n",
            "🎲 Random Set 700/1000: [(1, 7), (0, 5), (11, 2), (9, 2), (5, 6), (10, 7), (4, 10), (2, 9), (5, 5), (0, 8)]\n"
          ]
        },
        {
          "name": "stderr",
          "output_type": "stream",
          "text": [
            "🔁 Extracting: 100%|██████████| 1319/1319 [00:01<00:00, 779.38it/s]\n"
          ]
        },
        {
          "name": "stdout",
          "output_type": "stream",
          "text": [
            "\n",
            "🎲 Random Set 701/1000: [(11, 5), (4, 8), (2, 1), (7, 10), (9, 0), (5, 8), (8, 4), (3, 11), (6, 8), (7, 4)]\n"
          ]
        },
        {
          "name": "stderr",
          "output_type": "stream",
          "text": [
            "🔁 Extracting: 100%|██████████| 1319/1319 [00:01<00:00, 796.56it/s]\n"
          ]
        },
        {
          "name": "stdout",
          "output_type": "stream",
          "text": [
            "\n",
            "🎲 Random Set 702/1000: [(4, 2), (0, 6), (5, 9), (1, 4), (6, 1), (6, 7), (2, 0), (0, 1), (2, 3), (5, 5)]\n"
          ]
        },
        {
          "name": "stderr",
          "output_type": "stream",
          "text": [
            "🔁 Extracting: 100%|██████████| 1319/1319 [00:01<00:00, 787.45it/s]\n"
          ]
        },
        {
          "name": "stdout",
          "output_type": "stream",
          "text": [
            "\n",
            "🎲 Random Set 703/1000: [(7, 5), (9, 8), (0, 8), (3, 6), (0, 5), (8, 5), (5, 7), (2, 4), (7, 4), (4, 1)]\n"
          ]
        },
        {
          "name": "stderr",
          "output_type": "stream",
          "text": [
            "🔁 Extracting: 100%|██████████| 1319/1319 [00:01<00:00, 735.29it/s]\n"
          ]
        },
        {
          "name": "stdout",
          "output_type": "stream",
          "text": [
            "\n",
            "🎲 Random Set 704/1000: [(11, 9), (6, 3), (2, 5), (0, 8), (6, 8), (7, 3), (1, 6), (11, 3), (6, 9), (10, 6)]\n"
          ]
        },
        {
          "name": "stderr",
          "output_type": "stream",
          "text": [
            "🔁 Extracting: 100%|██████████| 1319/1319 [00:01<00:00, 796.96it/s]\n"
          ]
        },
        {
          "name": "stdout",
          "output_type": "stream",
          "text": [
            "\n",
            "🎲 Random Set 705/1000: [(3, 1), (6, 5), (11, 2), (8, 0), (8, 11), (2, 11), (2, 7), (9, 9), (10, 8), (3, 5)]\n"
          ]
        },
        {
          "name": "stderr",
          "output_type": "stream",
          "text": [
            "🔁 Extracting: 100%|██████████| 1319/1319 [00:01<00:00, 789.25it/s]\n"
          ]
        },
        {
          "name": "stdout",
          "output_type": "stream",
          "text": [
            "\n",
            "🎲 Random Set 706/1000: [(10, 0), (7, 7), (4, 7), (8, 9), (4, 8), (2, 7), (5, 4), (4, 3), (9, 0), (7, 0)]\n"
          ]
        },
        {
          "name": "stderr",
          "output_type": "stream",
          "text": [
            "🔁 Extracting: 100%|██████████| 1319/1319 [00:01<00:00, 766.69it/s]\n"
          ]
        },
        {
          "name": "stdout",
          "output_type": "stream",
          "text": [
            "\n",
            "🎲 Random Set 707/1000: [(1, 1), (1, 7), (10, 10), (8, 5), (3, 5), (5, 7), (3, 9), (1, 9), (0, 0), (4, 6)]\n"
          ]
        },
        {
          "name": "stderr",
          "output_type": "stream",
          "text": [
            "🔁 Extracting: 100%|██████████| 1319/1319 [00:01<00:00, 782.36it/s]\n"
          ]
        },
        {
          "name": "stdout",
          "output_type": "stream",
          "text": [
            "\n",
            "🎲 Random Set 708/1000: [(9, 8), (8, 8), (8, 2), (7, 3), (9, 0), (5, 11), (7, 6), (0, 8), (10, 10), (11, 8)]\n"
          ]
        },
        {
          "name": "stderr",
          "output_type": "stream",
          "text": [
            "🔁 Extracting: 100%|██████████| 1319/1319 [00:01<00:00, 787.52it/s]\n"
          ]
        },
        {
          "name": "stdout",
          "output_type": "stream",
          "text": [
            "\n",
            "🎲 Random Set 709/1000: [(4, 2), (11, 0), (9, 9), (5, 3), (9, 2), (8, 7), (4, 11), (3, 9), (4, 1), (7, 0)]\n"
          ]
        },
        {
          "name": "stderr",
          "output_type": "stream",
          "text": [
            "🔁 Extracting: 100%|██████████| 1319/1319 [00:01<00:00, 785.39it/s]\n"
          ]
        },
        {
          "name": "stdout",
          "output_type": "stream",
          "text": [
            "\n",
            "🎲 Random Set 710/1000: [(7, 1), (0, 4), (0, 5), (6, 1), (11, 1), (0, 2), (2, 1), (4, 7), (3, 4), (2, 3)]\n"
          ]
        },
        {
          "name": "stderr",
          "output_type": "stream",
          "text": [
            "🔁 Extracting: 100%|██████████| 1319/1319 [00:01<00:00, 779.62it/s]\n"
          ]
        },
        {
          "name": "stdout",
          "output_type": "stream",
          "text": [
            "\n",
            "🎲 Random Set 711/1000: [(10, 10), (8, 1), (6, 2), (8, 7), (8, 2), (2, 7), (0, 10), (6, 9), (0, 4), (6, 1)]\n"
          ]
        },
        {
          "name": "stderr",
          "output_type": "stream",
          "text": [
            "🔁 Extracting: 100%|██████████| 1319/1319 [00:01<00:00, 798.07it/s]\n"
          ]
        },
        {
          "name": "stdout",
          "output_type": "stream",
          "text": [
            "\n",
            "🎲 Random Set 712/1000: [(3, 5), (3, 4), (3, 11), (11, 9), (2, 0), (5, 10), (10, 7), (10, 0), (8, 4), (7, 1)]\n"
          ]
        },
        {
          "name": "stderr",
          "output_type": "stream",
          "text": [
            "🔁 Extracting: 100%|██████████| 1319/1319 [00:01<00:00, 773.53it/s]\n"
          ]
        },
        {
          "name": "stdout",
          "output_type": "stream",
          "text": [
            "\n",
            "🎲 Random Set 713/1000: [(1, 11), (9, 3), (7, 8), (1, 6), (11, 2), (10, 3), (0, 4), (0, 0), (0, 10), (5, 4)]\n"
          ]
        },
        {
          "name": "stderr",
          "output_type": "stream",
          "text": [
            "🔁 Extracting: 100%|██████████| 1319/1319 [00:01<00:00, 777.70it/s]\n"
          ]
        },
        {
          "name": "stdout",
          "output_type": "stream",
          "text": [
            "\n",
            "🎲 Random Set 714/1000: [(1, 4), (5, 5), (3, 3), (6, 5), (9, 0), (11, 3), (10, 0), (11, 9), (8, 2), (1, 8)]\n"
          ]
        },
        {
          "name": "stderr",
          "output_type": "stream",
          "text": [
            "🔁 Extracting: 100%|██████████| 1319/1319 [00:01<00:00, 805.09it/s]\n"
          ]
        },
        {
          "name": "stdout",
          "output_type": "stream",
          "text": [
            "\n",
            "🎲 Random Set 715/1000: [(6, 4), (6, 11), (5, 7), (0, 7), (0, 8), (7, 11), (5, 4), (0, 10), (11, 6), (3, 6)]\n"
          ]
        },
        {
          "name": "stderr",
          "output_type": "stream",
          "text": [
            "🔁 Extracting: 100%|██████████| 1319/1319 [00:01<00:00, 787.91it/s]\n"
          ]
        },
        {
          "name": "stdout",
          "output_type": "stream",
          "text": [
            "\n",
            "🎲 Random Set 716/1000: [(10, 9), (7, 11), (9, 0), (1, 8), (7, 1), (5, 10), (11, 9), (3, 0), (8, 3), (8, 4)]\n"
          ]
        },
        {
          "name": "stderr",
          "output_type": "stream",
          "text": [
            "🔁 Extracting: 100%|██████████| 1319/1319 [00:01<00:00, 804.10it/s]\n"
          ]
        },
        {
          "name": "stdout",
          "output_type": "stream",
          "text": [
            "\n",
            "🎲 Random Set 717/1000: [(0, 0), (6, 11), (8, 2), (1, 3), (5, 7), (4, 2), (6, 6), (6, 0), (5, 6), (1, 10)]\n"
          ]
        },
        {
          "name": "stderr",
          "output_type": "stream",
          "text": [
            "🔁 Extracting: 100%|██████████| 1319/1319 [00:01<00:00, 781.78it/s]\n"
          ]
        },
        {
          "name": "stdout",
          "output_type": "stream",
          "text": [
            "\n",
            "🎲 Random Set 718/1000: [(10, 0), (11, 5), (0, 11), (8, 8), (2, 0), (0, 0), (4, 6), (4, 0), (5, 0), (2, 11)]\n"
          ]
        },
        {
          "name": "stderr",
          "output_type": "stream",
          "text": [
            "🔁 Extracting: 100%|██████████| 1319/1319 [00:01<00:00, 799.32it/s]\n"
          ]
        },
        {
          "name": "stdout",
          "output_type": "stream",
          "text": [
            "\n",
            "🎲 Random Set 719/1000: [(4, 10), (3, 11), (2, 10), (4, 9), (2, 7), (8, 0), (6, 0), (5, 11), (3, 0), (4, 5)]\n"
          ]
        },
        {
          "name": "stderr",
          "output_type": "stream",
          "text": [
            "🔁 Extracting: 100%|██████████| 1319/1319 [00:01<00:00, 790.76it/s]\n"
          ]
        },
        {
          "name": "stdout",
          "output_type": "stream",
          "text": [
            "\n",
            "🎲 Random Set 720/1000: [(4, 2), (7, 6), (4, 1), (6, 6), (10, 2), (4, 4), (3, 2), (10, 5), (4, 9), (7, 1)]\n"
          ]
        },
        {
          "name": "stderr",
          "output_type": "stream",
          "text": [
            "🔁 Extracting: 100%|██████████| 1319/1319 [00:01<00:00, 765.69it/s]\n"
          ]
        },
        {
          "name": "stdout",
          "output_type": "stream",
          "text": [
            "\n",
            "🎲 Random Set 721/1000: [(1, 3), (1, 11), (0, 0), (6, 8), (0, 6), (3, 11), (4, 10), (10, 10), (6, 3), (6, 5)]\n"
          ]
        },
        {
          "name": "stderr",
          "output_type": "stream",
          "text": [
            "🔁 Extracting: 100%|██████████| 1319/1319 [00:01<00:00, 806.17it/s]\n"
          ]
        },
        {
          "name": "stdout",
          "output_type": "stream",
          "text": [
            "\n",
            "🎲 Random Set 722/1000: [(4, 8), (3, 1), (0, 9), (5, 4), (7, 9), (11, 9), (11, 10), (5, 2), (0, 3), (5, 3)]\n"
          ]
        },
        {
          "name": "stderr",
          "output_type": "stream",
          "text": [
            "🔁 Extracting: 100%|██████████| 1319/1319 [00:01<00:00, 800.58it/s]\n"
          ]
        },
        {
          "name": "stdout",
          "output_type": "stream",
          "text": [
            "\n",
            "🎲 Random Set 723/1000: [(0, 5), (2, 7), (2, 9), (11, 4), (9, 2), (5, 8), (2, 0), (2, 10), (4, 8), (10, 5)]\n"
          ]
        },
        {
          "name": "stderr",
          "output_type": "stream",
          "text": [
            "🔁 Extracting: 100%|██████████| 1319/1319 [00:01<00:00, 795.65it/s]\n"
          ]
        },
        {
          "name": "stdout",
          "output_type": "stream",
          "text": [
            "\n",
            "🎲 Random Set 724/1000: [(1, 10), (2, 6), (9, 7), (11, 4), (4, 9), (1, 7), (7, 10), (4, 8), (0, 5), (3, 11)]\n"
          ]
        },
        {
          "name": "stderr",
          "output_type": "stream",
          "text": [
            "🔁 Extracting: 100%|██████████| 1319/1319 [00:01<00:00, 803.33it/s]\n"
          ]
        },
        {
          "name": "stdout",
          "output_type": "stream",
          "text": [
            "\n",
            "🎲 Random Set 725/1000: [(11, 9), (8, 4), (10, 10), (0, 7), (3, 11), (2, 8), (9, 5), (4, 11), (3, 5), (5, 4)]\n"
          ]
        },
        {
          "name": "stderr",
          "output_type": "stream",
          "text": [
            "🔁 Extracting: 100%|██████████| 1319/1319 [00:01<00:00, 799.62it/s]\n"
          ]
        },
        {
          "name": "stdout",
          "output_type": "stream",
          "text": [
            "\n",
            "🎲 Random Set 726/1000: [(11, 1), (0, 0), (2, 2), (5, 6), (3, 9), (5, 1), (3, 5), (11, 2), (4, 1), (7, 3)]\n"
          ]
        },
        {
          "name": "stderr",
          "output_type": "stream",
          "text": [
            "🔁 Extracting: 100%|██████████| 1319/1319 [00:01<00:00, 792.19it/s]\n"
          ]
        },
        {
          "name": "stdout",
          "output_type": "stream",
          "text": [
            "\n",
            "🎲 Random Set 727/1000: [(8, 10), (6, 2), (4, 3), (0, 9), (8, 4), (6, 0), (4, 10), (9, 10), (5, 2), (4, 6)]\n"
          ]
        },
        {
          "name": "stderr",
          "output_type": "stream",
          "text": [
            "🔁 Extracting: 100%|██████████| 1319/1319 [00:01<00:00, 768.21it/s]\n"
          ]
        },
        {
          "name": "stdout",
          "output_type": "stream",
          "text": [
            "\n",
            "🎲 Random Set 728/1000: [(10, 4), (0, 3), (0, 2), (11, 0), (7, 7), (4, 0), (1, 2), (9, 8), (4, 5), (10, 6)]\n"
          ]
        },
        {
          "name": "stderr",
          "output_type": "stream",
          "text": [
            "🔁 Extracting: 100%|██████████| 1319/1319 [00:01<00:00, 794.76it/s]\n"
          ]
        },
        {
          "name": "stdout",
          "output_type": "stream",
          "text": [
            "\n",
            "🎲 Random Set 729/1000: [(6, 10), (1, 3), (3, 2), (2, 1), (10, 4), (5, 4), (8, 2), (0, 1), (11, 1), (3, 5)]\n"
          ]
        },
        {
          "name": "stderr",
          "output_type": "stream",
          "text": [
            "🔁 Extracting: 100%|██████████| 1319/1319 [00:01<00:00, 792.18it/s]\n"
          ]
        },
        {
          "name": "stdout",
          "output_type": "stream",
          "text": [
            "\n",
            "🎲 Random Set 730/1000: [(5, 4), (6, 6), (11, 5), (6, 2), (2, 7), (8, 2), (8, 10), (0, 11), (3, 6), (4, 9)]\n"
          ]
        },
        {
          "name": "stderr",
          "output_type": "stream",
          "text": [
            "🔁 Extracting: 100%|██████████| 1319/1319 [00:01<00:00, 781.00it/s]\n"
          ]
        },
        {
          "name": "stdout",
          "output_type": "stream",
          "text": [
            "\n",
            "🎲 Random Set 731/1000: [(9, 9), (7, 7), (3, 6), (11, 4), (6, 3), (1, 6), (5, 6), (4, 0), (2, 11), (1, 7)]\n"
          ]
        },
        {
          "name": "stderr",
          "output_type": "stream",
          "text": [
            "🔁 Extracting: 100%|██████████| 1319/1319 [00:01<00:00, 793.84it/s]\n"
          ]
        },
        {
          "name": "stdout",
          "output_type": "stream",
          "text": [
            "\n",
            "🎲 Random Set 732/1000: [(4, 9), (8, 9), (9, 8), (5, 9), (6, 7), (9, 5), (1, 9), (5, 0), (3, 3), (8, 8)]\n"
          ]
        },
        {
          "name": "stderr",
          "output_type": "stream",
          "text": [
            "🔁 Extracting: 100%|██████████| 1319/1319 [00:01<00:00, 788.46it/s]\n"
          ]
        },
        {
          "name": "stdout",
          "output_type": "stream",
          "text": [
            "\n",
            "🎲 Random Set 733/1000: [(6, 4), (9, 0), (4, 9), (11, 5), (0, 11), (9, 7), (11, 4), (11, 8), (8, 7), (6, 1)]\n"
          ]
        },
        {
          "name": "stderr",
          "output_type": "stream",
          "text": [
            "🔁 Extracting: 100%|██████████| 1319/1319 [00:01<00:00, 789.27it/s]\n"
          ]
        },
        {
          "name": "stdout",
          "output_type": "stream",
          "text": [
            "\n",
            "🎲 Random Set 734/1000: [(7, 9), (9, 7), (7, 1), (10, 7), (7, 8), (10, 1), (10, 11), (0, 10), (4, 7), (6, 11)]\n"
          ]
        },
        {
          "name": "stderr",
          "output_type": "stream",
          "text": [
            "🔁 Extracting: 100%|██████████| 1319/1319 [00:01<00:00, 788.11it/s]\n"
          ]
        },
        {
          "name": "stdout",
          "output_type": "stream",
          "text": [
            "\n",
            "🎲 Random Set 735/1000: [(5, 11), (11, 2), (6, 5), (1, 1), (1, 8), (11, 1), (5, 0), (9, 1), (1, 2), (7, 11)]\n"
          ]
        },
        {
          "name": "stderr",
          "output_type": "stream",
          "text": [
            "🔁 Extracting: 100%|██████████| 1319/1319 [00:01<00:00, 798.88it/s]\n"
          ]
        },
        {
          "name": "stdout",
          "output_type": "stream",
          "text": [
            "\n",
            "🎲 Random Set 736/1000: [(2, 5), (2, 7), (0, 8), (1, 8), (3, 8), (9, 3), (0, 11), (11, 5), (3, 0), (3, 7)]\n"
          ]
        },
        {
          "name": "stderr",
          "output_type": "stream",
          "text": [
            "🔁 Extracting: 100%|██████████| 1319/1319 [00:01<00:00, 796.24it/s]\n"
          ]
        },
        {
          "name": "stdout",
          "output_type": "stream",
          "text": [
            "\n",
            "🎲 Random Set 737/1000: [(10, 4), (7, 3), (9, 4), (8, 3), (10, 6), (0, 6), (11, 10), (8, 6), (3, 11), (5, 6)]\n"
          ]
        },
        {
          "name": "stderr",
          "output_type": "stream",
          "text": [
            "🔁 Extracting: 100%|██████████| 1319/1319 [00:01<00:00, 804.54it/s]\n"
          ]
        },
        {
          "name": "stdout",
          "output_type": "stream",
          "text": [
            "\n",
            "🎲 Random Set 738/1000: [(7, 0), (11, 4), (1, 1), (10, 8), (2, 10), (0, 3), (7, 2), (3, 5), (6, 5), (10, 1)]\n"
          ]
        },
        {
          "name": "stderr",
          "output_type": "stream",
          "text": [
            "🔁 Extracting: 100%|██████████| 1319/1319 [00:01<00:00, 777.85it/s]\n"
          ]
        },
        {
          "name": "stdout",
          "output_type": "stream",
          "text": [
            "\n",
            "🎲 Random Set 739/1000: [(5, 8), (11, 4), (3, 11), (7, 4), (8, 9), (10, 1), (2, 11), (10, 0), (2, 5), (4, 8)]\n"
          ]
        },
        {
          "name": "stderr",
          "output_type": "stream",
          "text": [
            "🔁 Extracting: 100%|██████████| 1319/1319 [00:01<00:00, 785.14it/s]\n"
          ]
        },
        {
          "name": "stdout",
          "output_type": "stream",
          "text": [
            "\n",
            "🎲 Random Set 740/1000: [(5, 4), (7, 9), (1, 5), (10, 4), (9, 9), (4, 1), (10, 5), (3, 3), (4, 11), (0, 11)]\n"
          ]
        },
        {
          "name": "stderr",
          "output_type": "stream",
          "text": [
            "🔁 Extracting: 100%|██████████| 1319/1319 [00:01<00:00, 787.02it/s]\n"
          ]
        },
        {
          "name": "stdout",
          "output_type": "stream",
          "text": [
            "\n",
            "🎲 Random Set 741/1000: [(0, 1), (7, 8), (2, 10), (4, 4), (9, 7), (6, 4), (8, 10), (10, 4), (8, 2), (10, 11)]\n"
          ]
        },
        {
          "name": "stderr",
          "output_type": "stream",
          "text": [
            "🔁 Extracting: 100%|██████████| 1319/1319 [00:01<00:00, 778.52it/s]\n"
          ]
        },
        {
          "name": "stdout",
          "output_type": "stream",
          "text": [
            "\n",
            "🎲 Random Set 742/1000: [(0, 0), (5, 9), (3, 9), (10, 10), (2, 10), (0, 6), (6, 2), (8, 9), (0, 11), (11, 7)]\n"
          ]
        },
        {
          "name": "stderr",
          "output_type": "stream",
          "text": [
            "🔁 Extracting: 100%|██████████| 1319/1319 [00:01<00:00, 802.20it/s]\n"
          ]
        },
        {
          "name": "stdout",
          "output_type": "stream",
          "text": [
            "\n",
            "🎲 Random Set 743/1000: [(6, 7), (6, 1), (11, 0), (2, 11), (0, 10), (7, 10), (4, 6), (9, 9), (7, 4), (9, 1)]\n"
          ]
        },
        {
          "name": "stderr",
          "output_type": "stream",
          "text": [
            "🔁 Extracting: 100%|██████████| 1319/1319 [00:01<00:00, 800.51it/s]\n"
          ]
        },
        {
          "name": "stdout",
          "output_type": "stream",
          "text": [
            "\n",
            "🎲 Random Set 744/1000: [(2, 3), (0, 3), (8, 4), (10, 7), (6, 11), (3, 9), (7, 9), (11, 11), (5, 6), (5, 7)]\n"
          ]
        },
        {
          "name": "stderr",
          "output_type": "stream",
          "text": [
            "🔁 Extracting: 100%|██████████| 1319/1319 [00:01<00:00, 794.25it/s]\n"
          ]
        },
        {
          "name": "stdout",
          "output_type": "stream",
          "text": [
            "\n",
            "🎲 Random Set 745/1000: [(7, 8), (5, 5), (8, 10), (7, 4), (2, 10), (7, 11), (5, 7), (10, 10), (0, 4), (11, 0)]\n"
          ]
        },
        {
          "name": "stderr",
          "output_type": "stream",
          "text": [
            "🔁 Extracting: 100%|██████████| 1319/1319 [00:01<00:00, 802.20it/s]\n"
          ]
        },
        {
          "name": "stdout",
          "output_type": "stream",
          "text": [
            "\n",
            "🎲 Random Set 746/1000: [(7, 3), (6, 2), (11, 11), (10, 3), (0, 3), (1, 9), (7, 2), (0, 0), (1, 8), (11, 3)]\n"
          ]
        },
        {
          "name": "stderr",
          "output_type": "stream",
          "text": [
            "🔁 Extracting: 100%|██████████| 1319/1319 [00:01<00:00, 803.50it/s]\n"
          ]
        },
        {
          "name": "stdout",
          "output_type": "stream",
          "text": [
            "\n",
            "🎲 Random Set 747/1000: [(10, 7), (0, 6), (11, 5), (10, 1), (10, 11), (9, 9), (7, 4), (4, 7), (1, 1), (3, 10)]\n"
          ]
        },
        {
          "name": "stderr",
          "output_type": "stream",
          "text": [
            "🔁 Extracting: 100%|██████████| 1319/1319 [00:01<00:00, 767.77it/s]\n"
          ]
        },
        {
          "name": "stdout",
          "output_type": "stream",
          "text": [
            "\n",
            "🎲 Random Set 748/1000: [(3, 6), (6, 4), (6, 0), (4, 5), (2, 1), (7, 11), (9, 8), (3, 11), (8, 1), (4, 2)]\n"
          ]
        },
        {
          "name": "stderr",
          "output_type": "stream",
          "text": [
            "🔁 Extracting: 100%|██████████| 1319/1319 [00:01<00:00, 800.07it/s]\n"
          ]
        },
        {
          "name": "stdout",
          "output_type": "stream",
          "text": [
            "\n",
            "🎲 Random Set 749/1000: [(9, 9), (5, 0), (1, 8), (9, 1), (6, 1), (7, 6), (8, 3), (2, 6), (6, 3), (3, 5)]\n"
          ]
        },
        {
          "name": "stderr",
          "output_type": "stream",
          "text": [
            "🔁 Extracting: 100%|██████████| 1319/1319 [00:01<00:00, 776.56it/s]\n"
          ]
        },
        {
          "name": "stdout",
          "output_type": "stream",
          "text": [
            "\n",
            "🎲 Random Set 750/1000: [(0, 1), (6, 0), (7, 8), (6, 3), (8, 4), (9, 11), (4, 0), (10, 10), (1, 0), (8, 3)]\n"
          ]
        },
        {
          "name": "stderr",
          "output_type": "stream",
          "text": [
            "🔁 Extracting: 100%|██████████| 1319/1319 [00:01<00:00, 786.13it/s]\n"
          ]
        },
        {
          "name": "stdout",
          "output_type": "stream",
          "text": [
            "\n",
            "🎲 Random Set 751/1000: [(0, 9), (7, 7), (8, 9), (10, 5), (3, 6), (1, 3), (11, 4), (11, 6), (7, 5), (5, 5)]\n"
          ]
        },
        {
          "name": "stderr",
          "output_type": "stream",
          "text": [
            "🔁 Extracting: 100%|██████████| 1319/1319 [00:01<00:00, 794.89it/s]\n"
          ]
        },
        {
          "name": "stdout",
          "output_type": "stream",
          "text": [
            "\n",
            "🎲 Random Set 752/1000: [(5, 6), (10, 11), (4, 3), (0, 3), (8, 7), (1, 10), (1, 0), (3, 10), (3, 7), (5, 10)]\n"
          ]
        },
        {
          "name": "stderr",
          "output_type": "stream",
          "text": [
            "🔁 Extracting: 100%|██████████| 1319/1319 [00:01<00:00, 789.31it/s]\n"
          ]
        },
        {
          "name": "stdout",
          "output_type": "stream",
          "text": [
            "\n",
            "🎲 Random Set 753/1000: [(8, 0), (6, 7), (11, 10), (4, 0), (4, 9), (4, 11), (2, 7), (3, 3), (7, 9), (6, 0)]\n"
          ]
        },
        {
          "name": "stderr",
          "output_type": "stream",
          "text": [
            "🔁 Extracting: 100%|██████████| 1319/1319 [00:01<00:00, 790.06it/s]\n"
          ]
        },
        {
          "name": "stdout",
          "output_type": "stream",
          "text": [
            "\n",
            "🎲 Random Set 754/1000: [(2, 10), (5, 1), (3, 3), (3, 2), (1, 7), (10, 4), (1, 9), (6, 1), (1, 4), (5, 4)]\n"
          ]
        },
        {
          "name": "stderr",
          "output_type": "stream",
          "text": [
            "🔁 Extracting: 100%|██████████| 1319/1319 [00:01<00:00, 768.97it/s]\n"
          ]
        },
        {
          "name": "stdout",
          "output_type": "stream",
          "text": [
            "\n",
            "🎲 Random Set 755/1000: [(2, 7), (10, 9), (9, 1), (2, 5), (11, 9), (8, 9), (6, 3), (5, 0), (0, 0), (7, 3)]\n"
          ]
        },
        {
          "name": "stderr",
          "output_type": "stream",
          "text": [
            "🔁 Extracting: 100%|██████████| 1319/1319 [00:01<00:00, 774.99it/s]\n"
          ]
        },
        {
          "name": "stdout",
          "output_type": "stream",
          "text": [
            "\n",
            "🎲 Random Set 756/1000: [(11, 9), (0, 0), (0, 6), (1, 2), (5, 5), (9, 9), (2, 10), (6, 1), (2, 8), (11, 11)]\n"
          ]
        },
        {
          "name": "stderr",
          "output_type": "stream",
          "text": [
            "🔁 Extracting: 100%|██████████| 1319/1319 [00:01<00:00, 778.90it/s]\n"
          ]
        },
        {
          "name": "stdout",
          "output_type": "stream",
          "text": [
            "\n",
            "🎲 Random Set 757/1000: [(11, 6), (2, 9), (4, 6), (5, 10), (6, 8), (11, 8), (6, 5), (5, 6), (1, 4), (7, 2)]\n"
          ]
        },
        {
          "name": "stderr",
          "output_type": "stream",
          "text": [
            "🔁 Extracting: 100%|██████████| 1319/1319 [00:01<00:00, 798.04it/s]\n"
          ]
        },
        {
          "name": "stdout",
          "output_type": "stream",
          "text": [
            "\n",
            "🎲 Random Set 758/1000: [(9, 7), (9, 0), (6, 11), (2, 7), (9, 10), (1, 2), (9, 9), (0, 0), (1, 1), (7, 3)]\n"
          ]
        },
        {
          "name": "stderr",
          "output_type": "stream",
          "text": [
            "🔁 Extracting: 100%|██████████| 1319/1319 [00:01<00:00, 794.70it/s]\n"
          ]
        },
        {
          "name": "stdout",
          "output_type": "stream",
          "text": [
            "\n",
            "🎲 Random Set 759/1000: [(11, 6), (3, 11), (3, 0), (3, 9), (1, 7), (6, 11), (9, 4), (5, 4), (0, 5), (6, 4)]\n"
          ]
        },
        {
          "name": "stderr",
          "output_type": "stream",
          "text": [
            "🔁 Extracting: 100%|██████████| 1319/1319 [00:01<00:00, 779.05it/s]\n"
          ]
        },
        {
          "name": "stdout",
          "output_type": "stream",
          "text": [
            "\n",
            "🎲 Random Set 760/1000: [(11, 10), (1, 0), (8, 7), (0, 1), (2, 3), (11, 4), (8, 2), (9, 10), (10, 7), (3, 10)]\n"
          ]
        },
        {
          "name": "stderr",
          "output_type": "stream",
          "text": [
            "🔁 Extracting: 100%|██████████| 1319/1319 [00:01<00:00, 788.38it/s]\n"
          ]
        },
        {
          "name": "stdout",
          "output_type": "stream",
          "text": [
            "\n",
            "🎲 Random Set 761/1000: [(0, 11), (9, 2), (3, 4), (6, 0), (11, 1), (11, 10), (4, 0), (1, 9), (8, 0), (2, 9)]\n"
          ]
        },
        {
          "name": "stderr",
          "output_type": "stream",
          "text": [
            "🔁 Extracting: 100%|██████████| 1319/1319 [00:01<00:00, 778.97it/s]\n"
          ]
        },
        {
          "name": "stdout",
          "output_type": "stream",
          "text": [
            "\n",
            "🎲 Random Set 762/1000: [(7, 11), (10, 6), (8, 3), (6, 4), (1, 1), (4, 10), (10, 0), (6, 0), (1, 10), (9, 6)]\n"
          ]
        },
        {
          "name": "stderr",
          "output_type": "stream",
          "text": [
            "🔁 Extracting: 100%|██████████| 1319/1319 [00:01<00:00, 788.27it/s]\n"
          ]
        },
        {
          "name": "stdout",
          "output_type": "stream",
          "text": [
            "\n",
            "🎲 Random Set 763/1000: [(9, 1), (8, 5), (9, 7), (3, 9), (3, 8), (8, 0), (5, 2), (6, 3), (11, 7), (8, 3)]\n"
          ]
        },
        {
          "name": "stderr",
          "output_type": "stream",
          "text": [
            "🔁 Extracting: 100%|██████████| 1319/1319 [00:01<00:00, 789.52it/s]\n"
          ]
        },
        {
          "name": "stdout",
          "output_type": "stream",
          "text": [
            "\n",
            "🎲 Random Set 764/1000: [(7, 6), (1, 11), (1, 2), (1, 7), (0, 1), (4, 0), (6, 2), (11, 3), (2, 3), (11, 2)]\n"
          ]
        },
        {
          "name": "stderr",
          "output_type": "stream",
          "text": [
            "🔁 Extracting: 100%|██████████| 1319/1319 [00:02<00:00, 602.48it/s]\n"
          ]
        },
        {
          "name": "stdout",
          "output_type": "stream",
          "text": [
            "\n",
            "🎲 Random Set 765/1000: [(7, 11), (2, 10), (1, 5), (11, 7), (3, 11), (9, 8), (1, 4), (1, 2), (2, 3), (10, 9)]\n"
          ]
        },
        {
          "name": "stderr",
          "output_type": "stream",
          "text": [
            "🔁 Extracting: 100%|██████████| 1319/1319 [00:01<00:00, 784.16it/s]\n"
          ]
        },
        {
          "name": "stdout",
          "output_type": "stream",
          "text": [
            "\n",
            "🎲 Random Set 766/1000: [(0, 6), (10, 2), (11, 10), (2, 5), (7, 5), (1, 2), (8, 5), (4, 10), (3, 2), (9, 5)]\n"
          ]
        },
        {
          "name": "stderr",
          "output_type": "stream",
          "text": [
            "🔁 Extracting: 100%|██████████| 1319/1319 [00:01<00:00, 795.49it/s]\n"
          ]
        },
        {
          "name": "stdout",
          "output_type": "stream",
          "text": [
            "\n",
            "🎲 Random Set 767/1000: [(2, 5), (9, 6), (2, 4), (2, 10), (7, 7), (0, 3), (4, 1), (3, 1), (8, 3), (0, 4)]\n"
          ]
        },
        {
          "name": "stderr",
          "output_type": "stream",
          "text": [
            "🔁 Extracting: 100%|██████████| 1319/1319 [00:01<00:00, 746.14it/s]\n"
          ]
        },
        {
          "name": "stdout",
          "output_type": "stream",
          "text": [
            "\n",
            "🎲 Random Set 768/1000: [(6, 3), (10, 6), (5, 1), (5, 3), (8, 2), (3, 8), (4, 11), (6, 7), (5, 0), (10, 3)]\n"
          ]
        },
        {
          "name": "stderr",
          "output_type": "stream",
          "text": [
            "🔁 Extracting: 100%|██████████| 1319/1319 [00:01<00:00, 794.82it/s]\n"
          ]
        },
        {
          "name": "stdout",
          "output_type": "stream",
          "text": [
            "\n",
            "🎲 Random Set 769/1000: [(4, 3), (3, 2), (4, 5), (10, 8), (9, 3), (0, 1), (0, 2), (11, 9), (4, 8), (4, 11)]\n"
          ]
        },
        {
          "name": "stderr",
          "output_type": "stream",
          "text": [
            "🔁 Extracting: 100%|██████████| 1319/1319 [00:01<00:00, 786.20it/s]\n"
          ]
        },
        {
          "name": "stdout",
          "output_type": "stream",
          "text": [
            "\n",
            "🎲 Random Set 770/1000: [(5, 2), (3, 6), (0, 3), (6, 3), (4, 5), (5, 3), (0, 7), (8, 2), (0, 4), (2, 3)]\n"
          ]
        },
        {
          "name": "stderr",
          "output_type": "stream",
          "text": [
            "🔁 Extracting: 100%|██████████| 1319/1319 [00:01<00:00, 790.45it/s]\n"
          ]
        },
        {
          "name": "stdout",
          "output_type": "stream",
          "text": [
            "\n",
            "🎲 Random Set 771/1000: [(9, 4), (5, 1), (1, 10), (3, 4), (8, 4), (11, 6), (8, 10), (4, 11), (8, 3), (7, 7)]\n"
          ]
        },
        {
          "name": "stderr",
          "output_type": "stream",
          "text": [
            "🔁 Extracting: 100%|██████████| 1319/1319 [00:01<00:00, 794.00it/s]\n"
          ]
        },
        {
          "name": "stdout",
          "output_type": "stream",
          "text": [
            "\n",
            "🎲 Random Set 772/1000: [(4, 5), (1, 3), (3, 8), (5, 4), (9, 3), (6, 1), (1, 4), (4, 11), (10, 4), (4, 7)]\n"
          ]
        },
        {
          "name": "stderr",
          "output_type": "stream",
          "text": [
            "🔁 Extracting: 100%|██████████| 1319/1319 [00:01<00:00, 788.15it/s]\n"
          ]
        },
        {
          "name": "stdout",
          "output_type": "stream",
          "text": [
            "\n",
            "🎲 Random Set 773/1000: [(9, 5), (6, 9), (0, 2), (5, 9), (7, 2), (3, 6), (0, 4), (11, 1), (10, 3), (1, 8)]\n"
          ]
        },
        {
          "name": "stderr",
          "output_type": "stream",
          "text": [
            "🔁 Extracting: 100%|██████████| 1319/1319 [00:01<00:00, 778.94it/s]\n"
          ]
        },
        {
          "name": "stdout",
          "output_type": "stream",
          "text": [
            "\n",
            "🎲 Random Set 774/1000: [(8, 3), (6, 1), (7, 2), (7, 1), (0, 3), (3, 10), (4, 0), (2, 11), (2, 8), (10, 8)]\n"
          ]
        },
        {
          "name": "stderr",
          "output_type": "stream",
          "text": [
            "🔁 Extracting: 100%|██████████| 1319/1319 [00:01<00:00, 766.37it/s]\n"
          ]
        },
        {
          "name": "stdout",
          "output_type": "stream",
          "text": [
            "\n",
            "🎲 Random Set 775/1000: [(5, 3), (11, 5), (11, 7), (7, 1), (7, 7), (11, 11), (7, 10), (7, 9), (8, 0), (8, 2)]\n"
          ]
        },
        {
          "name": "stderr",
          "output_type": "stream",
          "text": [
            "🔁 Extracting: 100%|██████████| 1319/1319 [00:01<00:00, 803.41it/s]\n"
          ]
        },
        {
          "name": "stdout",
          "output_type": "stream",
          "text": [
            "\n",
            "🎲 Random Set 776/1000: [(6, 0), (5, 4), (3, 1), (4, 6), (9, 11), (3, 3), (8, 4), (3, 2), (4, 2), (5, 0)]\n"
          ]
        },
        {
          "name": "stderr",
          "output_type": "stream",
          "text": [
            "🔁 Extracting: 100%|██████████| 1319/1319 [00:01<00:00, 787.62it/s]\n"
          ]
        },
        {
          "name": "stdout",
          "output_type": "stream",
          "text": [
            "\n",
            "🎲 Random Set 777/1000: [(1, 1), (11, 1), (3, 6), (0, 8), (7, 1), (4, 9), (0, 9), (3, 2), (5, 11), (4, 6)]\n"
          ]
        },
        {
          "name": "stderr",
          "output_type": "stream",
          "text": [
            "🔁 Extracting: 100%|██████████| 1319/1319 [00:01<00:00, 792.78it/s]\n"
          ]
        },
        {
          "name": "stdout",
          "output_type": "stream",
          "text": [
            "\n",
            "🎲 Random Set 778/1000: [(0, 3), (0, 9), (11, 7), (7, 3), (11, 10), (11, 6), (1, 3), (7, 5), (4, 4), (5, 2)]\n"
          ]
        },
        {
          "name": "stderr",
          "output_type": "stream",
          "text": [
            "🔁 Extracting: 100%|██████████| 1319/1319 [00:01<00:00, 790.64it/s]\n"
          ]
        },
        {
          "name": "stdout",
          "output_type": "stream",
          "text": [
            "\n",
            "🎲 Random Set 779/1000: [(3, 4), (2, 1), (11, 0), (9, 8), (2, 9), (1, 0), (10, 5), (8, 3), (2, 7), (6, 9)]\n"
          ]
        },
        {
          "name": "stderr",
          "output_type": "stream",
          "text": [
            "🔁 Extracting: 100%|██████████| 1319/1319 [00:01<00:00, 788.44it/s]\n"
          ]
        },
        {
          "name": "stdout",
          "output_type": "stream",
          "text": [
            "\n",
            "🎲 Random Set 780/1000: [(1, 2), (8, 8), (8, 3), (9, 0), (2, 0), (10, 8), (6, 7), (9, 2), (0, 5), (4, 6)]\n"
          ]
        },
        {
          "name": "stderr",
          "output_type": "stream",
          "text": [
            "🔁 Extracting: 100%|██████████| 1319/1319 [00:01<00:00, 779.38it/s]\n"
          ]
        },
        {
          "name": "stdout",
          "output_type": "stream",
          "text": [
            "\n",
            "🎲 Random Set 781/1000: [(11, 5), (2, 8), (1, 3), (7, 5), (11, 8), (9, 11), (7, 6), (5, 9), (6, 6), (10, 5)]\n"
          ]
        },
        {
          "name": "stderr",
          "output_type": "stream",
          "text": [
            "🔁 Extracting: 100%|██████████| 1319/1319 [00:01<00:00, 782.50it/s]\n"
          ]
        },
        {
          "name": "stdout",
          "output_type": "stream",
          "text": [
            "\n",
            "🎲 Random Set 782/1000: [(7, 5), (11, 4), (1, 9), (4, 6), (8, 2), (6, 5), (11, 3), (4, 10), (10, 9), (2, 9)]\n"
          ]
        },
        {
          "name": "stderr",
          "output_type": "stream",
          "text": [
            "🔁 Extracting: 100%|██████████| 1319/1319 [00:01<00:00, 801.84it/s]\n"
          ]
        },
        {
          "name": "stdout",
          "output_type": "stream",
          "text": [
            "\n",
            "🎲 Random Set 783/1000: [(0, 0), (1, 7), (9, 8), (2, 11), (2, 2), (7, 8), (11, 6), (1, 0), (2, 10), (7, 1)]\n"
          ]
        },
        {
          "name": "stderr",
          "output_type": "stream",
          "text": [
            "🔁 Extracting: 100%|██████████| 1319/1319 [00:01<00:00, 796.91it/s]\n"
          ]
        },
        {
          "name": "stdout",
          "output_type": "stream",
          "text": [
            "\n",
            "🎲 Random Set 784/1000: [(3, 0), (9, 7), (3, 2), (9, 3), (0, 2), (1, 5), (4, 9), (3, 6), (7, 8), (2, 8)]\n"
          ]
        },
        {
          "name": "stderr",
          "output_type": "stream",
          "text": [
            "🔁 Extracting: 100%|██████████| 1319/1319 [00:01<00:00, 789.34it/s]\n"
          ]
        },
        {
          "name": "stdout",
          "output_type": "stream",
          "text": [
            "\n",
            "🎲 Random Set 785/1000: [(3, 4), (7, 0), (0, 10), (10, 2), (4, 7), (2, 0), (1, 11), (6, 5), (2, 1), (7, 9)]\n"
          ]
        },
        {
          "name": "stderr",
          "output_type": "stream",
          "text": [
            "🔁 Extracting: 100%|██████████| 1319/1319 [00:01<00:00, 801.22it/s]\n"
          ]
        },
        {
          "name": "stdout",
          "output_type": "stream",
          "text": [
            "\n",
            "🎲 Random Set 786/1000: [(11, 10), (2, 9), (3, 4), (6, 4), (6, 0), (5, 9), (5, 10), (0, 6), (7, 1), (2, 1)]\n"
          ]
        },
        {
          "name": "stderr",
          "output_type": "stream",
          "text": [
            "🔁 Extracting: 100%|██████████| 1319/1319 [00:01<00:00, 787.19it/s]\n"
          ]
        },
        {
          "name": "stdout",
          "output_type": "stream",
          "text": [
            "\n",
            "🎲 Random Set 787/1000: [(1, 9), (8, 7), (6, 1), (4, 3), (6, 7), (0, 0), (7, 2), (1, 11), (2, 4), (11, 1)]\n"
          ]
        },
        {
          "name": "stderr",
          "output_type": "stream",
          "text": [
            "🔁 Extracting: 100%|██████████| 1319/1319 [00:01<00:00, 757.04it/s]\n"
          ]
        },
        {
          "name": "stdout",
          "output_type": "stream",
          "text": [
            "\n",
            "🎲 Random Set 788/1000: [(8, 11), (7, 6), (1, 7), (1, 5), (3, 1), (7, 3), (5, 11), (4, 5), (4, 6), (5, 0)]\n"
          ]
        },
        {
          "name": "stderr",
          "output_type": "stream",
          "text": [
            "🔁 Extracting: 100%|██████████| 1319/1319 [00:01<00:00, 794.73it/s]\n"
          ]
        },
        {
          "name": "stdout",
          "output_type": "stream",
          "text": [
            "\n",
            "🎲 Random Set 789/1000: [(5, 0), (4, 4), (5, 10), (10, 8), (5, 5), (8, 5), (0, 5), (7, 9), (2, 0), (8, 3)]\n"
          ]
        },
        {
          "name": "stderr",
          "output_type": "stream",
          "text": [
            "🔁 Extracting: 100%|██████████| 1319/1319 [00:01<00:00, 788.20it/s]\n"
          ]
        },
        {
          "name": "stdout",
          "output_type": "stream",
          "text": [
            "\n",
            "🎲 Random Set 790/1000: [(8, 10), (1, 1), (7, 9), (0, 4), (2, 8), (2, 3), (5, 5), (6, 2), (9, 7), (3, 6)]\n"
          ]
        },
        {
          "name": "stderr",
          "output_type": "stream",
          "text": [
            "🔁 Extracting: 100%|██████████| 1319/1319 [00:01<00:00, 721.38it/s]\n"
          ]
        },
        {
          "name": "stdout",
          "output_type": "stream",
          "text": [
            "\n",
            "🎲 Random Set 791/1000: [(9, 10), (2, 1), (1, 3), (9, 3), (8, 9), (8, 11), (4, 10), (1, 7), (7, 6), (9, 4)]\n"
          ]
        },
        {
          "name": "stderr",
          "output_type": "stream",
          "text": [
            "🔁 Extracting: 100%|██████████| 1319/1319 [00:01<00:00, 767.06it/s]\n"
          ]
        },
        {
          "name": "stdout",
          "output_type": "stream",
          "text": [
            "\n",
            "🎲 Random Set 792/1000: [(6, 10), (0, 5), (2, 10), (4, 2), (5, 0), (7, 1), (2, 7), (8, 7), (8, 5), (9, 5)]\n"
          ]
        },
        {
          "name": "stderr",
          "output_type": "stream",
          "text": [
            "🔁 Extracting: 100%|██████████| 1319/1319 [00:01<00:00, 799.49it/s]\n"
          ]
        },
        {
          "name": "stdout",
          "output_type": "stream",
          "text": [
            "\n",
            "🎲 Random Set 793/1000: [(6, 4), (0, 0), (0, 7), (0, 6), (7, 7), (8, 11), (10, 9), (9, 0), (11, 9), (7, 6)]\n"
          ]
        },
        {
          "name": "stderr",
          "output_type": "stream",
          "text": [
            "🔁 Extracting: 100%|██████████| 1319/1319 [00:01<00:00, 791.90it/s]\n"
          ]
        },
        {
          "name": "stdout",
          "output_type": "stream",
          "text": [
            "\n",
            "🎲 Random Set 794/1000: [(7, 5), (1, 4), (2, 0), (9, 1), (1, 7), (7, 3), (8, 1), (8, 4), (3, 0), (6, 7)]\n"
          ]
        },
        {
          "name": "stderr",
          "output_type": "stream",
          "text": [
            "🔁 Extracting: 100%|██████████| 1319/1319 [00:01<00:00, 778.17it/s]\n"
          ]
        },
        {
          "name": "stdout",
          "output_type": "stream",
          "text": [
            "\n",
            "🎲 Random Set 795/1000: [(1, 8), (2, 0), (7, 9), (9, 9), (4, 2), (11, 2), (9, 10), (2, 10), (0, 6), (3, 0)]\n"
          ]
        },
        {
          "name": "stderr",
          "output_type": "stream",
          "text": [
            "🔁 Extracting: 100%|██████████| 1319/1319 [00:01<00:00, 762.90it/s]\n"
          ]
        },
        {
          "name": "stdout",
          "output_type": "stream",
          "text": [
            "\n",
            "🎲 Random Set 796/1000: [(3, 4), (5, 5), (7, 8), (1, 0), (0, 6), (4, 11), (9, 0), (1, 1), (3, 6), (10, 11)]\n"
          ]
        },
        {
          "name": "stderr",
          "output_type": "stream",
          "text": [
            "🔁 Extracting: 100%|██████████| 1319/1319 [00:01<00:00, 799.53it/s]\n"
          ]
        },
        {
          "name": "stdout",
          "output_type": "stream",
          "text": [
            "\n",
            "🎲 Random Set 797/1000: [(5, 3), (6, 11), (7, 5), (0, 9), (1, 7), (9, 2), (6, 4), (6, 1), (3, 7), (0, 6)]\n"
          ]
        },
        {
          "name": "stderr",
          "output_type": "stream",
          "text": [
            "🔁 Extracting: 100%|██████████| 1319/1319 [00:01<00:00, 768.43it/s]\n"
          ]
        },
        {
          "name": "stdout",
          "output_type": "stream",
          "text": [
            "\n",
            "🎲 Random Set 798/1000: [(5, 9), (2, 8), (9, 1), (1, 2), (0, 6), (6, 6), (4, 1), (8, 8), (4, 9), (1, 6)]\n"
          ]
        },
        {
          "name": "stderr",
          "output_type": "stream",
          "text": [
            "🔁 Extracting: 100%|██████████| 1319/1319 [00:01<00:00, 794.77it/s]\n"
          ]
        },
        {
          "name": "stdout",
          "output_type": "stream",
          "text": [
            "\n",
            "🎲 Random Set 799/1000: [(10, 2), (10, 6), (3, 1), (3, 8), (6, 3), (11, 8), (9, 3), (1, 10), (1, 11), (8, 5)]\n"
          ]
        },
        {
          "name": "stderr",
          "output_type": "stream",
          "text": [
            "🔁 Extracting: 100%|██████████| 1319/1319 [00:01<00:00, 806.69it/s]\n"
          ]
        },
        {
          "name": "stdout",
          "output_type": "stream",
          "text": [
            "\n",
            "🎲 Random Set 800/1000: [(1, 1), (2, 6), (7, 3), (10, 1), (5, 7), (8, 0), (8, 4), (5, 5), (10, 8), (5, 2)]\n"
          ]
        },
        {
          "name": "stderr",
          "output_type": "stream",
          "text": [
            "🔁 Extracting: 100%|██████████| 1319/1319 [00:01<00:00, 794.52it/s]\n"
          ]
        },
        {
          "name": "stdout",
          "output_type": "stream",
          "text": [
            "\n",
            "🎲 Random Set 801/1000: [(3, 0), (9, 4), (4, 1), (11, 3), (1, 1), (3, 9), (8, 8), (10, 10), (1, 11), (9, 9)]\n"
          ]
        },
        {
          "name": "stderr",
          "output_type": "stream",
          "text": [
            "🔁 Extracting: 100%|██████████| 1319/1319 [00:01<00:00, 790.70it/s]\n"
          ]
        },
        {
          "name": "stdout",
          "output_type": "stream",
          "text": [
            "\n",
            "🎲 Random Set 802/1000: [(3, 2), (7, 9), (0, 4), (6, 8), (3, 1), (4, 8), (6, 9), (6, 10), (4, 9), (0, 9)]\n"
          ]
        },
        {
          "name": "stderr",
          "output_type": "stream",
          "text": [
            "🔁 Extracting: 100%|██████████| 1319/1319 [00:01<00:00, 807.11it/s]\n"
          ]
        },
        {
          "name": "stdout",
          "output_type": "stream",
          "text": [
            "\n",
            "🎲 Random Set 803/1000: [(11, 7), (9, 11), (8, 7), (7, 10), (4, 2), (11, 0), (0, 6), (9, 8), (5, 7), (11, 5)]\n"
          ]
        },
        {
          "name": "stderr",
          "output_type": "stream",
          "text": [
            "🔁 Extracting: 100%|██████████| 1319/1319 [00:01<00:00, 799.68it/s]\n"
          ]
        },
        {
          "name": "stdout",
          "output_type": "stream",
          "text": [
            "\n",
            "🎲 Random Set 804/1000: [(9, 0), (1, 1), (11, 4), (11, 3), (3, 2), (10, 5), (6, 9), (1, 11), (3, 5), (7, 11)]\n"
          ]
        },
        {
          "name": "stderr",
          "output_type": "stream",
          "text": [
            "🔁 Extracting: 100%|██████████| 1319/1319 [00:01<00:00, 779.02it/s]\n"
          ]
        },
        {
          "name": "stdout",
          "output_type": "stream",
          "text": [
            "\n",
            "🎲 Random Set 805/1000: [(9, 9), (11, 7), (7, 8), (10, 1), (7, 5), (11, 1), (5, 4), (9, 7), (3, 6), (3, 9)]\n"
          ]
        },
        {
          "name": "stderr",
          "output_type": "stream",
          "text": [
            "🔁 Extracting: 100%|██████████| 1319/1319 [00:01<00:00, 795.16it/s]\n"
          ]
        },
        {
          "name": "stdout",
          "output_type": "stream",
          "text": [
            "\n",
            "🎲 Random Set 806/1000: [(7, 9), (0, 5), (5, 11), (10, 1), (9, 3), (11, 11), (7, 10), (11, 1), (9, 4), (5, 7)]\n"
          ]
        },
        {
          "name": "stderr",
          "output_type": "stream",
          "text": [
            "🔁 Extracting: 100%|██████████| 1319/1319 [00:01<00:00, 792.86it/s]\n"
          ]
        },
        {
          "name": "stdout",
          "output_type": "stream",
          "text": [
            "\n",
            "🎲 Random Set 807/1000: [(1, 0), (0, 2), (6, 11), (1, 10), (10, 2), (3, 7), (7, 0), (2, 11), (8, 7), (6, 8)]\n"
          ]
        },
        {
          "name": "stderr",
          "output_type": "stream",
          "text": [
            "🔁 Extracting: 100%|██████████| 1319/1319 [00:01<00:00, 779.28it/s]\n"
          ]
        },
        {
          "name": "stdout",
          "output_type": "stream",
          "text": [
            "\n",
            "🎲 Random Set 808/1000: [(9, 11), (5, 9), (8, 7), (5, 3), (1, 3), (9, 0), (10, 10), (4, 6), (5, 10), (2, 8)]\n"
          ]
        },
        {
          "name": "stderr",
          "output_type": "stream",
          "text": [
            "🔁 Extracting: 100%|██████████| 1319/1319 [00:01<00:00, 771.97it/s]\n"
          ]
        },
        {
          "name": "stdout",
          "output_type": "stream",
          "text": [
            "\n",
            "🎲 Random Set 809/1000: [(1, 10), (5, 0), (10, 1), (1, 6), (3, 4), (2, 5), (3, 1), (4, 2), (0, 6), (5, 3)]\n"
          ]
        },
        {
          "name": "stderr",
          "output_type": "stream",
          "text": [
            "🔁 Extracting: 100%|██████████| 1319/1319 [00:01<00:00, 788.90it/s]\n"
          ]
        },
        {
          "name": "stdout",
          "output_type": "stream",
          "text": [
            "\n",
            "🎲 Random Set 810/1000: [(9, 2), (3, 5), (2, 7), (8, 1), (1, 11), (5, 6), (2, 4), (5, 2), (8, 11), (6, 1)]\n"
          ]
        },
        {
          "name": "stderr",
          "output_type": "stream",
          "text": [
            "🔁 Extracting: 100%|██████████| 1319/1319 [00:01<00:00, 785.17it/s]\n"
          ]
        },
        {
          "name": "stdout",
          "output_type": "stream",
          "text": [
            "\n",
            "🎲 Random Set 811/1000: [(3, 0), (4, 4), (8, 9), (11, 2), (1, 7), (7, 10), (9, 7), (9, 9), (9, 2), (7, 9)]\n"
          ]
        },
        {
          "name": "stderr",
          "output_type": "stream",
          "text": [
            "🔁 Extracting: 100%|██████████| 1319/1319 [00:01<00:00, 778.42it/s]\n"
          ]
        },
        {
          "name": "stdout",
          "output_type": "stream",
          "text": [
            "\n",
            "🎲 Random Set 812/1000: [(7, 5), (9, 7), (8, 9), (7, 8), (10, 5), (1, 1), (5, 9), (8, 6), (6, 10), (2, 1)]\n"
          ]
        },
        {
          "name": "stderr",
          "output_type": "stream",
          "text": [
            "🔁 Extracting: 100%|██████████| 1319/1319 [00:01<00:00, 801.33it/s]\n"
          ]
        },
        {
          "name": "stdout",
          "output_type": "stream",
          "text": [
            "\n",
            "🎲 Random Set 813/1000: [(10, 9), (4, 5), (4, 10), (5, 6), (2, 1), (0, 2), (10, 11), (6, 0), (9, 11), (7, 4)]\n"
          ]
        },
        {
          "name": "stderr",
          "output_type": "stream",
          "text": [
            "🔁 Extracting: 100%|██████████| 1319/1319 [00:01<00:00, 796.28it/s]\n"
          ]
        },
        {
          "name": "stdout",
          "output_type": "stream",
          "text": [
            "\n",
            "🎲 Random Set 814/1000: [(8, 10), (1, 3), (7, 9), (3, 8), (5, 2), (11, 8), (2, 1), (2, 4), (8, 7), (1, 2)]\n"
          ]
        },
        {
          "name": "stderr",
          "output_type": "stream",
          "text": [
            "🔁 Extracting: 100%|██████████| 1319/1319 [00:01<00:00, 766.57it/s]\n"
          ]
        },
        {
          "name": "stdout",
          "output_type": "stream",
          "text": [
            "\n",
            "🎲 Random Set 815/1000: [(7, 2), (5, 0), (3, 11), (6, 9), (7, 1), (9, 10), (8, 7), (6, 0), (10, 8), (4, 10)]\n"
          ]
        },
        {
          "name": "stderr",
          "output_type": "stream",
          "text": [
            "🔁 Extracting: 100%|██████████| 1319/1319 [00:01<00:00, 785.08it/s]\n"
          ]
        },
        {
          "name": "stdout",
          "output_type": "stream",
          "text": [
            "\n",
            "🎲 Random Set 816/1000: [(3, 9), (2, 8), (0, 2), (6, 6), (2, 1), (9, 1), (9, 11), (9, 6), (5, 4), (7, 0)]\n"
          ]
        },
        {
          "name": "stderr",
          "output_type": "stream",
          "text": [
            "🔁 Extracting: 100%|██████████| 1319/1319 [00:01<00:00, 795.88it/s]\n"
          ]
        },
        {
          "name": "stdout",
          "output_type": "stream",
          "text": [
            "\n",
            "🎲 Random Set 817/1000: [(7, 10), (11, 4), (10, 1), (8, 11), (4, 2), (6, 11), (9, 4), (7, 5), (6, 8), (3, 11)]\n"
          ]
        },
        {
          "name": "stderr",
          "output_type": "stream",
          "text": [
            "🔁 Extracting: 100%|██████████| 1319/1319 [00:01<00:00, 791.03it/s]\n"
          ]
        },
        {
          "name": "stdout",
          "output_type": "stream",
          "text": [
            "\n",
            "🎲 Random Set 818/1000: [(8, 1), (10, 0), (1, 4), (6, 4), (0, 3), (2, 6), (2, 0), (7, 2), (7, 1), (5, 1)]\n"
          ]
        },
        {
          "name": "stderr",
          "output_type": "stream",
          "text": [
            "🔁 Extracting: 100%|██████████| 1319/1319 [00:01<00:00, 783.39it/s]\n"
          ]
        },
        {
          "name": "stdout",
          "output_type": "stream",
          "text": [
            "\n",
            "🎲 Random Set 819/1000: [(7, 5), (2, 2), (0, 1), (2, 6), (7, 10), (2, 9), (10, 2), (8, 9), (6, 1), (0, 11)]\n"
          ]
        },
        {
          "name": "stderr",
          "output_type": "stream",
          "text": [
            "🔁 Extracting: 100%|██████████| 1319/1319 [00:01<00:00, 798.01it/s]\n"
          ]
        },
        {
          "name": "stdout",
          "output_type": "stream",
          "text": [
            "\n",
            "🎲 Random Set 820/1000: [(11, 11), (0, 8), (1, 10), (5, 3), (10, 7), (3, 2), (11, 1), (5, 4), (8, 3), (5, 1)]\n"
          ]
        },
        {
          "name": "stderr",
          "output_type": "stream",
          "text": [
            "🔁 Extracting: 100%|██████████| 1319/1319 [00:01<00:00, 801.02it/s]\n"
          ]
        },
        {
          "name": "stdout",
          "output_type": "stream",
          "text": [
            "\n",
            "🎲 Random Set 821/1000: [(10, 5), (6, 7), (11, 0), (10, 0), (6, 6), (11, 9), (0, 2), (2, 8), (10, 3), (8, 10)]\n"
          ]
        },
        {
          "name": "stderr",
          "output_type": "stream",
          "text": [
            "🔁 Extracting: 100%|██████████| 1319/1319 [00:01<00:00, 774.08it/s]\n"
          ]
        },
        {
          "name": "stdout",
          "output_type": "stream",
          "text": [
            "\n",
            "🎲 Random Set 822/1000: [(0, 10), (0, 7), (9, 7), (6, 11), (2, 9), (5, 5), (1, 10), (2, 6), (2, 0), (11, 1)]\n"
          ]
        },
        {
          "name": "stderr",
          "output_type": "stream",
          "text": [
            "🔁 Extracting: 100%|██████████| 1319/1319 [00:01<00:00, 798.34it/s]\n"
          ]
        },
        {
          "name": "stdout",
          "output_type": "stream",
          "text": [
            "\n",
            "🎲 Random Set 823/1000: [(6, 11), (3, 8), (10, 3), (9, 11), (5, 2), (6, 6), (0, 8), (10, 2), (3, 7), (8, 1)]\n"
          ]
        },
        {
          "name": "stderr",
          "output_type": "stream",
          "text": [
            "🔁 Extracting: 100%|██████████| 1319/1319 [00:01<00:00, 796.23it/s]\n"
          ]
        },
        {
          "name": "stdout",
          "output_type": "stream",
          "text": [
            "\n",
            "🎲 Random Set 824/1000: [(7, 8), (4, 2), (3, 9), (8, 1), (7, 7), (3, 10), (3, 5), (7, 6), (2, 4), (1, 0)]\n"
          ]
        },
        {
          "name": "stderr",
          "output_type": "stream",
          "text": [
            "🔁 Extracting: 100%|██████████| 1319/1319 [00:01<00:00, 795.20it/s]\n"
          ]
        },
        {
          "name": "stdout",
          "output_type": "stream",
          "text": [
            "\n",
            "🎲 Random Set 825/1000: [(10, 9), (8, 0), (5, 9), (6, 8), (9, 11), (1, 7), (8, 3), (4, 2), (5, 3), (4, 5)]\n"
          ]
        },
        {
          "name": "stderr",
          "output_type": "stream",
          "text": [
            "🔁 Extracting: 100%|██████████| 1319/1319 [00:01<00:00, 759.87it/s]\n"
          ]
        },
        {
          "name": "stdout",
          "output_type": "stream",
          "text": [
            "\n",
            "🎲 Random Set 826/1000: [(8, 10), (4, 5), (11, 3), (6, 6), (2, 1), (7, 6), (0, 3), (5, 8), (9, 1), (9, 2)]\n"
          ]
        },
        {
          "name": "stderr",
          "output_type": "stream",
          "text": [
            "🔁 Extracting: 100%|██████████| 1319/1319 [00:01<00:00, 796.03it/s]\n"
          ]
        },
        {
          "name": "stdout",
          "output_type": "stream",
          "text": [
            "\n",
            "🎲 Random Set 827/1000: [(11, 5), (1, 0), (6, 11), (11, 8), (6, 4), (0, 0), (1, 2), (7, 1), (9, 1), (3, 9)]\n"
          ]
        },
        {
          "name": "stderr",
          "output_type": "stream",
          "text": [
            "🔁 Extracting: 100%|██████████| 1319/1319 [00:01<00:00, 771.74it/s]\n"
          ]
        },
        {
          "name": "stdout",
          "output_type": "stream",
          "text": [
            "\n",
            "🎲 Random Set 828/1000: [(10, 1), (8, 6), (11, 8), (0, 4), (10, 11), (11, 10), (10, 6), (0, 7), (6, 6), (9, 9)]\n"
          ]
        },
        {
          "name": "stderr",
          "output_type": "stream",
          "text": [
            "🔁 Extracting: 100%|██████████| 1319/1319 [00:01<00:00, 765.65it/s]\n"
          ]
        },
        {
          "name": "stdout",
          "output_type": "stream",
          "text": [
            "\n",
            "🎲 Random Set 829/1000: [(3, 4), (1, 0), (2, 9), (8, 6), (8, 8), (9, 0), (6, 2), (11, 6), (8, 4), (5, 3)]\n"
          ]
        },
        {
          "name": "stderr",
          "output_type": "stream",
          "text": [
            "🔁 Extracting: 100%|██████████| 1319/1319 [00:02<00:00, 588.99it/s]\n"
          ]
        },
        {
          "name": "stdout",
          "output_type": "stream",
          "text": [
            "\n",
            "🎲 Random Set 830/1000: [(3, 2), (6, 3), (7, 3), (7, 1), (3, 4), (0, 1), (1, 2), (0, 4), (7, 5), (6, 2)]\n"
          ]
        },
        {
          "name": "stderr",
          "output_type": "stream",
          "text": [
            "🔁 Extracting: 100%|██████████| 1319/1319 [00:01<00:00, 780.69it/s]\n"
          ]
        },
        {
          "name": "stdout",
          "output_type": "stream",
          "text": [
            "\n",
            "🎲 Random Set 831/1000: [(0, 4), (10, 3), (3, 7), (3, 4), (2, 6), (9, 0), (0, 6), (7, 2), (5, 10), (8, 7)]\n"
          ]
        },
        {
          "name": "stderr",
          "output_type": "stream",
          "text": [
            "🔁 Extracting: 100%|██████████| 1319/1319 [00:01<00:00, 778.27it/s]\n"
          ]
        },
        {
          "name": "stdout",
          "output_type": "stream",
          "text": [
            "\n",
            "🎲 Random Set 832/1000: [(10, 2), (3, 11), (8, 2), (0, 2), (5, 6), (7, 1), (7, 0), (1, 10), (5, 11), (6, 2)]\n"
          ]
        },
        {
          "name": "stderr",
          "output_type": "stream",
          "text": [
            "🔁 Extracting: 100%|██████████| 1319/1319 [00:01<00:00, 740.10it/s]\n"
          ]
        },
        {
          "name": "stdout",
          "output_type": "stream",
          "text": [
            "\n",
            "🎲 Random Set 833/1000: [(6, 3), (1, 1), (8, 5), (8, 9), (0, 4), (7, 9), (10, 2), (10, 5), (3, 1), (0, 6)]\n"
          ]
        },
        {
          "name": "stderr",
          "output_type": "stream",
          "text": [
            "🔁 Extracting: 100%|██████████| 1319/1319 [00:01<00:00, 769.77it/s]\n"
          ]
        },
        {
          "name": "stdout",
          "output_type": "stream",
          "text": [
            "\n",
            "🎲 Random Set 834/1000: [(8, 11), (7, 6), (2, 11), (1, 11), (11, 10), (2, 3), (10, 6), (3, 10), (8, 1), (1, 10)]\n"
          ]
        },
        {
          "name": "stderr",
          "output_type": "stream",
          "text": [
            "🔁 Extracting: 100%|██████████| 1319/1319 [00:01<00:00, 767.12it/s]\n"
          ]
        },
        {
          "name": "stdout",
          "output_type": "stream",
          "text": [
            "\n",
            "🎲 Random Set 835/1000: [(10, 9), (9, 7), (1, 4), (10, 6), (0, 9), (5, 4), (8, 4), (0, 0), (8, 2), (3, 6)]\n"
          ]
        },
        {
          "name": "stderr",
          "output_type": "stream",
          "text": [
            "🔁 Extracting: 100%|██████████| 1319/1319 [00:01<00:00, 767.92it/s]\n"
          ]
        },
        {
          "name": "stdout",
          "output_type": "stream",
          "text": [
            "\n",
            "🎲 Random Set 836/1000: [(8, 7), (4, 7), (4, 4), (6, 11), (10, 5), (0, 9), (2, 7), (3, 6), (6, 3), (6, 5)]\n"
          ]
        },
        {
          "name": "stderr",
          "output_type": "stream",
          "text": [
            "🔁 Extracting: 100%|██████████| 1319/1319 [00:01<00:00, 781.46it/s]\n"
          ]
        },
        {
          "name": "stdout",
          "output_type": "stream",
          "text": [
            "\n",
            "🎲 Random Set 837/1000: [(3, 4), (8, 4), (6, 10), (4, 5), (6, 6), (4, 3), (5, 4), (1, 5), (5, 1), (7, 6)]\n"
          ]
        },
        {
          "name": "stderr",
          "output_type": "stream",
          "text": [
            "🔁 Extracting: 100%|██████████| 1319/1319 [00:01<00:00, 785.61it/s]\n"
          ]
        },
        {
          "name": "stdout",
          "output_type": "stream",
          "text": [
            "\n",
            "🎲 Random Set 838/1000: [(3, 6), (6, 0), (8, 6), (11, 2), (8, 11), (1, 10), (11, 7), (10, 3), (0, 1), (11, 6)]\n"
          ]
        },
        {
          "name": "stderr",
          "output_type": "stream",
          "text": [
            "🔁 Extracting: 100%|██████████| 1319/1319 [00:01<00:00, 784.04it/s]\n"
          ]
        },
        {
          "name": "stdout",
          "output_type": "stream",
          "text": [
            "\n",
            "🎲 Random Set 839/1000: [(8, 1), (7, 1), (0, 11), (6, 8), (9, 4), (4, 6), (4, 3), (5, 10), (3, 4), (2, 1)]\n"
          ]
        },
        {
          "name": "stderr",
          "output_type": "stream",
          "text": [
            "🔁 Extracting: 100%|██████████| 1319/1319 [00:01<00:00, 794.48it/s]\n"
          ]
        },
        {
          "name": "stdout",
          "output_type": "stream",
          "text": [
            "\n",
            "🎲 Random Set 840/1000: [(3, 10), (5, 2), (0, 1), (11, 4), (5, 1), (5, 9), (3, 5), (9, 4), (9, 7), (3, 8)]\n"
          ]
        },
        {
          "name": "stderr",
          "output_type": "stream",
          "text": [
            "🔁 Extracting: 100%|██████████| 1319/1319 [00:01<00:00, 798.62it/s]\n"
          ]
        },
        {
          "name": "stdout",
          "output_type": "stream",
          "text": [
            "\n",
            "🎲 Random Set 841/1000: [(10, 0), (8, 7), (3, 7), (8, 11), (11, 5), (3, 10), (11, 3), (10, 11), (9, 10), (7, 3)]\n"
          ]
        },
        {
          "name": "stderr",
          "output_type": "stream",
          "text": [
            "🔁 Extracting: 100%|██████████| 1319/1319 [00:01<00:00, 782.52it/s]\n"
          ]
        },
        {
          "name": "stdout",
          "output_type": "stream",
          "text": [
            "\n",
            "🎲 Random Set 842/1000: [(11, 8), (8, 7), (7, 4), (7, 2), (6, 6), (6, 9), (1, 10), (1, 1), (4, 5), (1, 0)]\n"
          ]
        },
        {
          "name": "stderr",
          "output_type": "stream",
          "text": [
            "🔁 Extracting: 100%|██████████| 1319/1319 [00:01<00:00, 805.24it/s]\n"
          ]
        },
        {
          "name": "stdout",
          "output_type": "stream",
          "text": [
            "\n",
            "🎲 Random Set 843/1000: [(2, 6), (1, 4), (8, 1), (11, 2), (5, 11), (11, 7), (8, 9), (0, 4), (4, 10), (6, 6)]\n"
          ]
        },
        {
          "name": "stderr",
          "output_type": "stream",
          "text": [
            "🔁 Extracting: 100%|██████████| 1319/1319 [00:01<00:00, 801.53it/s]\n"
          ]
        },
        {
          "name": "stdout",
          "output_type": "stream",
          "text": [
            "\n",
            "🎲 Random Set 844/1000: [(1, 1), (10, 6), (5, 3), (8, 2), (5, 10), (10, 1), (8, 3), (11, 8), (6, 5), (5, 7)]\n"
          ]
        },
        {
          "name": "stderr",
          "output_type": "stream",
          "text": [
            "🔁 Extracting: 100%|██████████| 1319/1319 [00:01<00:00, 796.91it/s]\n"
          ]
        },
        {
          "name": "stdout",
          "output_type": "stream",
          "text": [
            "\n",
            "🎲 Random Set 845/1000: [(9, 0), (6, 7), (8, 10), (5, 6), (5, 3), (1, 9), (2, 5), (2, 6), (0, 9), (11, 0)]\n"
          ]
        },
        {
          "name": "stderr",
          "output_type": "stream",
          "text": [
            "🔁 Extracting: 100%|██████████| 1319/1319 [00:01<00:00, 804.95it/s]\n"
          ]
        },
        {
          "name": "stdout",
          "output_type": "stream",
          "text": [
            "\n",
            "🎲 Random Set 846/1000: [(2, 0), (4, 2), (0, 4), (9, 4), (9, 3), (9, 5), (7, 1), (7, 6), (8, 5), (0, 11)]\n"
          ]
        },
        {
          "name": "stderr",
          "output_type": "stream",
          "text": [
            "🔁 Extracting: 100%|██████████| 1319/1319 [00:01<00:00, 796.99it/s]\n"
          ]
        },
        {
          "name": "stdout",
          "output_type": "stream",
          "text": [
            "\n",
            "🎲 Random Set 847/1000: [(9, 6), (10, 6), (8, 5), (6, 5), (0, 4), (4, 7), (4, 2), (8, 11), (11, 0), (2, 2)]\n"
          ]
        },
        {
          "name": "stderr",
          "output_type": "stream",
          "text": [
            "🔁 Extracting: 100%|██████████| 1319/1319 [00:01<00:00, 790.01it/s]\n"
          ]
        },
        {
          "name": "stdout",
          "output_type": "stream",
          "text": [
            "\n",
            "🎲 Random Set 848/1000: [(11, 9), (7, 11), (11, 1), (3, 8), (8, 3), (4, 6), (7, 6), (5, 5), (0, 7), (7, 1)]\n"
          ]
        },
        {
          "name": "stderr",
          "output_type": "stream",
          "text": [
            "🔁 Extracting: 100%|██████████| 1319/1319 [00:01<00:00, 779.47it/s]\n"
          ]
        },
        {
          "name": "stdout",
          "output_type": "stream",
          "text": [
            "\n",
            "🎲 Random Set 849/1000: [(3, 10), (11, 0), (6, 2), (5, 3), (6, 1), (11, 1), (2, 11), (4, 0), (1, 2), (0, 0)]\n"
          ]
        },
        {
          "name": "stderr",
          "output_type": "stream",
          "text": [
            "🔁 Extracting: 100%|██████████| 1319/1319 [00:01<00:00, 798.42it/s]\n"
          ]
        },
        {
          "name": "stdout",
          "output_type": "stream",
          "text": [
            "\n",
            "🎲 Random Set 850/1000: [(4, 7), (2, 2), (0, 11), (10, 8), (11, 2), (7, 11), (5, 9), (0, 3), (3, 0), (7, 2)]\n"
          ]
        },
        {
          "name": "stderr",
          "output_type": "stream",
          "text": [
            "🔁 Extracting: 100%|██████████| 1319/1319 [00:01<00:00, 794.34it/s]\n"
          ]
        },
        {
          "name": "stdout",
          "output_type": "stream",
          "text": [
            "\n",
            "🎲 Random Set 851/1000: [(10, 11), (10, 2), (4, 7), (9, 10), (4, 8), (11, 3), (3, 11), (11, 8), (6, 7), (2, 7)]\n"
          ]
        },
        {
          "name": "stderr",
          "output_type": "stream",
          "text": [
            "🔁 Extracting: 100%|██████████| 1319/1319 [00:01<00:00, 801.85it/s]\n"
          ]
        },
        {
          "name": "stdout",
          "output_type": "stream",
          "text": [
            "\n",
            "🎲 Random Set 852/1000: [(1, 7), (10, 11), (7, 0), (9, 7), (10, 4), (7, 1), (8, 8), (8, 5), (4, 5), (11, 0)]\n"
          ]
        },
        {
          "name": "stderr",
          "output_type": "stream",
          "text": [
            "🔁 Extracting: 100%|██████████| 1319/1319 [00:01<00:00, 811.08it/s]\n"
          ]
        },
        {
          "name": "stdout",
          "output_type": "stream",
          "text": [
            "\n",
            "🎲 Random Set 853/1000: [(8, 1), (10, 3), (10, 9), (4, 6), (0, 1), (11, 0), (2, 3), (1, 1), (7, 5), (4, 3)]\n"
          ]
        },
        {
          "name": "stderr",
          "output_type": "stream",
          "text": [
            "🔁 Extracting: 100%|██████████| 1319/1319 [00:01<00:00, 805.37it/s]\n"
          ]
        },
        {
          "name": "stdout",
          "output_type": "stream",
          "text": [
            "\n",
            "🎲 Random Set 854/1000: [(6, 7), (2, 0), (7, 5), (1, 9), (5, 8), (3, 7), (10, 1), (5, 2), (1, 3), (9, 7)]\n"
          ]
        },
        {
          "name": "stderr",
          "output_type": "stream",
          "text": [
            "🔁 Extracting: 100%|██████████| 1319/1319 [00:01<00:00, 794.17it/s]\n"
          ]
        },
        {
          "name": "stdout",
          "output_type": "stream",
          "text": [
            "\n",
            "🎲 Random Set 855/1000: [(8, 10), (10, 5), (11, 0), (2, 6), (10, 8), (11, 6), (1, 1), (6, 0), (4, 8), (2, 3)]\n"
          ]
        },
        {
          "name": "stderr",
          "output_type": "stream",
          "text": [
            "🔁 Extracting: 100%|██████████| 1319/1319 [00:01<00:00, 808.60it/s]\n"
          ]
        },
        {
          "name": "stdout",
          "output_type": "stream",
          "text": [
            "\n",
            "🎲 Random Set 856/1000: [(1, 10), (3, 7), (9, 6), (2, 6), (0, 2), (0, 6), (11, 6), (5, 7), (9, 0), (8, 8)]\n"
          ]
        },
        {
          "name": "stderr",
          "output_type": "stream",
          "text": [
            "🔁 Extracting: 100%|██████████| 1319/1319 [00:01<00:00, 785.05it/s]\n"
          ]
        },
        {
          "name": "stdout",
          "output_type": "stream",
          "text": [
            "\n",
            "🎲 Random Set 857/1000: [(3, 0), (8, 9), (6, 10), (0, 11), (5, 5), (8, 11), (9, 9), (10, 4), (4, 3), (11, 7)]\n"
          ]
        },
        {
          "name": "stderr",
          "output_type": "stream",
          "text": [
            "🔁 Extracting: 100%|██████████| 1319/1319 [00:01<00:00, 808.20it/s]\n"
          ]
        },
        {
          "name": "stdout",
          "output_type": "stream",
          "text": [
            "\n",
            "🎲 Random Set 858/1000: [(3, 4), (7, 10), (11, 9), (2, 6), (1, 7), (4, 0), (5, 8), (1, 11), (4, 5), (8, 1)]\n"
          ]
        },
        {
          "name": "stderr",
          "output_type": "stream",
          "text": [
            "🔁 Extracting: 100%|██████████| 1319/1319 [00:01<00:00, 811.99it/s]\n"
          ]
        },
        {
          "name": "stdout",
          "output_type": "stream",
          "text": [
            "\n",
            "🎲 Random Set 859/1000: [(6, 9), (1, 5), (1, 11), (6, 8), (5, 9), (8, 9), (10, 6), (2, 10), (8, 6), (5, 11)]\n"
          ]
        },
        {
          "name": "stderr",
          "output_type": "stream",
          "text": [
            "🔁 Extracting: 100%|██████████| 1319/1319 [00:01<00:00, 810.95it/s]\n"
          ]
        },
        {
          "name": "stdout",
          "output_type": "stream",
          "text": [
            "\n",
            "🎲 Random Set 860/1000: [(3, 1), (10, 0), (11, 10), (2, 8), (3, 2), (9, 1), (9, 7), (7, 0), (7, 2), (11, 5)]\n"
          ]
        },
        {
          "name": "stderr",
          "output_type": "stream",
          "text": [
            "🔁 Extracting: 100%|██████████| 1319/1319 [00:01<00:00, 801.61it/s]\n"
          ]
        },
        {
          "name": "stdout",
          "output_type": "stream",
          "text": [
            "\n",
            "🎲 Random Set 861/1000: [(4, 2), (1, 9), (10, 10), (5, 11), (8, 11), (1, 1), (1, 2), (9, 2), (11, 7), (3, 0)]\n"
          ]
        },
        {
          "name": "stderr",
          "output_type": "stream",
          "text": [
            "🔁 Extracting: 100%|██████████| 1319/1319 [00:01<00:00, 783.69it/s]\n"
          ]
        },
        {
          "name": "stdout",
          "output_type": "stream",
          "text": [
            "\n",
            "🎲 Random Set 862/1000: [(4, 3), (2, 1), (6, 2), (6, 7), (10, 3), (11, 4), (0, 11), (4, 11), (0, 0), (10, 8)]\n"
          ]
        },
        {
          "name": "stderr",
          "output_type": "stream",
          "text": [
            "🔁 Extracting: 100%|██████████| 1319/1319 [00:01<00:00, 803.90it/s]\n"
          ]
        },
        {
          "name": "stdout",
          "output_type": "stream",
          "text": [
            "\n",
            "🎲 Random Set 863/1000: [(1, 3), (1, 4), (8, 5), (7, 11), (1, 5), (10, 6), (4, 9), (1, 8), (9, 4), (2, 9)]\n"
          ]
        },
        {
          "name": "stderr",
          "output_type": "stream",
          "text": [
            "🔁 Extracting: 100%|██████████| 1319/1319 [00:01<00:00, 799.41it/s]\n"
          ]
        },
        {
          "name": "stdout",
          "output_type": "stream",
          "text": [
            "\n",
            "🎲 Random Set 864/1000: [(7, 11), (9, 10), (4, 5), (11, 7), (3, 7), (10, 7), (9, 7), (0, 3), (7, 5), (7, 1)]\n"
          ]
        },
        {
          "name": "stderr",
          "output_type": "stream",
          "text": [
            "🔁 Extracting: 100%|██████████| 1319/1319 [00:01<00:00, 798.86it/s]\n"
          ]
        },
        {
          "name": "stdout",
          "output_type": "stream",
          "text": [
            "\n",
            "🎲 Random Set 865/1000: [(5, 6), (2, 11), (5, 10), (3, 0), (11, 4), (4, 0), (11, 2), (7, 5), (9, 3), (6, 3)]\n"
          ]
        },
        {
          "name": "stderr",
          "output_type": "stream",
          "text": [
            "🔁 Extracting: 100%|██████████| 1319/1319 [00:01<00:00, 808.63it/s]\n"
          ]
        },
        {
          "name": "stdout",
          "output_type": "stream",
          "text": [
            "\n",
            "🎲 Random Set 866/1000: [(7, 9), (2, 10), (8, 0), (1, 5), (5, 4), (4, 5), (8, 7), (9, 10), (11, 1), (9, 9)]\n"
          ]
        },
        {
          "name": "stderr",
          "output_type": "stream",
          "text": [
            "🔁 Extracting: 100%|██████████| 1319/1319 [00:01<00:00, 811.88it/s]\n"
          ]
        },
        {
          "name": "stdout",
          "output_type": "stream",
          "text": [
            "\n",
            "🎲 Random Set 867/1000: [(9, 6), (5, 5), (4, 5), (4, 9), (0, 2), (7, 8), (1, 5), (9, 9), (8, 2), (4, 11)]\n"
          ]
        },
        {
          "name": "stderr",
          "output_type": "stream",
          "text": [
            "🔁 Extracting: 100%|██████████| 1319/1319 [00:01<00:00, 805.49it/s]\n"
          ]
        },
        {
          "name": "stdout",
          "output_type": "stream",
          "text": [
            "\n",
            "🎲 Random Set 868/1000: [(4, 9), (7, 5), (1, 8), (10, 6), (5, 3), (9, 5), (9, 8), (1, 0), (11, 6), (8, 11)]\n"
          ]
        },
        {
          "name": "stderr",
          "output_type": "stream",
          "text": [
            "🔁 Extracting: 100%|██████████| 1319/1319 [00:01<00:00, 792.54it/s]\n"
          ]
        },
        {
          "name": "stdout",
          "output_type": "stream",
          "text": [
            "\n",
            "🎲 Random Set 869/1000: [(10, 3), (7, 0), (11, 6), (5, 2), (2, 10), (4, 2), (9, 7), (9, 4), (7, 7), (3, 4)]\n"
          ]
        },
        {
          "name": "stderr",
          "output_type": "stream",
          "text": [
            "🔁 Extracting: 100%|██████████| 1319/1319 [00:01<00:00, 805.00it/s]\n"
          ]
        },
        {
          "name": "stdout",
          "output_type": "stream",
          "text": [
            "\n",
            "🎲 Random Set 870/1000: [(9, 5), (3, 3), (0, 6), (4, 2), (11, 1), (8, 5), (8, 10), (4, 7), (2, 4), (0, 4)]\n"
          ]
        },
        {
          "name": "stderr",
          "output_type": "stream",
          "text": [
            "🔁 Extracting: 100%|██████████| 1319/1319 [00:01<00:00, 795.97it/s]\n"
          ]
        },
        {
          "name": "stdout",
          "output_type": "stream",
          "text": [
            "\n",
            "🎲 Random Set 871/1000: [(3, 11), (1, 3), (2, 2), (1, 8), (4, 5), (6, 7), (5, 9), (6, 8), (0, 4), (4, 3)]\n"
          ]
        },
        {
          "name": "stderr",
          "output_type": "stream",
          "text": [
            "🔁 Extracting: 100%|██████████| 1319/1319 [00:01<00:00, 802.44it/s]\n"
          ]
        },
        {
          "name": "stdout",
          "output_type": "stream",
          "text": [
            "\n",
            "🎲 Random Set 872/1000: [(8, 5), (0, 4), (0, 6), (2, 0), (1, 10), (7, 11), (3, 7), (6, 3), (5, 9), (2, 2)]\n"
          ]
        },
        {
          "name": "stderr",
          "output_type": "stream",
          "text": [
            "🔁 Extracting: 100%|██████████| 1319/1319 [00:01<00:00, 799.58it/s]\n"
          ]
        },
        {
          "name": "stdout",
          "output_type": "stream",
          "text": [
            "\n",
            "🎲 Random Set 873/1000: [(8, 6), (1, 4), (0, 11), (10, 5), (6, 10), (7, 10), (8, 9), (4, 4), (6, 9), (4, 7)]\n"
          ]
        },
        {
          "name": "stderr",
          "output_type": "stream",
          "text": [
            "🔁 Extracting: 100%|██████████| 1319/1319 [00:01<00:00, 802.56it/s]\n"
          ]
        },
        {
          "name": "stdout",
          "output_type": "stream",
          "text": [
            "\n",
            "🎲 Random Set 874/1000: [(3, 6), (2, 3), (11, 0), (4, 2), (5, 0), (8, 9), (7, 8), (3, 3), (7, 5), (6, 11)]\n"
          ]
        },
        {
          "name": "stderr",
          "output_type": "stream",
          "text": [
            "🔁 Extracting: 100%|██████████| 1319/1319 [00:01<00:00, 799.31it/s]\n"
          ]
        },
        {
          "name": "stdout",
          "output_type": "stream",
          "text": [
            "\n",
            "🎲 Random Set 875/1000: [(1, 4), (7, 8), (6, 1), (10, 2), (7, 10), (1, 0), (8, 2), (6, 8), (0, 1), (9, 5)]\n"
          ]
        },
        {
          "name": "stderr",
          "output_type": "stream",
          "text": [
            "🔁 Extracting: 100%|██████████| 1319/1319 [00:01<00:00, 776.23it/s]\n"
          ]
        },
        {
          "name": "stdout",
          "output_type": "stream",
          "text": [
            "\n",
            "🎲 Random Set 876/1000: [(6, 6), (2, 1), (10, 2), (10, 0), (7, 10), (3, 10), (11, 2), (6, 2), (8, 3), (10, 9)]\n"
          ]
        },
        {
          "name": "stderr",
          "output_type": "stream",
          "text": [
            "🔁 Extracting: 100%|██████████| 1319/1319 [00:01<00:00, 801.13it/s]\n"
          ]
        },
        {
          "name": "stdout",
          "output_type": "stream",
          "text": [
            "\n",
            "🎲 Random Set 877/1000: [(10, 10), (6, 5), (9, 0), (8, 2), (1, 6), (3, 2), (3, 10), (6, 10), (2, 4), (8, 3)]\n"
          ]
        },
        {
          "name": "stderr",
          "output_type": "stream",
          "text": [
            "🔁 Extracting: 100%|██████████| 1319/1319 [00:01<00:00, 814.45it/s]\n"
          ]
        },
        {
          "name": "stdout",
          "output_type": "stream",
          "text": [
            "\n",
            "🎲 Random Set 878/1000: [(11, 2), (8, 4), (11, 8), (5, 10), (8, 9), (8, 10), (0, 7), (1, 1), (9, 11), (1, 8)]\n"
          ]
        },
        {
          "name": "stderr",
          "output_type": "stream",
          "text": [
            "🔁 Extracting: 100%|██████████| 1319/1319 [00:01<00:00, 801.80it/s]\n"
          ]
        },
        {
          "name": "stdout",
          "output_type": "stream",
          "text": [
            "\n",
            "🎲 Random Set 879/1000: [(9, 8), (3, 11), (0, 2), (1, 5), (7, 4), (3, 5), (1, 1), (4, 9), (6, 0), (5, 6)]\n"
          ]
        },
        {
          "name": "stderr",
          "output_type": "stream",
          "text": [
            "🔁 Extracting: 100%|██████████| 1319/1319 [00:01<00:00, 805.21it/s]\n"
          ]
        },
        {
          "name": "stdout",
          "output_type": "stream",
          "text": [
            "\n",
            "🎲 Random Set 880/1000: [(1, 10), (0, 10), (4, 0), (5, 1), (8, 8), (10, 6), (9, 1), (6, 3), (9, 6), (3, 0)]\n"
          ]
        },
        {
          "name": "stderr",
          "output_type": "stream",
          "text": [
            "🔁 Extracting: 100%|██████████| 1319/1319 [00:01<00:00, 807.39it/s]\n"
          ]
        },
        {
          "name": "stdout",
          "output_type": "stream",
          "text": [
            "\n",
            "🎲 Random Set 881/1000: [(6, 0), (9, 9), (10, 2), (6, 6), (8, 10), (4, 4), (10, 5), (11, 11), (6, 11), (11, 8)]\n"
          ]
        },
        {
          "name": "stderr",
          "output_type": "stream",
          "text": [
            "🔁 Extracting: 100%|██████████| 1319/1319 [00:01<00:00, 791.13it/s]\n"
          ]
        },
        {
          "name": "stdout",
          "output_type": "stream",
          "text": [
            "\n",
            "🎲 Random Set 882/1000: [(1, 2), (10, 3), (8, 5), (8, 0), (0, 4), (8, 8), (5, 6), (8, 1), (2, 4), (0, 6)]\n"
          ]
        },
        {
          "name": "stderr",
          "output_type": "stream",
          "text": [
            "🔁 Extracting: 100%|██████████| 1319/1319 [00:01<00:00, 796.39it/s]\n"
          ]
        },
        {
          "name": "stdout",
          "output_type": "stream",
          "text": [
            "\n",
            "🎲 Random Set 883/1000: [(6, 7), (6, 1), (3, 4), (0, 3), (9, 11), (7, 3), (0, 9), (5, 11), (1, 2), (7, 5)]\n"
          ]
        },
        {
          "name": "stderr",
          "output_type": "stream",
          "text": [
            "🔁 Extracting: 100%|██████████| 1319/1319 [00:01<00:00, 793.37it/s]\n"
          ]
        },
        {
          "name": "stdout",
          "output_type": "stream",
          "text": [
            "\n",
            "🎲 Random Set 884/1000: [(11, 11), (10, 10), (6, 7), (8, 7), (10, 2), (8, 4), (7, 8), (5, 2), (9, 4), (8, 3)]\n"
          ]
        },
        {
          "name": "stderr",
          "output_type": "stream",
          "text": [
            "🔁 Extracting: 100%|██████████| 1319/1319 [00:01<00:00, 809.20it/s]\n"
          ]
        },
        {
          "name": "stdout",
          "output_type": "stream",
          "text": [
            "\n",
            "🎲 Random Set 885/1000: [(4, 8), (5, 0), (8, 7), (0, 9), (11, 4), (6, 2), (3, 10), (4, 10), (5, 6), (5, 7)]\n"
          ]
        },
        {
          "name": "stderr",
          "output_type": "stream",
          "text": [
            "🔁 Extracting: 100%|██████████| 1319/1319 [00:01<00:00, 809.15it/s]\n"
          ]
        },
        {
          "name": "stdout",
          "output_type": "stream",
          "text": [
            "\n",
            "🎲 Random Set 886/1000: [(5, 10), (8, 2), (8, 8), (0, 2), (11, 9), (11, 1), (9, 9), (9, 4), (11, 5), (3, 10)]\n"
          ]
        },
        {
          "name": "stderr",
          "output_type": "stream",
          "text": [
            "🔁 Extracting: 100%|██████████| 1319/1319 [00:01<00:00, 801.19it/s]\n"
          ]
        },
        {
          "name": "stdout",
          "output_type": "stream",
          "text": [
            "\n",
            "🎲 Random Set 887/1000: [(4, 5), (9, 6), (0, 4), (2, 3), (1, 3), (9, 11), (0, 3), (9, 9), (5, 3), (3, 6)]\n"
          ]
        },
        {
          "name": "stderr",
          "output_type": "stream",
          "text": [
            "🔁 Extracting: 100%|██████████| 1319/1319 [00:01<00:00, 811.89it/s]\n"
          ]
        },
        {
          "name": "stdout",
          "output_type": "stream",
          "text": [
            "\n",
            "🎲 Random Set 888/1000: [(1, 7), (1, 1), (1, 10), (4, 10), (8, 0), (7, 0), (5, 0), (11, 7), (1, 11), (8, 5)]\n"
          ]
        },
        {
          "name": "stderr",
          "output_type": "stream",
          "text": [
            "🔁 Extracting: 100%|██████████| 1319/1319 [00:01<00:00, 802.91it/s]\n"
          ]
        },
        {
          "name": "stdout",
          "output_type": "stream",
          "text": [
            "\n",
            "🎲 Random Set 889/1000: [(1, 8), (7, 4), (1, 0), (7, 2), (4, 10), (4, 4), (2, 3), (10, 7), (1, 3), (9, 8)]\n"
          ]
        },
        {
          "name": "stderr",
          "output_type": "stream",
          "text": [
            "🔁 Extracting: 100%|██████████| 1319/1319 [00:01<00:00, 793.49it/s]\n"
          ]
        },
        {
          "name": "stdout",
          "output_type": "stream",
          "text": [
            "\n",
            "🎲 Random Set 890/1000: [(9, 10), (6, 10), (6, 7), (4, 6), (8, 3), (6, 3), (7, 0), (7, 4), (1, 9), (4, 5)]\n"
          ]
        },
        {
          "name": "stderr",
          "output_type": "stream",
          "text": [
            "🔁 Extracting: 100%|██████████| 1319/1319 [00:01<00:00, 805.79it/s]\n"
          ]
        },
        {
          "name": "stdout",
          "output_type": "stream",
          "text": [
            "\n",
            "🎲 Random Set 891/1000: [(0, 10), (11, 6), (7, 4), (3, 1), (3, 5), (5, 5), (5, 7), (8, 11), (5, 2), (0, 2)]\n"
          ]
        },
        {
          "name": "stderr",
          "output_type": "stream",
          "text": [
            "🔁 Extracting: 100%|██████████| 1319/1319 [00:01<00:00, 807.18it/s]\n"
          ]
        },
        {
          "name": "stdout",
          "output_type": "stream",
          "text": [
            "\n",
            "🎲 Random Set 892/1000: [(9, 4), (6, 8), (2, 10), (5, 2), (1, 1), (10, 4), (7, 5), (5, 8), (11, 11), (7, 8)]\n"
          ]
        },
        {
          "name": "stderr",
          "output_type": "stream",
          "text": [
            "🔁 Extracting: 100%|██████████| 1319/1319 [00:01<00:00, 763.36it/s]\n"
          ]
        },
        {
          "name": "stdout",
          "output_type": "stream",
          "text": [
            "\n",
            "🎲 Random Set 893/1000: [(6, 0), (0, 8), (10, 2), (2, 9), (6, 6), (9, 7), (7, 4), (6, 1), (7, 7), (11, 11)]\n"
          ]
        },
        {
          "name": "stderr",
          "output_type": "stream",
          "text": [
            "🔁 Extracting: 100%|██████████| 1319/1319 [00:01<00:00, 807.09it/s]\n"
          ]
        },
        {
          "name": "stdout",
          "output_type": "stream",
          "text": [
            "\n",
            "🎲 Random Set 894/1000: [(6, 6), (10, 8), (8, 1), (7, 9), (3, 8), (10, 4), (0, 4), (10, 6), (6, 4), (6, 11)]\n"
          ]
        },
        {
          "name": "stderr",
          "output_type": "stream",
          "text": [
            "🔁 Extracting: 100%|██████████| 1319/1319 [00:01<00:00, 808.77it/s]\n"
          ]
        },
        {
          "name": "stdout",
          "output_type": "stream",
          "text": [
            "\n",
            "🎲 Random Set 895/1000: [(10, 11), (8, 3), (10, 1), (2, 11), (9, 10), (2, 7), (2, 4), (1, 4), (5, 9), (1, 7)]\n"
          ]
        },
        {
          "name": "stderr",
          "output_type": "stream",
          "text": [
            "🔁 Extracting: 100%|██████████| 1319/1319 [00:01<00:00, 804.46it/s]\n"
          ]
        },
        {
          "name": "stdout",
          "output_type": "stream",
          "text": [
            "\n",
            "🎲 Random Set 896/1000: [(6, 7), (8, 2), (2, 4), (10, 9), (4, 3), (2, 6), (7, 8), (7, 0), (3, 8), (11, 10)]\n"
          ]
        },
        {
          "name": "stderr",
          "output_type": "stream",
          "text": [
            "🔁 Extracting: 100%|██████████| 1319/1319 [00:01<00:00, 776.20it/s]\n"
          ]
        },
        {
          "name": "stdout",
          "output_type": "stream",
          "text": [
            "\n",
            "🎲 Random Set 897/1000: [(0, 8), (2, 3), (3, 3), (4, 4), (6, 9), (10, 1), (0, 2), (10, 3), (7, 6), (7, 7)]\n"
          ]
        },
        {
          "name": "stderr",
          "output_type": "stream",
          "text": [
            "🔁 Extracting: 100%|██████████| 1319/1319 [00:01<00:00, 809.46it/s]\n"
          ]
        },
        {
          "name": "stdout",
          "output_type": "stream",
          "text": [
            "\n",
            "🎲 Random Set 898/1000: [(8, 9), (3, 8), (3, 2), (2, 9), (2, 1), (6, 11), (5, 9), (3, 7), (3, 10), (3, 1)]\n"
          ]
        },
        {
          "name": "stderr",
          "output_type": "stream",
          "text": [
            "🔁 Extracting: 100%|██████████| 1319/1319 [00:01<00:00, 795.87it/s]\n"
          ]
        },
        {
          "name": "stdout",
          "output_type": "stream",
          "text": [
            "\n",
            "🎲 Random Set 899/1000: [(8, 10), (5, 10), (7, 8), (9, 7), (8, 8), (1, 9), (11, 0), (9, 9), (2, 4), (2, 7)]\n"
          ]
        },
        {
          "name": "stderr",
          "output_type": "stream",
          "text": [
            "🔁 Extracting: 100%|██████████| 1319/1319 [00:02<00:00, 620.01it/s]\n"
          ]
        },
        {
          "name": "stdout",
          "output_type": "stream",
          "text": [
            "\n",
            "🎲 Random Set 900/1000: [(11, 4), (9, 10), (6, 9), (0, 2), (9, 1), (0, 11), (10, 5), (4, 8), (5, 4), (5, 10)]\n"
          ]
        },
        {
          "name": "stderr",
          "output_type": "stream",
          "text": [
            "🔁 Extracting: 100%|██████████| 1319/1319 [00:01<00:00, 809.17it/s]\n"
          ]
        },
        {
          "name": "stdout",
          "output_type": "stream",
          "text": [
            "\n",
            "🎲 Random Set 901/1000: [(4, 10), (1, 8), (0, 6), (10, 8), (1, 4), (11, 3), (5, 11), (0, 4), (0, 2), (4, 7)]\n"
          ]
        },
        {
          "name": "stderr",
          "output_type": "stream",
          "text": [
            "🔁 Extracting: 100%|██████████| 1319/1319 [00:01<00:00, 804.88it/s]\n"
          ]
        },
        {
          "name": "stdout",
          "output_type": "stream",
          "text": [
            "\n",
            "🎲 Random Set 902/1000: [(1, 9), (6, 10), (8, 11), (10, 8), (6, 4), (2, 4), (1, 4), (3, 7), (6, 2), (7, 0)]\n"
          ]
        },
        {
          "name": "stderr",
          "output_type": "stream",
          "text": [
            "🔁 Extracting: 100%|██████████| 1319/1319 [00:01<00:00, 773.44it/s]\n"
          ]
        },
        {
          "name": "stdout",
          "output_type": "stream",
          "text": [
            "\n",
            "🎲 Random Set 903/1000: [(10, 6), (4, 1), (11, 9), (3, 5), (0, 10), (9, 0), (9, 2), (0, 5), (11, 10), (9, 10)]\n"
          ]
        },
        {
          "name": "stderr",
          "output_type": "stream",
          "text": [
            "🔁 Extracting: 100%|██████████| 1319/1319 [00:01<00:00, 807.14it/s]\n"
          ]
        },
        {
          "name": "stdout",
          "output_type": "stream",
          "text": [
            "\n",
            "🎲 Random Set 904/1000: [(4, 8), (2, 11), (5, 1), (0, 3), (10, 8), (11, 5), (7, 9), (10, 4), (3, 3), (0, 9)]\n"
          ]
        },
        {
          "name": "stderr",
          "output_type": "stream",
          "text": [
            "🔁 Extracting: 100%|██████████| 1319/1319 [00:01<00:00, 803.44it/s]\n"
          ]
        },
        {
          "name": "stdout",
          "output_type": "stream",
          "text": [
            "\n",
            "🎲 Random Set 905/1000: [(7, 10), (6, 3), (10, 1), (3, 10), (8, 3), (2, 6), (7, 9), (6, 7), (6, 8), (0, 5)]\n"
          ]
        },
        {
          "name": "stderr",
          "output_type": "stream",
          "text": [
            "🔁 Extracting: 100%|██████████| 1319/1319 [00:01<00:00, 796.57it/s]\n"
          ]
        },
        {
          "name": "stdout",
          "output_type": "stream",
          "text": [
            "\n",
            "🎲 Random Set 906/1000: [(1, 1), (8, 9), (9, 9), (9, 4), (11, 9), (11, 0), (9, 10), (1, 2), (6, 4), (11, 4)]\n"
          ]
        },
        {
          "name": "stderr",
          "output_type": "stream",
          "text": [
            "🔁 Extracting: 100%|██████████| 1319/1319 [00:01<00:00, 816.65it/s]\n"
          ]
        },
        {
          "name": "stdout",
          "output_type": "stream",
          "text": [
            "\n",
            "🎲 Random Set 907/1000: [(1, 11), (7, 1), (0, 9), (0, 3), (5, 11), (2, 8), (8, 7), (1, 6), (4, 7), (1, 0)]\n"
          ]
        },
        {
          "name": "stderr",
          "output_type": "stream",
          "text": [
            "🔁 Extracting: 100%|██████████| 1319/1319 [00:01<00:00, 809.64it/s]\n"
          ]
        },
        {
          "name": "stdout",
          "output_type": "stream",
          "text": [
            "\n",
            "🎲 Random Set 908/1000: [(0, 10), (1, 4), (9, 10), (8, 8), (11, 9), (4, 3), (9, 9), (7, 6), (1, 9), (5, 9)]\n"
          ]
        },
        {
          "name": "stderr",
          "output_type": "stream",
          "text": [
            "🔁 Extracting: 100%|██████████| 1319/1319 [00:01<00:00, 808.77it/s]\n"
          ]
        },
        {
          "name": "stdout",
          "output_type": "stream",
          "text": [
            "\n",
            "🎲 Random Set 909/1000: [(5, 11), (4, 6), (10, 3), (6, 0), (9, 0), (3, 8), (11, 8), (8, 11), (1, 0), (7, 4)]\n"
          ]
        },
        {
          "name": "stderr",
          "output_type": "stream",
          "text": [
            "🔁 Extracting: 100%|██████████| 1319/1319 [00:01<00:00, 786.92it/s]\n"
          ]
        },
        {
          "name": "stdout",
          "output_type": "stream",
          "text": [
            "\n",
            "🎲 Random Set 910/1000: [(2, 1), (7, 4), (5, 1), (2, 10), (3, 3), (8, 7), (0, 10), (8, 8), (2, 11), (2, 7)]\n"
          ]
        },
        {
          "name": "stderr",
          "output_type": "stream",
          "text": [
            "🔁 Extracting: 100%|██████████| 1319/1319 [00:01<00:00, 795.33it/s]\n"
          ]
        },
        {
          "name": "stdout",
          "output_type": "stream",
          "text": [
            "\n",
            "🎲 Random Set 911/1000: [(7, 4), (9, 5), (6, 5), (10, 0), (11, 4), (10, 11), (0, 3), (10, 1), (1, 7), (8, 6)]\n"
          ]
        },
        {
          "name": "stderr",
          "output_type": "stream",
          "text": [
            "🔁 Extracting: 100%|██████████| 1319/1319 [00:01<00:00, 807.31it/s]\n"
          ]
        },
        {
          "name": "stdout",
          "output_type": "stream",
          "text": [
            "\n",
            "🎲 Random Set 912/1000: [(1, 7), (7, 11), (8, 2), (10, 7), (11, 11), (10, 4), (4, 6), (9, 7), (0, 3), (10, 6)]\n"
          ]
        },
        {
          "name": "stderr",
          "output_type": "stream",
          "text": [
            "🔁 Extracting: 100%|██████████| 1319/1319 [00:01<00:00, 811.70it/s]\n"
          ]
        },
        {
          "name": "stdout",
          "output_type": "stream",
          "text": [
            "\n",
            "🎲 Random Set 913/1000: [(9, 7), (6, 2), (2, 0), (1, 10), (3, 11), (1, 6), (5, 6), (5, 1), (1, 7), (4, 5)]\n"
          ]
        },
        {
          "name": "stderr",
          "output_type": "stream",
          "text": [
            "🔁 Extracting: 100%|██████████| 1319/1319 [00:01<00:00, 809.98it/s]\n"
          ]
        },
        {
          "name": "stdout",
          "output_type": "stream",
          "text": [
            "\n",
            "🎲 Random Set 914/1000: [(9, 0), (5, 7), (0, 11), (7, 3), (2, 4), (7, 2), (1, 5), (11, 1), (9, 1), (1, 8)]\n"
          ]
        },
        {
          "name": "stderr",
          "output_type": "stream",
          "text": [
            "🔁 Extracting: 100%|██████████| 1319/1319 [00:01<00:00, 817.81it/s]\n"
          ]
        },
        {
          "name": "stdout",
          "output_type": "stream",
          "text": [
            "\n",
            "🎲 Random Set 915/1000: [(7, 0), (6, 3), (5, 3), (3, 2), (5, 5), (7, 11), (3, 0), (7, 6), (1, 0), (0, 7)]\n"
          ]
        },
        {
          "name": "stderr",
          "output_type": "stream",
          "text": [
            "🔁 Extracting: 100%|██████████| 1319/1319 [00:01<00:00, 807.56it/s]\n"
          ]
        },
        {
          "name": "stdout",
          "output_type": "stream",
          "text": [
            "\n",
            "🎲 Random Set 916/1000: [(0, 9), (6, 11), (5, 7), (6, 6), (7, 7), (10, 1), (0, 4), (7, 11), (5, 1), (2, 3)]\n"
          ]
        },
        {
          "name": "stderr",
          "output_type": "stream",
          "text": [
            "🔁 Extracting: 100%|██████████| 1319/1319 [00:01<00:00, 785.57it/s]\n"
          ]
        },
        {
          "name": "stdout",
          "output_type": "stream",
          "text": [
            "\n",
            "🎲 Random Set 917/1000: [(0, 4), (3, 11), (1, 10), (5, 3), (2, 11), (8, 8), (1, 7), (7, 11), (3, 2), (10, 1)]\n"
          ]
        },
        {
          "name": "stderr",
          "output_type": "stream",
          "text": [
            "🔁 Extracting: 100%|██████████| 1319/1319 [00:01<00:00, 791.39it/s]\n"
          ]
        },
        {
          "name": "stdout",
          "output_type": "stream",
          "text": [
            "\n",
            "🎲 Random Set 918/1000: [(0, 4), (10, 6), (0, 0), (0, 9), (9, 8), (10, 2), (5, 11), (2, 1), (1, 5), (7, 6)]\n"
          ]
        },
        {
          "name": "stderr",
          "output_type": "stream",
          "text": [
            "🔁 Extracting: 100%|██████████| 1319/1319 [00:01<00:00, 802.05it/s]\n"
          ]
        },
        {
          "name": "stdout",
          "output_type": "stream",
          "text": [
            "\n",
            "🎲 Random Set 919/1000: [(7, 6), (6, 10), (5, 6), (2, 6), (4, 5), (1, 8), (5, 3), (8, 5), (8, 1), (4, 3)]\n"
          ]
        },
        {
          "name": "stderr",
          "output_type": "stream",
          "text": [
            "🔁 Extracting: 100%|██████████| 1319/1319 [00:01<00:00, 806.74it/s]\n"
          ]
        },
        {
          "name": "stdout",
          "output_type": "stream",
          "text": [
            "\n",
            "🎲 Random Set 920/1000: [(1, 7), (3, 4), (1, 10), (8, 11), (11, 6), (1, 2), (9, 4), (7, 6), (7, 2), (7, 4)]\n"
          ]
        },
        {
          "name": "stderr",
          "output_type": "stream",
          "text": [
            "🔁 Extracting: 100%|██████████| 1319/1319 [00:01<00:00, 805.62it/s]\n"
          ]
        },
        {
          "name": "stdout",
          "output_type": "stream",
          "text": [
            "\n",
            "🎲 Random Set 921/1000: [(10, 4), (4, 4), (6, 11), (9, 5), (5, 4), (4, 6), (11, 4), (7, 4), (7, 0), (11, 11)]\n"
          ]
        },
        {
          "name": "stderr",
          "output_type": "stream",
          "text": [
            "🔁 Extracting: 100%|██████████| 1319/1319 [00:01<00:00, 802.73it/s]\n"
          ]
        },
        {
          "name": "stdout",
          "output_type": "stream",
          "text": [
            "\n",
            "🎲 Random Set 922/1000: [(0, 1), (6, 10), (7, 6), (8, 8), (2, 1), (6, 0), (9, 7), (6, 9), (11, 11), (10, 6)]\n"
          ]
        },
        {
          "name": "stderr",
          "output_type": "stream",
          "text": [
            "🔁 Extracting: 100%|██████████| 1319/1319 [00:01<00:00, 795.52it/s]\n"
          ]
        },
        {
          "name": "stdout",
          "output_type": "stream",
          "text": [
            "\n",
            "🎲 Random Set 923/1000: [(5, 2), (6, 9), (0, 9), (9, 10), (11, 2), (8, 7), (3, 6), (4, 1), (10, 0), (10, 8)]\n"
          ]
        },
        {
          "name": "stderr",
          "output_type": "stream",
          "text": [
            "🔁 Extracting: 100%|██████████| 1319/1319 [00:01<00:00, 780.66it/s]\n"
          ]
        },
        {
          "name": "stdout",
          "output_type": "stream",
          "text": [
            "\n",
            "🎲 Random Set 924/1000: [(4, 1), (7, 10), (8, 9), (1, 8), (2, 6), (1, 6), (1, 10), (7, 5), (10, 0), (9, 2)]\n"
          ]
        },
        {
          "name": "stderr",
          "output_type": "stream",
          "text": [
            "🔁 Extracting: 100%|██████████| 1319/1319 [00:01<00:00, 799.62it/s]\n"
          ]
        },
        {
          "name": "stdout",
          "output_type": "stream",
          "text": [
            "\n",
            "🎲 Random Set 925/1000: [(4, 3), (9, 5), (3, 7), (2, 10), (10, 4), (0, 1), (4, 1), (1, 11), (11, 5), (0, 11)]\n"
          ]
        },
        {
          "name": "stderr",
          "output_type": "stream",
          "text": [
            "🔁 Extracting: 100%|██████████| 1319/1319 [00:01<00:00, 798.42it/s]\n"
          ]
        },
        {
          "name": "stdout",
          "output_type": "stream",
          "text": [
            "\n",
            "🎲 Random Set 926/1000: [(9, 10), (10, 11), (6, 10), (10, 3), (4, 2), (7, 10), (3, 2), (3, 3), (4, 5), (9, 1)]\n"
          ]
        },
        {
          "name": "stderr",
          "output_type": "stream",
          "text": [
            "🔁 Extracting: 100%|██████████| 1319/1319 [00:01<00:00, 805.78it/s]\n"
          ]
        },
        {
          "name": "stdout",
          "output_type": "stream",
          "text": [
            "\n",
            "🎲 Random Set 927/1000: [(4, 9), (6, 5), (4, 11), (8, 0), (8, 2), (1, 11), (11, 5), (7, 6), (2, 2), (3, 1)]\n"
          ]
        },
        {
          "name": "stderr",
          "output_type": "stream",
          "text": [
            "🔁 Extracting: 100%|██████████| 1319/1319 [00:01<00:00, 804.56it/s]\n"
          ]
        },
        {
          "name": "stdout",
          "output_type": "stream",
          "text": [
            "\n",
            "🎲 Random Set 928/1000: [(2, 4), (6, 6), (4, 5), (9, 5), (5, 1), (1, 10), (10, 9), (4, 11), (11, 0), (4, 1)]\n"
          ]
        },
        {
          "name": "stderr",
          "output_type": "stream",
          "text": [
            "🔁 Extracting: 100%|██████████| 1319/1319 [00:01<00:00, 810.39it/s]\n"
          ]
        },
        {
          "name": "stdout",
          "output_type": "stream",
          "text": [
            "\n",
            "🎲 Random Set 929/1000: [(7, 11), (10, 6), (7, 7), (1, 3), (3, 9), (11, 3), (0, 6), (8, 5), (3, 2), (7, 5)]\n"
          ]
        },
        {
          "name": "stderr",
          "output_type": "stream",
          "text": [
            "🔁 Extracting: 100%|██████████| 1319/1319 [00:01<00:00, 798.40it/s]\n"
          ]
        },
        {
          "name": "stdout",
          "output_type": "stream",
          "text": [
            "\n",
            "🎲 Random Set 930/1000: [(7, 7), (1, 2), (11, 4), (0, 3), (4, 5), (0, 1), (9, 1), (2, 1), (4, 8), (6, 0)]\n"
          ]
        },
        {
          "name": "stderr",
          "output_type": "stream",
          "text": [
            "🔁 Extracting: 100%|██████████| 1319/1319 [00:01<00:00, 793.01it/s]\n"
          ]
        },
        {
          "name": "stdout",
          "output_type": "stream",
          "text": [
            "\n",
            "🎲 Random Set 931/1000: [(0, 11), (3, 1), (7, 3), (4, 8), (2, 1), (8, 5), (7, 9), (2, 11), (2, 5), (5, 3)]\n"
          ]
        },
        {
          "name": "stderr",
          "output_type": "stream",
          "text": [
            "🔁 Extracting: 100%|██████████| 1319/1319 [00:01<00:00, 796.61it/s]\n"
          ]
        },
        {
          "name": "stdout",
          "output_type": "stream",
          "text": [
            "\n",
            "🎲 Random Set 932/1000: [(0, 3), (8, 2), (6, 8), (3, 7), (1, 7), (11, 11), (0, 11), (11, 2), (4, 0), (11, 3)]\n"
          ]
        },
        {
          "name": "stderr",
          "output_type": "stream",
          "text": [
            "🔁 Extracting: 100%|██████████| 1319/1319 [00:01<00:00, 795.18it/s]\n"
          ]
        },
        {
          "name": "stdout",
          "output_type": "stream",
          "text": [
            "\n",
            "🎲 Random Set 933/1000: [(1, 11), (11, 9), (0, 8), (2, 7), (1, 3), (3, 0), (8, 1), (8, 10), (11, 11), (10, 0)]\n"
          ]
        },
        {
          "name": "stderr",
          "output_type": "stream",
          "text": [
            "🔁 Extracting: 100%|██████████| 1319/1319 [00:01<00:00, 810.83it/s]\n"
          ]
        },
        {
          "name": "stdout",
          "output_type": "stream",
          "text": [
            "\n",
            "🎲 Random Set 934/1000: [(7, 3), (6, 5), (0, 8), (10, 0), (6, 3), (1, 3), (10, 2), (0, 1), (2, 2), (10, 3)]\n"
          ]
        },
        {
          "name": "stderr",
          "output_type": "stream",
          "text": [
            "🔁 Extracting: 100%|██████████| 1319/1319 [00:01<00:00, 809.89it/s]\n"
          ]
        },
        {
          "name": "stdout",
          "output_type": "stream",
          "text": [
            "\n",
            "🎲 Random Set 935/1000: [(9, 0), (7, 4), (0, 7), (2, 2), (2, 4), (9, 7), (0, 6), (1, 4), (7, 10), (0, 9)]\n"
          ]
        },
        {
          "name": "stderr",
          "output_type": "stream",
          "text": [
            "🔁 Extracting: 100%|██████████| 1319/1319 [00:01<00:00, 799.50it/s]\n"
          ]
        },
        {
          "name": "stdout",
          "output_type": "stream",
          "text": [
            "\n",
            "🎲 Random Set 936/1000: [(5, 10), (3, 10), (7, 2), (10, 9), (4, 3), (11, 1), (0, 5), (7, 3), (7, 9), (2, 9)]\n"
          ]
        },
        {
          "name": "stderr",
          "output_type": "stream",
          "text": [
            "🔁 Extracting: 100%|██████████| 1319/1319 [00:01<00:00, 780.91it/s]\n"
          ]
        },
        {
          "name": "stdout",
          "output_type": "stream",
          "text": [
            "\n",
            "🎲 Random Set 937/1000: [(5, 3), (5, 7), (3, 2), (11, 0), (11, 2), (4, 4), (7, 5), (9, 8), (1, 11), (11, 8)]\n"
          ]
        },
        {
          "name": "stderr",
          "output_type": "stream",
          "text": [
            "🔁 Extracting: 100%|██████████| 1319/1319 [00:01<00:00, 796.90it/s]\n"
          ]
        },
        {
          "name": "stdout",
          "output_type": "stream",
          "text": [
            "\n",
            "🎲 Random Set 938/1000: [(1, 8), (1, 6), (9, 5), (4, 6), (11, 4), (11, 2), (7, 4), (0, 1), (1, 3), (1, 2)]\n"
          ]
        },
        {
          "name": "stderr",
          "output_type": "stream",
          "text": [
            "🔁 Extracting: 100%|██████████| 1319/1319 [00:01<00:00, 803.12it/s]\n"
          ]
        },
        {
          "name": "stdout",
          "output_type": "stream",
          "text": [
            "\n",
            "🎲 Random Set 939/1000: [(8, 2), (8, 1), (4, 9), (4, 5), (4, 1), (3, 5), (10, 3), (0, 8), (0, 2), (9, 4)]\n"
          ]
        },
        {
          "name": "stderr",
          "output_type": "stream",
          "text": [
            "🔁 Extracting: 100%|██████████| 1319/1319 [00:01<00:00, 789.04it/s]\n"
          ]
        },
        {
          "name": "stdout",
          "output_type": "stream",
          "text": [
            "\n",
            "🎲 Random Set 940/1000: [(11, 1), (11, 5), (4, 6), (4, 7), (3, 11), (8, 1), (3, 10), (10, 2), (2, 3), (11, 2)]\n"
          ]
        },
        {
          "name": "stderr",
          "output_type": "stream",
          "text": [
            "🔁 Extracting: 100%|██████████| 1319/1319 [00:01<00:00, 799.31it/s]\n"
          ]
        },
        {
          "name": "stdout",
          "output_type": "stream",
          "text": [
            "\n",
            "🎲 Random Set 941/1000: [(1, 7), (6, 6), (5, 9), (2, 7), (11, 5), (10, 10), (5, 0), (1, 4), (9, 8), (9, 0)]\n"
          ]
        },
        {
          "name": "stderr",
          "output_type": "stream",
          "text": [
            "🔁 Extracting: 100%|██████████| 1319/1319 [00:01<00:00, 809.84it/s]\n"
          ]
        },
        {
          "name": "stdout",
          "output_type": "stream",
          "text": [
            "\n",
            "🎲 Random Set 942/1000: [(1, 1), (7, 3), (3, 9), (0, 2), (6, 11), (0, 8), (5, 5), (6, 9), (9, 9), (4, 3)]\n"
          ]
        },
        {
          "name": "stderr",
          "output_type": "stream",
          "text": [
            "🔁 Extracting: 100%|██████████| 1319/1319 [00:01<00:00, 799.28it/s]\n"
          ]
        },
        {
          "name": "stdout",
          "output_type": "stream",
          "text": [
            "\n",
            "🎲 Random Set 943/1000: [(1, 10), (9, 11), (6, 5), (3, 3), (10, 1), (0, 9), (9, 2), (2, 11), (3, 9), (4, 1)]\n"
          ]
        },
        {
          "name": "stderr",
          "output_type": "stream",
          "text": [
            "🔁 Extracting: 100%|██████████| 1319/1319 [00:01<00:00, 773.00it/s]\n"
          ]
        },
        {
          "name": "stdout",
          "output_type": "stream",
          "text": [
            "\n",
            "🎲 Random Set 944/1000: [(4, 11), (5, 10), (11, 4), (5, 2), (6, 3), (9, 8), (2, 0), (3, 7), (6, 9), (1, 1)]\n"
          ]
        },
        {
          "name": "stderr",
          "output_type": "stream",
          "text": [
            "🔁 Extracting: 100%|██████████| 1319/1319 [00:01<00:00, 791.59it/s]\n"
          ]
        },
        {
          "name": "stdout",
          "output_type": "stream",
          "text": [
            "\n",
            "🎲 Random Set 945/1000: [(3, 8), (11, 11), (0, 11), (5, 1), (8, 9), (3, 9), (11, 5), (2, 3), (3, 1), (9, 0)]\n"
          ]
        },
        {
          "name": "stderr",
          "output_type": "stream",
          "text": [
            "🔁 Extracting: 100%|██████████| 1319/1319 [00:01<00:00, 793.09it/s]\n"
          ]
        },
        {
          "name": "stdout",
          "output_type": "stream",
          "text": [
            "\n",
            "🎲 Random Set 946/1000: [(11, 0), (1, 4), (8, 6), (11, 2), (6, 6), (3, 5), (7, 3), (10, 0), (6, 1), (1, 8)]\n"
          ]
        },
        {
          "name": "stderr",
          "output_type": "stream",
          "text": [
            "🔁 Extracting: 100%|██████████| 1319/1319 [00:01<00:00, 797.50it/s]\n"
          ]
        },
        {
          "name": "stdout",
          "output_type": "stream",
          "text": [
            "\n",
            "🎲 Random Set 947/1000: [(1, 4), (9, 5), (6, 7), (2, 9), (0, 7), (6, 0), (9, 11), (7, 10), (1, 10), (0, 3)]\n"
          ]
        },
        {
          "name": "stderr",
          "output_type": "stream",
          "text": [
            "🔁 Extracting: 100%|██████████| 1319/1319 [00:01<00:00, 810.46it/s]\n"
          ]
        },
        {
          "name": "stdout",
          "output_type": "stream",
          "text": [
            "\n",
            "🎲 Random Set 948/1000: [(9, 9), (1, 11), (1, 7), (9, 3), (0, 0), (2, 7), (3, 6), (4, 8), (2, 11), (3, 10)]\n"
          ]
        },
        {
          "name": "stderr",
          "output_type": "stream",
          "text": [
            "🔁 Extracting: 100%|██████████| 1319/1319 [00:01<00:00, 804.43it/s]\n"
          ]
        },
        {
          "name": "stdout",
          "output_type": "stream",
          "text": [
            "\n",
            "🎲 Random Set 949/1000: [(2, 9), (1, 1), (9, 3), (4, 8), (4, 3), (6, 8), (11, 9), (8, 7), (7, 3), (11, 11)]\n"
          ]
        },
        {
          "name": "stderr",
          "output_type": "stream",
          "text": [
            "🔁 Extracting: 100%|██████████| 1319/1319 [00:01<00:00, 795.76it/s]\n"
          ]
        },
        {
          "name": "stdout",
          "output_type": "stream",
          "text": [
            "\n",
            "🎲 Random Set 950/1000: [(10, 11), (10, 8), (5, 8), (4, 10), (9, 5), (10, 2), (5, 9), (6, 8), (1, 3), (9, 11)]\n"
          ]
        },
        {
          "name": "stderr",
          "output_type": "stream",
          "text": [
            "🔁 Extracting: 100%|██████████| 1319/1319 [00:01<00:00, 792.47it/s]\n"
          ]
        },
        {
          "name": "stdout",
          "output_type": "stream",
          "text": [
            "\n",
            "🎲 Random Set 951/1000: [(9, 6), (5, 7), (3, 6), (10, 0), (4, 8), (8, 10), (9, 7), (4, 5), (7, 6), (2, 10)]\n"
          ]
        },
        {
          "name": "stderr",
          "output_type": "stream",
          "text": [
            "🔁 Extracting: 100%|██████████| 1319/1319 [00:01<00:00, 805.81it/s]\n"
          ]
        },
        {
          "name": "stdout",
          "output_type": "stream",
          "text": [
            "\n",
            "🎲 Random Set 952/1000: [(2, 1), (1, 10), (5, 11), (0, 6), (3, 5), (9, 1), (6, 10), (4, 7), (4, 1), (1, 3)]\n"
          ]
        },
        {
          "name": "stderr",
          "output_type": "stream",
          "text": [
            "🔁 Extracting: 100%|██████████| 1319/1319 [00:01<00:00, 788.90it/s]\n"
          ]
        },
        {
          "name": "stdout",
          "output_type": "stream",
          "text": [
            "\n",
            "🎲 Random Set 953/1000: [(0, 5), (5, 1), (3, 0), (3, 5), (4, 0), (3, 6), (10, 9), (7, 1), (8, 5), (2, 5)]\n"
          ]
        },
        {
          "name": "stderr",
          "output_type": "stream",
          "text": [
            "🔁 Extracting: 100%|██████████| 1319/1319 [00:01<00:00, 802.79it/s]\n"
          ]
        },
        {
          "name": "stdout",
          "output_type": "stream",
          "text": [
            "\n",
            "🎲 Random Set 954/1000: [(10, 6), (0, 10), (11, 8), (9, 11), (5, 5), (3, 3), (11, 0), (1, 5), (1, 1), (5, 7)]\n"
          ]
        },
        {
          "name": "stderr",
          "output_type": "stream",
          "text": [
            "🔁 Extracting: 100%|██████████| 1319/1319 [00:01<00:00, 808.73it/s]\n"
          ]
        },
        {
          "name": "stdout",
          "output_type": "stream",
          "text": [
            "\n",
            "🎲 Random Set 955/1000: [(8, 7), (5, 1), (11, 0), (6, 8), (1, 1), (7, 6), (4, 5), (0, 7), (0, 5), (5, 6)]\n"
          ]
        },
        {
          "name": "stderr",
          "output_type": "stream",
          "text": [
            "🔁 Extracting: 100%|██████████| 1319/1319 [00:01<00:00, 811.23it/s]\n"
          ]
        },
        {
          "name": "stdout",
          "output_type": "stream",
          "text": [
            "\n",
            "🎲 Random Set 956/1000: [(9, 2), (2, 3), (0, 5), (3, 7), (9, 11), (4, 2), (4, 6), (7, 1), (2, 4), (1, 8)]\n"
          ]
        },
        {
          "name": "stderr",
          "output_type": "stream",
          "text": [
            "🔁 Extracting: 100%|██████████| 1319/1319 [00:01<00:00, 794.38it/s]\n"
          ]
        },
        {
          "name": "stdout",
          "output_type": "stream",
          "text": [
            "\n",
            "🎲 Random Set 957/1000: [(11, 8), (3, 3), (4, 11), (9, 0), (6, 2), (0, 0), (10, 3), (3, 0), (11, 4), (1, 0)]\n"
          ]
        },
        {
          "name": "stderr",
          "output_type": "stream",
          "text": [
            "🔁 Extracting: 100%|██████████| 1319/1319 [00:01<00:00, 780.03it/s]\n"
          ]
        },
        {
          "name": "stdout",
          "output_type": "stream",
          "text": [
            "\n",
            "🎲 Random Set 958/1000: [(3, 5), (10, 10), (1, 4), (2, 5), (2, 6), (10, 3), (2, 3), (1, 5), (7, 11), (9, 10)]\n"
          ]
        },
        {
          "name": "stderr",
          "output_type": "stream",
          "text": [
            "🔁 Extracting: 100%|██████████| 1319/1319 [00:01<00:00, 813.89it/s]\n"
          ]
        },
        {
          "name": "stdout",
          "output_type": "stream",
          "text": [
            "\n",
            "🎲 Random Set 959/1000: [(2, 9), (3, 0), (5, 11), (10, 6), (11, 6), (0, 8), (4, 3), (7, 9), (3, 6), (10, 9)]\n"
          ]
        },
        {
          "name": "stderr",
          "output_type": "stream",
          "text": [
            "🔁 Extracting: 100%|██████████| 1319/1319 [00:01<00:00, 808.12it/s]\n"
          ]
        },
        {
          "name": "stdout",
          "output_type": "stream",
          "text": [
            "\n",
            "🎲 Random Set 960/1000: [(4, 11), (0, 8), (3, 3), (9, 10), (5, 8), (1, 3), (11, 6), (3, 5), (3, 8), (3, 7)]\n"
          ]
        },
        {
          "name": "stderr",
          "output_type": "stream",
          "text": [
            "🔁 Extracting: 100%|██████████| 1319/1319 [00:01<00:00, 804.62it/s]\n"
          ]
        },
        {
          "name": "stdout",
          "output_type": "stream",
          "text": [
            "\n",
            "🎲 Random Set 961/1000: [(0, 1), (4, 10), (11, 11), (11, 5), (2, 11), (6, 1), (0, 3), (0, 5), (3, 4), (10, 0)]\n"
          ]
        },
        {
          "name": "stderr",
          "output_type": "stream",
          "text": [
            "🔁 Extracting: 100%|██████████| 1319/1319 [00:01<00:00, 809.63it/s]\n"
          ]
        },
        {
          "name": "stdout",
          "output_type": "stream",
          "text": [
            "\n",
            "🎲 Random Set 962/1000: [(11, 3), (0, 3), (2, 0), (2, 9), (10, 4), (4, 11), (4, 7), (8, 7), (1, 3), (11, 2)]\n"
          ]
        },
        {
          "name": "stderr",
          "output_type": "stream",
          "text": [
            "🔁 Extracting: 100%|██████████| 1319/1319 [00:01<00:00, 795.82it/s]\n"
          ]
        },
        {
          "name": "stdout",
          "output_type": "stream",
          "text": [
            "\n",
            "🎲 Random Set 963/1000: [(7, 1), (2, 1), (2, 9), (8, 5), (7, 8), (9, 5), (2, 0), (6, 1), (0, 1), (3, 4)]\n"
          ]
        },
        {
          "name": "stderr",
          "output_type": "stream",
          "text": [
            "🔁 Extracting: 100%|██████████| 1319/1319 [00:01<00:00, 781.48it/s]\n"
          ]
        },
        {
          "name": "stdout",
          "output_type": "stream",
          "text": [
            "\n",
            "🎲 Random Set 964/1000: [(9, 8), (7, 5), (0, 11), (0, 0), (7, 8), (6, 1), (11, 4), (1, 5), (5, 11), (5, 9)]\n"
          ]
        },
        {
          "name": "stderr",
          "output_type": "stream",
          "text": [
            "🔁 Extracting: 100%|██████████| 1319/1319 [00:01<00:00, 783.83it/s]\n"
          ]
        },
        {
          "name": "stdout",
          "output_type": "stream",
          "text": [
            "\n",
            "🎲 Random Set 965/1000: [(9, 7), (10, 5), (4, 7), (1, 1), (1, 7), (10, 4), (1, 3), (1, 2), (2, 6), (4, 2)]\n"
          ]
        },
        {
          "name": "stderr",
          "output_type": "stream",
          "text": [
            "🔁 Extracting: 100%|██████████| 1319/1319 [00:01<00:00, 804.69it/s]\n"
          ]
        },
        {
          "name": "stdout",
          "output_type": "stream",
          "text": [
            "\n",
            "🎲 Random Set 966/1000: [(7, 4), (3, 1), (8, 1), (4, 4), (10, 5), (6, 6), (11, 8), (6, 1), (7, 0), (7, 9)]\n"
          ]
        },
        {
          "name": "stderr",
          "output_type": "stream",
          "text": [
            "🔁 Extracting: 100%|██████████| 1319/1319 [00:01<00:00, 802.12it/s]\n"
          ]
        },
        {
          "name": "stdout",
          "output_type": "stream",
          "text": [
            "\n",
            "🎲 Random Set 967/1000: [(7, 2), (9, 5), (9, 10), (0, 1), (3, 6), (1, 7), (2, 8), (10, 1), (6, 8), (8, 9)]\n"
          ]
        },
        {
          "name": "stderr",
          "output_type": "stream",
          "text": [
            "🔁 Extracting: 100%|██████████| 1319/1319 [00:01<00:00, 789.71it/s]\n"
          ]
        },
        {
          "name": "stdout",
          "output_type": "stream",
          "text": [
            "\n",
            "🎲 Random Set 968/1000: [(7, 10), (5, 5), (0, 10), (6, 7), (5, 1), (3, 7), (0, 6), (1, 1), (8, 11), (10, 4)]\n"
          ]
        },
        {
          "name": "stderr",
          "output_type": "stream",
          "text": [
            "🔁 Extracting: 100%|██████████| 1319/1319 [00:02<00:00, 616.39it/s]\n"
          ]
        },
        {
          "name": "stdout",
          "output_type": "stream",
          "text": [
            "\n",
            "🎲 Random Set 969/1000: [(3, 9), (4, 11), (5, 10), (4, 4), (10, 1), (9, 8), (2, 1), (0, 1), (4, 10), (9, 9)]\n"
          ]
        },
        {
          "name": "stderr",
          "output_type": "stream",
          "text": [
            "🔁 Extracting: 100%|██████████| 1319/1319 [00:01<00:00, 800.37it/s]\n"
          ]
        },
        {
          "name": "stdout",
          "output_type": "stream",
          "text": [
            "\n",
            "🎲 Random Set 970/1000: [(5, 3), (2, 2), (10, 7), (4, 2), (9, 4), (0, 2), (5, 4), (8, 4), (11, 6), (10, 10)]\n"
          ]
        },
        {
          "name": "stderr",
          "output_type": "stream",
          "text": [
            "🔁 Extracting: 100%|██████████| 1319/1319 [00:01<00:00, 795.89it/s]\n"
          ]
        },
        {
          "name": "stdout",
          "output_type": "stream",
          "text": [
            "\n",
            "🎲 Random Set 971/1000: [(5, 6), (1, 8), (3, 1), (8, 4), (10, 1), (0, 7), (5, 4), (8, 7), (7, 3), (0, 2)]\n"
          ]
        },
        {
          "name": "stderr",
          "output_type": "stream",
          "text": [
            "🔁 Extracting: 100%|██████████| 1319/1319 [00:01<00:00, 806.88it/s]\n"
          ]
        },
        {
          "name": "stdout",
          "output_type": "stream",
          "text": [
            "\n",
            "🎲 Random Set 972/1000: [(3, 10), (8, 8), (4, 4), (5, 1), (6, 1), (8, 11), (7, 1), (1, 0), (1, 9), (5, 3)]\n"
          ]
        },
        {
          "name": "stderr",
          "output_type": "stream",
          "text": [
            "🔁 Extracting: 100%|██████████| 1319/1319 [00:01<00:00, 784.52it/s]\n"
          ]
        },
        {
          "name": "stdout",
          "output_type": "stream",
          "text": [
            "\n",
            "🎲 Random Set 973/1000: [(7, 5), (5, 7), (7, 8), (11, 4), (3, 6), (9, 6), (6, 1), (8, 7), (4, 6), (10, 3)]\n"
          ]
        },
        {
          "name": "stderr",
          "output_type": "stream",
          "text": [
            "🔁 Extracting: 100%|██████████| 1319/1319 [00:01<00:00, 817.10it/s]\n"
          ]
        },
        {
          "name": "stdout",
          "output_type": "stream",
          "text": [
            "\n",
            "🎲 Random Set 974/1000: [(10, 4), (7, 0), (4, 9), (0, 0), (8, 0), (3, 5), (4, 2), (6, 7), (1, 5), (8, 5)]\n"
          ]
        },
        {
          "name": "stderr",
          "output_type": "stream",
          "text": [
            "🔁 Extracting: 100%|██████████| 1319/1319 [00:01<00:00, 799.80it/s]\n"
          ]
        },
        {
          "name": "stdout",
          "output_type": "stream",
          "text": [
            "\n",
            "🎲 Random Set 975/1000: [(5, 7), (6, 8), (4, 5), (8, 10), (2, 11), (7, 10), (10, 0), (5, 0), (4, 6), (3, 8)]\n"
          ]
        },
        {
          "name": "stderr",
          "output_type": "stream",
          "text": [
            "🔁 Extracting: 100%|██████████| 1319/1319 [00:01<00:00, 798.66it/s]\n"
          ]
        },
        {
          "name": "stdout",
          "output_type": "stream",
          "text": [
            "\n",
            "🎲 Random Set 976/1000: [(4, 7), (9, 6), (9, 0), (10, 4), (0, 2), (4, 9), (0, 10), (1, 8), (0, 9), (1, 5)]\n"
          ]
        },
        {
          "name": "stderr",
          "output_type": "stream",
          "text": [
            "🔁 Extracting: 100%|██████████| 1319/1319 [00:01<00:00, 804.38it/s]\n"
          ]
        },
        {
          "name": "stdout",
          "output_type": "stream",
          "text": [
            "\n",
            "🎲 Random Set 977/1000: [(10, 7), (9, 4), (6, 9), (11, 6), (11, 11), (1, 0), (6, 7), (8, 1), (7, 2), (2, 8)]\n"
          ]
        },
        {
          "name": "stderr",
          "output_type": "stream",
          "text": [
            "🔁 Extracting: 100%|██████████| 1319/1319 [00:01<00:00, 794.01it/s]\n"
          ]
        },
        {
          "name": "stdout",
          "output_type": "stream",
          "text": [
            "\n",
            "🎲 Random Set 978/1000: [(2, 2), (4, 7), (11, 5), (0, 2), (10, 11), (8, 6), (0, 11), (3, 7), (11, 1), (1, 10)]\n"
          ]
        },
        {
          "name": "stderr",
          "output_type": "stream",
          "text": [
            "🔁 Extracting: 100%|██████████| 1319/1319 [00:01<00:00, 798.07it/s]\n"
          ]
        },
        {
          "name": "stdout",
          "output_type": "stream",
          "text": [
            "\n",
            "🎲 Random Set 979/1000: [(2, 6), (10, 10), (9, 11), (1, 5), (10, 7), (8, 0), (2, 11), (2, 9), (3, 6), (3, 11)]\n"
          ]
        },
        {
          "name": "stderr",
          "output_type": "stream",
          "text": [
            "🔁 Extracting: 100%|██████████| 1319/1319 [00:01<00:00, 797.21it/s]\n"
          ]
        },
        {
          "name": "stdout",
          "output_type": "stream",
          "text": [
            "\n",
            "🎲 Random Set 980/1000: [(3, 5), (7, 2), (7, 4), (7, 11), (11, 7), (1, 0), (2, 8), (0, 8), (4, 0), (2, 5)]\n"
          ]
        },
        {
          "name": "stderr",
          "output_type": "stream",
          "text": [
            "🔁 Extracting: 100%|██████████| 1319/1319 [00:01<00:00, 810.93it/s]\n"
          ]
        },
        {
          "name": "stdout",
          "output_type": "stream",
          "text": [
            "\n",
            "🎲 Random Set 981/1000: [(6, 7), (2, 2), (6, 6), (11, 7), (11, 4), (6, 4), (11, 2), (0, 10), (0, 11), (4, 9)]\n"
          ]
        },
        {
          "name": "stderr",
          "output_type": "stream",
          "text": [
            "🔁 Extracting: 100%|██████████| 1319/1319 [00:01<00:00, 813.78it/s]\n"
          ]
        },
        {
          "name": "stdout",
          "output_type": "stream",
          "text": [
            "\n",
            "🎲 Random Set 982/1000: [(10, 2), (8, 5), (9, 1), (0, 2), (11, 5), (6, 2), (2, 0), (2, 1), (7, 0), (8, 9)]\n"
          ]
        },
        {
          "name": "stderr",
          "output_type": "stream",
          "text": [
            "🔁 Extracting: 100%|██████████| 1319/1319 [00:01<00:00, 801.95it/s]\n"
          ]
        },
        {
          "name": "stdout",
          "output_type": "stream",
          "text": [
            "\n",
            "🎲 Random Set 983/1000: [(3, 1), (10, 9), (11, 2), (0, 7), (3, 5), (10, 0), (6, 5), (11, 5), (7, 5), (6, 4)]\n"
          ]
        },
        {
          "name": "stderr",
          "output_type": "stream",
          "text": [
            "🔁 Extracting: 100%|██████████| 1319/1319 [00:01<00:00, 800.79it/s]\n"
          ]
        },
        {
          "name": "stdout",
          "output_type": "stream",
          "text": [
            "\n",
            "🎲 Random Set 984/1000: [(4, 1), (7, 9), (11, 3), (10, 10), (0, 1), (2, 10), (6, 5), (7, 10), (4, 8), (11, 1)]\n"
          ]
        },
        {
          "name": "stderr",
          "output_type": "stream",
          "text": [
            "🔁 Extracting: 100%|██████████| 1319/1319 [00:01<00:00, 786.84it/s]\n"
          ]
        },
        {
          "name": "stdout",
          "output_type": "stream",
          "text": [
            "\n",
            "🎲 Random Set 985/1000: [(10, 9), (6, 10), (9, 2), (0, 5), (10, 1), (1, 10), (5, 11), (1, 8), (8, 5), (4, 11)]\n"
          ]
        },
        {
          "name": "stderr",
          "output_type": "stream",
          "text": [
            "🔁 Extracting: 100%|██████████| 1319/1319 [00:01<00:00, 788.28it/s]\n"
          ]
        },
        {
          "name": "stdout",
          "output_type": "stream",
          "text": [
            "\n",
            "🎲 Random Set 986/1000: [(5, 9), (11, 1), (10, 8), (11, 7), (4, 2), (6, 9), (5, 11), (11, 5), (6, 10), (10, 10)]\n"
          ]
        },
        {
          "name": "stderr",
          "output_type": "stream",
          "text": [
            "🔁 Extracting: 100%|██████████| 1319/1319 [00:01<00:00, 807.45it/s]\n"
          ]
        },
        {
          "name": "stdout",
          "output_type": "stream",
          "text": [
            "\n",
            "🎲 Random Set 987/1000: [(10, 3), (1, 10), (4, 9), (5, 0), (0, 7), (9, 6), (6, 8), (10, 8), (1, 1), (11, 3)]\n"
          ]
        },
        {
          "name": "stderr",
          "output_type": "stream",
          "text": [
            "🔁 Extracting: 100%|██████████| 1319/1319 [00:01<00:00, 793.36it/s]\n"
          ]
        },
        {
          "name": "stdout",
          "output_type": "stream",
          "text": [
            "\n",
            "🎲 Random Set 988/1000: [(7, 9), (11, 5), (6, 2), (4, 9), (11, 8), (5, 4), (2, 10), (11, 11), (8, 7), (2, 6)]\n"
          ]
        },
        {
          "name": "stderr",
          "output_type": "stream",
          "text": [
            "🔁 Extracting: 100%|██████████| 1319/1319 [00:01<00:00, 789.61it/s]\n"
          ]
        },
        {
          "name": "stdout",
          "output_type": "stream",
          "text": [
            "\n",
            "🎲 Random Set 989/1000: [(1, 0), (2, 9), (2, 5), (0, 1), (3, 6), (6, 8), (0, 5), (3, 7), (9, 8), (2, 6)]\n"
          ]
        },
        {
          "name": "stderr",
          "output_type": "stream",
          "text": [
            "🔁 Extracting: 100%|██████████| 1319/1319 [00:01<00:00, 803.76it/s]\n"
          ]
        },
        {
          "name": "stdout",
          "output_type": "stream",
          "text": [
            "\n",
            "🎲 Random Set 990/1000: [(4, 7), (3, 6), (4, 4), (11, 10), (5, 3), (3, 8), (6, 11), (0, 11), (2, 8), (5, 11)]\n"
          ]
        },
        {
          "name": "stderr",
          "output_type": "stream",
          "text": [
            "🔁 Extracting: 100%|██████████| 1319/1319 [00:01<00:00, 797.78it/s]\n"
          ]
        },
        {
          "name": "stdout",
          "output_type": "stream",
          "text": [
            "\n",
            "🎲 Random Set 991/1000: [(11, 4), (2, 3), (1, 5), (5, 0), (3, 5), (6, 5), (8, 11), (0, 11), (4, 0), (0, 9)]\n"
          ]
        },
        {
          "name": "stderr",
          "output_type": "stream",
          "text": [
            "🔁 Extracting: 100%|██████████| 1319/1319 [00:01<00:00, 791.39it/s]\n"
          ]
        },
        {
          "name": "stdout",
          "output_type": "stream",
          "text": [
            "\n",
            "🎲 Random Set 992/1000: [(5, 9), (0, 0), (3, 2), (3, 5), (8, 1), (3, 4), (11, 9), (1, 5), (7, 9), (2, 5)]\n"
          ]
        },
        {
          "name": "stderr",
          "output_type": "stream",
          "text": [
            "🔁 Extracting: 100%|██████████| 1319/1319 [00:01<00:00, 788.41it/s]\n"
          ]
        },
        {
          "name": "stdout",
          "output_type": "stream",
          "text": [
            "\n",
            "🎲 Random Set 993/1000: [(2, 2), (6, 8), (2, 10), (7, 6), (8, 2), (1, 4), (0, 8), (8, 1), (1, 0), (4, 8)]\n"
          ]
        },
        {
          "name": "stderr",
          "output_type": "stream",
          "text": [
            "🔁 Extracting: 100%|██████████| 1319/1319 [00:01<00:00, 809.65it/s]\n"
          ]
        },
        {
          "name": "stdout",
          "output_type": "stream",
          "text": [
            "\n",
            "🎲 Random Set 994/1000: [(11, 10), (7, 7), (0, 2), (3, 2), (6, 10), (1, 9), (1, 8), (7, 8), (9, 5), (6, 3)]\n"
          ]
        },
        {
          "name": "stderr",
          "output_type": "stream",
          "text": [
            "🔁 Extracting: 100%|██████████| 1319/1319 [00:01<00:00, 809.66it/s]\n"
          ]
        },
        {
          "name": "stdout",
          "output_type": "stream",
          "text": [
            "\n",
            "🎲 Random Set 995/1000: [(2, 7), (5, 7), (3, 7), (2, 8), (1, 4), (11, 5), (6, 1), (5, 4), (7, 1), (2, 2)]\n"
          ]
        },
        {
          "name": "stderr",
          "output_type": "stream",
          "text": [
            "🔁 Extracting: 100%|██████████| 1319/1319 [00:01<00:00, 800.77it/s]\n"
          ]
        },
        {
          "name": "stdout",
          "output_type": "stream",
          "text": [
            "\n",
            "🎲 Random Set 996/1000: [(10, 6), (11, 11), (0, 4), (1, 8), (5, 5), (8, 5), (6, 1), (8, 1), (0, 3), (10, 4)]\n"
          ]
        },
        {
          "name": "stderr",
          "output_type": "stream",
          "text": [
            "🔁 Extracting: 100%|██████████| 1319/1319 [00:01<00:00, 800.15it/s]\n"
          ]
        },
        {
          "name": "stdout",
          "output_type": "stream",
          "text": [
            "\n",
            "🎲 Random Set 997/1000: [(3, 3), (9, 2), (5, 3), (9, 0), (0, 7), (9, 9), (8, 6), (7, 0), (4, 0), (10, 1)]\n"
          ]
        },
        {
          "name": "stderr",
          "output_type": "stream",
          "text": [
            "🔁 Extracting: 100%|██████████| 1319/1319 [00:01<00:00, 795.63it/s]\n"
          ]
        },
        {
          "name": "stdout",
          "output_type": "stream",
          "text": [
            "\n",
            "🎲 Random Set 998/1000: [(11, 5), (10, 6), (3, 5), (1, 1), (5, 4), (5, 0), (6, 9), (1, 7), (2, 8), (7, 9)]\n"
          ]
        },
        {
          "name": "stderr",
          "output_type": "stream",
          "text": [
            "🔁 Extracting: 100%|██████████| 1319/1319 [00:01<00:00, 779.37it/s]\n"
          ]
        },
        {
          "name": "stdout",
          "output_type": "stream",
          "text": [
            "\n",
            "🎲 Random Set 999/1000: [(2, 7), (8, 7), (1, 4), (1, 9), (1, 7), (5, 4), (6, 10), (7, 0), (9, 7), (9, 11)]\n"
          ]
        },
        {
          "name": "stderr",
          "output_type": "stream",
          "text": [
            "🔁 Extracting: 100%|██████████| 1319/1319 [00:01<00:00, 799.84it/s]\n"
          ]
        },
        {
          "name": "stdout",
          "output_type": "stream",
          "text": [
            "\n",
            "🎲 Random Set 1000/1000: [(0, 4), (6, 2), (10, 4), (11, 11), (7, 7), (2, 7), (5, 8), (0, 6), (4, 3), (2, 1)]\n"
          ]
        },
        {
          "name": "stderr",
          "output_type": "stream",
          "text": [
            "🔁 Extracting: 100%|██████████| 1319/1319 [00:01<00:00, 792.79it/s]"
          ]
        },
        {
          "name": "stdout",
          "output_type": "stream",
          "text": [
            "\n",
            "✅ All feature sets saved.\n"
          ]
        },
        {
          "name": "stderr",
          "output_type": "stream",
          "text": [
            "\n"
          ]
        }
      ],
      "source": [
        "import json\n",
        "import re\n",
        "import torch\n",
        "import numpy as np\n",
        "import random\n",
        "from tqdm import tqdm\n",
        "\n",
        "# --- Config ---\n",
        "TOP_HEADS = [\n",
        "    (9, 7), (9, 2), (10, 2), (10, 3), (10, 10),\n",
        "    (9, 9), (10, 7), (1, 2), (1, 7), (4, 5)\n",
        "]\n",
        "NUM_RANDOM_SETS = 1000\n",
        "NUM_HEADS = 10\n",
        "NUM_LATENTS = 6\n",
        "FIXED_SEQ_LEN = 64\n",
        "DATA_PATH = \"gsm8k_phase1_data_collection.json\"\n",
        "ATTN_CONTRIB_TENSOR_PATH = \"gsm8k_attention_weights.pt\"\n",
        "\n",
        "# --- Utility ---\n",
        "def is_number(token: str):\n",
        "    return bool(re.match(r\"^-?\\d+(\\.\\d+)?$\", token.strip()))\n",
        "\n",
        "def extract_features(attn_tensor, data, head_set):\n",
        "    features = []\n",
        "    labels = []\n",
        "    for q_idx, example in tqdm(enumerate(data), total=len(data), desc=\"🔁 Extracting\"):\n",
        "        for latent_step in range(NUM_LATENTS):\n",
        "            try:\n",
        "                decoded_probs = example[\"latent_data\"][latent_step][\"decoded_intermediate_output\"]\n",
        "                if not isinstance(decoded_probs[0], (list, tuple)) or len(decoded_probs[0]) != 2:\n",
        "                    raise ValueError(\"Expected (token, prob) tuples.\")\n",
        "\n",
        "                numeric_score = sum(prob for tok, prob in decoded_probs if is_number(tok))\n",
        "\n",
        "                head_vectors = []\n",
        "                for layer, head in head_set:\n",
        "                    contrib = attn_tensor[q_idx, latent_step, layer, head, :].float()\n",
        "                    if contrib.shape[0] < FIXED_SEQ_LEN:\n",
        "                        padded = torch.nn.functional.pad(contrib, (0, FIXED_SEQ_LEN - contrib.shape[0]))\n",
        "                    else:\n",
        "                        padded = contrib[:FIXED_SEQ_LEN]\n",
        "                    head_vectors.append(padded)\n",
        "\n",
        "                feature_vector = torch.cat(head_vectors).numpy()\n",
        "                features.append(feature_vector)\n",
        "                labels.append(numeric_score)\n",
        "\n",
        "            except Exception as e:\n",
        "                print(f\"❗ Skipping q{q_idx} step {latent_step}: {e}\")\n",
        "                continue\n",
        "\n",
        "    return np.array(features), np.array(labels)\n",
        "\n",
        "# --- Load Inputs ---\n",
        "print(\"📦 Loading...\")\n",
        "with open(DATA_PATH, \"r\") as f:\n",
        "    data = json.load(f)\n",
        "attn_tensor = torch.load(ATTN_CONTRIB_TENSOR_PATH, map_location=\"cpu\")\n",
        "print(f\"✅ Attention tensor shape: {attn_tensor.shape}\")\n",
        "print(f\"✅ Loaded {len(data)} examples\")\n",
        "\n",
        "# --- Hand-picked ---\n",
        "print(\"\\n🎯 Extracting features from TOP_HEADS...\")\n",
        "top_features, top_labels = extract_features(attn_tensor, data, TOP_HEADS)\n",
        "np.save(\"probe_features_top.npy\", top_features)\n",
        "np.save(\"probe_labels.npy\", top_labels)  # same for all\n",
        "print(f\"✅ Saved top features: {top_features.shape}\")\n",
        "\n",
        "# --- Random Sets ---\n",
        "ALL_HEADS = [(l, h) for l in range(12) for h in range(12)]\n",
        "\n",
        "for i in range(NUM_RANDOM_SETS):\n",
        "    random_heads = random.sample(ALL_HEADS, NUM_HEADS)\n",
        "    print(f\"\\n🎲 Random Set {i+1}/{NUM_RANDOM_SETS}: {random_heads}\")\n",
        "    rand_feats, _ = extract_features(attn_tensor, data, random_heads)\n",
        "    np.save(f\"probe_features_rand_{i:03d}.npy\", rand_feats)\n",
        "\n",
        "print(\"\\n✅ All feature sets saved.\")\n"
      ]
    },
    {
      "cell_type": "code",
      "execution_count": 38,
      "metadata": {
        "colab": {
          "base_uri": "https://localhost:8080/"
        },
        "id": "2mObjjCBtLYQ",
        "outputId": "a4b5bddb-4e21-442b-d690-03ed9b7e1a77"
      },
      "outputs": [
        {
          "name": "stdout",
          "output_type": "stream",
          "text": [
            "✅ Loaded probe feature and label arrays.\n",
            "📐 Features shape: (7914, 640)\n",
            "📊 Labels shape:   (7914,)\n",
            "\n",
            "🧪 Example 1\n",
            "📌 Question ID: 0 | Latent Step: 0\n",
            "🧠 Decoded Tokens (top-5): [['-', 0.33203125], ['>', 0.3125], [' than', 0.1572265625], ['>>', 0.07421875], ['=', 0.01287841796875]]\n",
            "📈 Label (number-ness): 0.0000\n",
            "📊 Feature (top-10 contributions): [9.71679688e-02 1.41601562e-02 6.02722168e-04 8.46862793e-04\n",
            " 1.56402588e-03 2.41088867e-03 3.35693359e-03 4.57763672e-03\n",
            " 5.76782227e-03 6.92749023e-03 8.17871094e-03 9.27734375e-03\n",
            " 1.04370117e-02 1.14135742e-02 1.22680664e-02 1.30615234e-02\n",
            " 1.41601562e-02 1.53198242e-02 1.61132812e-02 1.68457031e-02\n",
            " 1.70898438e-02 1.83105469e-02 1.85546875e-02 1.94091797e-02\n",
            " 1.94091797e-02 2.03857422e-02 2.08740234e-02 2.13623047e-02\n",
            " 2.18505859e-02 2.27050781e-02 2.27050781e-02 2.31933594e-02\n",
            " 2.34375000e-02 2.34375000e-02 2.38037109e-02 2.41699219e-02\n",
            " 2.41699219e-02 2.50244141e-02 2.51464844e-02 9.71679688e-02\n",
            " 5.49316406e-04 4.53948975e-04 4.13894653e-04 3.89099121e-04\n",
            " 5.49316406e-04 6.82830811e-04 5.67626953e-03 1.58691406e-03\n",
            " 1.85394287e-03 1.56402588e-03 2.34985352e-03 1.33514404e-03\n",
            " 1.35803223e-03 5.58471680e-03 4.05883789e-03 5.46264648e-03\n",
            " 1.99890137e-03 1.46484375e-03 1.53350830e-03 4.40597534e-04\n",
            " 1.82342529e-03 6.40869141e-04 4.40597534e-04 1.66320801e-03\n",
            " 9.22851562e-02 1.58691406e-02 1.25122070e-03 2.05993652e-03\n",
            " 2.85339355e-03 3.61633301e-03 4.36401367e-03 5.15747070e-03\n",
            " 5.85937500e-03 6.43920898e-03 7.11059570e-03 7.81250000e-03\n",
            " 8.23974609e-03 8.85009766e-03 9.15527344e-03 9.64355469e-03\n",
            " 9.94873047e-03 1.04980469e-02 1.08032227e-02 1.11083984e-02\n",
            " 1.14135742e-02 1.17797852e-02 1.19628906e-02 1.23291016e-02\n",
            " 1.28173828e-02 1.30004883e-02 1.34277344e-02 1.35498047e-02\n",
            " 1.37329102e-02 1.42211914e-02 1.42211914e-02 1.45263672e-02\n",
            " 1.48925781e-02 1.49536133e-02 1.50756836e-02 1.52587891e-02\n",
            " 1.57470703e-02 1.58691406e-02 1.62353516e-02 9.37500000e-02\n",
            " 4.73022461e-04 3.62396240e-04 2.91824341e-04 2.82287598e-04\n",
            " 3.01361084e-04 2.20298767e-04 2.99072266e-03 5.87463379e-04\n",
            " 1.41143799e-03 2.18200684e-03 4.63867188e-03 1.78527832e-03\n",
            " 3.44848633e-03 1.84631348e-03 2.09045410e-03 2.68554688e-03\n",
            " 2.76184082e-03 6.89697266e-03 5.46264648e-03 9.64355469e-03\n",
            " 1.78222656e-02 2.12097168e-03 3.72314453e-03 1.84631348e-03\n",
            " 4.17968750e-01 2.34375000e-02 3.35693359e-04 3.70025635e-04\n",
            " 4.88281250e-04 5.91278076e-04 7.47680664e-04 9.15527344e-04\n",
            " 1.02233887e-03 1.14440918e-03 1.31988525e-03 1.44958496e-03\n",
            " 1.57928467e-03 1.72424316e-03 1.81579590e-03 1.93786621e-03\n",
            " 2.02941895e-03 2.13623047e-03 2.25830078e-03 2.36511230e-03\n",
            " 2.36511230e-03 2.50244141e-03 2.54821777e-03 2.68554688e-03\n",
            " 2.79235840e-03 2.89916992e-03 3.00598145e-03 3.08227539e-03\n",
            " 3.15856934e-03 3.23486328e-03 3.38745117e-03 3.41796875e-03\n",
            " 3.52478027e-03 3.57055664e-03 3.52478027e-03 3.64685059e-03\n",
            " 3.73840332e-03 3.76892090e-03 3.89099121e-03 4.45312500e-01\n",
            " 1.30534172e-05 7.48634338e-05 5.67436218e-05 1.62124634e-05\n",
            " 5.27501106e-06 6.55651093e-06 4.94384766e-03 6.17980957e-04\n",
            " 5.22613525e-04 1.00708008e-03 3.98635864e-04 1.80244446e-04\n",
            " 1.89542770e-05 1.12152100e-03 5.84125519e-05 1.18613243e-05\n",
            " 2.97546387e-04 3.21865082e-05 1.12533569e-04 7.05718994e-05\n",
            " 4.14848328e-05 4.94718552e-06 9.83476639e-06 3.76701355e-05\n",
            " 6.15234375e-02 6.59179688e-03 9.04083252e-04 1.88446045e-03\n",
            " 3.25012207e-03 4.51660156e-03 5.92041016e-03 7.32421875e-03\n",
            " 8.36181641e-03 9.33837891e-03 1.05590820e-02 1.15356445e-02\n",
            " 1.22680664e-02 1.31835938e-02 1.39160156e-02 1.48315430e-02\n",
            " 1.51977539e-02 1.62353516e-02 1.69677734e-02 1.74560547e-02\n",
            " 1.78222656e-02 1.87988281e-02 1.89208984e-02 1.97753906e-02\n",
            " 2.06298828e-02 2.09960938e-02 2.16064453e-02 2.20947266e-02\n",
            " 2.24609375e-02 2.29492188e-02 2.35595703e-02 2.42919922e-02\n",
            " 2.46582031e-02 2.49023438e-02 2.50244141e-02 2.58789062e-02\n",
            " 2.62451172e-02 2.64892578e-02 2.70996094e-02 6.05468750e-02\n",
            " 1.47819519e-04 4.76837158e-04 2.51770020e-04 4.29153442e-05\n",
            " 7.53402710e-05 4.86373901e-05 6.40869141e-04 9.99450684e-04\n",
            " 7.51495361e-04 3.23486328e-03 1.83105469e-03 5.22613525e-04\n",
            " 9.39369202e-05 2.28881836e-04 1.27410889e-03 6.33239746e-04\n",
            " 8.39233398e-04 1.86920166e-03 1.08337402e-03 5.83648682e-04\n",
            " 6.33239746e-04 7.17163086e-04 4.21524048e-04 4.76837158e-04\n",
            " 3.65234375e-01 4.37011719e-02 9.04083252e-04 8.92639160e-04\n",
            " 1.03759766e-03 1.14440918e-03 1.31988525e-03 1.44958496e-03\n",
            " 1.56402588e-03 1.64031982e-03 1.71661377e-03 1.83105469e-03\n",
            " 1.91497803e-03 2.01416016e-03 2.10571289e-03 2.16674805e-03\n",
            " 2.24304199e-03 2.34985352e-03 2.42614746e-03 2.45666504e-03\n",
            " 2.45666504e-03 2.57873535e-03 2.65502930e-03 2.74658203e-03\n",
            " 2.79235840e-03 2.86865234e-03 2.91442871e-03 2.96020508e-03\n",
            " 3.00598145e-03 3.06701660e-03 3.15856934e-03 3.15856934e-03\n",
            " 3.20434570e-03 3.26538086e-03 3.20434570e-03 3.31115723e-03\n",
            " 3.35693359e-03 3.38745117e-03 3.46374512e-03 3.76953125e-01\n",
            " 1.07574463e-03 1.27410889e-03 1.46484375e-03 1.23596191e-03\n",
            " 5.14984131e-04 5.41687012e-04 3.66210938e-03 6.07299805e-03\n",
            " 5.49316406e-03 6.04248047e-03 8.66699219e-03 5.67626953e-03\n",
            " 1.71661377e-03 9.94873047e-03 2.50244141e-03 8.12530518e-04\n",
            " 2.27355957e-03 1.49536133e-03 1.35803223e-03 1.15966797e-03\n",
            " 1.98364258e-03 1.28746033e-04 2.47955322e-04 1.09100342e-03\n",
            " 4.51171875e-01 1.62353516e-02 3.95774841e-05 3.26633453e-05\n",
            " 5.57899475e-05 8.34465027e-05 1.14440918e-04 1.44004822e-04\n",
            " 1.64031982e-04 1.85012817e-04 2.06947327e-04 2.34603882e-04\n",
            " 2.49862671e-04 2.65121460e-04 2.78472900e-04 2.95639038e-04\n",
            " 2.95639038e-04 3.26156616e-04 3.35693359e-04 3.41415405e-04\n",
            " 3.41415405e-04 3.56674194e-04 3.56674194e-04 3.79562378e-04\n",
            " 3.87191772e-04 3.98635864e-04 4.17709351e-04 4.17709351e-04\n",
            " 4.25338745e-04 4.31060791e-04 4.31060791e-04 4.44412231e-04\n",
            " 4.44412231e-04 4.38690186e-04 4.38690186e-04 4.52041626e-04\n",
            " 4.59671021e-04 4.59671021e-04 4.65393066e-04 4.96093750e-01\n",
            " 2.80141830e-05 5.87105751e-06 1.49607658e-05 1.06096268e-05\n",
            " 2.55107880e-05 2.11000443e-05 3.32641602e-03 7.93457031e-04\n",
            " 5.18798828e-04 1.35040283e-03 1.55639648e-03 6.25610352e-04\n",
            " 1.71661377e-04 5.60760498e-04 3.68118286e-04 1.71661377e-04\n",
            " 4.88281250e-04 2.34603882e-04 1.14440918e-04 2.46763229e-05\n",
            " 5.74588776e-05 7.30156898e-06 1.64508820e-05 1.40190125e-04\n",
            " 2.35351562e-01 2.52685547e-02 2.30407715e-03 2.19726562e-03\n",
            " 2.96020508e-03 3.78417969e-03 4.66918945e-03 5.61523438e-03\n",
            " 6.28662109e-03 6.98852539e-03 7.78198242e-03 8.23974609e-03\n",
            " 8.78906250e-03 9.39941406e-03 9.70458984e-03 1.02539062e-02\n",
            " 1.06201172e-02 1.09863281e-02 1.12915039e-02 1.17187500e-02\n",
            " 1.16577148e-02 1.22070312e-02 1.20849609e-02 1.25732422e-02\n",
            " 1.26342773e-02 1.28784180e-02 1.31835938e-02 1.32446289e-02\n",
            " 1.34277344e-02 1.34887695e-02 1.38549805e-02 1.40380859e-02\n",
            " 1.40991211e-02 1.42211914e-02 1.40380859e-02 1.42822266e-02\n",
            " 1.42822266e-02 1.45874023e-02 1.47094727e-02 2.39257812e-01\n",
            " 5.22613525e-04 1.77001953e-03 2.30407715e-03 7.51495361e-04\n",
            " 2.43186951e-04 2.59399414e-04 1.57470703e-02 1.04370117e-02\n",
            " 1.94549561e-03 7.32421875e-03 3.96728516e-03 1.51062012e-03\n",
            " 1.66320801e-03 1.46484375e-03 3.86047363e-03 1.94549561e-03\n",
            " 5.76019287e-04 2.39562988e-03 2.04467773e-03 7.51495361e-04\n",
            " 1.27410889e-03 3.22341919e-04 4.69207764e-04 7.85827637e-04\n",
            " 4.08935547e-03 1.42669678e-03 1.80816650e-03 1.95312500e-03\n",
            " 2.21252441e-03 2.42614746e-03 2.67028809e-03 2.83813477e-03\n",
            " 2.92968750e-03 3.06701660e-03 3.17382812e-03 3.21960449e-03\n",
            " 3.21960449e-03 3.26538086e-03 3.37219238e-03 3.37219238e-03\n",
            " 3.43322754e-03 3.43322754e-03 3.47900391e-03 3.54003906e-03\n",
            " 3.61633301e-03 3.58581543e-03 3.64685059e-03 3.64685059e-03\n",
            " 3.70788574e-03 3.73840332e-03 3.76892090e-03 3.86047363e-03\n",
            " 3.82995605e-03 3.86047363e-03 3.89099121e-03 3.89099121e-03\n",
            " 3.90625000e-03 3.82995605e-03 3.89099121e-03 3.89099121e-03\n",
            " 3.90625000e-03 3.90625000e-03 3.96728516e-03 8.05664062e-03\n",
            " 3.37219238e-03 4.79125977e-03 6.01196289e-03 4.51660156e-03\n",
            " 6.34765625e-03 1.08032227e-02 1.17797852e-02 7.87353516e-03\n",
            " 1.07421875e-02 1.21459961e-02 2.39257812e-02 1.39770508e-02\n",
            " 9.15527344e-03 1.36718750e-02 1.31225586e-02 9.88769531e-03\n",
            " 1.06811523e-02 9.88769531e-03 3.05175781e-02 9.64355469e-03\n",
            " 5.15747070e-03 6.31713867e-03 8.72802734e-03 1.33666992e-02\n",
            " 8.10546875e-02 2.12402344e-02 1.92871094e-02 1.66015625e-02\n",
            " 1.46484375e-02 1.35498047e-02 1.26342773e-02 1.20849609e-02\n",
            " 1.16577148e-02 1.12304688e-02 1.06201172e-02 1.04370117e-02\n",
            " 1.03149414e-02 9.88769531e-03 9.82666016e-03 9.88769531e-03\n",
            " 9.58251953e-03 9.46044922e-03 9.76562500e-03 9.64355469e-03\n",
            " 9.76562500e-03 9.76562500e-03 9.94873047e-03 1.00097656e-02\n",
            " 9.94873047e-03 1.01318359e-02 1.02539062e-02 1.02539062e-02\n",
            " 1.03149414e-02 1.03759766e-02 1.06201172e-02 1.07421875e-02\n",
            " 1.06811523e-02 1.05590820e-02 1.07421875e-02 1.05590820e-02\n",
            " 1.09252930e-02 1.08642578e-02 1.10473633e-02 7.47070312e-02\n",
            " 7.14111328e-03 2.30407715e-03 5.92041016e-03 8.85009766e-03\n",
            " 1.06811523e-02 5.67626953e-03 6.71386719e-03 1.03149414e-02\n",
            " 1.30615234e-02 1.06811523e-02 5.24902344e-03 5.82885742e-03\n",
            " 9.15527344e-03 9.58251953e-03 8.54492188e-03 8.17871094e-03\n",
            " 7.47680664e-03 7.32421875e-03 4.88281250e-03 3.96728516e-03\n",
            " 3.82995605e-03 2.99072266e-03 3.57055664e-03 4.15039062e-03\n",
            " 2.09960938e-01 1.74560547e-02 1.74713135e-03 1.18732452e-04\n",
            " 1.43051147e-04 1.95503235e-04 2.51770020e-04 3.22341919e-04\n",
            " 4.27246094e-04 5.34057617e-04 6.63757324e-04 7.51495361e-04\n",
            " 8.77380371e-04 9.91821289e-04 1.06048584e-03 1.18255615e-03\n",
            " 1.31988525e-03 1.49536133e-03 1.64031982e-03 1.74713135e-03\n",
            " 1.85394287e-03 2.10571289e-03 2.24304199e-03 2.45666504e-03\n",
            " 2.50244141e-03 2.79235840e-03 3.02124023e-03 3.20434570e-03\n",
            " 3.15856934e-03 3.75366211e-03 3.63159180e-03 4.11987305e-03\n",
            " 4.24194336e-03 4.39453125e-03 4.73022461e-03 5.03540039e-03\n",
            " 5.12695312e-03 5.37109375e-03 5.55419922e-03 2.05078125e-01\n",
            " 2.84984708e-07 4.47034836e-06 3.69548798e-06 1.12503767e-06\n",
            " 7.80820847e-06 8.34465027e-06 2.49147415e-05 5.10215759e-05\n",
            " 1.88350677e-05 2.64644623e-05 8.50677490e-04 3.66210938e-04\n",
            " 2.36511230e-04 8.15391541e-05 5.14984131e-04 2.06232071e-05\n",
            " 3.74317169e-05 2.06232071e-05 8.77380371e-04 1.76429749e-05\n",
            " 4.50611115e-05 2.00271606e-05 9.47713852e-06 1.34468079e-04]\n",
            "\n",
            "🧪 Example 2\n",
            "📌 Question ID: 0 | Latent Step: 1\n",
            "🧠 Decoded Tokens (top-5): [[' 3', 0.609375], ['13', 0.09912109375], [' 13', 0.060302734375], ['3', 0.046875], [' 9', 0.0284423828125]]\n",
            "📈 Label (number-ness): 0.8441\n",
            "📊 Feature (top-10 contributions): [2.03857422e-02 3.60107422e-03 2.71797180e-05 5.41210175e-05\n",
            " 9.20295715e-05 1.29699707e-04 1.56402588e-04 1.91688538e-04\n",
            " 2.13623047e-04 2.27928162e-04 2.46047974e-04 2.63214111e-04\n",
            " 2.63214111e-04 2.67028809e-04 2.67028809e-04 2.70843506e-04\n",
            " 2.70843506e-04 2.74658203e-04 2.78472900e-04 2.70843506e-04\n",
            " 2.67028809e-04 2.70843506e-04 2.63214111e-04 2.63214111e-04\n",
            " 2.57492065e-04 2.57492065e-04 2.63214111e-04 2.46047974e-04\n",
            " 2.49862671e-04 2.46047974e-04 2.38418579e-04 2.42233276e-04\n",
            " 2.38418579e-04 2.31742859e-04 2.24113464e-04 2.27928162e-04\n",
            " 2.21252441e-04 2.31742859e-04 2.27928162e-04 2.06298828e-02\n",
            " 2.45869160e-06 4.26545739e-07 1.02072954e-06 2.78651714e-06\n",
            " 4.54485416e-07 5.81145287e-07 7.92968750e-01 5.24520874e-05\n",
            " 1.07765198e-04 1.84631348e-03 8.63075256e-05 5.24520874e-05\n",
            " 5.24520874e-05 3.12805176e-03 1.06692314e-05 1.16825104e-05\n",
            " 9.48905945e-05 1.01089478e-04 9.72747803e-04 2.25305557e-05\n",
            " 3.10897827e-04 9.71555710e-06 2.55107880e-05 4.62532043e-05\n",
            " 6.20117188e-02 5.24902344e-02 3.56674194e-04 2.03132629e-04\n",
            " 1.63078308e-04 1.44004822e-04 1.44004822e-04 1.48773193e-04\n",
            " 1.44004822e-04 1.44004822e-04 1.48773193e-04 1.58309937e-04\n",
            " 1.58309937e-04 1.63078308e-04 1.58309937e-04 1.63078308e-04\n",
            " 1.68800354e-04 1.73568726e-04 1.68800354e-04 1.73568726e-04\n",
            " 1.73568726e-04 1.73568726e-04 1.73568726e-04 1.79290771e-04\n",
            " 1.90734863e-04 1.85012817e-04 1.90734863e-04 1.90734863e-04\n",
            " 1.90734863e-04 1.90734863e-04 1.90734863e-04 1.90734863e-04\n",
            " 1.90734863e-04 1.85012817e-04 1.85012817e-04 1.90734863e-04\n",
            " 1.90734863e-04 1.90734863e-04 1.90734863e-04 6.44531250e-02\n",
            " 5.14984131e-05 7.11530447e-07 2.19047070e-06 1.14440918e-05\n",
            " 9.12696123e-07 4.64916229e-06 6.25000000e-01 4.52995300e-05\n",
            " 1.36566162e-03 1.48010254e-03 2.37464905e-04 1.40190125e-04\n",
            " 9.01222229e-05 4.05883789e-03 1.79290771e-04 1.62124634e-05\n",
            " 4.23431396e-04 6.17980957e-04 3.15856934e-03 4.04357910e-04\n",
            " 1.04522705e-03 1.18613243e-05 3.21865082e-05 2.23159790e-04\n",
            " 1.33666992e-02 9.65118408e-04 2.91824341e-04 6.37054443e-04\n",
            " 1.00708008e-03 1.25885010e-03 1.56402588e-03 1.88446045e-03\n",
            " 2.05993652e-03 2.33459473e-03 2.56347656e-03 2.79235840e-03\n",
            " 2.97546387e-03 3.18908691e-03 3.40270996e-03 3.63159180e-03\n",
            " 3.78417969e-03 3.96728516e-03 4.21142578e-03 4.39453125e-03\n",
            " 4.48608398e-03 4.66918945e-03 4.79125977e-03 5.06591797e-03\n",
            " 5.18798828e-03 5.27954102e-03 5.52368164e-03 5.70678711e-03\n",
            " 5.76782227e-03 6.01196289e-03 6.22558594e-03 6.31713867e-03\n",
            " 6.56127930e-03 6.56127930e-03 6.46972656e-03 6.68334961e-03\n",
            " 7.01904297e-03 7.08007812e-03 7.17163086e-03 1.35498047e-02\n",
            " 1.16348267e-04 1.64508820e-05 1.54972076e-05 5.93662262e-05\n",
            " 1.50203705e-05 8.77380371e-05 8.39233398e-04 2.99215317e-05\n",
            " 9.05990601e-05 1.88827515e-04 8.48770142e-05 4.62532043e-05\n",
            " 3.07559967e-05 1.07765198e-04 5.87463379e-04 1.04427338e-04\n",
            " 2.04086304e-04 3.81469727e-04 2.31742859e-04 6.16455078e-03\n",
            " 6.64062500e-02 6.86645508e-04 2.02941895e-03 2.34603882e-04\n",
            " 4.12109375e-01 2.68554688e-02 5.37872314e-04 5.11169434e-04\n",
            " 5.91278076e-04 6.37054443e-04 7.13348389e-04 7.82012939e-04\n",
            " 8.31604004e-04 8.85009766e-04 9.72747803e-04 1.05285645e-03\n",
            " 1.06811523e-03 1.12152100e-03 1.17492676e-03 1.25122070e-03\n",
            " 1.29699707e-03 1.38092041e-03 1.42669678e-03 1.44958496e-03\n",
            " 1.50299072e-03 1.56402588e-03 1.60217285e-03 1.67846680e-03\n",
            " 1.74713135e-03 1.74713135e-03 1.83105469e-03 1.86157227e-03\n",
            " 1.89208984e-03 1.90734863e-03 1.96838379e-03 2.05993652e-03\n",
            " 2.07519531e-03 2.09045410e-03 2.04467773e-03 2.13623047e-03\n",
            " 2.18200684e-03 2.22778320e-03 2.24304199e-03 4.37500000e-01\n",
            " 7.86781311e-05 2.46763229e-05 3.26633453e-05 1.70469284e-05\n",
            " 2.10106373e-06 5.03659248e-06 5.64575195e-04 1.06096268e-05\n",
            " 4.48226929e-05 1.42669678e-03 1.56402588e-04 3.83853912e-05\n",
            " 3.83853912e-05 4.62532043e-05 1.33514404e-04 1.42097473e-04\n",
            " 5.74588776e-05 1.39617920e-03 1.07288361e-04 8.73565674e-04\n",
            " 1.12152100e-03 4.88281250e-04 6.37054443e-04 2.04086304e-04\n",
            " 4.62890625e-01 2.01416016e-03 8.41915607e-07 7.63684511e-07\n",
            " 1.25914812e-06 1.66893005e-06 2.42888927e-06 3.12924385e-06\n",
            " 3.76999378e-06 4.41074371e-06 4.97698784e-06 5.84125519e-06\n",
            " 6.40749931e-06 7.03334808e-06 7.74860382e-06 8.46385956e-06\n",
            " 9.05990601e-06 9.95397568e-06 1.09076500e-05 1.12652779e-05\n",
            " 1.16229057e-05 1.23381615e-05 1.31726265e-05 1.40070915e-05\n",
            " 1.49011612e-05 1.53779984e-05 1.69277191e-05 1.74045563e-05\n",
            " 1.80006027e-05 1.85966492e-05 1.97887421e-05 2.09808350e-05\n",
            " 2.09808350e-05 2.16960907e-05 2.09808350e-05 2.31266022e-05\n",
            " 2.38418579e-05 2.38418579e-05 2.45571136e-05 5.07812500e-01\n",
            " 1.72108412e-06 9.53674316e-07 1.61677599e-06 5.43892384e-07\n",
            " 1.65775418e-07 2.26311386e-07 2.89916992e-03 4.14252281e-06\n",
            " 4.02331352e-06 2.45571136e-05 7.27176666e-06 2.01165676e-06\n",
            " 1.38580799e-06 2.07519531e-03 4.22820449e-07 5.43892384e-07\n",
            " 1.66893005e-06 6.61611557e-06 1.21071935e-07 5.48362732e-06\n",
            " 4.88758087e-05 3.50177288e-07 3.96743417e-07 1.09076500e-05\n",
            " 7.37304688e-02 7.47680664e-03 2.88009644e-04 3.35693359e-04\n",
            " 5.14984131e-04 7.13348389e-04 9.72747803e-04 1.12915039e-03\n",
            " 1.31988525e-03 1.51062012e-03 1.72424316e-03 1.93786621e-03\n",
            " 2.09045410e-03 2.24304199e-03 2.39562988e-03 2.59399414e-03\n",
            " 2.63977051e-03 2.94494629e-03 3.09753418e-03 3.20434570e-03\n",
            " 3.25012207e-03 3.38745117e-03 3.44848633e-03 3.61633301e-03\n",
            " 3.79943848e-03 3.90625000e-03 3.99780273e-03 4.08935547e-03\n",
            " 4.21142578e-03 4.27246094e-03 4.36401367e-03 4.45556641e-03\n",
            " 4.54711914e-03 4.51660156e-03 4.48608398e-03 4.63867188e-03\n",
            " 4.76074219e-03 4.69970703e-03 4.85229492e-03 7.86132812e-02\n",
            " 4.02927399e-05 3.39746475e-06 2.81631947e-06 3.12328339e-05\n",
            " 2.21729279e-05 2.14576721e-05 2.95410156e-02 5.48362732e-05\n",
            " 1.05857849e-04 1.94549561e-04 9.96589661e-05 4.26769257e-05\n",
            " 2.74658203e-04 7.51953125e-02 5.14984131e-04 3.52859497e-04\n",
            " 2.13623047e-04 2.57492065e-04 1.09195709e-04 9.96589661e-05\n",
            " 1.99890137e-03 9.34600830e-05 1.88827515e-04 2.16674805e-03\n",
            " 1.06445312e-01 5.70678711e-03 5.62667847e-05 5.81741333e-05\n",
            " 7.00950623e-05 8.44001770e-05 9.87052917e-05 1.15394592e-04\n",
            " 1.35421753e-04 1.52587891e-04 1.70707703e-04 1.85012817e-04\n",
            " 1.90734863e-04 2.08854675e-04 2.15530396e-04 2.33650208e-04\n",
            " 2.40325928e-04 2.51770020e-04 2.55584717e-04 2.65121460e-04\n",
            " 2.68936157e-04 2.76565552e-04 2.72750854e-04 2.86102295e-04\n",
            " 2.86102295e-04 2.89916992e-04 2.89916992e-04 2.95639038e-04\n",
            " 2.99453735e-04 3.05175781e-04 3.14712524e-04 3.14712524e-04\n",
            " 3.08990479e-04 3.08990479e-04 3.05175781e-04 3.05175781e-04\n",
            " 3.08990479e-04 3.14712524e-04 3.18527222e-04 1.13769531e-01\n",
            " 9.38415527e-04 3.14331055e-03 9.38415527e-04 1.53350830e-03\n",
            " 4.15802002e-04 5.18798828e-04 1.87500000e-01 8.27789307e-04\n",
            " 7.51495361e-04 2.27355957e-03 6.74438477e-03 2.67028809e-03\n",
            " 6.25610352e-04 1.61132812e-02 9.65118408e-04 1.73568726e-04\n",
            " 2.88391113e-03 1.64985657e-04 1.93786621e-03 7.00950623e-05\n",
            " 4.95910645e-05 3.40938568e-05 4.95910645e-05 4.21524048e-04\n",
            " 2.99072266e-03 2.44140625e-03 3.23486328e-03 3.44848633e-03\n",
            " 3.78417969e-03 4.05883789e-03 4.30297852e-03 4.48608398e-03\n",
            " 4.60815430e-03 4.73022461e-03 4.79125977e-03 4.82177734e-03\n",
            " 4.73022461e-03 4.73022461e-03 4.73022461e-03 4.69970703e-03\n",
            " 4.63867188e-03 4.60815430e-03 4.54711914e-03 4.54711914e-03\n",
            " 4.51660156e-03 4.48608398e-03 4.42504883e-03 4.39453125e-03\n",
            " 4.39453125e-03 4.36401367e-03 4.36401367e-03 4.36401367e-03\n",
            " 4.27246094e-03 4.27246094e-03 4.24194336e-03 4.21142578e-03\n",
            " 4.18090820e-03 4.08935547e-03 4.11987305e-03 4.11987305e-03\n",
            " 4.11987305e-03 4.11987305e-03 4.15039062e-03 5.95092773e-03\n",
            " 8.72802734e-03 9.76562500e-03 1.37329102e-02 9.88769531e-03\n",
            " 9.82666016e-03 1.51367188e-02 2.09960938e-02 9.94873047e-03\n",
            " 1.17797852e-02 1.33666992e-02 1.63574219e-02 1.05590820e-02\n",
            " 1.00097656e-02 1.67236328e-02 1.09863281e-02 1.22070312e-02\n",
            " 1.10473633e-02 1.11694336e-02 1.39770508e-02 1.12304688e-02\n",
            " 7.56835938e-03 8.36181641e-03 9.46044922e-03 1.09863281e-02\n",
            " 5.17578125e-02 1.42822266e-02 1.20239258e-02 1.07421875e-02\n",
            " 9.82666016e-03 9.33837891e-03 8.91113281e-03 8.72802734e-03\n",
            " 8.42285156e-03 8.23974609e-03 7.87353516e-03 7.78198242e-03\n",
            " 7.69042969e-03 7.56835938e-03 7.44628906e-03 7.53784180e-03\n",
            " 7.32421875e-03 7.26318359e-03 7.44628906e-03 7.41577148e-03\n",
            " 7.44628906e-03 7.41577148e-03 7.56835938e-03 7.56835938e-03\n",
            " 7.50732422e-03 7.65991211e-03 7.69042969e-03 7.69042969e-03\n",
            " 7.72094727e-03 7.75146484e-03 7.81250000e-03 7.93457031e-03\n",
            " 7.93457031e-03 7.75146484e-03 7.93457031e-03 7.78198242e-03\n",
            " 7.93457031e-03 7.87353516e-03 8.05664062e-03 5.27343750e-02\n",
            " 9.70458984e-03 6.37817383e-03 5.73730469e-03 8.78906250e-03\n",
            " 9.88769531e-03 6.10351562e-03 2.88085938e-02 1.44653320e-02\n",
            " 1.68457031e-02 1.53808594e-02 9.94873047e-03 6.92749023e-03\n",
            " 7.38525391e-03 1.78222656e-02 8.85009766e-03 9.39941406e-03\n",
            " 1.29394531e-02 1.21459961e-02 9.82666016e-03 1.12915039e-02\n",
            " 2.85339355e-03 3.11279297e-03 4.36401367e-03 5.43212891e-03\n",
            " 2.43164062e-01 1.83105469e-02 1.60980225e-03 1.38282776e-04\n",
            " 1.66893005e-04 2.28881836e-04 2.93731689e-04 3.64303589e-04\n",
            " 4.69207764e-04 5.41687012e-04 6.52313232e-04 7.13348389e-04\n",
            " 8.35418701e-04 9.34600830e-04 9.91821289e-04 1.09100342e-03\n",
            " 1.19781494e-03 1.27410889e-03 1.40380859e-03 1.44195557e-03\n",
            " 1.54113770e-03 1.66320801e-03 1.71661377e-03 1.82342529e-03\n",
            " 1.82342529e-03 1.94549561e-03 2.07519531e-03 2.10571289e-03\n",
            " 2.13623047e-03 2.34985352e-03 2.27355957e-03 2.42614746e-03\n",
            " 2.45666504e-03 2.57873535e-03 2.53295898e-03 2.65502930e-03\n",
            " 2.65502930e-03 2.74658203e-03 2.77709961e-03 2.39257812e-01\n",
            " 1.03712082e-05 3.71932983e-05 7.20024109e-05 2.40802765e-05\n",
            " 2.06232071e-05 2.06232071e-05 6.94274902e-04 2.14576721e-04\n",
            " 6.53266907e-05 2.43186951e-04 3.31115723e-03 1.33514404e-03\n",
            " 2.67028809e-04 4.76837158e-04 2.51770020e-04 5.26905060e-05\n",
            " 8.67843628e-05 1.25885010e-04 4.27246094e-04 2.35557556e-04\n",
            " 1.95503235e-04 3.98159027e-05 1.11579895e-04 2.67028809e-04]\n",
            "\n",
            "🧪 Example 3\n",
            "📌 Question ID: 0 | Latent Step: 2\n",
            "🧠 Decoded Tokens (top-5): [['rd', 0.486328125], ['-', 0.1875], ['>>', 0.1357421875], ['>', 0.01806640625], [' is', 0.0169677734375]]\n",
            "📈 Label (number-ness): 0.0000\n",
            "📊 Feature (top-10 contributions): [1.97265625e-01 1.87988281e-02 3.81469727e-04 5.03540039e-04\n",
            " 8.85009766e-04 1.37329102e-03 1.87683105e-03 2.56347656e-03\n",
            " 3.29589844e-03 4.02832031e-03 4.85229492e-03 5.52368164e-03\n",
            " 6.25610352e-03 7.08007812e-03 7.53784180e-03 8.05664062e-03\n",
            " 8.78906250e-03 9.70458984e-03 1.01318359e-02 1.06811523e-02\n",
            " 1.08642578e-02 1.16577148e-02 1.18408203e-02 1.25122070e-02\n",
            " 1.25122070e-02 1.31225586e-02 1.33056641e-02 1.37329102e-02\n",
            " 1.40991211e-02 1.46484375e-02 1.46484375e-02 1.50146484e-02\n",
            " 1.50146484e-02 1.50756836e-02 1.51977539e-02 1.55639648e-02\n",
            " 1.54418945e-02 1.59912109e-02 1.61132812e-02 1.96289062e-01\n",
            " 2.78472900e-04 2.17437744e-04 1.97410583e-04 2.04086304e-04\n",
            " 3.58581543e-04 4.59671021e-04 6.56127930e-03 1.00708008e-03\n",
            " 2.85339355e-03 1.73187256e-03 2.56347656e-03 1.28936768e-03\n",
            " 9.42230225e-04 3.50952148e-03 1.63269043e-03 1.99890137e-03\n",
            " 1.51062012e-03 9.15527344e-04 5.91278076e-04 1.68800354e-04\n",
            " 1.22833252e-03 2.78472900e-04 1.48773193e-04 8.04901123e-04\n",
            " 1.50390625e-01 2.66113281e-02 1.99890137e-03 3.00598145e-03\n",
            " 3.96728516e-03 4.63867188e-03 5.40161133e-03 6.31713867e-03\n",
            " 7.01904297e-03 7.59887695e-03 8.42285156e-03 9.15527344e-03\n",
            " 9.58251953e-03 1.03149414e-02 1.05590820e-02 1.09863281e-02\n",
            " 1.13525391e-02 1.18408203e-02 1.22680664e-02 1.24511719e-02\n",
            " 1.28173828e-02 1.31225586e-02 1.34277344e-02 1.37329102e-02\n",
            " 1.40991211e-02 1.43432617e-02 1.45874023e-02 1.46484375e-02\n",
            " 1.49536133e-02 1.53198242e-02 1.53808594e-02 1.54418945e-02\n",
            " 1.58691406e-02 1.57470703e-02 1.58691406e-02 1.61132812e-02\n",
            " 1.66015625e-02 1.68457031e-02 1.69677734e-02 1.54296875e-01\n",
            " 2.70843506e-04 4.46319580e-04 4.32968140e-04 1.91688538e-04\n",
            " 3.37600708e-04 2.97546387e-04 2.96020508e-03 1.02233887e-03\n",
            " 3.90625000e-03 3.57055664e-03 6.19506836e-03 2.38037109e-03\n",
            " 1.25122070e-03 5.56945801e-04 7.01904297e-04 4.88281250e-04\n",
            " 1.44195557e-03 9.00268555e-04 5.72204590e-04 1.03759766e-03\n",
            " 1.44195557e-03 2.61306763e-04 4.46319580e-04 7.93457031e-04\n",
            " 3.92578125e-01 2.57568359e-02 3.87191772e-04 4.95910645e-04\n",
            " 6.17980957e-04 7.13348389e-04 8.73565674e-04 1.06811523e-03\n",
            " 1.19781494e-03 1.36566162e-03 1.53350830e-03 1.72424316e-03\n",
            " 1.86157227e-03 2.04467773e-03 2.15148926e-03 2.31933594e-03\n",
            " 2.42614746e-03 2.54821777e-03 2.76184082e-03 2.88391113e-03\n",
            " 2.88391113e-03 3.06701660e-03 3.17382812e-03 3.34167480e-03\n",
            " 3.44848633e-03 3.64685059e-03 3.73840332e-03 3.90625000e-03\n",
            " 3.99780273e-03 4.08935547e-03 4.33349609e-03 4.39453125e-03\n",
            " 4.51660156e-03 4.60815430e-03 4.54711914e-03 4.73022461e-03\n",
            " 4.88281250e-03 4.97436523e-03 5.09643555e-03 4.12109375e-01\n",
            " 1.62124634e-05 2.94446945e-05 3.43322754e-05 1.72853470e-05\n",
            " 6.16908073e-06 6.37769699e-06 5.49316406e-03 4.74929810e-04\n",
            " 4.59671021e-04 1.39617920e-03 4.19616699e-04 2.38418579e-04\n",
            " 2.15768814e-05 9.00268555e-04 7.29560852e-05 1.95503235e-05\n",
            " 2.91824341e-04 5.67436218e-05 2.01225281e-04 1.16348267e-04\n",
            " 4.14848328e-05 3.62098217e-06 1.01923943e-05 3.03983688e-05\n",
            " 3.36914062e-02 6.16455078e-03 7.47680664e-04 1.57165527e-03\n",
            " 2.79235840e-03 4.02832031e-03 5.37109375e-03 6.95800781e-03\n",
            " 8.17871094e-03 9.46044922e-03 1.08032227e-02 1.20239258e-02\n",
            " 1.30004883e-02 1.40991211e-02 1.48925781e-02 1.59912109e-02\n",
            " 1.66015625e-02 1.78222656e-02 1.85546875e-02 1.92871094e-02\n",
            " 1.96533203e-02 2.08740234e-02 2.11181641e-02 2.22167969e-02\n",
            " 2.27050781e-02 2.30712891e-02 2.39257812e-02 2.42919922e-02\n",
            " 2.51464844e-02 2.55126953e-02 2.58789062e-02 2.67333984e-02\n",
            " 2.70996094e-02 2.75878906e-02 2.75878906e-02 2.84423828e-02\n",
            " 2.89306641e-02 2.92968750e-02 2.97851562e-02 3.44238281e-02\n",
            " 7.86781311e-05 5.74588776e-05 6.24656677e-05 2.39610672e-05\n",
            " 2.98023224e-05 1.50203705e-05 5.45501709e-04 2.34603882e-04\n",
            " 2.38418579e-04 1.12915039e-03 5.22613525e-04 1.40190125e-04\n",
            " 5.74588776e-05 2.24113464e-04 5.79833984e-04 6.59942627e-04\n",
            " 5.11169434e-04 2.16674805e-03 1.93786621e-03 1.00708008e-03\n",
            " 1.64031982e-03 1.15966797e-03 8.27789307e-04 5.72204590e-04\n",
            " 3.30078125e-01 5.63964844e-02 1.24359131e-03 1.43432617e-03\n",
            " 1.67846680e-03 1.83868408e-03 2.09045410e-03 2.31933594e-03\n",
            " 2.53295898e-03 2.74658203e-03 2.91442871e-03 3.08227539e-03\n",
            " 3.25012207e-03 3.46374512e-03 3.57055664e-03 3.72314453e-03\n",
            " 3.86047363e-03 4.02832031e-03 4.15039062e-03 4.27246094e-03\n",
            " 4.30297852e-03 4.48608398e-03 4.66918945e-03 4.82177734e-03\n",
            " 4.91333008e-03 5.00488281e-03 5.15747070e-03 5.24902344e-03\n",
            " 5.37109375e-03 5.40161133e-03 5.61523438e-03 5.70678711e-03\n",
            " 5.70678711e-03 5.85937500e-03 5.76782227e-03 5.88989258e-03\n",
            " 6.04248047e-03 6.16455078e-03 6.22558594e-03 3.45703125e-01\n",
            " 1.82151794e-04 1.71661377e-04 2.91824341e-04 3.01361084e-04\n",
            " 1.10626221e-04 1.00612640e-04 3.23486328e-03 6.37054443e-04\n",
            " 8.04901123e-04 1.50299072e-03 1.11389160e-03 1.04522705e-03\n",
            " 3.29971313e-04 6.25610352e-04 2.49862671e-04 1.37329102e-04\n",
            " 3.91006470e-04 2.12669373e-04 5.18798828e-04 5.45501709e-04\n",
            " 4.44412231e-04 8.86917114e-05 1.03950500e-04 5.79833984e-04\n",
            " 4.41406250e-01 2.23388672e-02 5.26905060e-05 3.86238098e-05\n",
            " 5.62667847e-05 7.43865967e-05 9.53674316e-05 1.15394592e-04\n",
            " 1.32560730e-04 1.50680542e-04 1.64985657e-04 1.86920166e-04\n",
            " 1.96456909e-04 2.11715698e-04 2.18391418e-04 2.28881836e-04\n",
            " 2.32696533e-04 2.55584717e-04 2.63214111e-04 2.72750854e-04\n",
            " 2.72750854e-04 2.86102295e-04 2.86102295e-04 3.03268433e-04\n",
            " 3.08990479e-04 3.22341919e-04 3.33786011e-04 3.39508057e-04\n",
            " 3.43322754e-04 3.49044800e-04 3.60488892e-04 3.71932983e-04\n",
            " 3.66210938e-04 3.66210938e-04 3.66210938e-04 3.83377075e-04\n",
            " 3.83377075e-04 3.89099121e-04 3.96728516e-04 4.84375000e-01\n",
            " 8.58306885e-06 2.71201134e-06 4.47034836e-06 6.70552254e-06\n",
            " 4.32133675e-06 7.86781311e-06 2.34985352e-03 7.67707825e-05\n",
            " 2.32696533e-04 7.62939453e-04 3.83377075e-04 1.52587891e-04\n",
            " 4.24385071e-05 1.04904175e-04 1.30653381e-04 7.67707825e-05\n",
            " 1.64031982e-03 8.96453857e-05 1.86920166e-04 1.25169754e-05\n",
            " 4.24385071e-05 3.93390656e-06 1.00731850e-05 1.06334686e-04\n",
            " 2.19726562e-01 2.75878906e-02 2.59399414e-03 2.31933594e-03\n",
            " 2.99072266e-03 3.70788574e-03 4.48608398e-03 5.31005859e-03\n",
            " 5.88989258e-03 6.56127930e-03 7.26318359e-03 7.69042969e-03\n",
            " 8.23974609e-03 8.78906250e-03 8.97216797e-03 9.46044922e-03\n",
            " 9.70458984e-03 1.01928711e-02 1.03149414e-02 1.06811523e-02\n",
            " 1.06201172e-02 1.10473633e-02 1.09863281e-02 1.14135742e-02\n",
            " 1.14135742e-02 1.16577148e-02 1.17797852e-02 1.19018555e-02\n",
            " 1.20239258e-02 1.20849609e-02 1.23901367e-02 1.25122070e-02\n",
            " 1.25122070e-02 1.26342773e-02 1.25732422e-02 1.26953125e-02\n",
            " 1.25732422e-02 1.28784180e-02 1.29394531e-02 2.29492188e-01\n",
            " 1.22833252e-03 2.04467773e-03 2.01416016e-03 1.16729736e-03\n",
            " 5.26428223e-04 6.14166260e-04 1.23291016e-02 1.45263672e-02\n",
            " 5.12695312e-03 1.08642578e-02 7.81250000e-03 3.52478027e-03\n",
            " 1.45721436e-03 2.44140625e-03 2.67028809e-03 1.83868408e-03\n",
            " 8.43048096e-04 2.76184082e-03 3.43322754e-03 9.99450684e-04\n",
            " 1.89971924e-03 4.50134277e-04 4.57763672e-04 9.11712646e-04\n",
            " 4.51660156e-03 1.77001953e-03 1.80053711e-03 1.88446045e-03\n",
            " 2.04467773e-03 2.21252441e-03 2.38037109e-03 2.53295898e-03\n",
            " 2.57873535e-03 2.70080566e-03 2.79235840e-03 2.83813477e-03\n",
            " 2.83813477e-03 2.88391113e-03 2.97546387e-03 3.02124023e-03\n",
            " 3.06701660e-03 3.11279297e-03 3.15856934e-03 3.20434570e-03\n",
            " 3.28063965e-03 3.28063965e-03 3.35693359e-03 3.38745117e-03\n",
            " 3.44848633e-03 3.46374512e-03 3.55529785e-03 3.63159180e-03\n",
            " 3.63159180e-03 3.66210938e-03 3.69262695e-03 3.72314453e-03\n",
            " 3.75366211e-03 3.72314453e-03 3.75366211e-03 3.78417969e-03\n",
            " 3.84521484e-03 3.84521484e-03 3.90625000e-03 8.17871094e-03\n",
            " 3.06701660e-03 4.39453125e-03 5.21850586e-03 4.02832031e-03\n",
            " 5.98144531e-03 9.58251953e-03 1.00708008e-02 7.56835938e-03\n",
            " 1.02539062e-02 1.13525391e-02 2.35595703e-02 1.33666992e-02\n",
            " 8.91113281e-03 1.20239258e-02 1.30004883e-02 9.52148438e-03\n",
            " 1.01318359e-02 9.70458984e-03 3.08837891e-02 8.60595703e-03\n",
            " 5.24902344e-03 6.28662109e-03 8.72802734e-03 1.31225586e-02\n",
            " 5.34667969e-02 1.75781250e-02 1.61132812e-02 1.37329102e-02\n",
            " 1.23291016e-02 1.14135742e-02 1.07421875e-02 1.03149414e-02\n",
            " 9.94873047e-03 9.64355469e-03 9.15527344e-03 8.97216797e-03\n",
            " 8.91113281e-03 8.54492188e-03 8.48388672e-03 8.60595703e-03\n",
            " 8.30078125e-03 8.23974609e-03 8.48388672e-03 8.42285156e-03\n",
            " 8.54492188e-03 8.48388672e-03 8.72802734e-03 8.78906250e-03\n",
            " 8.85009766e-03 9.03320312e-03 9.09423828e-03 9.21630859e-03\n",
            " 9.15527344e-03 9.33837891e-03 9.58251953e-03 9.70458984e-03\n",
            " 9.64355469e-03 9.52148438e-03 9.70458984e-03 9.58251953e-03\n",
            " 9.94873047e-03 9.94873047e-03 1.01318359e-02 5.98144531e-02\n",
            " 5.52368164e-03 1.76239014e-03 4.54711914e-03 8.17871094e-03\n",
            " 9.27734375e-03 6.89697266e-03 9.64355469e-03 7.08007812e-03\n",
            " 1.56250000e-02 1.50146484e-02 4.39453125e-03 8.11767578e-03\n",
            " 1.25122070e-02 1.18408203e-02 7.20214844e-03 1.06811523e-02\n",
            " 9.39941406e-03 1.24511719e-02 4.57763672e-03 2.96020508e-03\n",
            " 2.73132324e-03 2.96020508e-03 3.54003906e-03 3.32641602e-03\n",
            " 1.99218750e-01 1.14135742e-02 9.38415527e-04 5.05447388e-05\n",
            " 7.34329224e-05 1.10149384e-04 1.50680542e-04 2.05993652e-04\n",
            " 2.89916992e-04 3.62396240e-04 4.50134277e-04 5.18798828e-04\n",
            " 6.14166260e-04 7.09533691e-04 7.55310059e-04 8.54492188e-04\n",
            " 9.53674316e-04 1.08337402e-03 1.18255615e-03 1.24359131e-03\n",
            " 1.31988525e-03 1.52587891e-03 1.59454346e-03 1.75476074e-03\n",
            " 1.75476074e-03 1.95312500e-03 2.15148926e-03 2.24304199e-03\n",
            " 2.21252441e-03 2.59399414e-03 2.54821777e-03 2.83813477e-03\n",
            " 2.88391113e-03 2.97546387e-03 3.12805176e-03 3.32641602e-03\n",
            " 3.37219238e-03 3.54003906e-03 3.64685059e-03 1.96289062e-01\n",
            " 2.31666490e-08 3.40864062e-07 4.37721610e-07 2.81259418e-07\n",
            " 1.72853470e-06 4.70876694e-06 9.05990601e-06 3.17096710e-05\n",
            " 9.95397568e-06 1.40070915e-05 3.96728516e-04 6.67572021e-05\n",
            " 1.87873840e-04 2.53915787e-05 3.62396240e-04 2.31266022e-05\n",
            " 3.57627869e-05 1.91926956e-05 7.89642334e-04 3.23355198e-06\n",
            " 1.49011612e-05 6.02006912e-06 3.23355198e-06 1.13964081e-04]\n",
            "\n",
            "🧪 Example 4\n",
            "📌 Question ID: 0 | Latent Step: 3\n",
            "🧠 Decoded Tokens (top-5): [['9', 0.39453125], [' 9', 0.2890625], [' 3', 0.11279296875], ['3', 0.032470703125], ['13', 0.0196533203125]]\n",
            "📈 Label (number-ness): 0.8485\n",
            "📊 Feature (top-10 contributions): [7.61718750e-02 9.88769531e-03 1.05857849e-04 2.53677368e-04\n",
            " 4.74929810e-04 7.01904297e-04 8.73565674e-04 1.09100342e-03\n",
            " 1.21307373e-03 1.31225586e-03 1.41906738e-03 1.53350830e-03\n",
            " 1.55639648e-03 1.55639648e-03 1.58691406e-03 1.60980225e-03\n",
            " 1.63269043e-03 1.68609619e-03 1.73950195e-03 1.68609619e-03\n",
            " 1.66320801e-03 1.68609619e-03 1.63269043e-03 1.66320801e-03\n",
            " 1.63269043e-03 1.63269043e-03 1.68609619e-03 1.58691406e-03\n",
            " 1.60980225e-03 1.60980225e-03 1.58691406e-03 1.58691406e-03\n",
            " 1.58691406e-03 1.53350830e-03 1.51062012e-03 1.53350830e-03\n",
            " 1.48773193e-03 1.55639648e-03 1.53350830e-03 7.66601562e-02\n",
            " 4.11272049e-06 7.59959221e-07 1.42306089e-06 4.38094139e-06\n",
            " 8.08387995e-07 1.25169754e-06 3.47656250e-01 4.86373901e-05\n",
            " 1.27792358e-04 2.53295898e-03 1.27792358e-04 7.05718994e-05\n",
            " 6.62803650e-05 4.18090820e-03 6.79492950e-06 1.48415565e-05\n",
            " 3.94821167e-04 1.80244446e-04 8.20159912e-04 3.14712524e-05\n",
            " 3.81469727e-04 2.37226486e-05 5.67436218e-05 1.05857849e-04\n",
            " 1.06933594e-01 4.73632812e-02 2.59399414e-04 1.72615051e-04\n",
            " 1.47819519e-04 1.38282776e-04 1.52587891e-04 1.62124634e-04\n",
            " 1.66893005e-04 1.72615051e-04 1.84059143e-04 2.02178955e-04\n",
            " 2.07901001e-04 2.21252441e-04 2.28881836e-04 2.35557556e-04\n",
            " 2.51770020e-04 2.59399414e-04 2.67028809e-04 2.76565552e-04\n",
            " 2.84194946e-04 2.84194946e-04 2.93731689e-04 3.12805176e-04\n",
            " 3.31878662e-04 3.31878662e-04 3.43322754e-04 3.43322754e-04\n",
            " 3.43322754e-04 3.54766846e-04 3.54766846e-04 3.54766846e-04\n",
            " 3.66210938e-04 3.54766846e-04 3.66210938e-04 3.77655029e-04\n",
            " 3.77655029e-04 3.77655029e-04 3.89099121e-04 1.12304688e-01\n",
            " 7.43865967e-05 1.74343586e-06 4.73856926e-06 1.46031380e-05\n",
            " 1.63912773e-06 6.91413879e-06 3.02734375e-01 6.96182251e-05\n",
            " 1.77001953e-03 1.51062012e-03 2.43186951e-04 1.30653381e-04\n",
            " 6.53266907e-05 3.99780273e-03 1.43051147e-04 8.58306885e-06\n",
            " 6.94274902e-04 3.89099121e-04 4.00543213e-04 2.43186951e-04\n",
            " 5.91278076e-04 2.49147415e-05 7.67707825e-05 7.05718994e-04\n",
            " 3.46679688e-02 2.16674805e-03 4.59671021e-04 8.43048096e-04\n",
            " 1.15966797e-03 1.35040283e-03 1.57928467e-03 1.83105469e-03\n",
            " 1.96838379e-03 2.15148926e-03 2.33459473e-03 2.53295898e-03\n",
            " 2.65502930e-03 2.82287598e-03 2.99072266e-03 3.15856934e-03\n",
            " 3.28063965e-03 3.43322754e-03 3.64685059e-03 3.78417969e-03\n",
            " 3.82995605e-03 3.96728516e-03 4.08935547e-03 4.30297852e-03\n",
            " 4.39453125e-03 4.45556641e-03 4.63867188e-03 4.76074219e-03\n",
            " 4.85229492e-03 5.00488281e-03 5.21850586e-03 5.21850586e-03\n",
            " 5.43212891e-03 5.40161133e-03 5.34057617e-03 5.49316406e-03\n",
            " 5.70678711e-03 5.79833984e-03 5.82885742e-03 3.54003906e-02\n",
            " 1.79290771e-04 3.17096710e-05 3.81469727e-05 1.02519989e-04\n",
            " 1.81198120e-05 9.48905945e-05 1.65557861e-03 5.22136688e-05\n",
            " 1.87873840e-04 4.38690186e-04 1.71661377e-04 8.91685486e-05\n",
            " 2.32458115e-05 9.15527344e-05 1.85012817e-04 5.57899475e-05\n",
            " 1.17778778e-04 1.58309937e-04 1.00612640e-04 3.90625000e-03\n",
            " 1.79443359e-02 3.29971313e-04 1.12915039e-03 2.06947327e-04\n",
            " 4.33593750e-01 1.83105469e-02 3.89099121e-04 3.89099121e-04\n",
            " 4.42504883e-04 4.48226929e-04 4.84466553e-04 5.07354736e-04\n",
            " 5.26428223e-04 5.41687012e-04 5.83648682e-04 6.21795654e-04\n",
            " 6.21795654e-04 6.52313232e-04 6.75201416e-04 7.17163086e-04\n",
            " 7.40051270e-04 7.89642334e-04 8.12530518e-04 8.23974609e-04\n",
            " 8.50677490e-04 8.77380371e-04 9.07897949e-04 9.65118408e-04\n",
            " 9.99450684e-04 9.99450684e-04 1.04522705e-03 1.06048584e-03\n",
            " 1.08337402e-03 1.09100342e-03 1.13677979e-03 1.19018555e-03\n",
            " 1.21307373e-03 1.21307373e-03 1.18255615e-03 1.23596191e-03\n",
            " 1.25885010e-03 1.29699707e-03 1.31225586e-03 4.47265625e-01\n",
            " 6.48498535e-05 1.19805336e-05 1.96695328e-05 8.46385956e-06\n",
            " 1.11013651e-06 3.02493572e-06 3.39508057e-04 7.03334808e-06\n",
            " 3.24249268e-05 1.28936768e-03 1.03473663e-04 2.52723694e-05\n",
            " 1.53779984e-05 3.05175781e-05 4.05311584e-05 4.43458557e-05\n",
            " 2.03847885e-05 4.48226929e-04 1.58548355e-05 1.86920166e-04\n",
            " 2.86102295e-04 1.45912170e-04 2.28881836e-04 1.43051147e-04\n",
            " 4.53125000e-01 2.21252441e-03 1.40070915e-06 1.35600567e-06\n",
            " 1.98185444e-06 2.45869160e-06 3.24845314e-06 3.93390656e-06\n",
            " 4.44054604e-06 5.03659248e-06 5.54323196e-06 6.46710396e-06\n",
            " 6.88433647e-06 7.56978989e-06 8.04662704e-06 8.58306885e-06\n",
            " 9.11951065e-06 1.00135803e-05 1.06692314e-05 1.13844872e-05\n",
            " 1.13844872e-05 1.20997429e-05 1.32918358e-05 1.37090683e-05\n",
            " 1.46031380e-05 1.50799751e-05 1.59740448e-05 1.65700912e-05\n",
            " 1.70469284e-05 1.76429749e-05 1.93119049e-05 1.99079514e-05\n",
            " 1.99079514e-05 2.06232071e-05 1.99079514e-05 2.12192535e-05\n",
            " 2.26497650e-05 2.26497650e-05 2.33650208e-05 4.98046875e-01\n",
            " 2.10106373e-06 1.05798244e-06 1.58697367e-06 6.22123480e-07\n",
            " 1.67638063e-07 2.15135515e-07 1.98364258e-03 2.10106373e-06\n",
            " 3.35276127e-06 2.12192535e-05 4.73856926e-06 1.53481960e-06\n",
            " 6.03497028e-07 7.51495361e-04 1.47148967e-07 1.89058483e-07\n",
            " 1.02072954e-06 1.85519457e-06 5.42495400e-08 3.57627869e-06\n",
            " 1.81198120e-05 4.26545739e-07 5.14090061e-07 1.50799751e-05\n",
            " 5.83496094e-02 7.20214844e-03 6.02722168e-04 8.12530518e-04\n",
            " 1.25122070e-03 1.70135498e-03 2.30407715e-03 2.63977051e-03\n",
            " 3.03649902e-03 3.41796875e-03 3.87573242e-03 4.36401367e-03\n",
            " 4.69970703e-03 5.03540039e-03 5.43212891e-03 5.82885742e-03\n",
            " 5.98144531e-03 6.68334961e-03 7.01904297e-03 7.29370117e-03\n",
            " 7.38525391e-03 7.75146484e-03 7.99560547e-03 8.36181641e-03\n",
            " 8.85009766e-03 9.09423828e-03 9.39941406e-03 9.58251953e-03\n",
            " 9.82666016e-03 1.00097656e-02 1.02539062e-02 1.05590820e-02\n",
            " 1.06811523e-02 1.06811523e-02 1.06811523e-02 1.10473633e-02\n",
            " 1.14135742e-02 1.12915039e-02 1.15966797e-02 6.20117188e-02\n",
            " 6.19888306e-05 3.62098217e-06 3.84449959e-06 3.55243683e-05\n",
            " 3.88622284e-05 3.55243683e-05 1.31225586e-02 8.10623169e-05\n",
            " 1.25885010e-04 2.95639038e-04 9.34600830e-05 5.00679016e-05\n",
            " 1.71661377e-04 1.95312500e-02 2.10762024e-04 1.65939331e-04\n",
            " 1.31607056e-04 1.65939331e-04 1.89542770e-05 7.05718994e-05\n",
            " 5.79833984e-04 1.21593475e-04 2.70843506e-04 3.93676758e-03\n",
            " 1.67968750e-01 7.81250000e-03 1.42097473e-04 1.87873840e-04\n",
            " 2.41279602e-04 2.95639038e-04 3.50952148e-04 4.15802002e-04\n",
            " 4.78744507e-04 5.41687012e-04 5.95092773e-04 6.44683838e-04\n",
            " 6.63757324e-04 7.20977783e-04 7.55310059e-04 8.01086426e-04\n",
            " 8.27789307e-04 8.54492188e-04 8.81195068e-04 8.96453857e-04\n",
            " 9.07897949e-04 9.38415527e-04 9.23156738e-04 9.68933105e-04\n",
            " 9.53674316e-04 9.68933105e-04 9.68933105e-04 9.68933105e-04\n",
            " 9.84191895e-04 9.99450684e-04 1.01470947e-03 1.01470947e-03\n",
            " 9.99450684e-04 9.99450684e-04 9.84191895e-04 9.84191895e-04\n",
            " 9.84191895e-04 9.99450684e-04 1.01470947e-03 1.78710938e-01\n",
            " 6.56127930e-04 1.72424316e-03 4.86373901e-04 8.81195068e-04\n",
            " 2.68936157e-04 2.51770020e-04 4.78515625e-02 5.41687012e-04\n",
            " 7.66754150e-04 2.28881836e-03 4.94384766e-03 1.99890137e-03\n",
            " 5.18798828e-04 1.44042969e-02 1.09863281e-03 4.10079956e-04\n",
            " 2.96020508e-03 4.36782837e-04 2.51770020e-03 1.10149384e-04\n",
            " 7.82012939e-05 7.34329224e-05 1.17301941e-04 7.09533691e-04\n",
            " 3.73840332e-03 3.52478027e-03 4.30297852e-03 4.51660156e-03\n",
            " 4.85229492e-03 5.12695312e-03 5.40161133e-03 5.52368164e-03\n",
            " 5.67626953e-03 5.76782227e-03 5.76782227e-03 5.76782227e-03\n",
            " 5.67626953e-03 5.61523438e-03 5.58471680e-03 5.49316406e-03\n",
            " 5.37109375e-03 5.27954102e-03 5.24902344e-03 5.18798828e-03\n",
            " 5.15747070e-03 5.03540039e-03 4.97436523e-03 4.91333008e-03\n",
            " 4.88281250e-03 4.85229492e-03 4.82177734e-03 4.82177734e-03\n",
            " 4.69970703e-03 4.69970703e-03 4.63867188e-03 4.57763672e-03\n",
            " 4.54711914e-03 4.45556641e-03 4.45556641e-03 4.42504883e-03\n",
            " 4.42504883e-03 4.36401367e-03 4.42504883e-03 6.74438477e-03\n",
            " 1.15356445e-02 1.20849609e-02 1.70898438e-02 1.20239258e-02\n",
            " 1.14746094e-02 1.64794922e-02 2.16064453e-02 1.11083984e-02\n",
            " 1.24511719e-02 1.36108398e-02 1.45263672e-02 9.88769531e-03\n",
            " 1.01318359e-02 1.57470703e-02 1.03759766e-02 1.19628906e-02\n",
            " 1.02539062e-02 1.05590820e-02 1.15356445e-02 1.12304688e-02\n",
            " 7.50732422e-03 8.42285156e-03 9.03320312e-03 1.01928711e-02\n",
            " 4.39453125e-02 1.19628906e-02 9.94873047e-03 8.97216797e-03\n",
            " 8.23974609e-03 7.87353516e-03 7.47680664e-03 7.35473633e-03\n",
            " 7.11059570e-03 6.98852539e-03 6.74438477e-03 6.65283203e-03\n",
            " 6.56127930e-03 6.50024414e-03 6.40869141e-03 6.50024414e-03\n",
            " 6.34765625e-03 6.31713867e-03 6.43920898e-03 6.46972656e-03\n",
            " 6.50024414e-03 6.46972656e-03 6.62231445e-03 6.62231445e-03\n",
            " 6.59179688e-03 6.71386719e-03 6.74438477e-03 6.77490234e-03\n",
            " 6.83593750e-03 6.83593750e-03 6.92749023e-03 6.98852539e-03\n",
            " 7.01904297e-03 6.92749023e-03 7.01904297e-03 6.92749023e-03\n",
            " 7.04956055e-03 6.98852539e-03 7.14111328e-03 4.19921875e-02\n",
            " 8.72802734e-03 6.92749023e-03 5.88989258e-03 8.17871094e-03\n",
            " 7.29370117e-03 5.82885742e-03 3.29589844e-02 1.30004883e-02\n",
            " 1.86767578e-02 1.20239258e-02 1.26953125e-02 7.26318359e-03\n",
            " 7.99560547e-03 1.80664062e-02 9.70458984e-03 7.99560547e-03\n",
            " 1.63574219e-02 9.76562500e-03 1.22070312e-02 1.05590820e-02\n",
            " 3.21960449e-03 2.56347656e-03 4.60815430e-03 6.40869141e-03\n",
            " 2.67578125e-01 1.72119141e-02 1.14440918e-03 8.20159912e-05\n",
            " 8.96453857e-05 1.15394592e-04 1.44004822e-04 1.78337097e-04\n",
            " 2.22206116e-04 2.51770020e-04 3.03268433e-04 3.33786011e-04\n",
            " 3.77655029e-04 4.29153442e-04 4.55856323e-04 4.99725342e-04\n",
            " 5.68389893e-04 6.02722168e-04 6.63757324e-04 6.94274902e-04\n",
            " 7.40051270e-04 8.27789307e-04 8.50677490e-04 9.07897949e-04\n",
            " 9.34600830e-04 9.99450684e-04 1.07574463e-03 1.09100342e-03\n",
            " 1.12915039e-03 1.24359131e-03 1.24359131e-03 1.31988525e-03\n",
            " 1.36566162e-03 1.42669678e-03 1.40380859e-03 1.49536133e-03\n",
            " 1.51824951e-03 1.59454346e-03 1.61743164e-03 2.67578125e-01\n",
            " 1.60932541e-05 5.29289246e-05 9.87052917e-05 4.64916229e-05\n",
            " 3.40938568e-05 2.65836716e-05 1.01470947e-03 2.36511230e-04\n",
            " 7.91549683e-05 4.42504883e-04 2.71606445e-03 1.69372559e-03\n",
            " 3.03268433e-04 5.34057617e-04 1.63078308e-04 6.15119934e-05\n",
            " 8.72612000e-05 1.84059143e-04 4.86373901e-04 4.99725342e-04\n",
            " 3.12805176e-04 7.67707825e-05 1.19209290e-04 1.73568726e-04]\n",
            "\n",
            "🧪 Example 5\n",
            "📌 Question ID: 0 | Latent Step: 4\n",
            "🧠 Decoded Tokens (top-5): [['-', 0.6328125], ['>>', 0.0703125], [' is', 0.0546875], [' are', 0.02880859375], [' than', 0.01611328125]]\n",
            "📈 Label (number-ness): 0.0000\n",
            "📊 Feature (top-10 contributions): [1.92382812e-01 1.68457031e-02 3.71932983e-04 5.07354736e-04\n",
            " 8.92639160e-04 1.38092041e-03 1.89208984e-03 2.62451172e-03\n",
            " 3.31115723e-03 4.11987305e-03 4.91333008e-03 5.55419922e-03\n",
            " 6.28662109e-03 7.01904297e-03 7.47680664e-03 7.99560547e-03\n",
            " 8.66699219e-03 9.52148438e-03 9.94873047e-03 1.04370117e-02\n",
            " 1.05590820e-02 1.12304688e-02 1.14135742e-02 1.19628906e-02\n",
            " 1.18408203e-02 1.23901367e-02 1.26342773e-02 1.29394531e-02\n",
            " 1.32446289e-02 1.37329102e-02 1.36108398e-02 1.39770508e-02\n",
            " 1.38549805e-02 1.40380859e-02 1.39770508e-02 1.42822266e-02\n",
            " 1.40380859e-02 1.46484375e-02 1.46484375e-02 1.91406250e-01\n",
            " 3.18527222e-04 2.72750854e-04 2.47955322e-04 2.47955322e-04\n",
            " 4.08172607e-04 5.76019287e-04 7.53784180e-03 1.44958496e-03\n",
            " 3.37219238e-03 2.10571289e-03 3.21960449e-03 1.59454346e-03\n",
            " 1.09100342e-03 2.97546387e-03 1.77764893e-03 1.80053711e-03\n",
            " 1.31988525e-03 9.19342041e-04 5.07354736e-04 1.45912170e-04\n",
            " 1.23596191e-03 2.63214111e-04 1.20639801e-04 8.39233398e-04\n",
            " 1.36718750e-01 2.53906250e-02 1.96838379e-03 3.05175781e-03\n",
            " 4.18090820e-03 5.00488281e-03 5.88989258e-03 6.89697266e-03\n",
            " 7.81250000e-03 8.36181641e-03 9.27734375e-03 1.00097656e-02\n",
            " 1.05590820e-02 1.11694336e-02 1.15356445e-02 1.19018555e-02\n",
            " 1.21459961e-02 1.26953125e-02 1.30615234e-02 1.32446289e-02\n",
            " 1.34887695e-02 1.39160156e-02 1.40380859e-02 1.42822266e-02\n",
            " 1.47094727e-02 1.48315430e-02 1.51367188e-02 1.50756836e-02\n",
            " 1.53808594e-02 1.56250000e-02 1.57470703e-02 1.57470703e-02\n",
            " 1.61132812e-02 1.59912109e-02 1.61132812e-02 1.62353516e-02\n",
            " 1.66015625e-02 1.68457031e-02 1.70898438e-02 1.40625000e-01\n",
            " 1.85966492e-04 3.70025635e-04 3.37600708e-04 1.32560730e-04\n",
            " 2.97546387e-04 2.88009644e-04 2.60925293e-03 1.44195557e-03\n",
            " 3.86047363e-03 3.79943848e-03 7.20214844e-03 2.86865234e-03\n",
            " 1.51062012e-03 5.91278076e-04 9.15527344e-04 7.01904297e-04\n",
            " 1.53350830e-03 9.46044922e-04 6.90460205e-04 9.15527344e-04\n",
            " 1.55639648e-03 2.25067139e-04 3.58581543e-04 6.82830811e-04\n",
            " 3.90625000e-01 2.69775391e-02 4.23431396e-04 5.26428223e-04\n",
            " 6.63757324e-04 7.78198242e-04 9.68933105e-04 1.16729736e-03\n",
            " 1.31225586e-03 1.49536133e-03 1.70135498e-03 1.89208984e-03\n",
            " 2.05993652e-03 2.24304199e-03 2.36511230e-03 2.54821777e-03\n",
            " 2.65502930e-03 2.79235840e-03 2.97546387e-03 3.12805176e-03\n",
            " 3.14331055e-03 3.31115723e-03 3.41796875e-03 3.61633301e-03\n",
            " 3.72314453e-03 3.90625000e-03 3.99780273e-03 4.18090820e-03\n",
            " 4.27246094e-03 4.36401367e-03 4.60815430e-03 4.69970703e-03\n",
            " 4.79125977e-03 4.85229492e-03 4.82177734e-03 4.97436523e-03\n",
            " 5.12695312e-03 5.21850586e-03 5.37109375e-03 4.02343750e-01\n",
            " 1.10864639e-05 2.27689743e-05 2.74181366e-05 1.21593475e-05\n",
            " 3.48687172e-06 5.06639481e-06 3.93676758e-03 4.29153442e-04\n",
            " 4.78744507e-04 1.38854980e-03 4.29153442e-04 2.33650208e-04\n",
            " 1.94311142e-05 6.86645508e-04 5.12599945e-05 1.56164169e-05\n",
            " 2.55584717e-04 4.12464142e-05 2.05993652e-04 6.77108765e-05\n",
            " 2.83718109e-05 1.92224979e-06 5.57303429e-06 1.82390213e-05\n",
            " 3.00292969e-02 6.56127930e-03 9.65118408e-04 1.87683105e-03\n",
            " 3.25012207e-03 4.60815430e-03 6.07299805e-03 7.75146484e-03\n",
            " 9.09423828e-03 1.03759766e-02 1.18408203e-02 1.30615234e-02\n",
            " 1.40991211e-02 1.51367188e-02 1.59912109e-02 1.69677734e-02\n",
            " 1.77001953e-02 1.87988281e-02 1.95312500e-02 2.01416016e-02\n",
            " 2.06298828e-02 2.16064453e-02 2.19726562e-02 2.30712891e-02\n",
            " 2.34375000e-02 2.39257812e-02 2.45361328e-02 2.51464844e-02\n",
            " 2.57568359e-02 2.61230469e-02 2.64892578e-02 2.73437500e-02\n",
            " 2.78320312e-02 2.78320312e-02 2.78320312e-02 2.91748047e-02\n",
            " 2.91748047e-02 2.96630859e-02 3.00292969e-02 3.05175781e-02\n",
            " 9.01222229e-05 6.48498535e-05 7.82012939e-05 3.01599503e-05\n",
            " 3.74317169e-05 2.34842300e-05 3.85284424e-04 3.39508057e-04\n",
            " 3.60488892e-04 2.09045410e-03 6.33239746e-04 1.96456909e-04\n",
            " 9.29832458e-05 1.63078308e-04 5.87463379e-04 8.65936279e-04\n",
            " 5.14984131e-04 2.82287598e-03 1.91497803e-03 9.57489014e-04\n",
            " 1.50299072e-03 1.17492676e-03 7.59124756e-04 5.34057617e-04\n",
            " 2.96875000e-01 4.68750000e-02 1.41906738e-03 1.76239014e-03\n",
            " 2.12097168e-03 2.41088867e-03 2.74658203e-03 3.11279297e-03\n",
            " 3.41796875e-03 3.70788574e-03 3.96728516e-03 4.24194336e-03\n",
            " 4.45556641e-03 4.79125977e-03 4.94384766e-03 5.18798828e-03\n",
            " 5.34057617e-03 5.58471680e-03 5.76782227e-03 5.92041016e-03\n",
            " 5.95092773e-03 6.19506836e-03 6.50024414e-03 6.71386719e-03\n",
            " 6.86645508e-03 6.92749023e-03 7.14111328e-03 7.26318359e-03\n",
            " 7.41577148e-03 7.50732422e-03 7.81250000e-03 7.87353516e-03\n",
            " 7.93457031e-03 8.05664062e-03 7.93457031e-03 8.11767578e-03\n",
            " 8.36181641e-03 8.48388672e-03 8.54492188e-03 3.10546875e-01\n",
            " 1.35421753e-04 1.64031982e-04 2.88009644e-04 2.30789185e-04\n",
            " 1.19686127e-04 1.05857849e-04 3.29589844e-03 5.37872314e-04\n",
            " 7.24792480e-04 1.76239014e-03 1.06811523e-03 9.15527344e-04\n",
            " 2.97546387e-04 4.59671021e-04 1.74522400e-04 1.23977661e-04\n",
            " 2.38418579e-04 2.38418579e-04 4.52041626e-04 6.48498535e-04\n",
            " 4.82559204e-04 8.77380371e-05 9.63211060e-05 5.22613525e-04\n",
            " 4.47265625e-01 1.90429688e-02 4.17232513e-05 2.86102295e-05\n",
            " 3.91006470e-05 5.03063202e-05 6.24656677e-05 7.29560852e-05\n",
            " 8.53538513e-05 9.53674316e-05 1.04904175e-04 1.18732452e-04\n",
            " 1.23977661e-04 1.34468079e-04 1.36375427e-04 1.43051147e-04\n",
            " 1.45912170e-04 1.59263611e-04 1.64985657e-04 1.69754028e-04\n",
            " 1.72615051e-04 1.78337097e-04 1.81198120e-04 1.89781189e-04\n",
            " 1.92642212e-04 2.02178955e-04 2.05039978e-04 2.11715698e-04\n",
            " 2.11715698e-04 2.14576721e-04 2.22206116e-04 2.28881836e-04\n",
            " 2.25067139e-04 2.25067139e-04 2.25067139e-04 2.32696533e-04\n",
            " 2.36511230e-04 2.39372253e-04 2.43186951e-04 4.76562500e-01\n",
            " 7.48038292e-06 3.11434269e-06 4.38094139e-06 5.30481339e-06\n",
            " 3.75509262e-06 5.63263893e-06 1.98364258e-03 7.53402710e-05\n",
            " 1.47819519e-04 4.55856323e-04 3.43322754e-04 1.18732452e-04\n",
            " 3.55243683e-05 1.06334686e-04 4.86373901e-05 3.33786011e-05\n",
            " 6.14166260e-04 6.67572021e-05 1.78337097e-04 8.46385956e-06\n",
            " 2.61068344e-05 2.57790089e-06 6.37769699e-06 4.72068787e-05\n",
            " 2.32421875e-01 2.39257812e-02 1.88446045e-03 1.77001953e-03\n",
            " 2.34985352e-03 2.97546387e-03 3.61633301e-03 4.27246094e-03\n",
            " 4.82177734e-03 5.37109375e-03 6.01196289e-03 6.43920898e-03\n",
            " 6.95800781e-03 7.41577148e-03 7.62939453e-03 8.05664062e-03\n",
            " 8.30078125e-03 8.78906250e-03 8.91113281e-03 9.27734375e-03\n",
            " 9.27734375e-03 9.64355469e-03 9.64355469e-03 1.00097656e-02\n",
            " 1.00708008e-02 1.03149414e-02 1.03759766e-02 1.04980469e-02\n",
            " 1.06811523e-02 1.08032227e-02 1.09863281e-02 1.11083984e-02\n",
            " 1.12304688e-02 1.13525391e-02 1.12304688e-02 1.14135742e-02\n",
            " 1.12304688e-02 1.15356445e-02 1.16577148e-02 2.43164062e-01\n",
            " 9.49859619e-04 1.56402588e-03 1.69372559e-03 9.04083252e-04\n",
            " 3.77655029e-04 4.21524048e-04 1.45263672e-02 9.21630859e-03\n",
            " 4.94384766e-03 1.15356445e-02 7.41577148e-03 3.18908691e-03\n",
            " 1.22070312e-03 2.97546387e-03 2.21252441e-03 1.22070312e-03\n",
            " 7.62939453e-04 2.53295898e-03 3.20434570e-03 8.23974609e-04\n",
            " 1.18255615e-03 2.76565552e-04 2.51770020e-04 6.33239746e-04\n",
            " 5.43212891e-03 1.41906738e-03 1.53350830e-03 1.60980225e-03\n",
            " 1.76239014e-03 1.93786621e-03 2.09045410e-03 2.22778320e-03\n",
            " 2.30407715e-03 2.41088867e-03 2.48718262e-03 2.56347656e-03\n",
            " 2.56347656e-03 2.60925293e-03 2.68554688e-03 2.68554688e-03\n",
            " 2.77709961e-03 2.82287598e-03 2.86865234e-03 2.96020508e-03\n",
            " 3.00598145e-03 3.00598145e-03 3.09753418e-03 3.09753418e-03\n",
            " 3.17382812e-03 3.20434570e-03 3.28063965e-03 3.35693359e-03\n",
            " 3.35693359e-03 3.40270996e-03 3.43322754e-03 3.43322754e-03\n",
            " 3.47900391e-03 3.43322754e-03 3.47900391e-03 3.47900391e-03\n",
            " 3.54003906e-03 3.54003906e-03 3.57055664e-03 9.52148438e-03\n",
            " 2.65502930e-03 3.76892090e-03 4.76074219e-03 3.73840332e-03\n",
            " 5.64575195e-03 8.97216797e-03 9.15527344e-03 7.08007812e-03\n",
            " 1.00708008e-02 1.12304688e-02 2.38037109e-02 1.34887695e-02\n",
            " 9.27734375e-03 1.23291016e-02 1.31225586e-02 9.76562500e-03\n",
            " 1.00097656e-02 9.88769531e-03 3.29589844e-02 8.54492188e-03\n",
            " 5.00488281e-03 6.16455078e-03 8.42285156e-03 1.30615234e-02\n",
            " 5.66406250e-02 1.58691406e-02 1.43432617e-02 1.22070312e-02\n",
            " 1.09252930e-02 1.00708008e-02 9.46044922e-03 9.09423828e-03\n",
            " 8.66699219e-03 8.48388672e-03 7.99560547e-03 7.87353516e-03\n",
            " 7.78198242e-03 7.53784180e-03 7.50732422e-03 7.56835938e-03\n",
            " 7.32421875e-03 7.23266602e-03 7.53784180e-03 7.50732422e-03\n",
            " 7.59887695e-03 7.56835938e-03 7.75146484e-03 7.87353516e-03\n",
            " 7.87353516e-03 8.05664062e-03 8.11767578e-03 8.23974609e-03\n",
            " 8.17871094e-03 8.30078125e-03 8.54492188e-03 8.66699219e-03\n",
            " 8.60595703e-03 8.54492188e-03 8.66699219e-03 8.60595703e-03\n",
            " 8.97216797e-03 8.97216797e-03 9.09423828e-03 6.78710938e-02\n",
            " 5.40161133e-03 1.85394287e-03 4.76074219e-03 7.53784180e-03\n",
            " 8.42285156e-03 7.32421875e-03 1.47705078e-02 6.28662109e-03\n",
            " 1.78222656e-02 1.35498047e-02 3.90625000e-03 7.20214844e-03\n",
            " 1.00097656e-02 1.40991211e-02 5.79833984e-03 8.54492188e-03\n",
            " 1.04370117e-02 1.01318359e-02 3.96728516e-03 3.60107422e-03\n",
            " 2.59399414e-03 1.96838379e-03 2.60925293e-03 2.53295898e-03\n",
            " 2.26562500e-01 1.37329102e-02 1.09863281e-03 5.81741333e-05\n",
            " 8.20159912e-05 1.30653381e-04 1.79290771e-04 2.44140625e-04\n",
            " 3.33786011e-04 4.15802002e-04 5.26428223e-04 5.95092773e-04\n",
            " 7.09533691e-04 8.16345215e-04 8.69750977e-04 9.38415527e-04\n",
            " 1.06048584e-03 1.16729736e-03 1.26647949e-03 1.30462646e-03\n",
            " 1.36566162e-03 1.54876709e-03 1.59454346e-03 1.75476074e-03\n",
            " 1.72424316e-03 1.86920166e-03 2.01416016e-03 2.12097168e-03\n",
            " 2.07519531e-03 2.39562988e-03 2.28881836e-03 2.54821777e-03\n",
            " 2.51770020e-03 2.59399414e-03 2.71606445e-03 2.85339355e-03\n",
            " 2.85339355e-03 2.97546387e-03 3.03649902e-03 2.18750000e-01\n",
            " 2.84053385e-08 4.43309546e-07 5.36441803e-07 3.46451998e-07\n",
            " 3.08454037e-06 5.75184822e-06 8.40425491e-06 3.74317169e-05\n",
            " 1.29938126e-05 1.77621841e-05 5.87463379e-04 9.29832458e-05\n",
            " 2.16484070e-04 2.83718109e-05 4.29153442e-04 2.20537186e-05\n",
            " 4.67300415e-05 2.50339508e-05 7.20977783e-04 5.75184822e-06\n",
            " 1.88350677e-05 7.86781311e-06 3.96370888e-06 1.53541565e-04]\n"
          ]
        }
      ],
      "source": [
        "import numpy as np\n",
        "import json\n",
        "\n",
        "# Load feature/label arrays\n",
        "features = np.load(\"probe_features.npy\")\n",
        "labels = np.load(\"probe_labels.npy\")\n",
        "\n",
        "# Load original latent decoding data\n",
        "with open(\"gsm8k_phase1_data_collection.json\", \"r\") as f:\n",
        "    data = json.load(f)\n",
        "\n",
        "print(\"✅ Loaded probe feature and label arrays.\")\n",
        "print(f\"📐 Features shape: {features.shape}\")  # e.g., (7914, 10)\n",
        "print(f\"📊 Labels shape:   {labels.shape}\")    # e.g., (7914,)\n",
        "\n",
        "# Compute mapping index: q_idx × 6 + latent_step = flat_index\n",
        "NUM_LATENTS = 6\n",
        "\n",
        "# Preview a few examples\n",
        "for flat_idx in range(min(5, len(labels))):\n",
        "    q_idx = flat_idx // NUM_LATENTS\n",
        "    latent_step = flat_idx % NUM_LATENTS\n",
        "    latent_data = data[q_idx][\"latent_data\"][latent_step]\n",
        "\n",
        "    print(f\"\\n🧪 Example {flat_idx + 1}\")\n",
        "    print(f\"📌 Question ID: {data[q_idx]['question_id']} | Latent Step: {latent_step}\")\n",
        "    print(f\"🧠 Decoded Tokens (top-5): {latent_data['decoded_intermediate_output']}\")\n",
        "    print(f\"📈 Label (number-ness): {labels[flat_idx]:.4f}\")\n",
        "    print(f\"📊 Feature (top-10 contributions): {features[flat_idx]}\")\n"
      ]
    },
    {
      "cell_type": "code",
      "execution_count": 37,
      "metadata": {
        "colab": {
          "base_uri": "https://localhost:8080/",
          "height": 911
        },
        "id": "QLsvj2OVLAkM",
        "outputId": "0fa975db-67e0-4672-86ce-113201d8cfe4"
      },
      "outputs": [
        {
          "name": "stdout",
          "output_type": "stream",
          "text": [
            "✅ Loading top features and labels...\n",
            "📐 Feature shape: (7914, 640)\n",
            "📊 Label shape:   (7914,)\n",
            "\n",
            "🎯 Training ridge regressor on your 10 selected heads...\n",
            "🧠 MSE with hand-picked heads: 0.043145\n",
            "\n",
            "🎲 Running 1000 trials with real randomly sampled head sets...\n",
            "\n",
            "--- Results ---\n",
            "📌 Your MSE:         0.043145\n",
            "🎲 Mean Random MSE: 0.048320\n",
            "🏆 Percentile Rank:  93.8%\n",
            "\n",
            "📊 Saving plot to: probe_mse_static_features.png\n"
          ]
        },
        {
          "data": {
            "image/png": "[encoded data removed]",
            "text/plain": [
              "<Figure size 1000x600 with 1 Axes>"
            ]
          },
          "metadata": {},
          "output_type": "display_data"
        },
        {
          "name": "stdout",
          "output_type": "stream",
          "text": [
            "\n",
            "✅ Done.\n"
          ]
        }
      ],
      "source": [
        "import numpy as np\n",
        "import os\n",
        "from sklearn.linear_model import Ridge\n",
        "from sklearn.model_selection import train_test_split\n",
        "from sklearn.metrics import mean_squared_error\n",
        "import matplotlib.pyplot as plt\n",
        "import seaborn as sns\n",
        "\n",
        "# --- Configuration ---\n",
        "TOP_FEATURES_PATH = \"probe_features_top.npy\"\n",
        "LABELS_PATH = \"probe_labels.npy\"\n",
        "PLOT_OUTPUT_PATH = \"probe_mse_static_features.png\"\n",
        "NUM_TRIALS = 1000\n",
        "RAND_FEATURE_TEMPLATE = \"probe_features_rand_{:03d}.npy\"\n",
        "\n",
        "# --- Load Data ---\n",
        "print(\"✅ Loading top features and labels...\")\n",
        "X = np.load(TOP_FEATURES_PATH)  # shape: [N, D]\n",
        "y = np.load(LABELS_PATH)        # shape: [N]\n",
        "\n",
        "print(f\"📐 Feature shape: {X.shape}\")\n",
        "print(f\"📊 Label shape:   {y.shape}\")\n",
        "\n",
        "# --- Train Ridge Regressor on Hand-Picked Heads ---\n",
        "print(\"\\n🎯 Training ridge regressor on your 10 selected heads...\")\n",
        "X_train, X_test, y_train, y_test = train_test_split(X, y, test_size=0.2, random_state=42)\n",
        "\n",
        "model = Ridge(alpha=1.0)\n",
        "model.fit(X_train, y_train)\n",
        "y_pred = model.predict(X_test)\n",
        "\n",
        "your_mse = mean_squared_error(y_test, y_pred)\n",
        "print(f\"🧠 MSE with hand-picked heads: {your_mse:.6f}\")\n",
        "\n",
        "# --- Evaluate MSE on Random Head Sets ---\n",
        "print(f\"\\n🎲 Running {NUM_TRIALS} trials with real randomly sampled head sets...\")\n",
        "random_mse_list = []\n",
        "missing_count = 0\n",
        "\n",
        "for i in range(NUM_TRIALS):\n",
        "    rand_path = RAND_FEATURE_TEMPLATE.format(i)\n",
        "    if not os.path.exists(rand_path):\n",
        "        print(f\"⚠️ Missing file: {rand_path} — skipping.\")\n",
        "        missing_count += 1\n",
        "        continue\n",
        "\n",
        "    X_rand = np.load(rand_path)\n",
        "    X_train, X_test, y_train, y_test = train_test_split(X_rand, y, test_size=0.2, random_state=42)\n",
        "\n",
        "    model_rand = Ridge(alpha=1.0)\n",
        "    model_rand.fit(X_train, y_train)\n",
        "    y_pred_rand = model_rand.predict(X_test)\n",
        "\n",
        "    mse = mean_squared_error(y_test, y_pred_rand)\n",
        "    random_mse_list.append(mse)\n",
        "\n",
        "if missing_count > 0:\n",
        "    print(f\"⚠️ Skipped {missing_count} trials due to missing files.\")\n",
        "\n",
        "# --- Metrics ---\n",
        "random_mse_list = np.array(random_mse_list)\n",
        "mean_random_mse = random_mse_list.mean()\n",
        "percentile = np.mean(your_mse < random_mse_list) * 100\n",
        "\n",
        "print(\"\\n--- Results ---\")\n",
        "print(f\"📌 Your MSE:         {your_mse:.6f}\")\n",
        "print(f\"🎲 Mean Random MSE: {mean_random_mse:.6f}\")\n",
        "print(f\"🏆 Percentile Rank:  {percentile:.1f}%\")\n",
        "\n",
        "# --- Plotting ---\n",
        "print(f\"\\n📊 Saving plot to: {PLOT_OUTPUT_PATH}\")\n",
        "plt.style.use('seaborn-v0_8-whitegrid')\n",
        "fig, ax = plt.subplots(figsize=(10, 6))\n",
        "\n",
        "sns.histplot(random_mse_list, bins=40, color=\"coral\", ax=ax, label=\"Random Head Sets\")\n",
        "ax.axvline(your_mse, color=\"darkblue\", linestyle=\"--\", linewidth=2,\n",
        "           label=f\"Your Heads (MSE = {your_mse:.4f})\")\n",
        "ax.axvline(mean_random_mse, color=\"black\", linestyle=\":\", linewidth=2,\n",
        "           label=f\"Random Mean (MSE = {mean_random_mse:.4f})\")\n",
        "\n",
        "ax.set_title(\"MSE: Hand-Picked Features vs. Randomized\", fontsize=16, fontweight=\"bold\")\n",
        "ax.set_xlabel(\"Mean Squared Error\", fontsize=12)\n",
        "ax.set_ylabel(\"Frequency\", fontsize=12)\n",
        "ax.legend()\n",
        "fig.tight_layout()\n",
        "plt.savefig(PLOT_OUTPUT_PATH)\n",
        "plt.show()\n",
        "\n",
        "print(\"\\n✅ Done.\")\n"
      ]
    }
  ],
  "metadata": {
    "accelerator": "GPU",
    "colab": {
      "gpuType": "T4",
      "machine_shape": "hm",
      "provenance": []
    },
    "kernelspec": {
      "display_name": "Python 3",
      "name": "python3"
    },
    "language_info": {
      "name": "python"
    },
    "widgets": {
      "application/vnd.jupyter.widget-state+json": {
        "075d56e643564b29b0138955a6fcb45b": {
          "model_module": "@jupyter-widgets/base",
          "model_module_version": "1.2.0",
          "model_name": "LayoutModel",
          "state": {
            "_model_module": "@jupyter-widgets/base",
            "_model_module_version": "1.2.0",
            "_model_name": "LayoutModel",
            "_view_count": null,
            "_view_module": "@jupyter-widgets/base",
            "_view_module_version": "1.2.0",
            "_view_name": "LayoutView",
            "align_content": null,
            "align_items": null,
            "align_self": null,
            "border": null,
            "bottom": null,
            "display": null,
            "flex": null,
            "flex_flow": null,
            "grid_area": null,
            "grid_auto_columns": null,
            "grid_auto_flow": null,
            "grid_auto_rows": null,
            "grid_column": null,
            "grid_gap": null,
            "grid_row": null,
            "grid_template_areas": null,
            "grid_template_columns": null,
            "grid_template_rows": null,
            "height": null,
            "justify_content": null,
            "justify_items": null,
            "left": null,
            "margin": null,
            "max_height": null,
            "max_width": null,
            "min_height": null,
            "min_width": null,
            "object_fit": null,
            "object_position": null,
            "order": null,
            "overflow": null,
            "overflow_x": null,
            "overflow_y": null,
            "padding": null,
            "right": null,
            "top": null,
            "visibility": null,
            "width": null
          }
        },
        "091153a747054947ac1f4feec5dbfa21": {
          "model_module": "@jupyter-widgets/base",
          "model_module_version": "1.2.0",
          "model_name": "LayoutModel",
          "state": {
            "_model_module": "@jupyter-widgets/base",
            "_model_module_version": "1.2.0",
            "_model_name": "LayoutModel",
            "_view_count": null,
            "_view_module": "@jupyter-widgets/base",
            "_view_module_version": "1.2.0",
            "_view_name": "LayoutView",
            "align_content": null,
            "align_items": null,
            "align_self": null,
            "border": null,
            "bottom": null,
            "display": null,
            "flex": null,
            "flex_flow": null,
            "grid_area": null,
            "grid_auto_columns": null,
            "grid_auto_flow": null,
            "grid_auto_rows": null,
            "grid_column": null,
            "grid_gap": null,
            "grid_row": null,
            "grid_template_areas": null,
            "grid_template_columns": null,
            "grid_template_rows": null,
            "height": null,
            "justify_content": null,
            "justify_items": null,
            "left": null,
            "margin": null,
            "max_height": null,
            "max_width": null,
            "min_height": null,
            "min_width": null,
            "object_fit": null,
            "object_position": null,
            "order": null,
            "overflow": null,
            "overflow_x": null,
            "overflow_y": null,
            "padding": null,
            "right": null,
            "top": null,
            "visibility": null,
            "width": null
          }
        },
        "0a19985a147745acb11632a36805d214": {
          "model_module": "@jupyter-widgets/controls",
          "model_module_version": "1.5.0",
          "model_name": "FloatProgressModel",
          "state": {
            "_dom_classes": [],
            "_model_module": "@jupyter-widgets/controls",
            "_model_module_version": "1.5.0",
            "_model_name": "FloatProgressModel",
            "_view_count": null,
            "_view_module": "@jupyter-widgets/controls",
            "_view_module_version": "1.5.0",
            "_view_name": "ProgressView",
            "bar_style": "success",
            "description": "",
            "description_tooltip": null,
            "layout": "IPY_MODEL_661706f878304b3eabb9718cf1e36ae6",
            "max": 406398137,
            "min": 0,
            "orientation": "horizontal",
            "style": "IPY_MODEL_29c1426a60a4441aa1460020213204fd",
            "value": 406398137
          }
        },
        "1f74ad19d54a4024aa01bd4cf92eb8d4": {
          "model_module": "@jupyter-widgets/controls",
          "model_module_version": "1.5.0",
          "model_name": "FloatProgressModel",
          "state": {
            "_dom_classes": [],
            "_model_module": "@jupyter-widgets/controls",
            "_model_module_version": "1.5.0",
            "_model_name": "FloatProgressModel",
            "_view_count": null,
            "_view_module": "@jupyter-widgets/controls",
            "_view_module_version": "1.5.0",
            "_view_name": "ProgressView",
            "bar_style": "success",
            "description": "",
            "description_tooltip": null,
            "layout": "IPY_MODEL_2223f2c0be034db882e63679154e036a",
            "max": 3,
            "min": 0,
            "orientation": "horizontal",
            "style": "IPY_MODEL_aefef612ee7a4cad95aeda0379104214",
            "value": 3
          }
        },
        "204c1120bedb48929a32b800eb2eae49": {
          "model_module": "@jupyter-widgets/controls",
          "model_module_version": "1.5.0",
          "model_name": "ProgressStyleModel",
          "state": {
            "_model_module": "@jupyter-widgets/controls",
            "_model_module_version": "1.5.0",
            "_model_name": "ProgressStyleModel",
            "_view_count": null,
            "_view_module": "@jupyter-widgets/base",
            "_view_module_version": "1.2.0",
            "_view_name": "StyleView",
            "bar_color": null,
            "description_width": ""
          }
        },
        "2223f2c0be034db882e63679154e036a": {
          "model_module": "@jupyter-widgets/base",
          "model_module_version": "1.2.0",
          "model_name": "LayoutModel",
          "state": {
            "_model_module": "@jupyter-widgets/base",
            "_model_module_version": "1.2.0",
            "_model_name": "LayoutModel",
            "_view_count": null,
            "_view_module": "@jupyter-widgets/base",
            "_view_module_version": "1.2.0",
            "_view_name": "LayoutView",
            "align_content": null,
            "align_items": null,
            "align_self": null,
            "border": null,
            "bottom": null,
            "display": null,
            "flex": null,
            "flex_flow": null,
            "grid_area": null,
            "grid_auto_columns": null,
            "grid_auto_flow": null,
            "grid_auto_rows": null,
            "grid_column": null,
            "grid_gap": null,
            "grid_row": null,
            "grid_template_areas": null,
            "grid_template_columns": null,
            "grid_template_rows": null,
            "height": null,
            "justify_content": null,
            "justify_items": null,
            "left": null,
            "margin": null,
            "max_height": null,
            "max_width": null,
            "min_height": null,
            "min_width": null,
            "object_fit": null,
            "object_position": null,
            "order": null,
            "overflow": null,
            "overflow_x": null,
            "overflow_y": null,
            "padding": null,
            "right": null,
            "top": null,
            "visibility": null,
            "width": null
          }
        },
        "29c1426a60a4441aa1460020213204fd": {
          "model_module": "@jupyter-widgets/controls",
          "model_module_version": "1.5.0",
          "model_name": "ProgressStyleModel",
          "state": {
            "_model_module": "@jupyter-widgets/controls",
            "_model_module_version": "1.5.0",
            "_model_name": "ProgressStyleModel",
            "_view_count": null,
            "_view_module": "@jupyter-widgets/base",
            "_view_module_version": "1.2.0",
            "_view_name": "StyleView",
            "bar_color": null,
            "description_width": ""
          }
        },
        "2f096b0e1bbe4273b5a918422f9cb05a": {
          "model_module": "@jupyter-widgets/base",
          "model_module_version": "1.2.0",
          "model_name": "LayoutModel",
          "state": {
            "_model_module": "@jupyter-widgets/base",
            "_model_module_version": "1.2.0",
            "_model_name": "LayoutModel",
            "_view_count": null,
            "_view_module": "@jupyter-widgets/base",
            "_view_module_version": "1.2.0",
            "_view_name": "LayoutView",
            "align_content": null,
            "align_items": null,
            "align_self": null,
            "border": null,
            "bottom": null,
            "display": null,
            "flex": null,
            "flex_flow": null,
            "grid_area": null,
            "grid_auto_columns": null,
            "grid_auto_flow": null,
            "grid_auto_rows": null,
            "grid_column": null,
            "grid_gap": null,
            "grid_row": null,
            "grid_template_areas": null,
            "grid_template_columns": null,
            "grid_template_rows": null,
            "height": null,
            "justify_content": null,
            "justify_items": null,
            "left": null,
            "margin": null,
            "max_height": null,
            "max_width": null,
            "min_height": null,
            "min_width": null,
            "object_fit": null,
            "object_position": null,
            "order": null,
            "overflow": null,
            "overflow_x": null,
            "overflow_y": null,
            "padding": null,
            "right": null,
            "top": null,
            "visibility": null,
            "width": "20px"
          }
        },
        "39c72bac7a154c92b871fa7d0fa18232": {
          "model_module": "@jupyter-widgets/base",
          "model_module_version": "1.2.0",
          "model_name": "LayoutModel",
          "state": {
            "_model_module": "@jupyter-widgets/base",
            "_model_module_version": "1.2.0",
            "_model_name": "LayoutModel",
            "_view_count": null,
            "_view_module": "@jupyter-widgets/base",
            "_view_module_version": "1.2.0",
            "_view_name": "LayoutView",
            "align_content": null,
            "align_items": null,
            "align_self": null,
            "border": null,
            "bottom": null,
            "display": null,
            "flex": null,
            "flex_flow": null,
            "grid_area": null,
            "grid_auto_columns": null,
            "grid_auto_flow": null,
            "grid_auto_rows": null,
            "grid_column": null,
            "grid_gap": null,
            "grid_row": null,
            "grid_template_areas": null,
            "grid_template_columns": null,
            "grid_template_rows": null,
            "height": null,
            "justify_content": null,
            "justify_items": null,
            "left": null,
            "margin": null,
            "max_height": null,
            "max_width": null,
            "min_height": null,
            "min_width": null,
            "object_fit": null,
            "object_position": null,
            "order": null,
            "overflow": null,
            "overflow_x": null,
            "overflow_y": null,
            "padding": null,
            "right": null,
            "top": null,
            "visibility": null,
            "width": null
          }
        },
        "3bee1b3fcd4c4b2c837c3faf48a9a40a": {
          "model_module": "@jupyter-widgets/controls",
          "model_module_version": "1.5.0",
          "model_name": "HBoxModel",
          "state": {
            "_dom_classes": [],
            "_model_module": "@jupyter-widgets/controls",
            "_model_module_version": "1.5.0",
            "_model_name": "HBoxModel",
            "_view_count": null,
            "_view_module": "@jupyter-widgets/controls",
            "_view_module_version": "1.5.0",
            "_view_name": "HBoxView",
            "box_style": "",
            "children": [
              "IPY_MODEL_59505525ad024a1b8b629cbcfef6850d",
              "IPY_MODEL_1f74ad19d54a4024aa01bd4cf92eb8d4",
              "IPY_MODEL_5ced798e45324431b375383a75ec633d"
            ],
            "layout": "IPY_MODEL_a86b05579be84d02810cddaf81008c6e"
          }
        },
        "3c4800cc546746598073956ecf7e4f5c": {
          "model_module": "@jupyter-widgets/controls",
          "model_module_version": "1.5.0",
          "model_name": "DescriptionStyleModel",
          "state": {
            "_model_module": "@jupyter-widgets/controls",
            "_model_module_version": "1.5.0",
            "_model_name": "DescriptionStyleModel",
            "_view_count": null,
            "_view_module": "@jupyter-widgets/base",
            "_view_module_version": "1.2.0",
            "_view_name": "StyleView",
            "description_width": ""
          }
        },
        "3ce1e1571b5149bab7e9af2feb81f614": {
          "model_module": "@jupyter-widgets/base",
          "model_module_version": "1.2.0",
          "model_name": "LayoutModel",
          "state": {
            "_model_module": "@jupyter-widgets/base",
            "_model_module_version": "1.2.0",
            "_model_name": "LayoutModel",
            "_view_count": null,
            "_view_module": "@jupyter-widgets/base",
            "_view_module_version": "1.2.0",
            "_view_name": "LayoutView",
            "align_content": null,
            "align_items": null,
            "align_self": null,
            "border": null,
            "bottom": null,
            "display": null,
            "flex": null,
            "flex_flow": null,
            "grid_area": null,
            "grid_auto_columns": null,
            "grid_auto_flow": null,
            "grid_auto_rows": null,
            "grid_column": null,
            "grid_gap": null,
            "grid_row": null,
            "grid_template_areas": null,
            "grid_template_columns": null,
            "grid_template_rows": null,
            "height": null,
            "justify_content": null,
            "justify_items": null,
            "left": null,
            "margin": null,
            "max_height": null,
            "max_width": null,
            "min_height": null,
            "min_width": null,
            "object_fit": null,
            "object_position": null,
            "order": null,
            "overflow": null,
            "overflow_x": null,
            "overflow_y": null,
            "padding": null,
            "right": null,
            "top": null,
            "visibility": null,
            "width": null
          }
        },
        "3f0aa1c7c31148b284000ddb5d689503": {
          "model_module": "@jupyter-widgets/controls",
          "model_module_version": "1.5.0",
          "model_name": "HTMLModel",
          "state": {
            "_dom_classes": [],
            "_model_module": "@jupyter-widgets/controls",
            "_model_module_version": "1.5.0",
            "_model_name": "HTMLModel",
            "_view_count": null,
            "_view_module": "@jupyter-widgets/controls",
            "_view_module_version": "1.5.0",
            "_view_name": "HTMLView",
            "description": "",
            "description_tooltip": null,
            "layout": "IPY_MODEL_bf00e1eac2fd49bc8ea7ad23e8766bcb",
            "placeholder": "​",
            "style": "IPY_MODEL_d1c2e32c28464a6bb04b0f4e3affd9f1",
            "value": " 1.52k/? [00:00&lt;00:00, 123kB/s]"
          }
        },
        "412b9f700df64dcb82df4d0a625f2ab0": {
          "model_module": "@jupyter-widgets/controls",
          "model_module_version": "1.5.0",
          "model_name": "FloatProgressModel",
          "state": {
            "_dom_classes": [],
            "_model_module": "@jupyter-widgets/controls",
            "_model_module_version": "1.5.0",
            "_model_name": "FloatProgressModel",
            "_view_count": null,
            "_view_module": "@jupyter-widgets/controls",
            "_view_module_version": "1.5.0",
            "_view_name": "ProgressView",
            "bar_style": "success",
            "description": "",
            "description_tooltip": null,
            "layout": "IPY_MODEL_d22bde7cc62848ebb02e93cd97ba1e39",
            "max": 218,
            "min": 0,
            "orientation": "horizontal",
            "style": "IPY_MODEL_204c1120bedb48929a32b800eb2eae49",
            "value": 218
          }
        },
        "48041b652220457cb8f0287c5b5f7ada": {
          "model_module": "@jupyter-widgets/controls",
          "model_module_version": "1.5.0",
          "model_name": "DescriptionStyleModel",
          "state": {
            "_model_module": "@jupyter-widgets/controls",
            "_model_module_version": "1.5.0",
            "_model_name": "DescriptionStyleModel",
            "_view_count": null,
            "_view_module": "@jupyter-widgets/base",
            "_view_module_version": "1.2.0",
            "_view_name": "StyleView",
            "description_width": ""
          }
        },
        "52b31b7e96b141299e5f7a2a54b3daaa": {
          "model_module": "@jupyter-widgets/base",
          "model_module_version": "1.2.0",
          "model_name": "LayoutModel",
          "state": {
            "_model_module": "@jupyter-widgets/base",
            "_model_module_version": "1.2.0",
            "_model_name": "LayoutModel",
            "_view_count": null,
            "_view_module": "@jupyter-widgets/base",
            "_view_module_version": "1.2.0",
            "_view_name": "LayoutView",
            "align_content": null,
            "align_items": null,
            "align_self": null,
            "border": null,
            "bottom": null,
            "display": null,
            "flex": null,
            "flex_flow": null,
            "grid_area": null,
            "grid_auto_columns": null,
            "grid_auto_flow": null,
            "grid_auto_rows": null,
            "grid_column": null,
            "grid_gap": null,
            "grid_row": null,
            "grid_template_areas": null,
            "grid_template_columns": null,
            "grid_template_rows": null,
            "height": null,
            "justify_content": null,
            "justify_items": null,
            "left": null,
            "margin": null,
            "max_height": null,
            "max_width": null,
            "min_height": null,
            "min_width": null,
            "object_fit": null,
            "object_position": null,
            "order": null,
            "overflow": null,
            "overflow_x": null,
            "overflow_y": null,
            "padding": null,
            "right": null,
            "top": null,
            "visibility": null,
            "width": null
          }
        },
        "55630dc9a712468183e670f35ded7f07": {
          "model_module": "@jupyter-widgets/controls",
          "model_module_version": "1.5.0",
          "model_name": "HTMLModel",
          "state": {
            "_dom_classes": [],
            "_model_module": "@jupyter-widgets/controls",
            "_model_module_version": "1.5.0",
            "_model_name": "HTMLModel",
            "_view_count": null,
            "_view_module": "@jupyter-widgets/controls",
            "_view_module_version": "1.5.0",
            "_view_name": "HTMLView",
            "description": "",
            "description_tooltip": null,
            "layout": "IPY_MODEL_091153a747054947ac1f4feec5dbfa21",
            "placeholder": "​",
            "style": "IPY_MODEL_8e32efed0b104af79ba97f13734b8963",
            "value": " 406M/406M [00:01&lt;00:00, 298MB/s]"
          }
        },
        "59505525ad024a1b8b629cbcfef6850d": {
          "model_module": "@jupyter-widgets/controls",
          "model_module_version": "1.5.0",
          "model_name": "HTMLModel",
          "state": {
            "_dom_classes": [],
            "_model_module": "@jupyter-widgets/controls",
            "_model_module_version": "1.5.0",
            "_model_name": "HTMLModel",
            "_view_count": null,
            "_view_module": "@jupyter-widgets/controls",
            "_view_module_version": "1.5.0",
            "_view_name": "HTMLView",
            "description": "",
            "description_tooltip": null,
            "layout": "IPY_MODEL_075d56e643564b29b0138955a6fcb45b",
            "placeholder": "​",
            "style": "IPY_MODEL_d8a451f2f16645718ebd7e6dd4c4fbcb",
            "value": "Fetching 3 files: 100%"
          }
        },
        "5ced798e45324431b375383a75ec633d": {
          "model_module": "@jupyter-widgets/controls",
          "model_module_version": "1.5.0",
          "model_name": "HTMLModel",
          "state": {
            "_dom_classes": [],
            "_model_module": "@jupyter-widgets/controls",
            "_model_module_version": "1.5.0",
            "_model_name": "HTMLModel",
            "_view_count": null,
            "_view_module": "@jupyter-widgets/controls",
            "_view_module_version": "1.5.0",
            "_view_name": "HTMLView",
            "description": "",
            "description_tooltip": null,
            "layout": "IPY_MODEL_796fd25f2d244b1e874631c83e3930b9",
            "placeholder": "​",
            "style": "IPY_MODEL_8b70ef8e7e4c4f40b5fa5a32c70de87c",
            "value": " 3/3 [00:01&lt;00:00,  1.77it/s]"
          }
        },
        "661706f878304b3eabb9718cf1e36ae6": {
          "model_module": "@jupyter-widgets/base",
          "model_module_version": "1.2.0",
          "model_name": "LayoutModel",
          "state": {
            "_model_module": "@jupyter-widgets/base",
            "_model_module_version": "1.2.0",
            "_model_name": "LayoutModel",
            "_view_count": null,
            "_view_module": "@jupyter-widgets/base",
            "_view_module_version": "1.2.0",
            "_view_name": "LayoutView",
            "align_content": null,
            "align_items": null,
            "align_self": null,
            "border": null,
            "bottom": null,
            "display": null,
            "flex": null,
            "flex_flow": null,
            "grid_area": null,
            "grid_auto_columns": null,
            "grid_auto_flow": null,
            "grid_auto_rows": null,
            "grid_column": null,
            "grid_gap": null,
            "grid_row": null,
            "grid_template_areas": null,
            "grid_template_columns": null,
            "grid_template_rows": null,
            "height": null,
            "justify_content": null,
            "justify_items": null,
            "left": null,
            "margin": null,
            "max_height": null,
            "max_width": null,
            "min_height": null,
            "min_width": null,
            "object_fit": null,
            "object_position": null,
            "order": null,
            "overflow": null,
            "overflow_x": null,
            "overflow_y": null,
            "padding": null,
            "right": null,
            "top": null,
            "visibility": null,
            "width": null
          }
        },
        "6a0a6e05672c48eeb9c82642c043cee8": {
          "model_module": "@jupyter-widgets/controls",
          "model_module_version": "1.5.0",
          "model_name": "HBoxModel",
          "state": {
            "_dom_classes": [],
            "_model_module": "@jupyter-widgets/controls",
            "_model_module_version": "1.5.0",
            "_model_name": "HBoxModel",
            "_view_count": null,
            "_view_module": "@jupyter-widgets/controls",
            "_view_module_version": "1.5.0",
            "_view_name": "HBoxView",
            "box_style": "",
            "children": [
              "IPY_MODEL_86de6e7aa4464ce7a02ae64069688734",
              "IPY_MODEL_0a19985a147745acb11632a36805d214",
              "IPY_MODEL_55630dc9a712468183e670f35ded7f07"
            ],
            "layout": "IPY_MODEL_f37ea4d9b93d437a9e23f8500ed872d9"
          }
        },
        "796fd25f2d244b1e874631c83e3930b9": {
          "model_module": "@jupyter-widgets/base",
          "model_module_version": "1.2.0",
          "model_name": "LayoutModel",
          "state": {
            "_model_module": "@jupyter-widgets/base",
            "_model_module_version": "1.2.0",
            "_model_name": "LayoutModel",
            "_view_count": null,
            "_view_module": "@jupyter-widgets/base",
            "_view_module_version": "1.2.0",
            "_view_name": "LayoutView",
            "align_content": null,
            "align_items": null,
            "align_self": null,
            "border": null,
            "bottom": null,
            "display": null,
            "flex": null,
            "flex_flow": null,
            "grid_area": null,
            "grid_auto_columns": null,
            "grid_auto_flow": null,
            "grid_auto_rows": null,
            "grid_column": null,
            "grid_gap": null,
            "grid_row": null,
            "grid_template_areas": null,
            "grid_template_columns": null,
            "grid_template_rows": null,
            "height": null,
            "justify_content": null,
            "justify_items": null,
            "left": null,
            "margin": null,
            "max_height": null,
            "max_width": null,
            "min_height": null,
            "min_width": null,
            "object_fit": null,
            "object_position": null,
            "order": null,
            "overflow": null,
            "overflow_x": null,
            "overflow_y": null,
            "padding": null,
            "right": null,
            "top": null,
            "visibility": null,
            "width": null
          }
        },
        "7a87f6ddd42e4b3d85aa6e12369d8ec4": {
          "model_module": "@jupyter-widgets/controls",
          "model_module_version": "1.5.0",
          "model_name": "HTMLModel",
          "state": {
            "_dom_classes": [],
            "_model_module": "@jupyter-widgets/controls",
            "_model_module_version": "1.5.0",
            "_model_name": "HTMLModel",
            "_view_count": null,
            "_view_module": "@jupyter-widgets/controls",
            "_view_module_version": "1.5.0",
            "_view_name": "HTMLView",
            "description": "",
            "description_tooltip": null,
            "layout": "IPY_MODEL_52b31b7e96b141299e5f7a2a54b3daaa",
            "placeholder": "​",
            "style": "IPY_MODEL_a86dd4c36b1d443fa66d6c63f99faf91",
            "value": ".gitattributes: "
          }
        },
        "7dca416f360c44c1b3a0392bc217ea39": {
          "model_module": "@jupyter-widgets/base",
          "model_module_version": "1.2.0",
          "model_name": "LayoutModel",
          "state": {
            "_model_module": "@jupyter-widgets/base",
            "_model_module_version": "1.2.0",
            "_model_name": "LayoutModel",
            "_view_count": null,
            "_view_module": "@jupyter-widgets/base",
            "_view_module_version": "1.2.0",
            "_view_name": "LayoutView",
            "align_content": null,
            "align_items": null,
            "align_self": null,
            "border": null,
            "bottom": null,
            "display": null,
            "flex": null,
            "flex_flow": null,
            "grid_area": null,
            "grid_auto_columns": null,
            "grid_auto_flow": null,
            "grid_auto_rows": null,
            "grid_column": null,
            "grid_gap": null,
            "grid_row": null,
            "grid_template_areas": null,
            "grid_template_columns": null,
            "grid_template_rows": null,
            "height": null,
            "justify_content": null,
            "justify_items": null,
            "left": null,
            "margin": null,
            "max_height": null,
            "max_width": null,
            "min_height": null,
            "min_width": null,
            "object_fit": null,
            "object_position": null,
            "order": null,
            "overflow": null,
            "overflow_x": null,
            "overflow_y": null,
            "padding": null,
            "right": null,
            "top": null,
            "visibility": null,
            "width": null
          }
        },
        "86de6e7aa4464ce7a02ae64069688734": {
          "model_module": "@jupyter-widgets/controls",
          "model_module_version": "1.5.0",
          "model_name": "HTMLModel",
          "state": {
            "_dom_classes": [],
            "_model_module": "@jupyter-widgets/controls",
            "_model_module_version": "1.5.0",
            "_model_name": "HTMLModel",
            "_view_count": null,
            "_view_module": "@jupyter-widgets/controls",
            "_view_module_version": "1.5.0",
            "_view_name": "HTMLView",
            "description": "",
            "description_tooltip": null,
            "layout": "IPY_MODEL_f0b6221f71df4e0fa7db57dcb5b1deed",
            "placeholder": "​",
            "style": "IPY_MODEL_a9a53163bd4e4e64867200a947315b36",
            "value": "pytorch_model.bin: 100%"
          }
        },
        "8b70ef8e7e4c4f40b5fa5a32c70de87c": {
          "model_module": "@jupyter-widgets/controls",
          "model_module_version": "1.5.0",
          "model_name": "DescriptionStyleModel",
          "state": {
            "_model_module": "@jupyter-widgets/controls",
            "_model_module_version": "1.5.0",
            "_model_name": "DescriptionStyleModel",
            "_view_count": null,
            "_view_module": "@jupyter-widgets/base",
            "_view_module_version": "1.2.0",
            "_view_name": "StyleView",
            "description_width": ""
          }
        },
        "8e32efed0b104af79ba97f13734b8963": {
          "model_module": "@jupyter-widgets/controls",
          "model_module_version": "1.5.0",
          "model_name": "DescriptionStyleModel",
          "state": {
            "_model_module": "@jupyter-widgets/controls",
            "_model_module_version": "1.5.0",
            "_model_name": "DescriptionStyleModel",
            "_view_count": null,
            "_view_module": "@jupyter-widgets/base",
            "_view_module_version": "1.2.0",
            "_view_name": "StyleView",
            "description_width": ""
          }
        },
        "8e7f1ed3fb05433eb95d452936bffd98": {
          "model_module": "@jupyter-widgets/controls",
          "model_module_version": "1.5.0",
          "model_name": "FloatProgressModel",
          "state": {
            "_dom_classes": [],
            "_model_module": "@jupyter-widgets/controls",
            "_model_module_version": "1.5.0",
            "_model_name": "FloatProgressModel",
            "_view_count": null,
            "_view_module": "@jupyter-widgets/controls",
            "_view_module_version": "1.5.0",
            "_view_name": "ProgressView",
            "bar_style": "success",
            "description": "",
            "description_tooltip": null,
            "layout": "IPY_MODEL_2f096b0e1bbe4273b5a918422f9cb05a",
            "max": 1,
            "min": 0,
            "orientation": "horizontal",
            "style": "IPY_MODEL_dbe1c09248d743b9988ab8633bb6eb7c",
            "value": 1
          }
        },
        "a86b05579be84d02810cddaf81008c6e": {
          "model_module": "@jupyter-widgets/base",
          "model_module_version": "1.2.0",
          "model_name": "LayoutModel",
          "state": {
            "_model_module": "@jupyter-widgets/base",
            "_model_module_version": "1.2.0",
            "_model_name": "LayoutModel",
            "_view_count": null,
            "_view_module": "@jupyter-widgets/base",
            "_view_module_version": "1.2.0",
            "_view_name": "LayoutView",
            "align_content": null,
            "align_items": null,
            "align_self": null,
            "border": null,
            "bottom": null,
            "display": null,
            "flex": null,
            "flex_flow": null,
            "grid_area": null,
            "grid_auto_columns": null,
            "grid_auto_flow": null,
            "grid_auto_rows": null,
            "grid_column": null,
            "grid_gap": null,
            "grid_row": null,
            "grid_template_areas": null,
            "grid_template_columns": null,
            "grid_template_rows": null,
            "height": null,
            "justify_content": null,
            "justify_items": null,
            "left": null,
            "margin": null,
            "max_height": null,
            "max_width": null,
            "min_height": null,
            "min_width": null,
            "object_fit": null,
            "object_position": null,
            "order": null,
            "overflow": null,
            "overflow_x": null,
            "overflow_y": null,
            "padding": null,
            "right": null,
            "top": null,
            "visibility": null,
            "width": null
          }
        },
        "a86dd4c36b1d443fa66d6c63f99faf91": {
          "model_module": "@jupyter-widgets/controls",
          "model_module_version": "1.5.0",
          "model_name": "DescriptionStyleModel",
          "state": {
            "_model_module": "@jupyter-widgets/controls",
            "_model_module_version": "1.5.0",
            "_model_name": "DescriptionStyleModel",
            "_view_count": null,
            "_view_module": "@jupyter-widgets/base",
            "_view_module_version": "1.2.0",
            "_view_name": "StyleView",
            "description_width": ""
          }
        },
        "a9a53163bd4e4e64867200a947315b36": {
          "model_module": "@jupyter-widgets/controls",
          "model_module_version": "1.5.0",
          "model_name": "DescriptionStyleModel",
          "state": {
            "_model_module": "@jupyter-widgets/controls",
            "_model_module_version": "1.5.0",
            "_model_name": "DescriptionStyleModel",
            "_view_count": null,
            "_view_module": "@jupyter-widgets/base",
            "_view_module_version": "1.2.0",
            "_view_name": "StyleView",
            "description_width": ""
          }
        },
        "aefef612ee7a4cad95aeda0379104214": {
          "model_module": "@jupyter-widgets/controls",
          "model_module_version": "1.5.0",
          "model_name": "ProgressStyleModel",
          "state": {
            "_model_module": "@jupyter-widgets/controls",
            "_model_module_version": "1.5.0",
            "_model_name": "ProgressStyleModel",
            "_view_count": null,
            "_view_module": "@jupyter-widgets/base",
            "_view_module_version": "1.2.0",
            "_view_name": "StyleView",
            "bar_color": null,
            "description_width": ""
          }
        },
        "bf00e1eac2fd49bc8ea7ad23e8766bcb": {
          "model_module": "@jupyter-widgets/base",
          "model_module_version": "1.2.0",
          "model_name": "LayoutModel",
          "state": {
            "_model_module": "@jupyter-widgets/base",
            "_model_module_version": "1.2.0",
            "_model_name": "LayoutModel",
            "_view_count": null,
            "_view_module": "@jupyter-widgets/base",
            "_view_module_version": "1.2.0",
            "_view_name": "LayoutView",
            "align_content": null,
            "align_items": null,
            "align_self": null,
            "border": null,
            "bottom": null,
            "display": null,
            "flex": null,
            "flex_flow": null,
            "grid_area": null,
            "grid_auto_columns": null,
            "grid_auto_flow": null,
            "grid_auto_rows": null,
            "grid_column": null,
            "grid_gap": null,
            "grid_row": null,
            "grid_template_areas": null,
            "grid_template_columns": null,
            "grid_template_rows": null,
            "height": null,
            "justify_content": null,
            "justify_items": null,
            "left": null,
            "margin": null,
            "max_height": null,
            "max_width": null,
            "min_height": null,
            "min_width": null,
            "object_fit": null,
            "object_position": null,
            "order": null,
            "overflow": null,
            "overflow_x": null,
            "overflow_y": null,
            "padding": null,
            "right": null,
            "top": null,
            "visibility": null,
            "width": null
          }
        },
        "d1c2e32c28464a6bb04b0f4e3affd9f1": {
          "model_module": "@jupyter-widgets/controls",
          "model_module_version": "1.5.0",
          "model_name": "DescriptionStyleModel",
          "state": {
            "_model_module": "@jupyter-widgets/controls",
            "_model_module_version": "1.5.0",
            "_model_name": "DescriptionStyleModel",
            "_view_count": null,
            "_view_module": "@jupyter-widgets/base",
            "_view_module_version": "1.2.0",
            "_view_name": "StyleView",
            "description_width": ""
          }
        },
        "d22bde7cc62848ebb02e93cd97ba1e39": {
          "model_module": "@jupyter-widgets/base",
          "model_module_version": "1.2.0",
          "model_name": "LayoutModel",
          "state": {
            "_model_module": "@jupyter-widgets/base",
            "_model_module_version": "1.2.0",
            "_model_name": "LayoutModel",
            "_view_count": null,
            "_view_module": "@jupyter-widgets/base",
            "_view_module_version": "1.2.0",
            "_view_name": "LayoutView",
            "align_content": null,
            "align_items": null,
            "align_self": null,
            "border": null,
            "bottom": null,
            "display": null,
            "flex": null,
            "flex_flow": null,
            "grid_area": null,
            "grid_auto_columns": null,
            "grid_auto_flow": null,
            "grid_auto_rows": null,
            "grid_column": null,
            "grid_gap": null,
            "grid_row": null,
            "grid_template_areas": null,
            "grid_template_columns": null,
            "grid_template_rows": null,
            "height": null,
            "justify_content": null,
            "justify_items": null,
            "left": null,
            "margin": null,
            "max_height": null,
            "max_width": null,
            "min_height": null,
            "min_width": null,
            "object_fit": null,
            "object_position": null,
            "order": null,
            "overflow": null,
            "overflow_x": null,
            "overflow_y": null,
            "padding": null,
            "right": null,
            "top": null,
            "visibility": null,
            "width": null
          }
        },
        "d5ad487d07834914ac12f9d33652b2c0": {
          "model_module": "@jupyter-widgets/controls",
          "model_module_version": "1.5.0",
          "model_name": "HTMLModel",
          "state": {
            "_dom_classes": [],
            "_model_module": "@jupyter-widgets/controls",
            "_model_module_version": "1.5.0",
            "_model_name": "HTMLModel",
            "_view_count": null,
            "_view_module": "@jupyter-widgets/controls",
            "_view_module_version": "1.5.0",
            "_view_name": "HTMLView",
            "description": "",
            "description_tooltip": null,
            "layout": "IPY_MODEL_f62d61e29f5e4ad691e7c7684054c4d1",
            "placeholder": "​",
            "style": "IPY_MODEL_48041b652220457cb8f0287c5b5f7ada",
            "value": "README.md: 100%"
          }
        },
        "d8a451f2f16645718ebd7e6dd4c4fbcb": {
          "model_module": "@jupyter-widgets/controls",
          "model_module_version": "1.5.0",
          "model_name": "DescriptionStyleModel",
          "state": {
            "_model_module": "@jupyter-widgets/controls",
            "_model_module_version": "1.5.0",
            "_model_name": "DescriptionStyleModel",
            "_view_count": null,
            "_view_module": "@jupyter-widgets/base",
            "_view_module_version": "1.2.0",
            "_view_name": "StyleView",
            "description_width": ""
          }
        },
        "dbe1c09248d743b9988ab8633bb6eb7c": {
          "model_module": "@jupyter-widgets/controls",
          "model_module_version": "1.5.0",
          "model_name": "ProgressStyleModel",
          "state": {
            "_model_module": "@jupyter-widgets/controls",
            "_model_module_version": "1.5.0",
            "_model_name": "ProgressStyleModel",
            "_view_count": null,
            "_view_module": "@jupyter-widgets/base",
            "_view_module_version": "1.2.0",
            "_view_name": "StyleView",
            "bar_color": null,
            "description_width": ""
          }
        },
        "e24ff03ab192416fafa2b8eb9650168f": {
          "model_module": "@jupyter-widgets/controls",
          "model_module_version": "1.5.0",
          "model_name": "HBoxModel",
          "state": {
            "_dom_classes": [],
            "_model_module": "@jupyter-widgets/controls",
            "_model_module_version": "1.5.0",
            "_model_name": "HBoxModel",
            "_view_count": null,
            "_view_module": "@jupyter-widgets/controls",
            "_view_module_version": "1.5.0",
            "_view_name": "HBoxView",
            "box_style": "",
            "children": [
              "IPY_MODEL_d5ad487d07834914ac12f9d33652b2c0",
              "IPY_MODEL_412b9f700df64dcb82df4d0a625f2ab0",
              "IPY_MODEL_f1516203c515419c9a9dc845da7d912b"
            ],
            "layout": "IPY_MODEL_39c72bac7a154c92b871fa7d0fa18232"
          }
        },
        "f0b6221f71df4e0fa7db57dcb5b1deed": {
          "model_module": "@jupyter-widgets/base",
          "model_module_version": "1.2.0",
          "model_name": "LayoutModel",
          "state": {
            "_model_module": "@jupyter-widgets/base",
            "_model_module_version": "1.2.0",
            "_model_name": "LayoutModel",
            "_view_count": null,
            "_view_module": "@jupyter-widgets/base",
            "_view_module_version": "1.2.0",
            "_view_name": "LayoutView",
            "align_content": null,
            "align_items": null,
            "align_self": null,
            "border": null,
            "bottom": null,
            "display": null,
            "flex": null,
            "flex_flow": null,
            "grid_area": null,
            "grid_auto_columns": null,
            "grid_auto_flow": null,
            "grid_auto_rows": null,
            "grid_column": null,
            "grid_gap": null,
            "grid_row": null,
            "grid_template_areas": null,
            "grid_template_columns": null,
            "grid_template_rows": null,
            "height": null,
            "justify_content": null,
            "justify_items": null,
            "left": null,
            "margin": null,
            "max_height": null,
            "max_width": null,
            "min_height": null,
            "min_width": null,
            "object_fit": null,
            "object_position": null,
            "order": null,
            "overflow": null,
            "overflow_x": null,
            "overflow_y": null,
            "padding": null,
            "right": null,
            "top": null,
            "visibility": null,
            "width": null
          }
        },
        "f1516203c515419c9a9dc845da7d912b": {
          "model_module": "@jupyter-widgets/controls",
          "model_module_version": "1.5.0",
          "model_name": "HTMLModel",
          "state": {
            "_dom_classes": [],
            "_model_module": "@jupyter-widgets/controls",
            "_model_module_version": "1.5.0",
            "_model_name": "HTMLModel",
            "_view_count": null,
            "_view_module": "@jupyter-widgets/controls",
            "_view_module_version": "1.5.0",
            "_view_name": "HTMLView",
            "description": "",
            "description_tooltip": null,
            "layout": "IPY_MODEL_7dca416f360c44c1b3a0392bc217ea39",
            "placeholder": "​",
            "style": "IPY_MODEL_3c4800cc546746598073956ecf7e4f5c",
            "value": " 218/218 [00:00&lt;00:00, 23.4kB/s]"
          }
        },
        "f37ea4d9b93d437a9e23f8500ed872d9": {
          "model_module": "@jupyter-widgets/base",
          "model_module_version": "1.2.0",
          "model_name": "LayoutModel",
          "state": {
            "_model_module": "@jupyter-widgets/base",
            "_model_module_version": "1.2.0",
            "_model_name": "LayoutModel",
            "_view_count": null,
            "_view_module": "@jupyter-widgets/base",
            "_view_module_version": "1.2.0",
            "_view_name": "LayoutView",
            "align_content": null,
            "align_items": null,
            "align_self": null,
            "border": null,
            "bottom": null,
            "display": null,
            "flex": null,
            "flex_flow": null,
            "grid_area": null,
            "grid_auto_columns": null,
            "grid_auto_flow": null,
            "grid_auto_rows": null,
            "grid_column": null,
            "grid_gap": null,
            "grid_row": null,
            "grid_template_areas": null,
            "grid_template_columns": null,
            "grid_template_rows": null,
            "height": null,
            "justify_content": null,
            "justify_items": null,
            "left": null,
            "margin": null,
            "max_height": null,
            "max_width": null,
            "min_height": null,
            "min_width": null,
            "object_fit": null,
            "object_position": null,
            "order": null,
            "overflow": null,
            "overflow_x": null,
            "overflow_y": null,
            "padding": null,
            "right": null,
            "top": null,
            "visibility": null,
            "width": null
          }
        },
        "f62d61e29f5e4ad691e7c7684054c4d1": {
          "model_module": "@jupyter-widgets/base",
          "model_module_version": "1.2.0",
          "model_name": "LayoutModel",
          "state": {
            "_model_module": "@jupyter-widgets/base",
            "_model_module_version": "1.2.0",
            "_model_name": "LayoutModel",
            "_view_count": null,
            "_view_module": "@jupyter-widgets/base",
            "_view_module_version": "1.2.0",
            "_view_name": "LayoutView",
            "align_content": null,
            "align_items": null,
            "align_self": null,
            "border": null,
            "bottom": null,
            "display": null,
            "flex": null,
            "flex_flow": null,
            "grid_area": null,
            "grid_auto_columns": null,
            "grid_auto_flow": null,
            "grid_auto_rows": null,
            "grid_column": null,
            "grid_gap": null,
            "grid_row": null,
            "grid_template_areas": null,
            "grid_template_columns": null,
            "grid_template_rows": null,
            "height": null,
            "justify_content": null,
            "justify_items": null,
            "left": null,
            "margin": null,
            "max_height": null,
            "max_width": null,
            "min_height": null,
            "min_width": null,
            "object_fit": null,
            "object_position": null,
            "order": null,
            "overflow": null,
            "overflow_x": null,
            "overflow_y": null,
            "padding": null,
            "right": null,
            "top": null,
            "visibility": null,
            "width": null
          }
        },
        "f6305cf140b9448aa2be1cc70b0878cc": {
          "model_module": "@jupyter-widgets/controls",
          "model_module_version": "1.5.0",
          "model_name": "HBoxModel",
          "state": {
            "_dom_classes": [],
            "_model_module": "@jupyter-widgets/controls",
            "_model_module_version": "1.5.0",
            "_model_name": "HBoxModel",
            "_view_count": null,
            "_view_module": "@jupyter-widgets/controls",
            "_view_module_version": "1.5.0",
            "_view_name": "HBoxView",
            "box_style": "",
            "children": [
              "IPY_MODEL_7a87f6ddd42e4b3d85aa6e12369d8ec4",
              "IPY_MODEL_8e7f1ed3fb05433eb95d452936bffd98",
              "IPY_MODEL_3f0aa1c7c31148b284000ddb5d689503"
            ],
            "layout": "IPY_MODEL_3ce1e1571b5149bab7e9af2feb81f614"
          }
        }
      }
    }
  },
  "nbformat": 4,
  "nbformat_minor": 0
}
